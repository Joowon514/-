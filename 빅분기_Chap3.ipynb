{
 "cells": [
  {
   "cell_type": "markdown",
   "id": "af6f8f33",
   "metadata": {},
   "source": [
    "## Section 02. 머신러닝 맛보기 - (1) 분류문제"
   ]
  },
  {
   "cell_type": "markdown",
   "id": "83e7aa8a",
   "metadata": {},
   "source": [
    "### 1. 분석 데이터 검토"
   ]
  },
  {
   "cell_type": "code",
   "execution_count": 2,
   "id": "025254aa",
   "metadata": {},
   "outputs": [
    {
     "data": {
      "text/html": [
       "<div>\n",
       "<style scoped>\n",
       "    .dataframe tbody tr th:only-of-type {\n",
       "        vertical-align: middle;\n",
       "    }\n",
       "\n",
       "    .dataframe tbody tr th {\n",
       "        vertical-align: top;\n",
       "    }\n",
       "\n",
       "    .dataframe thead th {\n",
       "        text-align: right;\n",
       "    }\n",
       "</style>\n",
       "<table border=\"1\" class=\"dataframe\">\n",
       "  <thead>\n",
       "    <tr style=\"text-align: right;\">\n",
       "      <th></th>\n",
       "      <th>code</th>\n",
       "      <th>Clump_Thickness</th>\n",
       "      <th>Cell_Size</th>\n",
       "      <th>Cell_Shape</th>\n",
       "      <th>Marginal_Adhesion</th>\n",
       "      <th>Single_Epithelial_Cell_Size</th>\n",
       "      <th>Bare_Nuclei</th>\n",
       "      <th>Bland_Chromatin</th>\n",
       "      <th>Normal_Nucleoli</th>\n",
       "      <th>Mitoses</th>\n",
       "      <th>Class</th>\n",
       "    </tr>\n",
       "  </thead>\n",
       "  <tbody>\n",
       "    <tr>\n",
       "      <th>0</th>\n",
       "      <td>1000025</td>\n",
       "      <td>5</td>\n",
       "      <td>1</td>\n",
       "      <td>1</td>\n",
       "      <td>1</td>\n",
       "      <td>2</td>\n",
       "      <td>1</td>\n",
       "      <td>3</td>\n",
       "      <td>1</td>\n",
       "      <td>1</td>\n",
       "      <td>0</td>\n",
       "    </tr>\n",
       "    <tr>\n",
       "      <th>1</th>\n",
       "      <td>1002945</td>\n",
       "      <td>5</td>\n",
       "      <td>4</td>\n",
       "      <td>4</td>\n",
       "      <td>5</td>\n",
       "      <td>7</td>\n",
       "      <td>10</td>\n",
       "      <td>3</td>\n",
       "      <td>2</td>\n",
       "      <td>1</td>\n",
       "      <td>0</td>\n",
       "    </tr>\n",
       "    <tr>\n",
       "      <th>2</th>\n",
       "      <td>1015425</td>\n",
       "      <td>3</td>\n",
       "      <td>1</td>\n",
       "      <td>1</td>\n",
       "      <td>1</td>\n",
       "      <td>2</td>\n",
       "      <td>2</td>\n",
       "      <td>3</td>\n",
       "      <td>1</td>\n",
       "      <td>1</td>\n",
       "      <td>0</td>\n",
       "    </tr>\n",
       "    <tr>\n",
       "      <th>3</th>\n",
       "      <td>1016277</td>\n",
       "      <td>6</td>\n",
       "      <td>8</td>\n",
       "      <td>8</td>\n",
       "      <td>1</td>\n",
       "      <td>3</td>\n",
       "      <td>4</td>\n",
       "      <td>3</td>\n",
       "      <td>7</td>\n",
       "      <td>1</td>\n",
       "      <td>0</td>\n",
       "    </tr>\n",
       "    <tr>\n",
       "      <th>4</th>\n",
       "      <td>1017023</td>\n",
       "      <td>4</td>\n",
       "      <td>1</td>\n",
       "      <td>1</td>\n",
       "      <td>3</td>\n",
       "      <td>2</td>\n",
       "      <td>1</td>\n",
       "      <td>3</td>\n",
       "      <td>1</td>\n",
       "      <td>1</td>\n",
       "      <td>0</td>\n",
       "    </tr>\n",
       "  </tbody>\n",
       "</table>\n",
       "</div>"
      ],
      "text/plain": [
       "      code  Clump_Thickness  Cell_Size  Cell_Shape  Marginal_Adhesion  \\\n",
       "0  1000025                5          1           1                  1   \n",
       "1  1002945                5          4           4                  5   \n",
       "2  1015425                3          1           1                  1   \n",
       "3  1016277                6          8           8                  1   \n",
       "4  1017023                4          1           1                  3   \n",
       "\n",
       "   Single_Epithelial_Cell_Size  Bare_Nuclei  Bland_Chromatin  Normal_Nucleoli  \\\n",
       "0                            2            1                3                1   \n",
       "1                            7           10                3                2   \n",
       "2                            2            2                3                1   \n",
       "3                            3            4                3                7   \n",
       "4                            2            1                3                1   \n",
       "\n",
       "   Mitoses  Class  \n",
       "0        1      0  \n",
       "1        1      0  \n",
       "2        1      0  \n",
       "3        1      0  \n",
       "4        1      0  "
      ]
     },
     "execution_count": 2,
     "metadata": {},
     "output_type": "execute_result"
    }
   ],
   "source": [
    "import pandas as pd\n",
    "data = pd.read_csv('breast-cancer-wisconsin.csv', encoding = 'utf-8')\n",
    "data.head()"
   ]
  },
  {
   "cell_type": "code",
   "execution_count": 3,
   "id": "7c654f95",
   "metadata": {},
   "outputs": [
    {
     "data": {
      "text/plain": [
       "0    444\n",
       "1    239\n",
       "Name: Class, dtype: int64"
      ]
     },
     "execution_count": 3,
     "metadata": {},
     "output_type": "execute_result"
    }
   ],
   "source": [
    "data['Class'].value_counts(sort=False)   #sort=False는 내림차순이 아닌 인덱스값으로 정렬"
   ]
  },
  {
   "cell_type": "code",
   "execution_count": 4,
   "id": "3d7346f1",
   "metadata": {},
   "outputs": [
    {
     "name": "stdout",
     "output_type": "stream",
     "text": [
      "(683, 11)\n"
     ]
    }
   ],
   "source": [
    "print(data.shape)   #행과 열의 구조 확인"
   ]
  },
  {
   "cell_type": "markdown",
   "id": "361a783b",
   "metadata": {},
   "source": [
    "### 2. 특성(x)와 레이블(y) 나누기"
   ]
  },
  {
   "cell_type": "code",
   "execution_count": 5,
   "id": "bb00dac9",
   "metadata": {},
   "outputs": [],
   "source": [
    "# 방법 1: 특성 이름으로 특성 데이터셋(X) 나누기\n",
    "X1 = data[['Clump_Thickness', 'Cell_Size', 'Cell_Shape', 'Marginal_Adhesion', 'Single_Epithelial_Cell_Size',\n",
    "          'Bare_Nuclei', 'Bland_Chromatin', 'Normal_Nucleoli', 'Mitoses']]\n",
    "\n",
    "# 방법 2: 특성 위치값으로 특성 데이터셋(X) 나누기\n",
    "X2 = data[data.columns[1:10]]\n",
    "\n",
    "# 방법 3: loc 함수로 특성 데이터셋(X) 나누기 (단, 불러올 특성이 연달아 있어야 함.)\n",
    "X3 = data.loc[:, 'Clump_Thickness':'Mitoses']"
   ]
  },
  {
   "cell_type": "code",
   "execution_count": 7,
   "id": "9f789c4f",
   "metadata": {},
   "outputs": [
    {
     "name": "stdout",
     "output_type": "stream",
     "text": [
      "(683, 9)\n",
      "(683, 9)\n",
      "(683, 9)\n"
     ]
    }
   ],
   "source": [
    "print(X1.shape)\n",
    "print(X2.shape)\n",
    "print(X3.shape)"
   ]
  },
  {
   "cell_type": "code",
   "execution_count": 8,
   "id": "d8e91f01",
   "metadata": {},
   "outputs": [],
   "source": [
    "# 레이블 데이터셋(y) 나누기\n",
    "\n",
    "y = data[[\"Class\"]]"
   ]
  },
  {
   "cell_type": "code",
   "execution_count": 9,
   "id": "986b6fc0",
   "metadata": {},
   "outputs": [
    {
     "name": "stdout",
     "output_type": "stream",
     "text": [
      "(683, 1)\n"
     ]
    }
   ],
   "source": [
    "print(y.shape)"
   ]
  },
  {
   "cell_type": "markdown",
   "id": "0a53f4c0",
   "metadata": {},
   "source": [
    "### 3. train-test 데이터셋 나누기"
   ]
  },
  {
   "cell_type": "code",
   "execution_count": 10,
   "id": "3d538aa5",
   "metadata": {},
   "outputs": [],
   "source": [
    "from sklearn.model_selection import train_test_split\n",
    "X_train, X_test, y_train, y_test = train_test_split(X1, y, stratify = y, random_state = 42)"
   ]
  },
  {
   "cell_type": "code",
   "execution_count": 11,
   "id": "8f084753",
   "metadata": {},
   "outputs": [
    {
     "name": "stdout",
     "output_type": "stream",
     "text": [
      "Class    0.349609\n",
      "dtype: float64\n",
      "Class    0.350877\n",
      "dtype: float64\n"
     ]
    }
   ],
   "source": [
    "print(y_train.mean())\n",
    "print(y_test.mean())"
   ]
  },
  {
   "cell_type": "markdown",
   "id": "a85caef6",
   "metadata": {},
   "source": [
    "### 4. 정규화"
   ]
  },
  {
   "cell_type": "code",
   "execution_count": 12,
   "id": "fd515f17",
   "metadata": {},
   "outputs": [],
   "source": [
    "from sklearn.preprocessing import MinMaxScaler\n",
    "from sklearn.preprocessing import StandardScaler\n",
    "scaler_minmax = MinMaxScaler()\n",
    "scaler_standard = StandardScaler()"
   ]
  },
  {
   "cell_type": "markdown",
   "id": "9a941509",
   "metadata": {},
   "source": [
    "#### 가. train data의 정규화"
   ]
  },
  {
   "cell_type": "code",
   "execution_count": 14,
   "id": "6253e8da",
   "metadata": {},
   "outputs": [],
   "source": [
    "# 민맥스(MinMax) 방법\n",
    "\n",
    "scaler_minmax.fit(X_train)\n",
    "X_scaled_minmax_train = scaler_minmax.transform(X_train)"
   ]
  },
  {
   "cell_type": "code",
   "execution_count": 15,
   "id": "5b794511",
   "metadata": {},
   "outputs": [],
   "source": [
    "# 표준화(Standard) 방법\n",
    "\n",
    "scaler_standard.fit(X_train)\n",
    "X_scaled_standard_train = scaler_standard.transform(X_train)"
   ]
  },
  {
   "cell_type": "code",
   "execution_count": 16,
   "id": "07337d4d",
   "metadata": {
    "scrolled": true
   },
   "outputs": [
    {
     "data": {
      "text/html": [
       "<div>\n",
       "<style scoped>\n",
       "    .dataframe tbody tr th:only-of-type {\n",
       "        vertical-align: middle;\n",
       "    }\n",
       "\n",
       "    .dataframe tbody tr th {\n",
       "        vertical-align: top;\n",
       "    }\n",
       "\n",
       "    .dataframe thead th {\n",
       "        text-align: right;\n",
       "    }\n",
       "</style>\n",
       "<table border=\"1\" class=\"dataframe\">\n",
       "  <thead>\n",
       "    <tr style=\"text-align: right;\">\n",
       "      <th></th>\n",
       "      <th>0</th>\n",
       "      <th>1</th>\n",
       "      <th>2</th>\n",
       "      <th>3</th>\n",
       "      <th>4</th>\n",
       "      <th>5</th>\n",
       "      <th>6</th>\n",
       "      <th>7</th>\n",
       "      <th>8</th>\n",
       "    </tr>\n",
       "  </thead>\n",
       "  <tbody>\n",
       "    <tr>\n",
       "      <th>count</th>\n",
       "      <td>512.000000</td>\n",
       "      <td>512.000000</td>\n",
       "      <td>512.000000</td>\n",
       "      <td>512.000000</td>\n",
       "      <td>512.000000</td>\n",
       "      <td>512.000000</td>\n",
       "      <td>512.000000</td>\n",
       "      <td>512.000000</td>\n",
       "      <td>512.000000</td>\n",
       "    </tr>\n",
       "    <tr>\n",
       "      <th>mean</th>\n",
       "      <td>0.372830</td>\n",
       "      <td>0.231988</td>\n",
       "      <td>0.242839</td>\n",
       "      <td>0.205078</td>\n",
       "      <td>0.241319</td>\n",
       "      <td>0.285590</td>\n",
       "      <td>0.269314</td>\n",
       "      <td>0.199002</td>\n",
       "      <td>0.067491</td>\n",
       "    </tr>\n",
       "    <tr>\n",
       "      <th>std</th>\n",
       "      <td>0.317836</td>\n",
       "      <td>0.334781</td>\n",
       "      <td>0.332112</td>\n",
       "      <td>0.319561</td>\n",
       "      <td>0.242541</td>\n",
       "      <td>0.404890</td>\n",
       "      <td>0.265289</td>\n",
       "      <td>0.331503</td>\n",
       "      <td>0.190373</td>\n",
       "    </tr>\n",
       "    <tr>\n",
       "      <th>min</th>\n",
       "      <td>0.000000</td>\n",
       "      <td>0.000000</td>\n",
       "      <td>0.000000</td>\n",
       "      <td>0.000000</td>\n",
       "      <td>0.000000</td>\n",
       "      <td>0.000000</td>\n",
       "      <td>0.000000</td>\n",
       "      <td>0.000000</td>\n",
       "      <td>0.000000</td>\n",
       "    </tr>\n",
       "    <tr>\n",
       "      <th>25%</th>\n",
       "      <td>0.111111</td>\n",
       "      <td>0.000000</td>\n",
       "      <td>0.000000</td>\n",
       "      <td>0.000000</td>\n",
       "      <td>0.111111</td>\n",
       "      <td>0.000000</td>\n",
       "      <td>0.111111</td>\n",
       "      <td>0.000000</td>\n",
       "      <td>0.000000</td>\n",
       "    </tr>\n",
       "    <tr>\n",
       "      <th>50%</th>\n",
       "      <td>0.333333</td>\n",
       "      <td>0.000000</td>\n",
       "      <td>0.000000</td>\n",
       "      <td>0.000000</td>\n",
       "      <td>0.111111</td>\n",
       "      <td>0.000000</td>\n",
       "      <td>0.222222</td>\n",
       "      <td>0.000000</td>\n",
       "      <td>0.000000</td>\n",
       "    </tr>\n",
       "    <tr>\n",
       "      <th>75%</th>\n",
       "      <td>0.555556</td>\n",
       "      <td>0.361111</td>\n",
       "      <td>0.444444</td>\n",
       "      <td>0.333333</td>\n",
       "      <td>0.333333</td>\n",
       "      <td>0.583333</td>\n",
       "      <td>0.444444</td>\n",
       "      <td>0.222222</td>\n",
       "      <td>0.000000</td>\n",
       "    </tr>\n",
       "    <tr>\n",
       "      <th>max</th>\n",
       "      <td>1.000000</td>\n",
       "      <td>1.000000</td>\n",
       "      <td>1.000000</td>\n",
       "      <td>1.000000</td>\n",
       "      <td>1.000000</td>\n",
       "      <td>1.000000</td>\n",
       "      <td>1.000000</td>\n",
       "      <td>1.000000</td>\n",
       "      <td>1.000000</td>\n",
       "    </tr>\n",
       "  </tbody>\n",
       "</table>\n",
       "</div>"
      ],
      "text/plain": [
       "                0           1           2           3           4           5  \\\n",
       "count  512.000000  512.000000  512.000000  512.000000  512.000000  512.000000   \n",
       "mean     0.372830    0.231988    0.242839    0.205078    0.241319    0.285590   \n",
       "std      0.317836    0.334781    0.332112    0.319561    0.242541    0.404890   \n",
       "min      0.000000    0.000000    0.000000    0.000000    0.000000    0.000000   \n",
       "25%      0.111111    0.000000    0.000000    0.000000    0.111111    0.000000   \n",
       "50%      0.333333    0.000000    0.000000    0.000000    0.111111    0.000000   \n",
       "75%      0.555556    0.361111    0.444444    0.333333    0.333333    0.583333   \n",
       "max      1.000000    1.000000    1.000000    1.000000    1.000000    1.000000   \n",
       "\n",
       "                6           7           8  \n",
       "count  512.000000  512.000000  512.000000  \n",
       "mean     0.269314    0.199002    0.067491  \n",
       "std      0.265289    0.331503    0.190373  \n",
       "min      0.000000    0.000000    0.000000  \n",
       "25%      0.111111    0.000000    0.000000  \n",
       "50%      0.222222    0.000000    0.000000  \n",
       "75%      0.444444    0.222222    0.000000  \n",
       "max      1.000000    1.000000    1.000000  "
      ]
     },
     "execution_count": 16,
     "metadata": {},
     "output_type": "execute_result"
    }
   ],
   "source": [
    "pd.DataFrame(X_scaled_minmax_train).describe()"
   ]
  },
  {
   "cell_type": "code",
   "execution_count": 17,
   "id": "ade4945f",
   "metadata": {},
   "outputs": [
    {
     "data": {
      "text/html": [
       "<div>\n",
       "<style scoped>\n",
       "    .dataframe tbody tr th:only-of-type {\n",
       "        vertical-align: middle;\n",
       "    }\n",
       "\n",
       "    .dataframe tbody tr th {\n",
       "        vertical-align: top;\n",
       "    }\n",
       "\n",
       "    .dataframe thead th {\n",
       "        text-align: right;\n",
       "    }\n",
       "</style>\n",
       "<table border=\"1\" class=\"dataframe\">\n",
       "  <thead>\n",
       "    <tr style=\"text-align: right;\">\n",
       "      <th></th>\n",
       "      <th>0</th>\n",
       "      <th>1</th>\n",
       "      <th>2</th>\n",
       "      <th>3</th>\n",
       "      <th>4</th>\n",
       "      <th>5</th>\n",
       "      <th>6</th>\n",
       "      <th>7</th>\n",
       "      <th>8</th>\n",
       "    </tr>\n",
       "  </thead>\n",
       "  <tbody>\n",
       "    <tr>\n",
       "      <th>count</th>\n",
       "      <td>5.120000e+02</td>\n",
       "      <td>5.120000e+02</td>\n",
       "      <td>5.120000e+02</td>\n",
       "      <td>5.120000e+02</td>\n",
       "      <td>5.120000e+02</td>\n",
       "      <td>5.120000e+02</td>\n",
       "      <td>5.120000e+02</td>\n",
       "      <td>5.120000e+02</td>\n",
       "      <td>5.120000e+02</td>\n",
       "    </tr>\n",
       "    <tr>\n",
       "      <th>mean</th>\n",
       "      <td>-1.548241e-16</td>\n",
       "      <td>-1.543904e-16</td>\n",
       "      <td>-1.353084e-16</td>\n",
       "      <td>1.149254e-16</td>\n",
       "      <td>5.767956e-17</td>\n",
       "      <td>1.674008e-16</td>\n",
       "      <td>-2.775558e-17</td>\n",
       "      <td>-3.642919e-17</td>\n",
       "      <td>6.938894e-18</td>\n",
       "    </tr>\n",
       "    <tr>\n",
       "      <th>std</th>\n",
       "      <td>1.000978e+00</td>\n",
       "      <td>1.000978e+00</td>\n",
       "      <td>1.000978e+00</td>\n",
       "      <td>1.000978e+00</td>\n",
       "      <td>1.000978e+00</td>\n",
       "      <td>1.000978e+00</td>\n",
       "      <td>1.000978e+00</td>\n",
       "      <td>1.000978e+00</td>\n",
       "      <td>1.000978e+00</td>\n",
       "    </tr>\n",
       "    <tr>\n",
       "      <th>min</th>\n",
       "      <td>-1.174173e+00</td>\n",
       "      <td>-6.936309e-01</td>\n",
       "      <td>-7.319088e-01</td>\n",
       "      <td>-6.423777e-01</td>\n",
       "      <td>-9.959361e-01</td>\n",
       "      <td>-7.060427e-01</td>\n",
       "      <td>-1.016165e+00</td>\n",
       "      <td>-6.008881e-01</td>\n",
       "      <td>-3.548677e-01</td>\n",
       "    </tr>\n",
       "    <tr>\n",
       "      <th>25%</th>\n",
       "      <td>-8.242452e-01</td>\n",
       "      <td>-6.936309e-01</td>\n",
       "      <td>-7.319088e-01</td>\n",
       "      <td>-6.423777e-01</td>\n",
       "      <td>-5.373756e-01</td>\n",
       "      <td>-7.060427e-01</td>\n",
       "      <td>-5.969255e-01</td>\n",
       "      <td>-6.008881e-01</td>\n",
       "      <td>-3.548677e-01</td>\n",
       "    </tr>\n",
       "    <tr>\n",
       "      <th>50%</th>\n",
       "      <td>-1.243886e-01</td>\n",
       "      <td>-6.936309e-01</td>\n",
       "      <td>-7.319088e-01</td>\n",
       "      <td>-6.423777e-01</td>\n",
       "      <td>-5.373756e-01</td>\n",
       "      <td>-7.060427e-01</td>\n",
       "      <td>-1.776856e-01</td>\n",
       "      <td>-6.008881e-01</td>\n",
       "      <td>-3.548677e-01</td>\n",
       "    </tr>\n",
       "    <tr>\n",
       "      <th>75%</th>\n",
       "      <td>5.754680e-01</td>\n",
       "      <td>3.860715e-01</td>\n",
       "      <td>6.076347e-01</td>\n",
       "      <td>4.017410e-01</td>\n",
       "      <td>3.797454e-01</td>\n",
       "      <td>7.360871e-01</td>\n",
       "      <td>6.607941e-01</td>\n",
       "      <td>7.011454e-02</td>\n",
       "      <td>-3.548677e-01</td>\n",
       "    </tr>\n",
       "    <tr>\n",
       "      <th>max</th>\n",
       "      <td>1.975181e+00</td>\n",
       "      <td>2.296314e+00</td>\n",
       "      <td>2.282064e+00</td>\n",
       "      <td>2.489978e+00</td>\n",
       "      <td>3.131108e+00</td>\n",
       "      <td>1.766180e+00</td>\n",
       "      <td>2.756993e+00</td>\n",
       "      <td>2.418624e+00</td>\n",
       "      <td>4.903108e+00</td>\n",
       "    </tr>\n",
       "  </tbody>\n",
       "</table>\n",
       "</div>"
      ],
      "text/plain": [
       "                  0             1             2             3             4  \\\n",
       "count  5.120000e+02  5.120000e+02  5.120000e+02  5.120000e+02  5.120000e+02   \n",
       "mean  -1.548241e-16 -1.543904e-16 -1.353084e-16  1.149254e-16  5.767956e-17   \n",
       "std    1.000978e+00  1.000978e+00  1.000978e+00  1.000978e+00  1.000978e+00   \n",
       "min   -1.174173e+00 -6.936309e-01 -7.319088e-01 -6.423777e-01 -9.959361e-01   \n",
       "25%   -8.242452e-01 -6.936309e-01 -7.319088e-01 -6.423777e-01 -5.373756e-01   \n",
       "50%   -1.243886e-01 -6.936309e-01 -7.319088e-01 -6.423777e-01 -5.373756e-01   \n",
       "75%    5.754680e-01  3.860715e-01  6.076347e-01  4.017410e-01  3.797454e-01   \n",
       "max    1.975181e+00  2.296314e+00  2.282064e+00  2.489978e+00  3.131108e+00   \n",
       "\n",
       "                  5             6             7             8  \n",
       "count  5.120000e+02  5.120000e+02  5.120000e+02  5.120000e+02  \n",
       "mean   1.674008e-16 -2.775558e-17 -3.642919e-17  6.938894e-18  \n",
       "std    1.000978e+00  1.000978e+00  1.000978e+00  1.000978e+00  \n",
       "min   -7.060427e-01 -1.016165e+00 -6.008881e-01 -3.548677e-01  \n",
       "25%   -7.060427e-01 -5.969255e-01 -6.008881e-01 -3.548677e-01  \n",
       "50%   -7.060427e-01 -1.776856e-01 -6.008881e-01 -3.548677e-01  \n",
       "75%    7.360871e-01  6.607941e-01  7.011454e-02 -3.548677e-01  \n",
       "max    1.766180e+00  2.756993e+00  2.418624e+00  4.903108e+00  "
      ]
     },
     "execution_count": 17,
     "metadata": {},
     "output_type": "execute_result"
    }
   ],
   "source": [
    "pd.DataFrame(X_scaled_standard_train).describe()"
   ]
  },
  {
   "cell_type": "markdown",
   "id": "2be486cf",
   "metadata": {},
   "source": [
    "#### 나. test data의 정규화"
   ]
  },
  {
   "cell_type": "code",
   "execution_count": 19,
   "id": "2d4847a9",
   "metadata": {},
   "outputs": [
    {
     "data": {
      "text/html": [
       "<div>\n",
       "<style scoped>\n",
       "    .dataframe tbody tr th:only-of-type {\n",
       "        vertical-align: middle;\n",
       "    }\n",
       "\n",
       "    .dataframe tbody tr th {\n",
       "        vertical-align: top;\n",
       "    }\n",
       "\n",
       "    .dataframe thead th {\n",
       "        text-align: right;\n",
       "    }\n",
       "</style>\n",
       "<table border=\"1\" class=\"dataframe\">\n",
       "  <thead>\n",
       "    <tr style=\"text-align: right;\">\n",
       "      <th></th>\n",
       "      <th>0</th>\n",
       "      <th>1</th>\n",
       "      <th>2</th>\n",
       "      <th>3</th>\n",
       "      <th>4</th>\n",
       "      <th>5</th>\n",
       "      <th>6</th>\n",
       "      <th>7</th>\n",
       "      <th>8</th>\n",
       "    </tr>\n",
       "  </thead>\n",
       "  <tbody>\n",
       "    <tr>\n",
       "      <th>count</th>\n",
       "      <td>171.000000</td>\n",
       "      <td>171.000000</td>\n",
       "      <td>171.000000</td>\n",
       "      <td>171.000000</td>\n",
       "      <td>171.000000</td>\n",
       "      <td>171.000000</td>\n",
       "      <td>171.000000</td>\n",
       "      <td>171.000000</td>\n",
       "      <td>171.000000</td>\n",
       "    </tr>\n",
       "    <tr>\n",
       "      <th>mean</th>\n",
       "      <td>0.411306</td>\n",
       "      <td>0.259909</td>\n",
       "      <td>0.256010</td>\n",
       "      <td>0.198181</td>\n",
       "      <td>0.269006</td>\n",
       "      <td>0.274204</td>\n",
       "      <td>0.278752</td>\n",
       "      <td>0.233918</td>\n",
       "      <td>0.065627</td>\n",
       "    </tr>\n",
       "    <tr>\n",
       "      <th>std</th>\n",
       "      <td>0.298847</td>\n",
       "      <td>0.357544</td>\n",
       "      <td>0.332700</td>\n",
       "      <td>0.315307</td>\n",
       "      <td>0.259557</td>\n",
       "      <td>0.405891</td>\n",
       "      <td>0.292578</td>\n",
       "      <td>0.360958</td>\n",
       "      <td>0.199372</td>\n",
       "    </tr>\n",
       "    <tr>\n",
       "      <th>min</th>\n",
       "      <td>0.000000</td>\n",
       "      <td>0.000000</td>\n",
       "      <td>0.000000</td>\n",
       "      <td>0.000000</td>\n",
       "      <td>0.000000</td>\n",
       "      <td>0.000000</td>\n",
       "      <td>0.000000</td>\n",
       "      <td>0.000000</td>\n",
       "      <td>0.000000</td>\n",
       "    </tr>\n",
       "    <tr>\n",
       "      <th>25%</th>\n",
       "      <td>0.222222</td>\n",
       "      <td>0.000000</td>\n",
       "      <td>0.000000</td>\n",
       "      <td>0.000000</td>\n",
       "      <td>0.111111</td>\n",
       "      <td>0.000000</td>\n",
       "      <td>0.000000</td>\n",
       "      <td>0.000000</td>\n",
       "      <td>0.000000</td>\n",
       "    </tr>\n",
       "    <tr>\n",
       "      <th>50%</th>\n",
       "      <td>0.444444</td>\n",
       "      <td>0.000000</td>\n",
       "      <td>0.111111</td>\n",
       "      <td>0.000000</td>\n",
       "      <td>0.111111</td>\n",
       "      <td>0.000000</td>\n",
       "      <td>0.222222</td>\n",
       "      <td>0.000000</td>\n",
       "      <td>0.000000</td>\n",
       "    </tr>\n",
       "    <tr>\n",
       "      <th>75%</th>\n",
       "      <td>0.555556</td>\n",
       "      <td>0.444444</td>\n",
       "      <td>0.444444</td>\n",
       "      <td>0.222222</td>\n",
       "      <td>0.388889</td>\n",
       "      <td>0.444444</td>\n",
       "      <td>0.444444</td>\n",
       "      <td>0.388889</td>\n",
       "      <td>0.000000</td>\n",
       "    </tr>\n",
       "    <tr>\n",
       "      <th>max</th>\n",
       "      <td>1.000000</td>\n",
       "      <td>1.000000</td>\n",
       "      <td>1.000000</td>\n",
       "      <td>1.000000</td>\n",
       "      <td>1.000000</td>\n",
       "      <td>1.000000</td>\n",
       "      <td>1.000000</td>\n",
       "      <td>1.000000</td>\n",
       "      <td>1.000000</td>\n",
       "    </tr>\n",
       "  </tbody>\n",
       "</table>\n",
       "</div>"
      ],
      "text/plain": [
       "                0           1           2           3           4           5  \\\n",
       "count  171.000000  171.000000  171.000000  171.000000  171.000000  171.000000   \n",
       "mean     0.411306    0.259909    0.256010    0.198181    0.269006    0.274204   \n",
       "std      0.298847    0.357544    0.332700    0.315307    0.259557    0.405891   \n",
       "min      0.000000    0.000000    0.000000    0.000000    0.000000    0.000000   \n",
       "25%      0.222222    0.000000    0.000000    0.000000    0.111111    0.000000   \n",
       "50%      0.444444    0.000000    0.111111    0.000000    0.111111    0.000000   \n",
       "75%      0.555556    0.444444    0.444444    0.222222    0.388889    0.444444   \n",
       "max      1.000000    1.000000    1.000000    1.000000    1.000000    1.000000   \n",
       "\n",
       "                6           7           8  \n",
       "count  171.000000  171.000000  171.000000  \n",
       "mean     0.278752    0.233918    0.065627  \n",
       "std      0.292578    0.360958    0.199372  \n",
       "min      0.000000    0.000000    0.000000  \n",
       "25%      0.000000    0.000000    0.000000  \n",
       "50%      0.222222    0.000000    0.000000  \n",
       "75%      0.444444    0.388889    0.000000  \n",
       "max      1.000000    1.000000    1.000000  "
      ]
     },
     "execution_count": 19,
     "metadata": {},
     "output_type": "execute_result"
    }
   ],
   "source": [
    "X_scaled_minmax_test = scaler_minmax.transform(X_test)\n",
    "pd.DataFrame(X_scaled_minmax_test).describe()"
   ]
  },
  {
   "cell_type": "code",
   "execution_count": 20,
   "id": "2f950cc1",
   "metadata": {},
   "outputs": [
    {
     "data": {
      "text/html": [
       "<div>\n",
       "<style scoped>\n",
       "    .dataframe tbody tr th:only-of-type {\n",
       "        vertical-align: middle;\n",
       "    }\n",
       "\n",
       "    .dataframe tbody tr th {\n",
       "        vertical-align: top;\n",
       "    }\n",
       "\n",
       "    .dataframe thead th {\n",
       "        text-align: right;\n",
       "    }\n",
       "</style>\n",
       "<table border=\"1\" class=\"dataframe\">\n",
       "  <thead>\n",
       "    <tr style=\"text-align: right;\">\n",
       "      <th></th>\n",
       "      <th>0</th>\n",
       "      <th>1</th>\n",
       "      <th>2</th>\n",
       "      <th>3</th>\n",
       "      <th>4</th>\n",
       "      <th>5</th>\n",
       "      <th>6</th>\n",
       "      <th>7</th>\n",
       "      <th>8</th>\n",
       "    </tr>\n",
       "  </thead>\n",
       "  <tbody>\n",
       "    <tr>\n",
       "      <th>count</th>\n",
       "      <td>171.000000</td>\n",
       "      <td>171.000000</td>\n",
       "      <td>171.000000</td>\n",
       "      <td>171.000000</td>\n",
       "      <td>171.000000</td>\n",
       "      <td>171.000000</td>\n",
       "      <td>171.000000</td>\n",
       "      <td>171.000000</td>\n",
       "      <td>171.000000</td>\n",
       "    </tr>\n",
       "    <tr>\n",
       "      <th>mean</th>\n",
       "      <td>0.121175</td>\n",
       "      <td>0.083483</td>\n",
       "      <td>0.039700</td>\n",
       "      <td>-0.021605</td>\n",
       "      <td>0.114263</td>\n",
       "      <td>-0.028149</td>\n",
       "      <td>0.035612</td>\n",
       "      <td>0.105430</td>\n",
       "      <td>-0.009802</td>\n",
       "    </tr>\n",
       "    <tr>\n",
       "      <th>std</th>\n",
       "      <td>0.941174</td>\n",
       "      <td>1.069038</td>\n",
       "      <td>1.002747</td>\n",
       "      <td>0.987654</td>\n",
       "      <td>1.071204</td>\n",
       "      <td>1.003453</td>\n",
       "      <td>1.103943</td>\n",
       "      <td>1.089918</td>\n",
       "      <td>1.048292</td>\n",
       "    </tr>\n",
       "    <tr>\n",
       "      <th>min</th>\n",
       "      <td>-1.174173</td>\n",
       "      <td>-0.693631</td>\n",
       "      <td>-0.731909</td>\n",
       "      <td>-0.642378</td>\n",
       "      <td>-0.995936</td>\n",
       "      <td>-0.706043</td>\n",
       "      <td>-1.016165</td>\n",
       "      <td>-0.600888</td>\n",
       "      <td>-0.354868</td>\n",
       "    </tr>\n",
       "    <tr>\n",
       "      <th>25%</th>\n",
       "      <td>-0.474317</td>\n",
       "      <td>-0.693631</td>\n",
       "      <td>-0.731909</td>\n",
       "      <td>-0.642378</td>\n",
       "      <td>-0.537376</td>\n",
       "      <td>-0.706043</td>\n",
       "      <td>-1.016165</td>\n",
       "      <td>-0.600888</td>\n",
       "      <td>-0.354868</td>\n",
       "    </tr>\n",
       "    <tr>\n",
       "      <th>50%</th>\n",
       "      <td>0.225540</td>\n",
       "      <td>-0.693631</td>\n",
       "      <td>-0.397023</td>\n",
       "      <td>-0.642378</td>\n",
       "      <td>-0.537376</td>\n",
       "      <td>-0.706043</td>\n",
       "      <td>-0.177686</td>\n",
       "      <td>-0.600888</td>\n",
       "      <td>-0.354868</td>\n",
       "    </tr>\n",
       "    <tr>\n",
       "      <th>75%</th>\n",
       "      <td>0.575468</td>\n",
       "      <td>0.635234</td>\n",
       "      <td>0.607635</td>\n",
       "      <td>0.053701</td>\n",
       "      <td>0.609026</td>\n",
       "      <td>0.392723</td>\n",
       "      <td>0.660794</td>\n",
       "      <td>0.573367</td>\n",
       "      <td>-0.354868</td>\n",
       "    </tr>\n",
       "    <tr>\n",
       "      <th>max</th>\n",
       "      <td>1.975181</td>\n",
       "      <td>2.296314</td>\n",
       "      <td>2.282064</td>\n",
       "      <td>2.489978</td>\n",
       "      <td>3.131108</td>\n",
       "      <td>1.766180</td>\n",
       "      <td>2.756993</td>\n",
       "      <td>2.418624</td>\n",
       "      <td>4.903108</td>\n",
       "    </tr>\n",
       "  </tbody>\n",
       "</table>\n",
       "</div>"
      ],
      "text/plain": [
       "                0           1           2           3           4           5  \\\n",
       "count  171.000000  171.000000  171.000000  171.000000  171.000000  171.000000   \n",
       "mean     0.121175    0.083483    0.039700   -0.021605    0.114263   -0.028149   \n",
       "std      0.941174    1.069038    1.002747    0.987654    1.071204    1.003453   \n",
       "min     -1.174173   -0.693631   -0.731909   -0.642378   -0.995936   -0.706043   \n",
       "25%     -0.474317   -0.693631   -0.731909   -0.642378   -0.537376   -0.706043   \n",
       "50%      0.225540   -0.693631   -0.397023   -0.642378   -0.537376   -0.706043   \n",
       "75%      0.575468    0.635234    0.607635    0.053701    0.609026    0.392723   \n",
       "max      1.975181    2.296314    2.282064    2.489978    3.131108    1.766180   \n",
       "\n",
       "                6           7           8  \n",
       "count  171.000000  171.000000  171.000000  \n",
       "mean     0.035612    0.105430   -0.009802  \n",
       "std      1.103943    1.089918    1.048292  \n",
       "min     -1.016165   -0.600888   -0.354868  \n",
       "25%     -1.016165   -0.600888   -0.354868  \n",
       "50%     -0.177686   -0.600888   -0.354868  \n",
       "75%      0.660794    0.573367   -0.354868  \n",
       "max      2.756993    2.418624    4.903108  "
      ]
     },
     "execution_count": 20,
     "metadata": {},
     "output_type": "execute_result"
    }
   ],
   "source": [
    "X_scaled_standard_test = scaler_standard.transform(X_test)\n",
    "pd.DataFrame(X_scaled_standard_test).describe()"
   ]
  },
  {
   "cell_type": "markdown",
   "id": "46e18d75",
   "metadata": {},
   "source": [
    "### 5. 모델 학습"
   ]
  },
  {
   "cell_type": "code",
   "execution_count": 22,
   "id": "06d85261",
   "metadata": {},
   "outputs": [
    {
     "name": "stderr",
     "output_type": "stream",
     "text": [
      "C:\\Users\\yusti\\anaconda3\\lib\\site-packages\\sklearn\\utils\\validation.py:63: DataConversionWarning: A column-vector y was passed when a 1d array was expected. Please change the shape of y to (n_samples, ), for example using ravel().\n",
      "  return f(*args, **kwargs)\n"
     ]
    },
    {
     "data": {
      "text/plain": [
       "LogisticRegression()"
      ]
     },
     "execution_count": 22,
     "metadata": {},
     "output_type": "execute_result"
    }
   ],
   "source": [
    "from sklearn.linear_model import LogisticRegression\n",
    "model = LogisticRegression()\n",
    "model.fit(X_scaled_minmax_train, y_train)"
   ]
  },
  {
   "cell_type": "code",
   "execution_count": 38,
   "id": "b01a8940",
   "metadata": {
    "scrolled": true
   },
   "outputs": [
    {
     "data": {
      "text/plain": [
       "0.97265625"
      ]
     },
     "execution_count": 38,
     "metadata": {},
     "output_type": "execute_result"
    }
   ],
   "source": [
    "pred_train = model.predict(X_scaled_minmax_train)   #예측한 결과를 pred_train에 할당\n",
    "model.score(X_scaled_minmax_train, y_train)   #정확도 구하기"
   ]
  },
  {
   "cell_type": "code",
   "execution_count": 24,
   "id": "b40a0c50",
   "metadata": {},
   "outputs": [
    {
     "data": {
      "text/plain": [
       "0.9590643274853801"
      ]
     },
     "execution_count": 24,
     "metadata": {},
     "output_type": "execute_result"
    }
   ],
   "source": [
    "pred_test = model.predict(X_scaled_minmax_test)   \n",
    "model.score(X_scaled_minmax_test, y_test) "
   ]
  },
  {
   "cell_type": "code",
   "execution_count": 28,
   "id": "3a0ec256",
   "metadata": {},
   "outputs": [
    {
     "name": "stdout",
     "output_type": "stream",
     "text": [
      "훈련데이터 오차행렬:\n",
      " [[328   5]\n",
      " [  9 170]]\n"
     ]
    }
   ],
   "source": [
    "# train 데이터의 혼동행렬 확인\n",
    "\n",
    "from sklearn.metrics import confusion_matrix\n",
    "confusion_train = confusion_matrix(y_train, pred_train)\n",
    "print(\"훈련데이터 오차행렬:\\n\", confusion_train)"
   ]
  },
  {
   "cell_type": "code",
   "execution_count": 29,
   "id": "c1bdce90",
   "metadata": {},
   "outputs": [
    {
     "name": "stdout",
     "output_type": "stream",
     "text": [
      "테스트데이터 오차행렬:\n",
      " [[106   5]\n",
      " [  2  58]]\n"
     ]
    }
   ],
   "source": [
    "# test 데이터의 혼동행렬 확인\n",
    "\n",
    "confusion_test = confusion_matrix(y_test, pred_test)\n",
    "print(\"테스트데이터 오차행렬:\\n\", confusion_test)"
   ]
  },
  {
   "cell_type": "code",
   "execution_count": 30,
   "id": "a9cfb4d8",
   "metadata": {},
   "outputs": [
    {
     "name": "stdout",
     "output_type": "stream",
     "text": [
      "분류예측 레포트:\n",
      "               precision    recall  f1-score   support\n",
      "\n",
      "           0       0.97      0.98      0.98       333\n",
      "           1       0.97      0.95      0.96       179\n",
      "\n",
      "    accuracy                           0.97       512\n",
      "   macro avg       0.97      0.97      0.97       512\n",
      "weighted avg       0.97      0.97      0.97       512\n",
      "\n"
     ]
    }
   ],
   "source": [
    "# 평가지표 상세하게 확인\n",
    "\n",
    "from sklearn.metrics import classification_report\n",
    "cfreport_train = classification_report(y_train, pred_train)\n",
    "print(\"분류예측 레포트:\\n\", cfreport_train)"
   ]
  },
  {
   "cell_type": "code",
   "execution_count": 31,
   "id": "13e464f9",
   "metadata": {},
   "outputs": [
    {
     "name": "stdout",
     "output_type": "stream",
     "text": [
      "분류예측 레포트:\n",
      "               precision    recall  f1-score   support\n",
      "\n",
      "           0       0.98      0.95      0.97       111\n",
      "           1       0.92      0.97      0.94        60\n",
      "\n",
      "    accuracy                           0.96       171\n",
      "   macro avg       0.95      0.96      0.96       171\n",
      "weighted avg       0.96      0.96      0.96       171\n",
      "\n"
     ]
    }
   ],
   "source": [
    "cfreport_test = classification_report(y_test, pred_test)\n",
    "print(\"분류예측 레포트:\\n\", cfreport_test)"
   ]
  },
  {
   "cell_type": "code",
   "execution_count": 33,
   "id": "3bc4f362",
   "metadata": {},
   "outputs": [
    {
     "data": {
      "text/plain": [
       "0.9923423423423423"
      ]
     },
     "execution_count": 33,
     "metadata": {},
     "output_type": "execute_result"
    }
   ],
   "source": [
    "# ROC 지표 \n",
    "\n",
    "from sklearn.metrics import roc_curve, auc\n",
    "from sklearn import metrics\n",
    "false_positive_rate, true_positive_rate, thresholds = roc_curve(y_test,\n",
    "                                                               model.decision_function(X_scaled_minmax_test))\n",
    "roc_auc = metrics.roc_auc_score(y_test,\n",
    "                               model.decision_function(X_scaled_minmax_test))\n",
    "roc_auc"
   ]
  },
  {
   "cell_type": "code",
   "execution_count": 41,
   "id": "07ce6db7",
   "metadata": {},
   "outputs": [
    {
     "data": {
      "image/png": "[encoded data removed]",
      "text/plain": [
       "<Figure size 432x288 with 1 Axes>"
      ]
     },
     "metadata": {
      "needs_background": "light"
     },
     "output_type": "display_data"
    }
   ],
   "source": [
    "# ROC 곡선 그리기\n",
    "\n",
    "import matplotlib.pyplot as plt\n",
    "plt.title('Receiver Operating Characteristic')\n",
    "plt.xlabel('False Positive Rate(1 - Specificity)')\n",
    "plt.ylabel('True Positive Rate(Sensitivity)')\n",
    "\n",
    "plt.plot(false_positive_rate, true_positive_rate, 'b', label='Model (AUC = %0.2f)'% roc_auc)\n",
    "plt.plot([0,1], [1,1], 'y--')\n",
    "plt.plot([0,1], [0,1], 'r--')\n",
    "\n",
    "plt.legend(loc = 'lower right')\n",
    "plt.show()"
   ]
  },
  {
   "cell_type": "markdown",
   "id": "1cbfdd36",
   "metadata": {},
   "source": [
    "### 6. 예측값 병합 및 저장"
   ]
  },
  {
   "cell_type": "code",
   "execution_count": 45,
   "id": "7251e8c5",
   "metadata": {},
   "outputs": [
    {
     "name": "stderr",
     "output_type": "stream",
     "text": [
      "C:\\Users\\yusti\\AppData\\Local\\Temp/ipykernel_10108/2182167496.py:2: SettingWithCopyWarning: \n",
      "A value is trying to be set on a copy of a slice from a DataFrame.\n",
      "Try using .loc[row_indexer,col_indexer] = value instead\n",
      "\n",
      "See the caveats in the documentation: https://pandas.pydata.org/pandas-docs/stable/user_guide/indexing.html#returning-a-view-versus-a-copy\n",
      "  y_train['y_pred'] = pred_train\n",
      "C:\\Users\\yusti\\anaconda3\\lib\\site-packages\\pandas\\core\\frame.py:3678: SettingWithCopyWarning: \n",
      "A value is trying to be set on a copy of a slice from a DataFrame.\n",
      "Try using .loc[row_indexer,col_indexer] = value instead\n",
      "\n",
      "See the caveats in the documentation: https://pandas.pydata.org/pandas-docs/stable/user_guide/indexing.html#returning-a-view-versus-a-copy\n",
      "  self[col] = igetitem(value, i)\n"
     ]
    },
    {
     "data": {
      "text/html": [
       "<div>\n",
       "<style scoped>\n",
       "    .dataframe tbody tr th:only-of-type {\n",
       "        vertical-align: middle;\n",
       "    }\n",
       "\n",
       "    .dataframe tbody tr th {\n",
       "        vertical-align: top;\n",
       "    }\n",
       "\n",
       "    .dataframe thead th {\n",
       "        text-align: right;\n",
       "    }\n",
       "</style>\n",
       "<table border=\"1\" class=\"dataframe\">\n",
       "  <thead>\n",
       "    <tr style=\"text-align: right;\">\n",
       "      <th></th>\n",
       "      <th>Class</th>\n",
       "      <th>y_pred</th>\n",
       "      <th>y_prob0</th>\n",
       "      <th>y_prob1</th>\n",
       "    </tr>\n",
       "  </thead>\n",
       "  <tbody>\n",
       "    <tr>\n",
       "      <th>131</th>\n",
       "      <td>0</td>\n",
       "      <td>0</td>\n",
       "      <td>0.981014</td>\n",
       "      <td>0.018986</td>\n",
       "    </tr>\n",
       "    <tr>\n",
       "      <th>6</th>\n",
       "      <td>0</td>\n",
       "      <td>0</td>\n",
       "      <td>0.768191</td>\n",
       "      <td>0.231809</td>\n",
       "    </tr>\n",
       "    <tr>\n",
       "      <th>0</th>\n",
       "      <td>0</td>\n",
       "      <td>0</td>\n",
       "      <td>0.966431</td>\n",
       "      <td>0.033569</td>\n",
       "    </tr>\n",
       "    <tr>\n",
       "      <th>269</th>\n",
       "      <td>0</td>\n",
       "      <td>0</td>\n",
       "      <td>0.988880</td>\n",
       "      <td>0.011120</td>\n",
       "    </tr>\n",
       "    <tr>\n",
       "      <th>56</th>\n",
       "      <td>1</td>\n",
       "      <td>1</td>\n",
       "      <td>0.203161</td>\n",
       "      <td>0.796839</td>\n",
       "    </tr>\n",
       "    <tr>\n",
       "      <th>...</th>\n",
       "      <td>...</td>\n",
       "      <td>...</td>\n",
       "      <td>...</td>\n",
       "      <td>...</td>\n",
       "    </tr>\n",
       "    <tr>\n",
       "      <th>515</th>\n",
       "      <td>1</td>\n",
       "      <td>1</td>\n",
       "      <td>0.021270</td>\n",
       "      <td>0.978730</td>\n",
       "    </tr>\n",
       "    <tr>\n",
       "      <th>216</th>\n",
       "      <td>1</td>\n",
       "      <td>0</td>\n",
       "      <td>0.895961</td>\n",
       "      <td>0.104039</td>\n",
       "    </tr>\n",
       "    <tr>\n",
       "      <th>312</th>\n",
       "      <td>1</td>\n",
       "      <td>1</td>\n",
       "      <td>0.113440</td>\n",
       "      <td>0.886560</td>\n",
       "    </tr>\n",
       "    <tr>\n",
       "      <th>11</th>\n",
       "      <td>0</td>\n",
       "      <td>0</td>\n",
       "      <td>0.987405</td>\n",
       "      <td>0.012595</td>\n",
       "    </tr>\n",
       "    <tr>\n",
       "      <th>268</th>\n",
       "      <td>0</td>\n",
       "      <td>0</td>\n",
       "      <td>0.990470</td>\n",
       "      <td>0.009530</td>\n",
       "    </tr>\n",
       "  </tbody>\n",
       "</table>\n",
       "<p>512 rows × 4 columns</p>\n",
       "</div>"
      ],
      "text/plain": [
       "     Class  y_pred   y_prob0   y_prob1\n",
       "131      0       0  0.981014  0.018986\n",
       "6        0       0  0.768191  0.231809\n",
       "0        0       0  0.966431  0.033569\n",
       "269      0       0  0.988880  0.011120\n",
       "56       1       1  0.203161  0.796839\n",
       "..     ...     ...       ...       ...\n",
       "515      1       1  0.021270  0.978730\n",
       "216      1       0  0.895961  0.104039\n",
       "312      1       1  0.113440  0.886560\n",
       "11       0       0  0.987405  0.012595\n",
       "268      0       0  0.990470  0.009530\n",
       "\n",
       "[512 rows x 4 columns]"
      ]
     },
     "execution_count": 45,
     "metadata": {},
     "output_type": "execute_result"
    }
   ],
   "source": [
    "prob_train = model.predict_proba(X_scaled_minmax_train)\n",
    "y_train['y_pred'] = pred_train\n",
    "y_train[['y_prob0', 'y_prob1']] = prob_train\n",
    "y_train"
   ]
  },
  {
   "cell_type": "code",
   "execution_count": 46,
   "id": "8f185561",
   "metadata": {},
   "outputs": [
    {
     "name": "stderr",
     "output_type": "stream",
     "text": [
      "C:\\Users\\yusti\\AppData\\Local\\Temp/ipykernel_10108/10394135.py:2: SettingWithCopyWarning: \n",
      "A value is trying to be set on a copy of a slice from a DataFrame.\n",
      "Try using .loc[row_indexer,col_indexer] = value instead\n",
      "\n",
      "See the caveats in the documentation: https://pandas.pydata.org/pandas-docs/stable/user_guide/indexing.html#returning-a-view-versus-a-copy\n",
      "  y_test['y_pred'] = pred_test\n",
      "C:\\Users\\yusti\\anaconda3\\lib\\site-packages\\pandas\\core\\frame.py:3678: SettingWithCopyWarning: \n",
      "A value is trying to be set on a copy of a slice from a DataFrame.\n",
      "Try using .loc[row_indexer,col_indexer] = value instead\n",
      "\n",
      "See the caveats in the documentation: https://pandas.pydata.org/pandas-docs/stable/user_guide/indexing.html#returning-a-view-versus-a-copy\n",
      "  self[col] = igetitem(value, i)\n"
     ]
    },
    {
     "data": {
      "text/html": [
       "<div>\n",
       "<style scoped>\n",
       "    .dataframe tbody tr th:only-of-type {\n",
       "        vertical-align: middle;\n",
       "    }\n",
       "\n",
       "    .dataframe tbody tr th {\n",
       "        vertical-align: top;\n",
       "    }\n",
       "\n",
       "    .dataframe thead th {\n",
       "        text-align: right;\n",
       "    }\n",
       "</style>\n",
       "<table border=\"1\" class=\"dataframe\">\n",
       "  <thead>\n",
       "    <tr style=\"text-align: right;\">\n",
       "      <th></th>\n",
       "      <th>Class</th>\n",
       "      <th>y_pred</th>\n",
       "      <th>y_prob0</th>\n",
       "      <th>y_prob1</th>\n",
       "    </tr>\n",
       "  </thead>\n",
       "  <tbody>\n",
       "    <tr>\n",
       "      <th>541</th>\n",
       "      <td>0</td>\n",
       "      <td>0</td>\n",
       "      <td>0.955893</td>\n",
       "      <td>0.044107</td>\n",
       "    </tr>\n",
       "    <tr>\n",
       "      <th>549</th>\n",
       "      <td>0</td>\n",
       "      <td>0</td>\n",
       "      <td>0.970887</td>\n",
       "      <td>0.029113</td>\n",
       "    </tr>\n",
       "    <tr>\n",
       "      <th>318</th>\n",
       "      <td>0</td>\n",
       "      <td>0</td>\n",
       "      <td>0.943572</td>\n",
       "      <td>0.056428</td>\n",
       "    </tr>\n",
       "    <tr>\n",
       "      <th>183</th>\n",
       "      <td>0</td>\n",
       "      <td>0</td>\n",
       "      <td>0.979370</td>\n",
       "      <td>0.020630</td>\n",
       "    </tr>\n",
       "    <tr>\n",
       "      <th>478</th>\n",
       "      <td>1</td>\n",
       "      <td>1</td>\n",
       "      <td>0.001305</td>\n",
       "      <td>0.998695</td>\n",
       "    </tr>\n",
       "    <tr>\n",
       "      <th>...</th>\n",
       "      <td>...</td>\n",
       "      <td>...</td>\n",
       "      <td>...</td>\n",
       "      <td>...</td>\n",
       "    </tr>\n",
       "    <tr>\n",
       "      <th>425</th>\n",
       "      <td>1</td>\n",
       "      <td>1</td>\n",
       "      <td>0.006201</td>\n",
       "      <td>0.993799</td>\n",
       "    </tr>\n",
       "    <tr>\n",
       "      <th>314</th>\n",
       "      <td>1</td>\n",
       "      <td>1</td>\n",
       "      <td>0.067440</td>\n",
       "      <td>0.932560</td>\n",
       "    </tr>\n",
       "    <tr>\n",
       "      <th>15</th>\n",
       "      <td>1</td>\n",
       "      <td>1</td>\n",
       "      <td>0.436887</td>\n",
       "      <td>0.563113</td>\n",
       "    </tr>\n",
       "    <tr>\n",
       "      <th>510</th>\n",
       "      <td>0</td>\n",
       "      <td>0</td>\n",
       "      <td>0.983410</td>\n",
       "      <td>0.016590</td>\n",
       "    </tr>\n",
       "    <tr>\n",
       "      <th>351</th>\n",
       "      <td>0</td>\n",
       "      <td>0</td>\n",
       "      <td>0.987405</td>\n",
       "      <td>0.012595</td>\n",
       "    </tr>\n",
       "  </tbody>\n",
       "</table>\n",
       "<p>171 rows × 4 columns</p>\n",
       "</div>"
      ],
      "text/plain": [
       "     Class  y_pred   y_prob0   y_prob1\n",
       "541      0       0  0.955893  0.044107\n",
       "549      0       0  0.970887  0.029113\n",
       "318      0       0  0.943572  0.056428\n",
       "183      0       0  0.979370  0.020630\n",
       "478      1       1  0.001305  0.998695\n",
       "..     ...     ...       ...       ...\n",
       "425      1       1  0.006201  0.993799\n",
       "314      1       1  0.067440  0.932560\n",
       "15       1       1  0.436887  0.563113\n",
       "510      0       0  0.983410  0.016590\n",
       "351      0       0  0.987405  0.012595\n",
       "\n",
       "[171 rows x 4 columns]"
      ]
     },
     "execution_count": 46,
     "metadata": {},
     "output_type": "execute_result"
    }
   ],
   "source": [
    "prob_test = model.predict_proba(X_scaled_minmax_test)\n",
    "y_test['y_pred'] = pred_test\n",
    "y_test[['y_prob0', 'y_prob1']] = prob_test\n",
    "y_test"
   ]
  },
  {
   "cell_type": "code",
   "execution_count": 47,
   "id": "f273f8c9",
   "metadata": {},
   "outputs": [
    {
     "data": {
      "text/html": [
       "<div>\n",
       "<style scoped>\n",
       "    .dataframe tbody tr th:only-of-type {\n",
       "        vertical-align: middle;\n",
       "    }\n",
       "\n",
       "    .dataframe tbody tr th {\n",
       "        vertical-align: top;\n",
       "    }\n",
       "\n",
       "    .dataframe thead th {\n",
       "        text-align: right;\n",
       "    }\n",
       "</style>\n",
       "<table border=\"1\" class=\"dataframe\">\n",
       "  <thead>\n",
       "    <tr style=\"text-align: right;\">\n",
       "      <th></th>\n",
       "      <th>Clump_Thickness</th>\n",
       "      <th>Cell_Size</th>\n",
       "      <th>Cell_Shape</th>\n",
       "      <th>Marginal_Adhesion</th>\n",
       "      <th>Single_Epithelial_Cell_Size</th>\n",
       "      <th>Bare_Nuclei</th>\n",
       "      <th>Bland_Chromatin</th>\n",
       "      <th>Normal_Nucleoli</th>\n",
       "      <th>Mitoses</th>\n",
       "      <th>Class</th>\n",
       "      <th>y_pred</th>\n",
       "      <th>y_prob0</th>\n",
       "      <th>y_prob1</th>\n",
       "    </tr>\n",
       "  </thead>\n",
       "  <tbody>\n",
       "    <tr>\n",
       "      <th>541</th>\n",
       "      <td>5</td>\n",
       "      <td>2</td>\n",
       "      <td>2</td>\n",
       "      <td>2</td>\n",
       "      <td>1</td>\n",
       "      <td>1</td>\n",
       "      <td>2</td>\n",
       "      <td>1</td>\n",
       "      <td>1</td>\n",
       "      <td>0</td>\n",
       "      <td>0</td>\n",
       "      <td>0.955893</td>\n",
       "      <td>0.044107</td>\n",
       "    </tr>\n",
       "    <tr>\n",
       "      <th>549</th>\n",
       "      <td>4</td>\n",
       "      <td>1</td>\n",
       "      <td>1</td>\n",
       "      <td>1</td>\n",
       "      <td>2</td>\n",
       "      <td>1</td>\n",
       "      <td>3</td>\n",
       "      <td>2</td>\n",
       "      <td>1</td>\n",
       "      <td>0</td>\n",
       "      <td>0</td>\n",
       "      <td>0.970887</td>\n",
       "      <td>0.029113</td>\n",
       "    </tr>\n",
       "    <tr>\n",
       "      <th>318</th>\n",
       "      <td>5</td>\n",
       "      <td>2</td>\n",
       "      <td>2</td>\n",
       "      <td>2</td>\n",
       "      <td>2</td>\n",
       "      <td>1</td>\n",
       "      <td>2</td>\n",
       "      <td>2</td>\n",
       "      <td>1</td>\n",
       "      <td>0</td>\n",
       "      <td>0</td>\n",
       "      <td>0.943572</td>\n",
       "      <td>0.056428</td>\n",
       "    </tr>\n",
       "    <tr>\n",
       "      <th>183</th>\n",
       "      <td>1</td>\n",
       "      <td>2</td>\n",
       "      <td>3</td>\n",
       "      <td>1</td>\n",
       "      <td>2</td>\n",
       "      <td>1</td>\n",
       "      <td>3</td>\n",
       "      <td>1</td>\n",
       "      <td>1</td>\n",
       "      <td>0</td>\n",
       "      <td>0</td>\n",
       "      <td>0.979370</td>\n",
       "      <td>0.020630</td>\n",
       "    </tr>\n",
       "    <tr>\n",
       "      <th>478</th>\n",
       "      <td>5</td>\n",
       "      <td>10</td>\n",
       "      <td>10</td>\n",
       "      <td>10</td>\n",
       "      <td>6</td>\n",
       "      <td>10</td>\n",
       "      <td>6</td>\n",
       "      <td>5</td>\n",
       "      <td>2</td>\n",
       "      <td>1</td>\n",
       "      <td>1</td>\n",
       "      <td>0.001305</td>\n",
       "      <td>0.998695</td>\n",
       "    </tr>\n",
       "    <tr>\n",
       "      <th>...</th>\n",
       "      <td>...</td>\n",
       "      <td>...</td>\n",
       "      <td>...</td>\n",
       "      <td>...</td>\n",
       "      <td>...</td>\n",
       "      <td>...</td>\n",
       "      <td>...</td>\n",
       "      <td>...</td>\n",
       "      <td>...</td>\n",
       "      <td>...</td>\n",
       "      <td>...</td>\n",
       "      <td>...</td>\n",
       "      <td>...</td>\n",
       "    </tr>\n",
       "    <tr>\n",
       "      <th>425</th>\n",
       "      <td>10</td>\n",
       "      <td>4</td>\n",
       "      <td>3</td>\n",
       "      <td>10</td>\n",
       "      <td>4</td>\n",
       "      <td>10</td>\n",
       "      <td>10</td>\n",
       "      <td>1</td>\n",
       "      <td>1</td>\n",
       "      <td>1</td>\n",
       "      <td>1</td>\n",
       "      <td>0.006201</td>\n",
       "      <td>0.993799</td>\n",
       "    </tr>\n",
       "    <tr>\n",
       "      <th>314</th>\n",
       "      <td>8</td>\n",
       "      <td>10</td>\n",
       "      <td>3</td>\n",
       "      <td>2</td>\n",
       "      <td>6</td>\n",
       "      <td>4</td>\n",
       "      <td>3</td>\n",
       "      <td>10</td>\n",
       "      <td>1</td>\n",
       "      <td>1</td>\n",
       "      <td>1</td>\n",
       "      <td>0.067440</td>\n",
       "      <td>0.932560</td>\n",
       "    </tr>\n",
       "    <tr>\n",
       "      <th>15</th>\n",
       "      <td>7</td>\n",
       "      <td>4</td>\n",
       "      <td>6</td>\n",
       "      <td>4</td>\n",
       "      <td>6</td>\n",
       "      <td>1</td>\n",
       "      <td>4</td>\n",
       "      <td>3</td>\n",
       "      <td>1</td>\n",
       "      <td>1</td>\n",
       "      <td>1</td>\n",
       "      <td>0.436887</td>\n",
       "      <td>0.563113</td>\n",
       "    </tr>\n",
       "    <tr>\n",
       "      <th>510</th>\n",
       "      <td>3</td>\n",
       "      <td>1</td>\n",
       "      <td>1</td>\n",
       "      <td>2</td>\n",
       "      <td>2</td>\n",
       "      <td>1</td>\n",
       "      <td>1</td>\n",
       "      <td>1</td>\n",
       "      <td>1</td>\n",
       "      <td>0</td>\n",
       "      <td>0</td>\n",
       "      <td>0.983410</td>\n",
       "      <td>0.016590</td>\n",
       "    </tr>\n",
       "    <tr>\n",
       "      <th>351</th>\n",
       "      <td>2</td>\n",
       "      <td>1</td>\n",
       "      <td>1</td>\n",
       "      <td>1</td>\n",
       "      <td>2</td>\n",
       "      <td>1</td>\n",
       "      <td>2</td>\n",
       "      <td>1</td>\n",
       "      <td>1</td>\n",
       "      <td>0</td>\n",
       "      <td>0</td>\n",
       "      <td>0.987405</td>\n",
       "      <td>0.012595</td>\n",
       "    </tr>\n",
       "  </tbody>\n",
       "</table>\n",
       "<p>171 rows × 13 columns</p>\n",
       "</div>"
      ],
      "text/plain": [
       "     Clump_Thickness  Cell_Size  Cell_Shape  Marginal_Adhesion  \\\n",
       "541                5          2           2                  2   \n",
       "549                4          1           1                  1   \n",
       "318                5          2           2                  2   \n",
       "183                1          2           3                  1   \n",
       "478                5         10          10                 10   \n",
       "..               ...        ...         ...                ...   \n",
       "425               10          4           3                 10   \n",
       "314                8         10           3                  2   \n",
       "15                 7          4           6                  4   \n",
       "510                3          1           1                  2   \n",
       "351                2          1           1                  1   \n",
       "\n",
       "     Single_Epithelial_Cell_Size  Bare_Nuclei  Bland_Chromatin  \\\n",
       "541                            1            1                2   \n",
       "549                            2            1                3   \n",
       "318                            2            1                2   \n",
       "183                            2            1                3   \n",
       "478                            6           10                6   \n",
       "..                           ...          ...              ...   \n",
       "425                            4           10               10   \n",
       "314                            6            4                3   \n",
       "15                             6            1                4   \n",
       "510                            2            1                1   \n",
       "351                            2            1                2   \n",
       "\n",
       "     Normal_Nucleoli  Mitoses  Class  y_pred   y_prob0   y_prob1  \n",
       "541                1        1      0       0  0.955893  0.044107  \n",
       "549                2        1      0       0  0.970887  0.029113  \n",
       "318                2        1      0       0  0.943572  0.056428  \n",
       "183                1        1      0       0  0.979370  0.020630  \n",
       "478                5        2      1       1  0.001305  0.998695  \n",
       "..               ...      ...    ...     ...       ...       ...  \n",
       "425                1        1      1       1  0.006201  0.993799  \n",
       "314               10        1      1       1  0.067440  0.932560  \n",
       "15                 3        1      1       1  0.436887  0.563113  \n",
       "510                1        1      0       0  0.983410  0.016590  \n",
       "351                1        1      0       0  0.987405  0.012595  \n",
       "\n",
       "[171 rows x 13 columns]"
      ]
     },
     "execution_count": 47,
     "metadata": {},
     "output_type": "execute_result"
    }
   ],
   "source": [
    "# X_test와 y_test 병합\n",
    "\n",
    "Total_test = pd.concat([X_test, y_test], axis=1)\n",
    "Total_test"
   ]
  },
  {
   "cell_type": "code",
   "execution_count": 48,
   "id": "3ac891ad",
   "metadata": {},
   "outputs": [],
   "source": [
    "# csv 파일로 내보내기 및 저장\n",
    "\n",
    "Total_test.to_csv(\"classfication_test.csv\")"
   ]
  },
  {
   "cell_type": "markdown",
   "id": "3f914069",
   "metadata": {},
   "source": [
    "## Section 03. 머신러닝 맛보기 - (2) 회귀문제"
   ]
  },
  {
   "cell_type": "markdown",
   "id": "14de9b34",
   "metadata": {},
   "source": [
    "### 1. 분석 데이터 검토"
   ]
  },
  {
   "cell_type": "code",
   "execution_count": 49,
   "id": "44634c07",
   "metadata": {},
   "outputs": [
    {
     "data": {
      "text/html": [
       "<div>\n",
       "<style scoped>\n",
       "    .dataframe tbody tr th:only-of-type {\n",
       "        vertical-align: middle;\n",
       "    }\n",
       "\n",
       "    .dataframe tbody tr th {\n",
       "        vertical-align: top;\n",
       "    }\n",
       "\n",
       "    .dataframe thead th {\n",
       "        text-align: right;\n",
       "    }\n",
       "</style>\n",
       "<table border=\"1\" class=\"dataframe\">\n",
       "  <thead>\n",
       "    <tr style=\"text-align: right;\">\n",
       "      <th></th>\n",
       "      <th>housing_age</th>\n",
       "      <th>income</th>\n",
       "      <th>bedrooms</th>\n",
       "      <th>households</th>\n",
       "      <th>rooms</th>\n",
       "      <th>house_value</th>\n",
       "    </tr>\n",
       "  </thead>\n",
       "  <tbody>\n",
       "    <tr>\n",
       "      <th>0</th>\n",
       "      <td>23</td>\n",
       "      <td>6.7770</td>\n",
       "      <td>0.141112</td>\n",
       "      <td>2.442244</td>\n",
       "      <td>8.103960</td>\n",
       "      <td>500000</td>\n",
       "    </tr>\n",
       "    <tr>\n",
       "      <th>1</th>\n",
       "      <td>49</td>\n",
       "      <td>6.0199</td>\n",
       "      <td>0.160984</td>\n",
       "      <td>2.726688</td>\n",
       "      <td>5.752412</td>\n",
       "      <td>500000</td>\n",
       "    </tr>\n",
       "    <tr>\n",
       "      <th>2</th>\n",
       "      <td>35</td>\n",
       "      <td>5.1155</td>\n",
       "      <td>0.249061</td>\n",
       "      <td>1.902676</td>\n",
       "      <td>3.888078</td>\n",
       "      <td>500000</td>\n",
       "    </tr>\n",
       "    <tr>\n",
       "      <th>3</th>\n",
       "      <td>32</td>\n",
       "      <td>4.7109</td>\n",
       "      <td>0.231383</td>\n",
       "      <td>1.913669</td>\n",
       "      <td>4.508393</td>\n",
       "      <td>500000</td>\n",
       "    </tr>\n",
       "    <tr>\n",
       "      <th>4</th>\n",
       "      <td>21</td>\n",
       "      <td>4.5625</td>\n",
       "      <td>0.255583</td>\n",
       "      <td>3.092664</td>\n",
       "      <td>4.667954</td>\n",
       "      <td>500000</td>\n",
       "    </tr>\n",
       "  </tbody>\n",
       "</table>\n",
       "</div>"
      ],
      "text/plain": [
       "   housing_age  income  bedrooms  households     rooms  house_value\n",
       "0           23  6.7770  0.141112    2.442244  8.103960       500000\n",
       "1           49  6.0199  0.160984    2.726688  5.752412       500000\n",
       "2           35  5.1155  0.249061    1.902676  3.888078       500000\n",
       "3           32  4.7109  0.231383    1.913669  4.508393       500000\n",
       "4           21  4.5625  0.255583    3.092664  4.667954       500000"
      ]
     },
     "execution_count": 49,
     "metadata": {},
     "output_type": "execute_result"
    }
   ],
   "source": [
    "import pandas as pd\n",
    "data = pd.read_csv('house_price.csv', encoding='utf-8')\n",
    "data.head()"
   ]
  },
  {
   "cell_type": "code",
   "execution_count": 50,
   "id": "9c1f068f",
   "metadata": {},
   "outputs": [
    {
     "name": "stdout",
     "output_type": "stream",
     "text": [
      "(17689, 6)\n"
     ]
    }
   ],
   "source": [
    "print(data.shape)"
   ]
  },
  {
   "cell_type": "code",
   "execution_count": 51,
   "id": "7cf26c99",
   "metadata": {},
   "outputs": [
    {
     "data": {
      "text/html": [
       "<div>\n",
       "<style scoped>\n",
       "    .dataframe tbody tr th:only-of-type {\n",
       "        vertical-align: middle;\n",
       "    }\n",
       "\n",
       "    .dataframe tbody tr th {\n",
       "        vertical-align: top;\n",
       "    }\n",
       "\n",
       "    .dataframe thead th {\n",
       "        text-align: right;\n",
       "    }\n",
       "</style>\n",
       "<table border=\"1\" class=\"dataframe\">\n",
       "  <thead>\n",
       "    <tr style=\"text-align: right;\">\n",
       "      <th></th>\n",
       "      <th>housing_age</th>\n",
       "      <th>income</th>\n",
       "      <th>bedrooms</th>\n",
       "      <th>households</th>\n",
       "      <th>rooms</th>\n",
       "      <th>house_value</th>\n",
       "    </tr>\n",
       "  </thead>\n",
       "  <tbody>\n",
       "    <tr>\n",
       "      <th>count</th>\n",
       "      <td>17689.000000</td>\n",
       "      <td>17689.000000</td>\n",
       "      <td>17689.000000</td>\n",
       "      <td>17689.000000</td>\n",
       "      <td>17689.000000</td>\n",
       "      <td>17689.000000</td>\n",
       "    </tr>\n",
       "    <tr>\n",
       "      <th>mean</th>\n",
       "      <td>27.378823</td>\n",
       "      <td>3.671141</td>\n",
       "      <td>0.213278</td>\n",
       "      <td>2.952117</td>\n",
       "      <td>5.244001</td>\n",
       "      <td>189043.439313</td>\n",
       "    </tr>\n",
       "    <tr>\n",
       "      <th>std</th>\n",
       "      <td>11.280230</td>\n",
       "      <td>1.525937</td>\n",
       "      <td>0.051167</td>\n",
       "      <td>0.731573</td>\n",
       "      <td>1.184922</td>\n",
       "      <td>95487.122628</td>\n",
       "    </tr>\n",
       "    <tr>\n",
       "      <th>min</th>\n",
       "      <td>1.000000</td>\n",
       "      <td>0.499900</td>\n",
       "      <td>0.100000</td>\n",
       "      <td>0.750000</td>\n",
       "      <td>1.640000</td>\n",
       "      <td>14999.000000</td>\n",
       "    </tr>\n",
       "    <tr>\n",
       "      <th>25%</th>\n",
       "      <td>18.000000</td>\n",
       "      <td>2.532900</td>\n",
       "      <td>0.177464</td>\n",
       "      <td>2.470270</td>\n",
       "      <td>4.426829</td>\n",
       "      <td>114400.000000</td>\n",
       "    </tr>\n",
       "    <tr>\n",
       "      <th>50%</th>\n",
       "      <td>28.000000</td>\n",
       "      <td>3.453900</td>\n",
       "      <td>0.204104</td>\n",
       "      <td>2.854962</td>\n",
       "      <td>5.190779</td>\n",
       "      <td>171100.000000</td>\n",
       "    </tr>\n",
       "    <tr>\n",
       "      <th>75%</th>\n",
       "      <td>36.000000</td>\n",
       "      <td>4.591800</td>\n",
       "      <td>0.240157</td>\n",
       "      <td>3.316092</td>\n",
       "      <td>5.953728</td>\n",
       "      <td>242700.000000</td>\n",
       "    </tr>\n",
       "    <tr>\n",
       "      <th>max</th>\n",
       "      <td>51.000000</td>\n",
       "      <td>9.905500</td>\n",
       "      <td>0.498127</td>\n",
       "      <td>6.954023</td>\n",
       "      <td>11.901869</td>\n",
       "      <td>500000.000000</td>\n",
       "    </tr>\n",
       "  </tbody>\n",
       "</table>\n",
       "</div>"
      ],
      "text/plain": [
       "        housing_age        income      bedrooms    households         rooms  \\\n",
       "count  17689.000000  17689.000000  17689.000000  17689.000000  17689.000000   \n",
       "mean      27.378823      3.671141      0.213278      2.952117      5.244001   \n",
       "std       11.280230      1.525937      0.051167      0.731573      1.184922   \n",
       "min        1.000000      0.499900      0.100000      0.750000      1.640000   \n",
       "25%       18.000000      2.532900      0.177464      2.470270      4.426829   \n",
       "50%       28.000000      3.453900      0.204104      2.854962      5.190779   \n",
       "75%       36.000000      4.591800      0.240157      3.316092      5.953728   \n",
       "max       51.000000      9.905500      0.498127      6.954023     11.901869   \n",
       "\n",
       "         house_value  \n",
       "count   17689.000000  \n",
       "mean   189043.439313  \n",
       "std     95487.122628  \n",
       "min     14999.000000  \n",
       "25%    114400.000000  \n",
       "50%    171100.000000  \n",
       "75%    242700.000000  \n",
       "max    500000.000000  "
      ]
     },
     "execution_count": 51,
     "metadata": {},
     "output_type": "execute_result"
    }
   ],
   "source": [
    "data.describe()"
   ]
  },
  {
   "cell_type": "code",
   "execution_count": 52,
   "id": "4df45265",
   "metadata": {},
   "outputs": [
    {
     "data": {
      "text/plain": [
       "array([[<AxesSubplot:title={'center':'housing_age'}>,\n",
       "        <AxesSubplot:title={'center':'income'}>],\n",
       "       [<AxesSubplot:title={'center':'bedrooms'}>,\n",
       "        <AxesSubplot:title={'center':'households'}>],\n",
       "       [<AxesSubplot:title={'center':'rooms'}>,\n",
       "        <AxesSubplot:title={'center':'house_value'}>]], dtype=object)"
      ]
     },
     "execution_count": 52,
     "metadata": {},
     "output_type": "execute_result"
    },
    {
     "data": {
      "image/png": "[encoded data removed]",
      "text/plain": [
       "<Figure size 1440x1080 with 6 Axes>"
      ]
     },
     "metadata": {
      "needs_background": "light"
     },
     "output_type": "display_data"
    }
   ],
   "source": [
    "data.hist(bins=50, figsize=(20,15))"
   ]
  },
  {
   "cell_type": "markdown",
   "id": "a8c9d9ca",
   "metadata": {},
   "source": [
    "### 2. 특성(x)과 레이블(y) 나누기"
   ]
  },
  {
   "cell_type": "code",
   "execution_count": 53,
   "id": "3c078a13",
   "metadata": {},
   "outputs": [],
   "source": [
    "# 방법1: 특성 이름으로 특성 데이터셋(X) 나누기\n",
    "X1 = data[['housing_age', 'income', 'bedrooms', 'households', 'rooms']]\n",
    "\n",
    "# 방법2: 특성 위치값으로 특성 데이터셋(X) 나누기\n",
    "X2 = data[data.columns[0:5]]\n",
    "\n",
    "# 방법3: loc 함수로 특성 데이터셋(X) 나누기 (단, 불러올 특성이 연달아 있어야 함.)\n",
    "X3 = data.loc[:, 'housing_age': 'rooms']"
   ]
  },
  {
   "cell_type": "code",
   "execution_count": 54,
   "id": "5990a7e9",
   "metadata": {},
   "outputs": [
    {
     "name": "stdout",
     "output_type": "stream",
     "text": [
      "(17689, 5)\n",
      "(17689, 5)\n",
      "(17689, 5)\n"
     ]
    }
   ],
   "source": [
    "print(X1.shape)\n",
    "print(X2.shape)\n",
    "print(X3.shape)"
   ]
  },
  {
   "cell_type": "code",
   "execution_count": 55,
   "id": "5ea7be97",
   "metadata": {},
   "outputs": [],
   "source": [
    "y = data[[\"house_value\"]]"
   ]
  },
  {
   "cell_type": "code",
   "execution_count": 56,
   "id": "f8efedad",
   "metadata": {},
   "outputs": [
    {
     "name": "stdout",
     "output_type": "stream",
     "text": [
      "(17689, 1)\n"
     ]
    }
   ],
   "source": [
    "print(y.shape)"
   ]
  },
  {
   "cell_type": "markdown",
   "id": "c9616227",
   "metadata": {},
   "source": [
    "### 3. train-test 데이터셋 나누기"
   ]
  },
  {
   "cell_type": "code",
   "execution_count": 57,
   "id": "4d58a39c",
   "metadata": {},
   "outputs": [],
   "source": [
    "from sklearn.model_selection import train_test_split\n",
    "X_train, X_test, y_train, y_test = train_test_split(X1, y, random_state=42)"
   ]
  },
  {
   "cell_type": "code",
   "execution_count": 58,
   "id": "ffeae6a7",
   "metadata": {},
   "outputs": [
    {
     "name": "stdout",
     "output_type": "stream",
     "text": [
      "house_value    189260.967812\n",
      "dtype: float64\n",
      "house_value    188391.001357\n",
      "dtype: float64\n"
     ]
    }
   ],
   "source": [
    "print(y_train.mean())\n",
    "print(y_test.mean())"
   ]
  },
  {
   "cell_type": "markdown",
   "id": "1c752491",
   "metadata": {},
   "source": [
    "### 4. 정규화"
   ]
  },
  {
   "cell_type": "code",
   "execution_count": 59,
   "id": "5cff6902",
   "metadata": {},
   "outputs": [],
   "source": [
    "from sklearn.preprocessing import MinMaxScaler\n",
    "from sklearn.preprocessing import StandardScaler\n",
    "scaler_minmax = MinMaxScaler()\n",
    "scaler_standard = StandardScaler()"
   ]
  },
  {
   "cell_type": "markdown",
   "id": "924c0aa0",
   "metadata": {},
   "source": [
    "#### 가. train data의 정규화"
   ]
  },
  {
   "cell_type": "code",
   "execution_count": 60,
   "id": "baceca11",
   "metadata": {},
   "outputs": [],
   "source": [
    "scaler_minmax.fit(X_train)\n",
    "X_scaled_minmax_train = scaler_minmax.transform(X_train)"
   ]
  },
  {
   "cell_type": "code",
   "execution_count": 61,
   "id": "17cd9beb",
   "metadata": {},
   "outputs": [],
   "source": [
    "scaler_standard.fit(X_train)\n",
    "X_scaled_standard_train = scaler_standard.transform(X_train)"
   ]
  },
  {
   "cell_type": "code",
   "execution_count": 62,
   "id": "775b2d3a",
   "metadata": {},
   "outputs": [
    {
     "data": {
      "text/html": [
       "<div>\n",
       "<style scoped>\n",
       "    .dataframe tbody tr th:only-of-type {\n",
       "        vertical-align: middle;\n",
       "    }\n",
       "\n",
       "    .dataframe tbody tr th {\n",
       "        vertical-align: top;\n",
       "    }\n",
       "\n",
       "    .dataframe thead th {\n",
       "        text-align: right;\n",
       "    }\n",
       "</style>\n",
       "<table border=\"1\" class=\"dataframe\">\n",
       "  <thead>\n",
       "    <tr style=\"text-align: right;\">\n",
       "      <th></th>\n",
       "      <th>0</th>\n",
       "      <th>1</th>\n",
       "      <th>2</th>\n",
       "      <th>3</th>\n",
       "      <th>4</th>\n",
       "    </tr>\n",
       "  </thead>\n",
       "  <tbody>\n",
       "    <tr>\n",
       "      <th>count</th>\n",
       "      <td>13266.000000</td>\n",
       "      <td>13266.000000</td>\n",
       "      <td>13266.000000</td>\n",
       "      <td>13266.000000</td>\n",
       "      <td>13266.000000</td>\n",
       "    </tr>\n",
       "    <tr>\n",
       "      <th>mean</th>\n",
       "      <td>0.526774</td>\n",
       "      <td>0.337157</td>\n",
       "      <td>0.284682</td>\n",
       "      <td>0.357657</td>\n",
       "      <td>0.335256</td>\n",
       "    </tr>\n",
       "    <tr>\n",
       "      <th>std</th>\n",
       "      <td>0.224853</td>\n",
       "      <td>0.161972</td>\n",
       "      <td>0.129011</td>\n",
       "      <td>0.118029</td>\n",
       "      <td>0.117614</td>\n",
       "    </tr>\n",
       "    <tr>\n",
       "      <th>min</th>\n",
       "      <td>0.000000</td>\n",
       "      <td>0.000000</td>\n",
       "      <td>0.000000</td>\n",
       "      <td>0.000000</td>\n",
       "      <td>0.000000</td>\n",
       "    </tr>\n",
       "    <tr>\n",
       "      <th>25%</th>\n",
       "      <td>0.340000</td>\n",
       "      <td>0.217083</td>\n",
       "      <td>0.194600</td>\n",
       "      <td>0.280091</td>\n",
       "      <td>0.254470</td>\n",
       "    </tr>\n",
       "    <tr>\n",
       "      <th>50%</th>\n",
       "      <td>0.540000</td>\n",
       "      <td>0.313983</td>\n",
       "      <td>0.261866</td>\n",
       "      <td>0.342512</td>\n",
       "      <td>0.330405</td>\n",
       "    </tr>\n",
       "    <tr>\n",
       "      <th>75%</th>\n",
       "      <td>0.700000</td>\n",
       "      <td>0.435921</td>\n",
       "      <td>0.352555</td>\n",
       "      <td>0.416829</td>\n",
       "      <td>0.405879</td>\n",
       "    </tr>\n",
       "    <tr>\n",
       "      <th>max</th>\n",
       "      <td>1.000000</td>\n",
       "      <td>1.000000</td>\n",
       "      <td>1.000000</td>\n",
       "      <td>1.000000</td>\n",
       "      <td>1.000000</td>\n",
       "    </tr>\n",
       "  </tbody>\n",
       "</table>\n",
       "</div>"
      ],
      "text/plain": [
       "                  0             1             2             3             4\n",
       "count  13266.000000  13266.000000  13266.000000  13266.000000  13266.000000\n",
       "mean       0.526774      0.337157      0.284682      0.357657      0.335256\n",
       "std        0.224853      0.161972      0.129011      0.118029      0.117614\n",
       "min        0.000000      0.000000      0.000000      0.000000      0.000000\n",
       "25%        0.340000      0.217083      0.194600      0.280091      0.254470\n",
       "50%        0.540000      0.313983      0.261866      0.342512      0.330405\n",
       "75%        0.700000      0.435921      0.352555      0.416829      0.405879\n",
       "max        1.000000      1.000000      1.000000      1.000000      1.000000"
      ]
     },
     "execution_count": 62,
     "metadata": {},
     "output_type": "execute_result"
    }
   ],
   "source": [
    "pd.DataFrame(X_scaled_minmax_train).describe()"
   ]
  },
  {
   "cell_type": "code",
   "execution_count": 63,
   "id": "1443af59",
   "metadata": {},
   "outputs": [
    {
     "data": {
      "text/html": [
       "<div>\n",
       "<style scoped>\n",
       "    .dataframe tbody tr th:only-of-type {\n",
       "        vertical-align: middle;\n",
       "    }\n",
       "\n",
       "    .dataframe tbody tr th {\n",
       "        vertical-align: top;\n",
       "    }\n",
       "\n",
       "    .dataframe thead th {\n",
       "        text-align: right;\n",
       "    }\n",
       "</style>\n",
       "<table border=\"1\" class=\"dataframe\">\n",
       "  <thead>\n",
       "    <tr style=\"text-align: right;\">\n",
       "      <th></th>\n",
       "      <th>0</th>\n",
       "      <th>1</th>\n",
       "      <th>2</th>\n",
       "      <th>3</th>\n",
       "      <th>4</th>\n",
       "    </tr>\n",
       "  </thead>\n",
       "  <tbody>\n",
       "    <tr>\n",
       "      <th>count</th>\n",
       "      <td>1.326600e+04</td>\n",
       "      <td>1.326600e+04</td>\n",
       "      <td>1.326600e+04</td>\n",
       "      <td>1.326600e+04</td>\n",
       "      <td>1.326600e+04</td>\n",
       "    </tr>\n",
       "    <tr>\n",
       "      <th>mean</th>\n",
       "      <td>5.615556e-18</td>\n",
       "      <td>1.588508e-16</td>\n",
       "      <td>7.827508e-16</td>\n",
       "      <td>-1.103026e-16</td>\n",
       "      <td>-3.708213e-16</td>\n",
       "    </tr>\n",
       "    <tr>\n",
       "      <th>std</th>\n",
       "      <td>1.000038e+00</td>\n",
       "      <td>1.000038e+00</td>\n",
       "      <td>1.000038e+00</td>\n",
       "      <td>1.000038e+00</td>\n",
       "      <td>1.000038e+00</td>\n",
       "    </tr>\n",
       "    <tr>\n",
       "      <th>min</th>\n",
       "      <td>-2.342832e+00</td>\n",
       "      <td>-2.081653e+00</td>\n",
       "      <td>-2.206729e+00</td>\n",
       "      <td>-3.030366e+00</td>\n",
       "      <td>-2.850578e+00</td>\n",
       "    </tr>\n",
       "    <tr>\n",
       "      <th>25%</th>\n",
       "      <td>-8.306782e-01</td>\n",
       "      <td>-7.413514e-01</td>\n",
       "      <td>-6.982778e-01</td>\n",
       "      <td>-6.572081e-01</td>\n",
       "      <td>-6.868994e-01</td>\n",
       "    </tr>\n",
       "    <tr>\n",
       "      <th>50%</th>\n",
       "      <td>5.882409e-02</td>\n",
       "      <td>-1.430799e-01</td>\n",
       "      <td>-1.768626e-01</td>\n",
       "      <td>-1.283229e-01</td>\n",
       "      <td>-4.124140e-02</td>\n",
       "    </tr>\n",
       "    <tr>\n",
       "      <th>75%</th>\n",
       "      <td>7.704259e-01</td>\n",
       "      <td>6.097813e-01</td>\n",
       "      <td>5.261181e-01</td>\n",
       "      <td>5.013487e-01</td>\n",
       "      <td>6.004859e-01</td>\n",
       "    </tr>\n",
       "    <tr>\n",
       "      <th>max</th>\n",
       "      <td>2.104679e+00</td>\n",
       "      <td>4.092478e+00</td>\n",
       "      <td>5.544819e+00</td>\n",
       "      <td>5.442457e+00</td>\n",
       "      <td>5.652123e+00</td>\n",
       "    </tr>\n",
       "  </tbody>\n",
       "</table>\n",
       "</div>"
      ],
      "text/plain": [
       "                  0             1             2             3             4\n",
       "count  1.326600e+04  1.326600e+04  1.326600e+04  1.326600e+04  1.326600e+04\n",
       "mean   5.615556e-18  1.588508e-16  7.827508e-16 -1.103026e-16 -3.708213e-16\n",
       "std    1.000038e+00  1.000038e+00  1.000038e+00  1.000038e+00  1.000038e+00\n",
       "min   -2.342832e+00 -2.081653e+00 -2.206729e+00 -3.030366e+00 -2.850578e+00\n",
       "25%   -8.306782e-01 -7.413514e-01 -6.982778e-01 -6.572081e-01 -6.868994e-01\n",
       "50%    5.882409e-02 -1.430799e-01 -1.768626e-01 -1.283229e-01 -4.124140e-02\n",
       "75%    7.704259e-01  6.097813e-01  5.261181e-01  5.013487e-01  6.004859e-01\n",
       "max    2.104679e+00  4.092478e+00  5.544819e+00  5.442457e+00  5.652123e+00"
      ]
     },
     "execution_count": 63,
     "metadata": {},
     "output_type": "execute_result"
    }
   ],
   "source": [
    "pd.DataFrame(X_scaled_standard_train).describe()"
   ]
  },
  {
   "cell_type": "markdown",
   "id": "e092de55",
   "metadata": {},
   "source": [
    "#### 나. test data의 정규화"
   ]
  },
  {
   "cell_type": "code",
   "execution_count": 64,
   "id": "b5562ec0",
   "metadata": {},
   "outputs": [
    {
     "data": {
      "text/html": [
       "<div>\n",
       "<style scoped>\n",
       "    .dataframe tbody tr th:only-of-type {\n",
       "        vertical-align: middle;\n",
       "    }\n",
       "\n",
       "    .dataframe tbody tr th {\n",
       "        vertical-align: top;\n",
       "    }\n",
       "\n",
       "    .dataframe thead th {\n",
       "        text-align: right;\n",
       "    }\n",
       "</style>\n",
       "<table border=\"1\" class=\"dataframe\">\n",
       "  <thead>\n",
       "    <tr style=\"text-align: right;\">\n",
       "      <th></th>\n",
       "      <th>0</th>\n",
       "      <th>1</th>\n",
       "      <th>2</th>\n",
       "      <th>3</th>\n",
       "      <th>4</th>\n",
       "    </tr>\n",
       "  </thead>\n",
       "  <tbody>\n",
       "    <tr>\n",
       "      <th>count</th>\n",
       "      <td>4423.000000</td>\n",
       "      <td>4423.000000</td>\n",
       "      <td>4423.000000</td>\n",
       "      <td>4423.000000</td>\n",
       "      <td>4423.000000</td>\n",
       "    </tr>\n",
       "    <tr>\n",
       "      <th>mean</th>\n",
       "      <td>0.529984</td>\n",
       "      <td>0.337189</td>\n",
       "      <td>0.284061</td>\n",
       "      <td>0.362482</td>\n",
       "      <td>0.338222</td>\n",
       "    </tr>\n",
       "    <tr>\n",
       "      <th>std</th>\n",
       "      <td>0.227852</td>\n",
       "      <td>0.163047</td>\n",
       "      <td>0.127044</td>\n",
       "      <td>0.122663</td>\n",
       "      <td>0.119826</td>\n",
       "    </tr>\n",
       "    <tr>\n",
       "      <th>min</th>\n",
       "      <td>0.000000</td>\n",
       "      <td>0.000000</td>\n",
       "      <td>0.044099</td>\n",
       "      <td>0.051525</td>\n",
       "      <td>-0.023437</td>\n",
       "    </tr>\n",
       "    <tr>\n",
       "      <th>25%</th>\n",
       "      <td>0.340000</td>\n",
       "      <td>0.213011</td>\n",
       "      <td>0.194452</td>\n",
       "      <td>0.281143</td>\n",
       "      <td>0.254633</td>\n",
       "    </tr>\n",
       "    <tr>\n",
       "      <th>50%</th>\n",
       "      <td>0.540000</td>\n",
       "      <td>0.314536</td>\n",
       "      <td>0.260169</td>\n",
       "      <td>0.344791</td>\n",
       "      <td>0.331819</td>\n",
       "    </tr>\n",
       "    <tr>\n",
       "      <th>75%</th>\n",
       "      <td>0.700000</td>\n",
       "      <td>0.433109</td>\n",
       "      <td>0.351367</td>\n",
       "      <td>0.424120</td>\n",
       "      <td>0.410090</td>\n",
       "    </tr>\n",
       "    <tr>\n",
       "      <th>max</th>\n",
       "      <td>1.000000</td>\n",
       "      <td>0.992462</td>\n",
       "      <td>0.975243</td>\n",
       "      <td>1.011026</td>\n",
       "      <td>0.998799</td>\n",
       "    </tr>\n",
       "  </tbody>\n",
       "</table>\n",
       "</div>"
      ],
      "text/plain": [
       "                 0            1            2            3            4\n",
       "count  4423.000000  4423.000000  4423.000000  4423.000000  4423.000000\n",
       "mean      0.529984     0.337189     0.284061     0.362482     0.338222\n",
       "std       0.227852     0.163047     0.127044     0.122663     0.119826\n",
       "min       0.000000     0.000000     0.044099     0.051525    -0.023437\n",
       "25%       0.340000     0.213011     0.194452     0.281143     0.254633\n",
       "50%       0.540000     0.314536     0.260169     0.344791     0.331819\n",
       "75%       0.700000     0.433109     0.351367     0.424120     0.410090\n",
       "max       1.000000     0.992462     0.975243     1.011026     0.998799"
      ]
     },
     "execution_count": 64,
     "metadata": {},
     "output_type": "execute_result"
    }
   ],
   "source": [
    "X_scaled_minmax_test = scaler_minmax.transform(X_test)\n",
    "pd.DataFrame(X_scaled_minmax_test).describe()"
   ]
  },
  {
   "cell_type": "code",
   "execution_count": 65,
   "id": "05a77aa7",
   "metadata": {},
   "outputs": [
    {
     "data": {
      "text/html": [
       "<div>\n",
       "<style scoped>\n",
       "    .dataframe tbody tr th:only-of-type {\n",
       "        vertical-align: middle;\n",
       "    }\n",
       "\n",
       "    .dataframe tbody tr th {\n",
       "        vertical-align: top;\n",
       "    }\n",
       "\n",
       "    .dataframe thead th {\n",
       "        text-align: right;\n",
       "    }\n",
       "</style>\n",
       "<table border=\"1\" class=\"dataframe\">\n",
       "  <thead>\n",
       "    <tr style=\"text-align: right;\">\n",
       "      <th></th>\n",
       "      <th>0</th>\n",
       "      <th>1</th>\n",
       "      <th>2</th>\n",
       "      <th>3</th>\n",
       "      <th>4</th>\n",
       "    </tr>\n",
       "  </thead>\n",
       "  <tbody>\n",
       "    <tr>\n",
       "      <th>count</th>\n",
       "      <td>4423.000000</td>\n",
       "      <td>4423.000000</td>\n",
       "      <td>4423.000000</td>\n",
       "      <td>4423.000000</td>\n",
       "      <td>4423.000000</td>\n",
       "    </tr>\n",
       "    <tr>\n",
       "      <th>mean</th>\n",
       "      <td>0.014279</td>\n",
       "      <td>0.000196</td>\n",
       "      <td>-0.004814</td>\n",
       "      <td>0.040879</td>\n",
       "      <td>0.025222</td>\n",
       "    </tr>\n",
       "    <tr>\n",
       "      <th>std</th>\n",
       "      <td>1.013373</td>\n",
       "      <td>1.006675</td>\n",
       "      <td>0.984789</td>\n",
       "      <td>1.039304</td>\n",
       "      <td>1.018846</td>\n",
       "    </tr>\n",
       "    <tr>\n",
       "      <th>min</th>\n",
       "      <td>-2.342832</td>\n",
       "      <td>-2.081653</td>\n",
       "      <td>-1.864897</td>\n",
       "      <td>-2.593803</td>\n",
       "      <td>-3.049856</td>\n",
       "    </tr>\n",
       "    <tr>\n",
       "      <th>25%</th>\n",
       "      <td>-0.830678</td>\n",
       "      <td>-0.766493</td>\n",
       "      <td>-0.699423</td>\n",
       "      <td>-0.648287</td>\n",
       "      <td>-0.685507</td>\n",
       "    </tr>\n",
       "    <tr>\n",
       "      <th>50%</th>\n",
       "      <td>0.058824</td>\n",
       "      <td>-0.139666</td>\n",
       "      <td>-0.190013</td>\n",
       "      <td>-0.109012</td>\n",
       "      <td>-0.029221</td>\n",
       "    </tr>\n",
       "    <tr>\n",
       "      <th>75%</th>\n",
       "      <td>0.770426</td>\n",
       "      <td>0.592419</td>\n",
       "      <td>0.516912</td>\n",
       "      <td>0.563130</td>\n",
       "      <td>0.636293</td>\n",
       "    </tr>\n",
       "    <tr>\n",
       "      <th>max</th>\n",
       "      <td>2.104679</td>\n",
       "      <td>4.045937</td>\n",
       "      <td>5.352917</td>\n",
       "      <td>5.535878</td>\n",
       "      <td>5.641914</td>\n",
       "    </tr>\n",
       "  </tbody>\n",
       "</table>\n",
       "</div>"
      ],
      "text/plain": [
       "                 0            1            2            3            4\n",
       "count  4423.000000  4423.000000  4423.000000  4423.000000  4423.000000\n",
       "mean      0.014279     0.000196    -0.004814     0.040879     0.025222\n",
       "std       1.013373     1.006675     0.984789     1.039304     1.018846\n",
       "min      -2.342832    -2.081653    -1.864897    -2.593803    -3.049856\n",
       "25%      -0.830678    -0.766493    -0.699423    -0.648287    -0.685507\n",
       "50%       0.058824    -0.139666    -0.190013    -0.109012    -0.029221\n",
       "75%       0.770426     0.592419     0.516912     0.563130     0.636293\n",
       "max       2.104679     4.045937     5.352917     5.535878     5.641914"
      ]
     },
     "execution_count": 65,
     "metadata": {},
     "output_type": "execute_result"
    }
   ],
   "source": [
    "X_scaled_standard_test = scaler_standard.transform(X_test)\n",
    "pd.DataFrame(X_scaled_standard_test).describe()"
   ]
  },
  {
   "cell_type": "markdown",
   "id": "bba14d0d",
   "metadata": {},
   "source": [
    "### 5. 모델 학습"
   ]
  },
  {
   "cell_type": "code",
   "execution_count": 66,
   "id": "4d677f21",
   "metadata": {},
   "outputs": [
    {
     "data": {
      "text/plain": [
       "LinearRegression()"
      ]
     },
     "execution_count": 66,
     "metadata": {},
     "output_type": "execute_result"
    }
   ],
   "source": [
    "from sklearn.linear_model import LinearRegression\n",
    "model = LinearRegression()\n",
    "model.fit(X_scaled_minmax_train, y_train)"
   ]
  },
  {
   "cell_type": "code",
   "execution_count": 67,
   "id": "b6518257",
   "metadata": {},
   "outputs": [
    {
     "data": {
      "text/plain": [
       "0.5706921210926265"
      ]
     },
     "execution_count": 67,
     "metadata": {},
     "output_type": "execute_result"
    }
   ],
   "source": [
    "# pred_train에 예측값 할당\n",
    "\n",
    "pred_train = model.predict(X_scaled_minmax_train)\n",
    "model.score(X_scaled_minmax_train, y_train)"
   ]
  },
  {
   "cell_type": "code",
   "execution_count": 68,
   "id": "e707cb4e",
   "metadata": {},
   "outputs": [
    {
     "data": {
      "text/plain": [
       "0.5826083517811865"
      ]
     },
     "execution_count": 68,
     "metadata": {},
     "output_type": "execute_result"
    }
   ],
   "source": [
    "pred_test = model.predict(X_scaled_minmax_test)\n",
    "model.score(X_scaled_minmax_test, y_test)"
   ]
  },
  {
   "cell_type": "code",
   "execution_count": 70,
   "id": "7cc57f39",
   "metadata": {},
   "outputs": [
    {
     "data": {
      "text/plain": [
       "61763.84882543206"
      ]
     },
     "execution_count": 70,
     "metadata": {},
     "output_type": "execute_result"
    }
   ],
   "source": [
    "# RMSE (선형 모델평가지표)\n",
    "import numpy as np\n",
    "from sklearn.metrics import mean_squared_error\n",
    "MSE = mean_squared_error(y_test, pred_test)\n",
    "np.sqrt(MSE)"
   ]
  },
  {
   "cell_type": "code",
   "execution_count": 71,
   "id": "24dd594e",
   "metadata": {},
   "outputs": [
    {
     "data": {
      "text/plain": [
       "46218.35635910518"
      ]
     },
     "execution_count": 71,
     "metadata": {},
     "output_type": "execute_result"
    }
   ],
   "source": [
    "# MAE (선형 모델평가지표)\n",
    "\n",
    "from sklearn.metrics import mean_absolute_error\n",
    "mean_absolute_error(y_test, pred_test)"
   ]
  },
  {
   "cell_type": "code",
   "execution_count": 72,
   "id": "09ac70fd",
   "metadata": {},
   "outputs": [
    {
     "data": {
      "text/plain": [
       "3814773021.730826"
      ]
     },
     "execution_count": 72,
     "metadata": {},
     "output_type": "execute_result"
    }
   ],
   "source": [
    "# MSE (선형 모델평가지표)\n",
    "\n",
    "from sklearn.metrics import mean_squared_error\n",
    "mean_squared_error(y_test, pred_test)"
   ]
  },
  {
   "cell_type": "code",
   "execution_count": 73,
   "id": "1880bf51",
   "metadata": {},
   "outputs": [
    {
     "data": {
      "text/plain": [
       "house_value    30.33032\n",
       "dtype: float64"
      ]
     },
     "execution_count": 73,
     "metadata": {},
     "output_type": "execute_result"
    }
   ],
   "source": [
    "# MAEP (기타 선형 모델평가지표)\n",
    "\n",
    "def MAPE(y_test, pred_test):\n",
    "    return np.mean(np.abs((y_test - pred_test) / y_test)) * 100\n",
    "MAPE(y_test, pred_test)"
   ]
  },
  {
   "cell_type": "code",
   "execution_count": 76,
   "id": "5542aa10",
   "metadata": {},
   "outputs": [
    {
     "data": {
      "text/plain": [
       "house_value   -12.178049\n",
       "dtype: float64"
      ]
     },
     "execution_count": 76,
     "metadata": {},
     "output_type": "execute_result"
    }
   ],
   "source": [
    "# MPE (기타 선형 모델평가지표)\n",
    "\n",
    "def MPE(y_test, pred_test):\n",
    "    return np.mean((y_test - pred_test) / y_test) * 100\n",
    "MPE(y_test, pred_test)"
   ]
  },
  {
   "cell_type": "markdown",
   "id": "add66975",
   "metadata": {},
   "source": [
    "### 6. 예측값 병합 및 저장"
   ]
  },
  {
   "cell_type": "code",
   "execution_count": 77,
   "id": "6b8a2ef4",
   "metadata": {},
   "outputs": [
    {
     "name": "stderr",
     "output_type": "stream",
     "text": [
      "C:\\Users\\yusti\\anaconda3\\lib\\site-packages\\pandas\\core\\frame.py:3678: SettingWithCopyWarning: \n",
      "A value is trying to be set on a copy of a slice from a DataFrame.\n",
      "Try using .loc[row_indexer,col_indexer] = value instead\n",
      "\n",
      "See the caveats in the documentation: https://pandas.pydata.org/pandas-docs/stable/user_guide/indexing.html#returning-a-view-versus-a-copy\n",
      "  self[col] = igetitem(value, i)\n"
     ]
    },
    {
     "data": {
      "text/html": [
       "<div>\n",
       "<style scoped>\n",
       "    .dataframe tbody tr th:only-of-type {\n",
       "        vertical-align: middle;\n",
       "    }\n",
       "\n",
       "    .dataframe tbody tr th {\n",
       "        vertical-align: top;\n",
       "    }\n",
       "\n",
       "    .dataframe thead th {\n",
       "        text-align: right;\n",
       "    }\n",
       "</style>\n",
       "<table border=\"1\" class=\"dataframe\">\n",
       "  <thead>\n",
       "    <tr style=\"text-align: right;\">\n",
       "      <th></th>\n",
       "      <th>house_value</th>\n",
       "      <th>y_pred</th>\n",
       "    </tr>\n",
       "  </thead>\n",
       "  <tbody>\n",
       "    <tr>\n",
       "      <th>17235</th>\n",
       "      <td>56700</td>\n",
       "      <td>30143.543694</td>\n",
       "    </tr>\n",
       "    <tr>\n",
       "      <th>14220</th>\n",
       "      <td>101400</td>\n",
       "      <td>199835.492874</td>\n",
       "    </tr>\n",
       "    <tr>\n",
       "      <th>3280</th>\n",
       "      <td>271400</td>\n",
       "      <td>272103.037256</td>\n",
       "    </tr>\n",
       "    <tr>\n",
       "      <th>15279</th>\n",
       "      <td>88900</td>\n",
       "      <td>28899.099715</td>\n",
       "    </tr>\n",
       "    <tr>\n",
       "      <th>14727</th>\n",
       "      <td>95300</td>\n",
       "      <td>113477.567588</td>\n",
       "    </tr>\n",
       "    <tr>\n",
       "      <th>...</th>\n",
       "      <td>...</td>\n",
       "      <td>...</td>\n",
       "    </tr>\n",
       "    <tr>\n",
       "      <th>11284</th>\n",
       "      <td>142400</td>\n",
       "      <td>115628.685921</td>\n",
       "    </tr>\n",
       "    <tr>\n",
       "      <th>11964</th>\n",
       "      <td>134200</td>\n",
       "      <td>77955.022737</td>\n",
       "    </tr>\n",
       "    <tr>\n",
       "      <th>5390</th>\n",
       "      <td>225000</td>\n",
       "      <td>137618.822679</td>\n",
       "    </tr>\n",
       "    <tr>\n",
       "      <th>860</th>\n",
       "      <td>378200</td>\n",
       "      <td>255862.726626</td>\n",
       "    </tr>\n",
       "    <tr>\n",
       "      <th>15795</th>\n",
       "      <td>81900</td>\n",
       "      <td>122063.388302</td>\n",
       "    </tr>\n",
       "  </tbody>\n",
       "</table>\n",
       "<p>13266 rows × 2 columns</p>\n",
       "</div>"
      ],
      "text/plain": [
       "       house_value         y_pred\n",
       "17235        56700   30143.543694\n",
       "14220       101400  199835.492874\n",
       "3280        271400  272103.037256\n",
       "15279        88900   28899.099715\n",
       "14727        95300  113477.567588\n",
       "...            ...            ...\n",
       "11284       142400  115628.685921\n",
       "11964       134200   77955.022737\n",
       "5390        225000  137618.822679\n",
       "860         378200  255862.726626\n",
       "15795        81900  122063.388302\n",
       "\n",
       "[13266 rows x 2 columns]"
      ]
     },
     "execution_count": 77,
     "metadata": {},
     "output_type": "execute_result"
    }
   ],
   "source": [
    "pred_train = model.predict(X_scaled_minmax_train)\n",
    "y_train[['y_pred']] = pred_train\n",
    "y_train"
   ]
  },
  {
   "cell_type": "code",
   "execution_count": 78,
   "id": "751b6622",
   "metadata": {},
   "outputs": [
    {
     "name": "stderr",
     "output_type": "stream",
     "text": [
      "C:\\Users\\yusti\\anaconda3\\lib\\site-packages\\pandas\\core\\frame.py:3678: SettingWithCopyWarning: \n",
      "A value is trying to be set on a copy of a slice from a DataFrame.\n",
      "Try using .loc[row_indexer,col_indexer] = value instead\n",
      "\n",
      "See the caveats in the documentation: https://pandas.pydata.org/pandas-docs/stable/user_guide/indexing.html#returning-a-view-versus-a-copy\n",
      "  self[col] = igetitem(value, i)\n"
     ]
    },
    {
     "data": {
      "text/html": [
       "<div>\n",
       "<style scoped>\n",
       "    .dataframe tbody tr th:only-of-type {\n",
       "        vertical-align: middle;\n",
       "    }\n",
       "\n",
       "    .dataframe tbody tr th {\n",
       "        vertical-align: top;\n",
       "    }\n",
       "\n",
       "    .dataframe thead th {\n",
       "        text-align: right;\n",
       "    }\n",
       "</style>\n",
       "<table border=\"1\" class=\"dataframe\">\n",
       "  <thead>\n",
       "    <tr style=\"text-align: right;\">\n",
       "      <th></th>\n",
       "      <th>house_value</th>\n",
       "      <th>y_pred</th>\n",
       "    </tr>\n",
       "  </thead>\n",
       "  <tbody>\n",
       "    <tr>\n",
       "      <th>17552</th>\n",
       "      <td>48500</td>\n",
       "      <td>33552.694027</td>\n",
       "    </tr>\n",
       "    <tr>\n",
       "      <th>5659</th>\n",
       "      <td>220500</td>\n",
       "      <td>266109.596465</td>\n",
       "    </tr>\n",
       "    <tr>\n",
       "      <th>5954</th>\n",
       "      <td>215800</td>\n",
       "      <td>212922.500307</td>\n",
       "    </tr>\n",
       "    <tr>\n",
       "      <th>733</th>\n",
       "      <td>390000</td>\n",
       "      <td>290337.891760</td>\n",
       "    </tr>\n",
       "    <tr>\n",
       "      <th>10290</th>\n",
       "      <td>155200</td>\n",
       "      <td>135785.644577</td>\n",
       "    </tr>\n",
       "    <tr>\n",
       "      <th>...</th>\n",
       "      <td>...</td>\n",
       "      <td>...</td>\n",
       "    </tr>\n",
       "    <tr>\n",
       "      <th>7770</th>\n",
       "      <td>185300</td>\n",
       "      <td>262949.818829</td>\n",
       "    </tr>\n",
       "    <tr>\n",
       "      <th>1822</th>\n",
       "      <td>328900</td>\n",
       "      <td>226451.743868</td>\n",
       "    </tr>\n",
       "    <tr>\n",
       "      <th>811</th>\n",
       "      <td>382400</td>\n",
       "      <td>288121.570093</td>\n",
       "    </tr>\n",
       "    <tr>\n",
       "      <th>868</th>\n",
       "      <td>377300</td>\n",
       "      <td>151766.958670</td>\n",
       "    </tr>\n",
       "    <tr>\n",
       "      <th>11661</th>\n",
       "      <td>137500</td>\n",
       "      <td>191185.781639</td>\n",
       "    </tr>\n",
       "  </tbody>\n",
       "</table>\n",
       "<p>4423 rows × 2 columns</p>\n",
       "</div>"
      ],
      "text/plain": [
       "       house_value         y_pred\n",
       "17552        48500   33552.694027\n",
       "5659        220500  266109.596465\n",
       "5954        215800  212922.500307\n",
       "733         390000  290337.891760\n",
       "10290       155200  135785.644577\n",
       "...            ...            ...\n",
       "7770        185300  262949.818829\n",
       "1822        328900  226451.743868\n",
       "811         382400  288121.570093\n",
       "868         377300  151766.958670\n",
       "11661       137500  191185.781639\n",
       "\n",
       "[4423 rows x 2 columns]"
      ]
     },
     "execution_count": 78,
     "metadata": {},
     "output_type": "execute_result"
    }
   ],
   "source": [
    "pred_test = model.predict(X_scaled_minmax_test)\n",
    "y_test[['y_pred']] = pred_test\n",
    "y_test"
   ]
  },
  {
   "cell_type": "code",
   "execution_count": 79,
   "id": "75828b3c",
   "metadata": {},
   "outputs": [
    {
     "data": {
      "text/html": [
       "<div>\n",
       "<style scoped>\n",
       "    .dataframe tbody tr th:only-of-type {\n",
       "        vertical-align: middle;\n",
       "    }\n",
       "\n",
       "    .dataframe tbody tr th {\n",
       "        vertical-align: top;\n",
       "    }\n",
       "\n",
       "    .dataframe thead th {\n",
       "        text-align: right;\n",
       "    }\n",
       "</style>\n",
       "<table border=\"1\" class=\"dataframe\">\n",
       "  <thead>\n",
       "    <tr style=\"text-align: right;\">\n",
       "      <th></th>\n",
       "      <th>housing_age</th>\n",
       "      <th>income</th>\n",
       "      <th>bedrooms</th>\n",
       "      <th>households</th>\n",
       "      <th>rooms</th>\n",
       "      <th>house_value</th>\n",
       "      <th>y_pred</th>\n",
       "    </tr>\n",
       "  </thead>\n",
       "  <tbody>\n",
       "    <tr>\n",
       "      <th>17552</th>\n",
       "      <td>19</td>\n",
       "      <td>1.0481</td>\n",
       "      <td>0.251874</td>\n",
       "      <td>3.670846</td>\n",
       "      <td>4.181818</td>\n",
       "      <td>48500</td>\n",
       "      <td>33552.694027</td>\n",
       "    </tr>\n",
       "    <tr>\n",
       "      <th>5659</th>\n",
       "      <td>26</td>\n",
       "      <td>5.8683</td>\n",
       "      <td>0.132936</td>\n",
       "      <td>2.730483</td>\n",
       "      <td>7.172862</td>\n",
       "      <td>220500</td>\n",
       "      <td>266109.596465</td>\n",
       "    </tr>\n",
       "    <tr>\n",
       "      <th>5954</th>\n",
       "      <td>37</td>\n",
       "      <td>4.1094</td>\n",
       "      <td>0.177939</td>\n",
       "      <td>2.652582</td>\n",
       "      <td>5.830986</td>\n",
       "      <td>215800</td>\n",
       "      <td>212922.500307</td>\n",
       "    </tr>\n",
       "    <tr>\n",
       "      <th>733</th>\n",
       "      <td>16</td>\n",
       "      <td>6.3258</td>\n",
       "      <td>0.169569</td>\n",
       "      <td>3.155340</td>\n",
       "      <td>6.412621</td>\n",
       "      <td>390000</td>\n",
       "      <td>290337.891760</td>\n",
       "    </tr>\n",
       "    <tr>\n",
       "      <th>10290</th>\n",
       "      <td>32</td>\n",
       "      <td>2.2950</td>\n",
       "      <td>0.293907</td>\n",
       "      <td>4.188742</td>\n",
       "      <td>3.695364</td>\n",
       "      <td>155200</td>\n",
       "      <td>135785.644577</td>\n",
       "    </tr>\n",
       "    <tr>\n",
       "      <th>...</th>\n",
       "      <td>...</td>\n",
       "      <td>...</td>\n",
       "      <td>...</td>\n",
       "      <td>...</td>\n",
       "      <td>...</td>\n",
       "      <td>...</td>\n",
       "      <td>...</td>\n",
       "    </tr>\n",
       "    <tr>\n",
       "      <th>7770</th>\n",
       "      <td>34</td>\n",
       "      <td>5.5238</td>\n",
       "      <td>0.169824</td>\n",
       "      <td>3.451264</td>\n",
       "      <td>5.335740</td>\n",
       "      <td>185300</td>\n",
       "      <td>262949.818829</td>\n",
       "    </tr>\n",
       "    <tr>\n",
       "      <th>1822</th>\n",
       "      <td>19</td>\n",
       "      <td>3.8819</td>\n",
       "      <td>0.226279</td>\n",
       "      <td>1.897600</td>\n",
       "      <td>4.755200</td>\n",
       "      <td>328900</td>\n",
       "      <td>226451.743868</td>\n",
       "    </tr>\n",
       "    <tr>\n",
       "      <th>811</th>\n",
       "      <td>40</td>\n",
       "      <td>5.7143</td>\n",
       "      <td>0.148075</td>\n",
       "      <td>2.704819</td>\n",
       "      <td>6.102410</td>\n",
       "      <td>382400</td>\n",
       "      <td>288121.570093</td>\n",
       "    </tr>\n",
       "    <tr>\n",
       "      <th>868</th>\n",
       "      <td>16</td>\n",
       "      <td>2.6250</td>\n",
       "      <td>0.229714</td>\n",
       "      <td>1.910828</td>\n",
       "      <td>5.573248</td>\n",
       "      <td>377300</td>\n",
       "      <td>151766.958670</td>\n",
       "    </tr>\n",
       "    <tr>\n",
       "      <th>11661</th>\n",
       "      <td>4</td>\n",
       "      <td>3.2131</td>\n",
       "      <td>0.263085</td>\n",
       "      <td>1.882530</td>\n",
       "      <td>4.373494</td>\n",
       "      <td>137500</td>\n",
       "      <td>191185.781639</td>\n",
       "    </tr>\n",
       "  </tbody>\n",
       "</table>\n",
       "<p>4423 rows × 7 columns</p>\n",
       "</div>"
      ],
      "text/plain": [
       "       housing_age  income  bedrooms  households     rooms  house_value  \\\n",
       "17552           19  1.0481  0.251874    3.670846  4.181818        48500   \n",
       "5659            26  5.8683  0.132936    2.730483  7.172862       220500   \n",
       "5954            37  4.1094  0.177939    2.652582  5.830986       215800   \n",
       "733             16  6.3258  0.169569    3.155340  6.412621       390000   \n",
       "10290           32  2.2950  0.293907    4.188742  3.695364       155200   \n",
       "...            ...     ...       ...         ...       ...          ...   \n",
       "7770            34  5.5238  0.169824    3.451264  5.335740       185300   \n",
       "1822            19  3.8819  0.226279    1.897600  4.755200       328900   \n",
       "811             40  5.7143  0.148075    2.704819  6.102410       382400   \n",
       "868             16  2.6250  0.229714    1.910828  5.573248       377300   \n",
       "11661            4  3.2131  0.263085    1.882530  4.373494       137500   \n",
       "\n",
       "              y_pred  \n",
       "17552   33552.694027  \n",
       "5659   266109.596465  \n",
       "5954   212922.500307  \n",
       "733    290337.891760  \n",
       "10290  135785.644577  \n",
       "...              ...  \n",
       "7770   262949.818829  \n",
       "1822   226451.743868  \n",
       "811    288121.570093  \n",
       "868    151766.958670  \n",
       "11661  191185.781639  \n",
       "\n",
       "[4423 rows x 7 columns]"
      ]
     },
     "execution_count": 79,
     "metadata": {},
     "output_type": "execute_result"
    }
   ],
   "source": [
    "Total_test = pd.concat([X_test, y_test], axis=1)\n",
    "Total_test"
   ]
  },
  {
   "cell_type": "code",
   "execution_count": 80,
   "id": "7350110f",
   "metadata": {},
   "outputs": [],
   "source": [
    "Total_test.to_csv(\"regression_test.csv\")"
   ]
  },
  {
   "cell_type": "markdown",
   "id": "f591c885",
   "metadata": {},
   "source": [
    "## Section 04. 머신러닝 프로세스 - (1) 범주변수의 변환"
   ]
  },
  {
   "cell_type": "markdown",
   "id": "950659d8",
   "metadata": {},
   "source": [
    "### 1. 데이터 범주-연속-레이블로 나누기"
   ]
  },
  {
   "cell_type": "code",
   "execution_count": 1,
   "id": "48015f94",
   "metadata": {},
   "outputs": [
    {
     "data": {
      "text/html": [
       "<div>\n",
       "<style scoped>\n",
       "    .dataframe tbody tr th:only-of-type {\n",
       "        vertical-align: middle;\n",
       "    }\n",
       "\n",
       "    .dataframe tbody tr th {\n",
       "        vertical-align: top;\n",
       "    }\n",
       "\n",
       "    .dataframe thead th {\n",
       "        text-align: right;\n",
       "    }\n",
       "</style>\n",
       "<table border=\"1\" class=\"dataframe\">\n",
       "  <thead>\n",
       "    <tr style=\"text-align: right;\">\n",
       "      <th></th>\n",
       "      <th>gender</th>\n",
       "      <th>region</th>\n",
       "      <th>edu</th>\n",
       "      <th>income</th>\n",
       "      <th>age</th>\n",
       "      <th>score_gov</th>\n",
       "      <th>score_progress</th>\n",
       "      <th>score_intention</th>\n",
       "      <th>vote</th>\n",
       "      <th>parties</th>\n",
       "    </tr>\n",
       "  </thead>\n",
       "  <tbody>\n",
       "    <tr>\n",
       "      <th>0</th>\n",
       "      <td>1</td>\n",
       "      <td>4</td>\n",
       "      <td>3</td>\n",
       "      <td>3</td>\n",
       "      <td>3</td>\n",
       "      <td>2</td>\n",
       "      <td>2</td>\n",
       "      <td>4.0</td>\n",
       "      <td>1</td>\n",
       "      <td>2</td>\n",
       "    </tr>\n",
       "    <tr>\n",
       "      <th>1</th>\n",
       "      <td>1</td>\n",
       "      <td>5</td>\n",
       "      <td>2</td>\n",
       "      <td>3</td>\n",
       "      <td>3</td>\n",
       "      <td>2</td>\n",
       "      <td>4</td>\n",
       "      <td>3.0</td>\n",
       "      <td>0</td>\n",
       "      <td>3</td>\n",
       "    </tr>\n",
       "    <tr>\n",
       "      <th>2</th>\n",
       "      <td>1</td>\n",
       "      <td>3</td>\n",
       "      <td>1</td>\n",
       "      <td>2</td>\n",
       "      <td>4</td>\n",
       "      <td>1</td>\n",
       "      <td>3</td>\n",
       "      <td>2.8</td>\n",
       "      <td>1</td>\n",
       "      <td>4</td>\n",
       "    </tr>\n",
       "    <tr>\n",
       "      <th>3</th>\n",
       "      <td>2</td>\n",
       "      <td>1</td>\n",
       "      <td>2</td>\n",
       "      <td>1</td>\n",
       "      <td>3</td>\n",
       "      <td>5</td>\n",
       "      <td>4</td>\n",
       "      <td>2.6</td>\n",
       "      <td>1</td>\n",
       "      <td>1</td>\n",
       "    </tr>\n",
       "    <tr>\n",
       "      <th>4</th>\n",
       "      <td>1</td>\n",
       "      <td>1</td>\n",
       "      <td>1</td>\n",
       "      <td>2</td>\n",
       "      <td>4</td>\n",
       "      <td>4</td>\n",
       "      <td>3</td>\n",
       "      <td>2.4</td>\n",
       "      <td>1</td>\n",
       "      <td>1</td>\n",
       "    </tr>\n",
       "  </tbody>\n",
       "</table>\n",
       "</div>"
      ],
      "text/plain": [
       "   gender  region  edu  income  age  score_gov  score_progress  \\\n",
       "0       1       4    3       3    3          2               2   \n",
       "1       1       5    2       3    3          2               4   \n",
       "2       1       3    1       2    4          1               3   \n",
       "3       2       1    2       1    3          5               4   \n",
       "4       1       1    1       2    4          4               3   \n",
       "\n",
       "   score_intention  vote  parties  \n",
       "0              4.0     1        2  \n",
       "1              3.0     0        3  \n",
       "2              2.8     1        4  \n",
       "3              2.6     1        1  \n",
       "4              2.4     1        1  "
      ]
     },
     "execution_count": 1,
     "metadata": {},
     "output_type": "execute_result"
    }
   ],
   "source": [
    "import pandas as pd\n",
    "data = pd.read_csv(\"vote.csv\", encoding='utf-8')\n",
    "data.head()"
   ]
  },
  {
   "cell_type": "code",
   "execution_count": 2,
   "id": "528f9000",
   "metadata": {},
   "outputs": [],
   "source": [
    "X1 = data[['gender', 'region']]\n",
    "XY = data[['edu', 'income', 'age', 'score_gov', 'score_progress', 'score_intention', 'vote', 'parties']]"
   ]
  },
  {
   "cell_type": "markdown",
   "id": "11806325",
   "metadata": {},
   "source": [
    "### 2. 범주형 변수의 One-hot-encoding 변환"
   ]
  },
  {
   "cell_type": "code",
   "execution_count": 3,
   "id": "921b4113",
   "metadata": {},
   "outputs": [
    {
     "name": "stderr",
     "output_type": "stream",
     "text": [
      "C:\\Users\\yusti\\AppData\\Local\\Temp/ipykernel_5652/239722178.py:1: SettingWithCopyWarning: \n",
      "A value is trying to be set on a copy of a slice from a DataFrame.\n",
      "Try using .loc[row_indexer,col_indexer] = value instead\n",
      "\n",
      "See the caveats in the documentation: https://pandas.pydata.org/pandas-docs/stable/user_guide/indexing.html#returning-a-view-versus-a-copy\n",
      "  X1['gender'] = X1['gender'].replace([1,2], ['male','female'])\n",
      "C:\\Users\\yusti\\AppData\\Local\\Temp/ipykernel_5652/239722178.py:2: SettingWithCopyWarning: \n",
      "A value is trying to be set on a copy of a slice from a DataFrame.\n",
      "Try using .loc[row_indexer,col_indexer] = value instead\n",
      "\n",
      "See the caveats in the documentation: https://pandas.pydata.org/pandas-docs/stable/user_guide/indexing.html#returning-a-view-versus-a-copy\n",
      "  X1['region'] = X1['region'].replace([1,2,3,4,5], ['Sudo', 'Chungcheung', 'Honam', 'Youngnam', 'Others'])\n"
     ]
    }
   ],
   "source": [
    "# 먼저 숫자를 문자로 변환하는 게 좋음\n",
    "\n",
    "X1['gender'] = X1['gender'].replace([1,2], ['male','female'])\n",
    "X1['region'] = X1['region'].replace([1,2,3,4,5], ['Sudo', 'Chungcheung', 'Honam', 'Youngnam', 'Others'])"
   ]
  },
  {
   "cell_type": "code",
   "execution_count": 4,
   "id": "fff817ba",
   "metadata": {},
   "outputs": [
    {
     "data": {
      "text/html": [
       "<div>\n",
       "<style scoped>\n",
       "    .dataframe tbody tr th:only-of-type {\n",
       "        vertical-align: middle;\n",
       "    }\n",
       "\n",
       "    .dataframe tbody tr th {\n",
       "        vertical-align: top;\n",
       "    }\n",
       "\n",
       "    .dataframe thead th {\n",
       "        text-align: right;\n",
       "    }\n",
       "</style>\n",
       "<table border=\"1\" class=\"dataframe\">\n",
       "  <thead>\n",
       "    <tr style=\"text-align: right;\">\n",
       "      <th></th>\n",
       "      <th>gender</th>\n",
       "      <th>region</th>\n",
       "    </tr>\n",
       "  </thead>\n",
       "  <tbody>\n",
       "    <tr>\n",
       "      <th>0</th>\n",
       "      <td>male</td>\n",
       "      <td>Youngnam</td>\n",
       "    </tr>\n",
       "    <tr>\n",
       "      <th>1</th>\n",
       "      <td>male</td>\n",
       "      <td>Others</td>\n",
       "    </tr>\n",
       "    <tr>\n",
       "      <th>2</th>\n",
       "      <td>male</td>\n",
       "      <td>Honam</td>\n",
       "    </tr>\n",
       "    <tr>\n",
       "      <th>3</th>\n",
       "      <td>female</td>\n",
       "      <td>Sudo</td>\n",
       "    </tr>\n",
       "    <tr>\n",
       "      <th>4</th>\n",
       "      <td>male</td>\n",
       "      <td>Sudo</td>\n",
       "    </tr>\n",
       "  </tbody>\n",
       "</table>\n",
       "</div>"
      ],
      "text/plain": [
       "   gender    region\n",
       "0    male  Youngnam\n",
       "1    male    Others\n",
       "2    male     Honam\n",
       "3  female      Sudo\n",
       "4    male      Sudo"
      ]
     },
     "execution_count": 4,
     "metadata": {},
     "output_type": "execute_result"
    }
   ],
   "source": [
    "X1.head()"
   ]
  },
  {
   "cell_type": "code",
   "execution_count": 5,
   "id": "5d4dde1b",
   "metadata": {},
   "outputs": [
    {
     "data": {
      "text/html": [
       "<div>\n",
       "<style scoped>\n",
       "    .dataframe tbody tr th:only-of-type {\n",
       "        vertical-align: middle;\n",
       "    }\n",
       "\n",
       "    .dataframe tbody tr th {\n",
       "        vertical-align: top;\n",
       "    }\n",
       "\n",
       "    .dataframe thead th {\n",
       "        text-align: right;\n",
       "    }\n",
       "</style>\n",
       "<table border=\"1\" class=\"dataframe\">\n",
       "  <thead>\n",
       "    <tr style=\"text-align: right;\">\n",
       "      <th></th>\n",
       "      <th>gender_female</th>\n",
       "      <th>gender_male</th>\n",
       "      <th>region_Chungcheung</th>\n",
       "      <th>region_Honam</th>\n",
       "      <th>region_Others</th>\n",
       "      <th>region_Sudo</th>\n",
       "      <th>region_Youngnam</th>\n",
       "    </tr>\n",
       "  </thead>\n",
       "  <tbody>\n",
       "    <tr>\n",
       "      <th>0</th>\n",
       "      <td>0</td>\n",
       "      <td>1</td>\n",
       "      <td>0</td>\n",
       "      <td>0</td>\n",
       "      <td>0</td>\n",
       "      <td>0</td>\n",
       "      <td>1</td>\n",
       "    </tr>\n",
       "    <tr>\n",
       "      <th>1</th>\n",
       "      <td>0</td>\n",
       "      <td>1</td>\n",
       "      <td>0</td>\n",
       "      <td>0</td>\n",
       "      <td>1</td>\n",
       "      <td>0</td>\n",
       "      <td>0</td>\n",
       "    </tr>\n",
       "    <tr>\n",
       "      <th>2</th>\n",
       "      <td>0</td>\n",
       "      <td>1</td>\n",
       "      <td>0</td>\n",
       "      <td>1</td>\n",
       "      <td>0</td>\n",
       "      <td>0</td>\n",
       "      <td>0</td>\n",
       "    </tr>\n",
       "    <tr>\n",
       "      <th>3</th>\n",
       "      <td>1</td>\n",
       "      <td>0</td>\n",
       "      <td>0</td>\n",
       "      <td>0</td>\n",
       "      <td>0</td>\n",
       "      <td>1</td>\n",
       "      <td>0</td>\n",
       "    </tr>\n",
       "    <tr>\n",
       "      <th>4</th>\n",
       "      <td>0</td>\n",
       "      <td>1</td>\n",
       "      <td>0</td>\n",
       "      <td>0</td>\n",
       "      <td>0</td>\n",
       "      <td>1</td>\n",
       "      <td>0</td>\n",
       "    </tr>\n",
       "  </tbody>\n",
       "</table>\n",
       "</div>"
      ],
      "text/plain": [
       "   gender_female  gender_male  region_Chungcheung  region_Honam  \\\n",
       "0              0            1                   0             0   \n",
       "1              0            1                   0             0   \n",
       "2              0            1                   0             1   \n",
       "3              1            0                   0             0   \n",
       "4              0            1                   0             0   \n",
       "\n",
       "   region_Others  region_Sudo  region_Youngnam  \n",
       "0              0            0                1  \n",
       "1              1            0                0  \n",
       "2              0            0                0  \n",
       "3              0            1                0  \n",
       "4              0            1                0  "
      ]
     },
     "execution_count": 5,
     "metadata": {},
     "output_type": "execute_result"
    }
   ],
   "source": [
    "# one-hot-encoding으로 변환\n",
    "\n",
    "X1_dum = pd.get_dummies(X1)\n",
    "X1_dum.head()"
   ]
  },
  {
   "cell_type": "markdown",
   "id": "74a2b8b7",
   "metadata": {},
   "source": [
    "### 3. 자료 통합 및 저장하기"
   ]
  },
  {
   "cell_type": "code",
   "execution_count": 6,
   "id": "c0ccaa8e",
   "metadata": {},
   "outputs": [
    {
     "data": {
      "text/html": [
       "<div>\n",
       "<style scoped>\n",
       "    .dataframe tbody tr th:only-of-type {\n",
       "        vertical-align: middle;\n",
       "    }\n",
       "\n",
       "    .dataframe tbody tr th {\n",
       "        vertical-align: top;\n",
       "    }\n",
       "\n",
       "    .dataframe thead th {\n",
       "        text-align: right;\n",
       "    }\n",
       "</style>\n",
       "<table border=\"1\" class=\"dataframe\">\n",
       "  <thead>\n",
       "    <tr style=\"text-align: right;\">\n",
       "      <th></th>\n",
       "      <th>gender_female</th>\n",
       "      <th>gender_male</th>\n",
       "      <th>region_Chungcheung</th>\n",
       "      <th>region_Honam</th>\n",
       "      <th>region_Others</th>\n",
       "      <th>region_Sudo</th>\n",
       "      <th>region_Youngnam</th>\n",
       "      <th>edu</th>\n",
       "      <th>income</th>\n",
       "      <th>age</th>\n",
       "      <th>score_gov</th>\n",
       "      <th>score_progress</th>\n",
       "      <th>score_intention</th>\n",
       "      <th>vote</th>\n",
       "      <th>parties</th>\n",
       "    </tr>\n",
       "  </thead>\n",
       "  <tbody>\n",
       "    <tr>\n",
       "      <th>0</th>\n",
       "      <td>0</td>\n",
       "      <td>1</td>\n",
       "      <td>0</td>\n",
       "      <td>0</td>\n",
       "      <td>0</td>\n",
       "      <td>0</td>\n",
       "      <td>1</td>\n",
       "      <td>3</td>\n",
       "      <td>3</td>\n",
       "      <td>3</td>\n",
       "      <td>2</td>\n",
       "      <td>2</td>\n",
       "      <td>4.0</td>\n",
       "      <td>1</td>\n",
       "      <td>2</td>\n",
       "    </tr>\n",
       "    <tr>\n",
       "      <th>1</th>\n",
       "      <td>0</td>\n",
       "      <td>1</td>\n",
       "      <td>0</td>\n",
       "      <td>0</td>\n",
       "      <td>1</td>\n",
       "      <td>0</td>\n",
       "      <td>0</td>\n",
       "      <td>2</td>\n",
       "      <td>3</td>\n",
       "      <td>3</td>\n",
       "      <td>2</td>\n",
       "      <td>4</td>\n",
       "      <td>3.0</td>\n",
       "      <td>0</td>\n",
       "      <td>3</td>\n",
       "    </tr>\n",
       "    <tr>\n",
       "      <th>2</th>\n",
       "      <td>0</td>\n",
       "      <td>1</td>\n",
       "      <td>0</td>\n",
       "      <td>1</td>\n",
       "      <td>0</td>\n",
       "      <td>0</td>\n",
       "      <td>0</td>\n",
       "      <td>1</td>\n",
       "      <td>2</td>\n",
       "      <td>4</td>\n",
       "      <td>1</td>\n",
       "      <td>3</td>\n",
       "      <td>2.8</td>\n",
       "      <td>1</td>\n",
       "      <td>4</td>\n",
       "    </tr>\n",
       "    <tr>\n",
       "      <th>3</th>\n",
       "      <td>1</td>\n",
       "      <td>0</td>\n",
       "      <td>0</td>\n",
       "      <td>0</td>\n",
       "      <td>0</td>\n",
       "      <td>1</td>\n",
       "      <td>0</td>\n",
       "      <td>2</td>\n",
       "      <td>1</td>\n",
       "      <td>3</td>\n",
       "      <td>5</td>\n",
       "      <td>4</td>\n",
       "      <td>2.6</td>\n",
       "      <td>1</td>\n",
       "      <td>1</td>\n",
       "    </tr>\n",
       "    <tr>\n",
       "      <th>4</th>\n",
       "      <td>0</td>\n",
       "      <td>1</td>\n",
       "      <td>0</td>\n",
       "      <td>0</td>\n",
       "      <td>0</td>\n",
       "      <td>1</td>\n",
       "      <td>0</td>\n",
       "      <td>1</td>\n",
       "      <td>2</td>\n",
       "      <td>4</td>\n",
       "      <td>4</td>\n",
       "      <td>3</td>\n",
       "      <td>2.4</td>\n",
       "      <td>1</td>\n",
       "      <td>1</td>\n",
       "    </tr>\n",
       "  </tbody>\n",
       "</table>\n",
       "</div>"
      ],
      "text/plain": [
       "   gender_female  gender_male  region_Chungcheung  region_Honam  \\\n",
       "0              0            1                   0             0   \n",
       "1              0            1                   0             0   \n",
       "2              0            1                   0             1   \n",
       "3              1            0                   0             0   \n",
       "4              0            1                   0             0   \n",
       "\n",
       "   region_Others  region_Sudo  region_Youngnam  edu  income  age  score_gov  \\\n",
       "0              0            0                1    3       3    3          2   \n",
       "1              1            0                0    2       3    3          2   \n",
       "2              0            0                0    1       2    4          1   \n",
       "3              0            1                0    2       1    3          5   \n",
       "4              0            1                0    1       2    4          4   \n",
       "\n",
       "   score_progress  score_intention  vote  parties  \n",
       "0               2              4.0     1        2  \n",
       "1               4              3.0     0        3  \n",
       "2               3              2.8     1        4  \n",
       "3               4              2.6     1        1  \n",
       "4               3              2.4     1        1  "
      ]
     },
     "execution_count": 6,
     "metadata": {},
     "output_type": "execute_result"
    }
   ],
   "source": [
    "# 변수 통합하여 한 데이터셋으로 통합\n",
    "\n",
    "Fvote = pd.concat([X1_dum, XY], axis=1)\n",
    "Fvote.head()"
   ]
  },
  {
   "cell_type": "code",
   "execution_count": 7,
   "id": "7bf07199",
   "metadata": {},
   "outputs": [],
   "source": [
    "Fvote.to_csv('Fvote.csv', index=False, sep=',', encoding='utf-8')"
   ]
  },
  {
   "cell_type": "markdown",
   "id": "e2c06b8a",
   "metadata": {},
   "source": [
    "## Section 05. 머신러닝 프로세스 - (2) 데이터셋 분할과 모델검증"
   ]
  },
  {
   "cell_type": "markdown",
   "id": "2e82628e",
   "metadata": {},
   "source": [
    "### 1. 특성치(x), 레이블(y) 나누기"
   ]
  },
  {
   "cell_type": "code",
   "execution_count": 8,
   "id": "19b3cf3a",
   "metadata": {},
   "outputs": [
    {
     "data": {
      "text/html": [
       "<div>\n",
       "<style scoped>\n",
       "    .dataframe tbody tr th:only-of-type {\n",
       "        vertical-align: middle;\n",
       "    }\n",
       "\n",
       "    .dataframe tbody tr th {\n",
       "        vertical-align: top;\n",
       "    }\n",
       "\n",
       "    .dataframe thead th {\n",
       "        text-align: right;\n",
       "    }\n",
       "</style>\n",
       "<table border=\"1\" class=\"dataframe\">\n",
       "  <thead>\n",
       "    <tr style=\"text-align: right;\">\n",
       "      <th></th>\n",
       "      <th>gender_female</th>\n",
       "      <th>gender_male</th>\n",
       "      <th>region_Chungcheung</th>\n",
       "      <th>region_Honam</th>\n",
       "      <th>region_Others</th>\n",
       "      <th>region_Sudo</th>\n",
       "      <th>region_Youngnam</th>\n",
       "      <th>edu</th>\n",
       "      <th>income</th>\n",
       "      <th>age</th>\n",
       "      <th>score_gov</th>\n",
       "      <th>score_progress</th>\n",
       "      <th>score_intention</th>\n",
       "      <th>vote</th>\n",
       "      <th>parties</th>\n",
       "    </tr>\n",
       "  </thead>\n",
       "  <tbody>\n",
       "    <tr>\n",
       "      <th>0</th>\n",
       "      <td>0</td>\n",
       "      <td>1</td>\n",
       "      <td>0</td>\n",
       "      <td>0</td>\n",
       "      <td>0</td>\n",
       "      <td>0</td>\n",
       "      <td>1</td>\n",
       "      <td>3</td>\n",
       "      <td>3</td>\n",
       "      <td>3</td>\n",
       "      <td>2</td>\n",
       "      <td>2</td>\n",
       "      <td>4.0</td>\n",
       "      <td>1</td>\n",
       "      <td>2</td>\n",
       "    </tr>\n",
       "    <tr>\n",
       "      <th>1</th>\n",
       "      <td>0</td>\n",
       "      <td>1</td>\n",
       "      <td>0</td>\n",
       "      <td>0</td>\n",
       "      <td>1</td>\n",
       "      <td>0</td>\n",
       "      <td>0</td>\n",
       "      <td>2</td>\n",
       "      <td>3</td>\n",
       "      <td>3</td>\n",
       "      <td>2</td>\n",
       "      <td>4</td>\n",
       "      <td>3.0</td>\n",
       "      <td>0</td>\n",
       "      <td>3</td>\n",
       "    </tr>\n",
       "    <tr>\n",
       "      <th>2</th>\n",
       "      <td>0</td>\n",
       "      <td>1</td>\n",
       "      <td>0</td>\n",
       "      <td>1</td>\n",
       "      <td>0</td>\n",
       "      <td>0</td>\n",
       "      <td>0</td>\n",
       "      <td>1</td>\n",
       "      <td>2</td>\n",
       "      <td>4</td>\n",
       "      <td>1</td>\n",
       "      <td>3</td>\n",
       "      <td>2.8</td>\n",
       "      <td>1</td>\n",
       "      <td>4</td>\n",
       "    </tr>\n",
       "    <tr>\n",
       "      <th>3</th>\n",
       "      <td>1</td>\n",
       "      <td>0</td>\n",
       "      <td>0</td>\n",
       "      <td>0</td>\n",
       "      <td>0</td>\n",
       "      <td>1</td>\n",
       "      <td>0</td>\n",
       "      <td>2</td>\n",
       "      <td>1</td>\n",
       "      <td>3</td>\n",
       "      <td>5</td>\n",
       "      <td>4</td>\n",
       "      <td>2.6</td>\n",
       "      <td>1</td>\n",
       "      <td>1</td>\n",
       "    </tr>\n",
       "    <tr>\n",
       "      <th>4</th>\n",
       "      <td>0</td>\n",
       "      <td>1</td>\n",
       "      <td>0</td>\n",
       "      <td>0</td>\n",
       "      <td>0</td>\n",
       "      <td>1</td>\n",
       "      <td>0</td>\n",
       "      <td>1</td>\n",
       "      <td>2</td>\n",
       "      <td>4</td>\n",
       "      <td>4</td>\n",
       "      <td>3</td>\n",
       "      <td>2.4</td>\n",
       "      <td>1</td>\n",
       "      <td>1</td>\n",
       "    </tr>\n",
       "  </tbody>\n",
       "</table>\n",
       "</div>"
      ],
      "text/plain": [
       "   gender_female  gender_male  region_Chungcheung  region_Honam  \\\n",
       "0              0            1                   0             0   \n",
       "1              0            1                   0             0   \n",
       "2              0            1                   0             1   \n",
       "3              1            0                   0             0   \n",
       "4              0            1                   0             0   \n",
       "\n",
       "   region_Others  region_Sudo  region_Youngnam  edu  income  age  score_gov  \\\n",
       "0              0            0                1    3       3    3          2   \n",
       "1              1            0                0    2       3    3          2   \n",
       "2              0            0                0    1       2    4          1   \n",
       "3              0            1                0    2       1    3          5   \n",
       "4              0            1                0    1       2    4          4   \n",
       "\n",
       "   score_progress  score_intention  vote  parties  \n",
       "0               2              4.0     1        2  \n",
       "1               4              3.0     0        3  \n",
       "2               3              2.8     1        4  \n",
       "3               4              2.6     1        1  \n",
       "4               3              2.4     1        1  "
      ]
     },
     "execution_count": 8,
     "metadata": {},
     "output_type": "execute_result"
    }
   ],
   "source": [
    "import warnings\n",
    "warnings.filterwarnings(\"ignore\")\n",
    "import pandas as pd\n",
    "data = pd.read_csv('Fvote.csv', encoding='utf-8')\n",
    "data.head()"
   ]
  },
  {
   "cell_type": "code",
   "execution_count": 9,
   "id": "13ac8c99",
   "metadata": {},
   "outputs": [],
   "source": [
    "# 방법1 : 특성이름으로 데이터셋 나누기\n",
    "X = data[['gender_female', 'gender_male', 'region_Chungcheung', 'region_Honam', \n",
    "          'region_Others', 'region_Sudo', 'region_Youngnam', 'edu', 'income', 'age', \n",
    "          'score_gov', 'score_progress', 'score_intention']]\n",
    "\n",
    "# 방법2 : 특성 위치값으로 데이터셋 나누기\n",
    "X = data[data.columns[0:13]]\n",
    "\n",
    "# 방법3 : loc 함수로 데이터셋 나누기 (단, 불러올 특성이 연달아 있어야 함)\n",
    "X = data.loc[:, 'gender_female':'score_intention']"
   ]
  },
  {
   "cell_type": "code",
   "execution_count": 10,
   "id": "4a7a3eeb",
   "metadata": {},
   "outputs": [],
   "source": [
    "y = data[['vote']]"
   ]
  },
  {
   "cell_type": "markdown",
   "id": "b41c87b0",
   "metadata": {},
   "source": [
    "### 2. train-test 데이터셋 나누기"
   ]
  },
  {
   "cell_type": "code",
   "execution_count": 11,
   "id": "0e372a3e",
   "metadata": {},
   "outputs": [],
   "source": [
    "from sklearn.model_selection import train_test_split\n",
    "X_train, X_test, y_train, y_test = train_test_split(X, y, stratify=y, random_state=42)"
   ]
  },
  {
   "cell_type": "code",
   "execution_count": 12,
   "id": "a67203ac",
   "metadata": {},
   "outputs": [
    {
     "name": "stdout",
     "output_type": "stream",
     "text": [
      "(158, 13)\n",
      "(53, 13)\n"
     ]
    }
   ],
   "source": [
    "print(X_train.shape)\n",
    "print(X_test.shape)"
   ]
  },
  {
   "cell_type": "markdown",
   "id": "58c299fb",
   "metadata": {},
   "source": [
    "### 3. 모델 적용"
   ]
  },
  {
   "cell_type": "code",
   "execution_count": 13,
   "id": "c1c70174",
   "metadata": {},
   "outputs": [],
   "source": [
    "from sklearn.linear_model import LogisticRegression\n",
    "model = LogisticRegression()"
   ]
  },
  {
   "cell_type": "markdown",
   "id": "f5804389",
   "metadata": {},
   "source": [
    "#### 가. 랜덤 없는 교차검증 (cross_val_score)"
   ]
  },
  {
   "cell_type": "code",
   "execution_count": 14,
   "id": "1b194e0d",
   "metadata": {},
   "outputs": [
    {
     "name": "stdout",
     "output_type": "stream",
     "text": [
      "5개 테스틑 셋 정확도: [0.71875    0.6875     0.8125     0.58064516 0.80645161]\n",
      "정확도 평균: 0.7211693548387096\n"
     ]
    }
   ],
   "source": [
    "from sklearn.model_selection import cross_val_score\n",
    "scores = cross_val_score(model, X_train, y_train, cv=5)\n",
    "print(\"5개 테스틑 셋 정확도:\", scores)\n",
    "print(\"정확도 평균:\", scores.mean())"
   ]
  },
  {
   "cell_type": "markdown",
   "id": "cf188f31",
   "metadata": {},
   "source": [
    "#### 나. 랜덤 있는 교차검증 (K-Fold)"
   ]
  },
  {
   "cell_type": "code",
   "execution_count": 15,
   "id": "9e116803",
   "metadata": {},
   "outputs": [
    {
     "name": "stdout",
     "output_type": "stream",
     "text": [
      "5개 폴드의 정확도: [0.71875    0.6875     0.625      0.70967742 0.77419355]\n"
     ]
    }
   ],
   "source": [
    "from sklearn.model_selection import KFold\n",
    "kfold = KFold(n_splits=5, shuffle=True, random_state=42)\n",
    "score = cross_val_score(model, X_train, y_train, cv=kfold)\n",
    "print(\"5개 폴드의 정확도:\", score)"
   ]
  },
  {
   "cell_type": "markdown",
   "id": "f4c791a3",
   "metadata": {},
   "source": [
    "#### 다. 임의분할 교차검증"
   ]
  },
  {
   "cell_type": "code",
   "execution_count": 17,
   "id": "4e988cd9",
   "metadata": {},
   "outputs": [
    {
     "name": "stdout",
     "output_type": "stream",
     "text": [
      "교차검증 정확도: [0.73417722 0.69620253 0.70886076 0.73417722 0.65822785 0.67088608\n",
      " 0.72151899 0.65822785 0.69620253 0.70886076]\n"
     ]
    }
   ],
   "source": [
    "from sklearn.model_selection import ShuffleSplit\n",
    "shuffle_split = ShuffleSplit(test_size=0.5, train_size=0.5, random_state=42)\n",
    "score = cross_val_score(model, X_train, y_train, cv=shuffle_split)\n",
    "print(\"교차검증 정확도:\", score)"
   ]
  },
  {
   "cell_type": "markdown",
   "id": "2d9248f6",
   "metadata": {},
   "source": [
    "### 4. train-validity-test 분할과 교차검증"
   ]
  },
  {
   "cell_type": "code",
   "execution_count": 20,
   "id": "3b0bcdaa",
   "metadata": {},
   "outputs": [],
   "source": [
    "from sklearn.model_selection import train_test_split\n",
    "X_train_val, X_test, y_train_val, y_test = train_test_split(X, y, random_state=1)\n",
    "X_train, X_valid, y_train, y_valid = train_test_split(X_train_val, y_train_val, random_state=2)"
   ]
  },
  {
   "cell_type": "code",
   "execution_count": 21,
   "id": "4f8c29cd",
   "metadata": {},
   "outputs": [
    {
     "name": "stdout",
     "output_type": "stream",
     "text": [
      "교차검증 정확도: [0.73417722 0.69620253 0.70886076 0.73417722 0.65822785 0.67088608\n",
      " 0.72151899 0.65822785 0.69620253 0.70886076]\n",
      "정확도 평균: 0.652536231884058\n"
     ]
    }
   ],
   "source": [
    "model.fit(X_train, y_train)\n",
    "scores = cross_val_score(model, X_train, y_train, cv=5)\n",
    "print(\"교차검증 정확도:\", score)\n",
    "print(\"정확도 평균:\", scores.mean())"
   ]
  },
  {
   "cell_type": "code",
   "execution_count": 22,
   "id": "7a05ec2f",
   "metadata": {},
   "outputs": [
    {
     "data": {
      "text/plain": [
       "0.65"
      ]
     },
     "execution_count": 22,
     "metadata": {},
     "output_type": "execute_result"
    }
   ],
   "source": [
    "model.score(X_valid, y_valid)"
   ]
  },
  {
   "cell_type": "code",
   "execution_count": 23,
   "id": "a69075c9",
   "metadata": {},
   "outputs": [
    {
     "data": {
      "text/plain": [
       "0.6981132075471698"
      ]
     },
     "execution_count": 23,
     "metadata": {},
     "output_type": "execute_result"
    }
   ],
   "source": [
    "model.score(X_test,y_test)"
   ]
  },
  {
   "cell_type": "markdown",
   "id": "14c586be",
   "metadata": {},
   "source": [
    "## Section 06. 머신러닝 프로세스 - (3) 데이터 정규화"
   ]
  },
  {
   "cell_type": "markdown",
   "id": "b79a1b6c",
   "metadata": {},
   "source": [
    "### 1. 데이터 불러오기 및 확인"
   ]
  },
  {
   "cell_type": "code",
   "execution_count": 1,
   "id": "d4b3fbca",
   "metadata": {},
   "outputs": [
    {
     "data": {
      "text/html": [
       "<div>\n",
       "<style scoped>\n",
       "    .dataframe tbody tr th:only-of-type {\n",
       "        vertical-align: middle;\n",
       "    }\n",
       "\n",
       "    .dataframe tbody tr th {\n",
       "        vertical-align: top;\n",
       "    }\n",
       "\n",
       "    .dataframe thead th {\n",
       "        text-align: right;\n",
       "    }\n",
       "</style>\n",
       "<table border=\"1\" class=\"dataframe\">\n",
       "  <thead>\n",
       "    <tr style=\"text-align: right;\">\n",
       "      <th></th>\n",
       "      <th>gender_female</th>\n",
       "      <th>gender_male</th>\n",
       "      <th>region_Chungcheung</th>\n",
       "      <th>region_Honam</th>\n",
       "      <th>region_Others</th>\n",
       "      <th>region_Sudo</th>\n",
       "      <th>region_Youngnam</th>\n",
       "      <th>edu</th>\n",
       "      <th>income</th>\n",
       "      <th>age</th>\n",
       "      <th>score_gov</th>\n",
       "      <th>score_progress</th>\n",
       "      <th>score_intention</th>\n",
       "      <th>vote</th>\n",
       "      <th>parties</th>\n",
       "    </tr>\n",
       "  </thead>\n",
       "  <tbody>\n",
       "    <tr>\n",
       "      <th>0</th>\n",
       "      <td>0</td>\n",
       "      <td>1</td>\n",
       "      <td>0</td>\n",
       "      <td>0</td>\n",
       "      <td>0</td>\n",
       "      <td>0</td>\n",
       "      <td>1</td>\n",
       "      <td>3</td>\n",
       "      <td>3</td>\n",
       "      <td>3</td>\n",
       "      <td>2</td>\n",
       "      <td>2</td>\n",
       "      <td>4.0</td>\n",
       "      <td>1</td>\n",
       "      <td>2</td>\n",
       "    </tr>\n",
       "    <tr>\n",
       "      <th>1</th>\n",
       "      <td>0</td>\n",
       "      <td>1</td>\n",
       "      <td>0</td>\n",
       "      <td>0</td>\n",
       "      <td>1</td>\n",
       "      <td>0</td>\n",
       "      <td>0</td>\n",
       "      <td>2</td>\n",
       "      <td>3</td>\n",
       "      <td>3</td>\n",
       "      <td>2</td>\n",
       "      <td>4</td>\n",
       "      <td>3.0</td>\n",
       "      <td>0</td>\n",
       "      <td>3</td>\n",
       "    </tr>\n",
       "    <tr>\n",
       "      <th>2</th>\n",
       "      <td>0</td>\n",
       "      <td>1</td>\n",
       "      <td>0</td>\n",
       "      <td>1</td>\n",
       "      <td>0</td>\n",
       "      <td>0</td>\n",
       "      <td>0</td>\n",
       "      <td>1</td>\n",
       "      <td>2</td>\n",
       "      <td>4</td>\n",
       "      <td>1</td>\n",
       "      <td>3</td>\n",
       "      <td>2.8</td>\n",
       "      <td>1</td>\n",
       "      <td>4</td>\n",
       "    </tr>\n",
       "    <tr>\n",
       "      <th>3</th>\n",
       "      <td>1</td>\n",
       "      <td>0</td>\n",
       "      <td>0</td>\n",
       "      <td>0</td>\n",
       "      <td>0</td>\n",
       "      <td>1</td>\n",
       "      <td>0</td>\n",
       "      <td>2</td>\n",
       "      <td>1</td>\n",
       "      <td>3</td>\n",
       "      <td>5</td>\n",
       "      <td>4</td>\n",
       "      <td>2.6</td>\n",
       "      <td>1</td>\n",
       "      <td>1</td>\n",
       "    </tr>\n",
       "    <tr>\n",
       "      <th>4</th>\n",
       "      <td>0</td>\n",
       "      <td>1</td>\n",
       "      <td>0</td>\n",
       "      <td>0</td>\n",
       "      <td>0</td>\n",
       "      <td>1</td>\n",
       "      <td>0</td>\n",
       "      <td>1</td>\n",
       "      <td>2</td>\n",
       "      <td>4</td>\n",
       "      <td>4</td>\n",
       "      <td>3</td>\n",
       "      <td>2.4</td>\n",
       "      <td>1</td>\n",
       "      <td>1</td>\n",
       "    </tr>\n",
       "  </tbody>\n",
       "</table>\n",
       "</div>"
      ],
      "text/plain": [
       "   gender_female  gender_male  region_Chungcheung  region_Honam  \\\n",
       "0              0            1                   0             0   \n",
       "1              0            1                   0             0   \n",
       "2              0            1                   0             1   \n",
       "3              1            0                   0             0   \n",
       "4              0            1                   0             0   \n",
       "\n",
       "   region_Others  region_Sudo  region_Youngnam  edu  income  age  score_gov  \\\n",
       "0              0            0                1    3       3    3          2   \n",
       "1              1            0                0    2       3    3          2   \n",
       "2              0            0                0    1       2    4          1   \n",
       "3              0            1                0    2       1    3          5   \n",
       "4              0            1                0    1       2    4          4   \n",
       "\n",
       "   score_progress  score_intention  vote  parties  \n",
       "0               2              4.0     1        2  \n",
       "1               4              3.0     0        3  \n",
       "2               3              2.8     1        4  \n",
       "3               4              2.6     1        1  \n",
       "4               3              2.4     1        1  "
      ]
     },
     "execution_count": 1,
     "metadata": {},
     "output_type": "execute_result"
    }
   ],
   "source": [
    "import pandas as pd\n",
    "data = pd.read_csv('Fvote.csv', encoding = 'utf-8')\n",
    "data.head()"
   ]
  },
  {
   "cell_type": "code",
   "execution_count": 2,
   "id": "d07dfd4e",
   "metadata": {},
   "outputs": [
    {
     "data": {
      "text/html": [
       "<div>\n",
       "<style scoped>\n",
       "    .dataframe tbody tr th:only-of-type {\n",
       "        vertical-align: middle;\n",
       "    }\n",
       "\n",
       "    .dataframe tbody tr th {\n",
       "        vertical-align: top;\n",
       "    }\n",
       "\n",
       "    .dataframe thead th {\n",
       "        text-align: right;\n",
       "    }\n",
       "</style>\n",
       "<table border=\"1\" class=\"dataframe\">\n",
       "  <thead>\n",
       "    <tr style=\"text-align: right;\">\n",
       "      <th></th>\n",
       "      <th>gender_female</th>\n",
       "      <th>gender_male</th>\n",
       "      <th>region_Chungcheung</th>\n",
       "      <th>region_Honam</th>\n",
       "      <th>region_Others</th>\n",
       "      <th>region_Sudo</th>\n",
       "      <th>region_Youngnam</th>\n",
       "      <th>edu</th>\n",
       "      <th>income</th>\n",
       "      <th>age</th>\n",
       "      <th>score_gov</th>\n",
       "      <th>score_progress</th>\n",
       "      <th>score_intention</th>\n",
       "      <th>vote</th>\n",
       "      <th>parties</th>\n",
       "    </tr>\n",
       "  </thead>\n",
       "  <tbody>\n",
       "    <tr>\n",
       "      <th>count</th>\n",
       "      <td>211.000000</td>\n",
       "      <td>211.000000</td>\n",
       "      <td>211.000000</td>\n",
       "      <td>211.000000</td>\n",
       "      <td>211.000000</td>\n",
       "      <td>211.000000</td>\n",
       "      <td>211.000000</td>\n",
       "      <td>211.000000</td>\n",
       "      <td>211.000000</td>\n",
       "      <td>211.000000</td>\n",
       "      <td>211.000000</td>\n",
       "      <td>211.000000</td>\n",
       "      <td>211.000000</td>\n",
       "      <td>211.000000</td>\n",
       "      <td>211.000000</td>\n",
       "    </tr>\n",
       "    <tr>\n",
       "      <th>mean</th>\n",
       "      <td>0.341232</td>\n",
       "      <td>0.658768</td>\n",
       "      <td>0.080569</td>\n",
       "      <td>0.090047</td>\n",
       "      <td>0.094787</td>\n",
       "      <td>0.597156</td>\n",
       "      <td>0.137441</td>\n",
       "      <td>1.867299</td>\n",
       "      <td>2.208531</td>\n",
       "      <td>2.654028</td>\n",
       "      <td>3.056872</td>\n",
       "      <td>3.094787</td>\n",
       "      <td>2.910900</td>\n",
       "      <td>0.710900</td>\n",
       "      <td>2.668246</td>\n",
       "    </tr>\n",
       "    <tr>\n",
       "      <th>std</th>\n",
       "      <td>0.475251</td>\n",
       "      <td>0.475251</td>\n",
       "      <td>0.272819</td>\n",
       "      <td>0.286930</td>\n",
       "      <td>0.293617</td>\n",
       "      <td>0.491636</td>\n",
       "      <td>0.345131</td>\n",
       "      <td>0.625963</td>\n",
       "      <td>1.066424</td>\n",
       "      <td>0.872173</td>\n",
       "      <td>0.944451</td>\n",
       "      <td>0.961408</td>\n",
       "      <td>0.725078</td>\n",
       "      <td>0.454422</td>\n",
       "      <td>1.220416</td>\n",
       "    </tr>\n",
       "    <tr>\n",
       "      <th>min</th>\n",
       "      <td>0.000000</td>\n",
       "      <td>0.000000</td>\n",
       "      <td>0.000000</td>\n",
       "      <td>0.000000</td>\n",
       "      <td>0.000000</td>\n",
       "      <td>0.000000</td>\n",
       "      <td>0.000000</td>\n",
       "      <td>1.000000</td>\n",
       "      <td>1.000000</td>\n",
       "      <td>1.000000</td>\n",
       "      <td>1.000000</td>\n",
       "      <td>1.000000</td>\n",
       "      <td>1.000000</td>\n",
       "      <td>0.000000</td>\n",
       "      <td>1.000000</td>\n",
       "    </tr>\n",
       "    <tr>\n",
       "      <th>25%</th>\n",
       "      <td>0.000000</td>\n",
       "      <td>0.000000</td>\n",
       "      <td>0.000000</td>\n",
       "      <td>0.000000</td>\n",
       "      <td>0.000000</td>\n",
       "      <td>0.000000</td>\n",
       "      <td>0.000000</td>\n",
       "      <td>1.000000</td>\n",
       "      <td>1.000000</td>\n",
       "      <td>2.000000</td>\n",
       "      <td>3.000000</td>\n",
       "      <td>2.000000</td>\n",
       "      <td>2.400000</td>\n",
       "      <td>0.000000</td>\n",
       "      <td>2.000000</td>\n",
       "    </tr>\n",
       "    <tr>\n",
       "      <th>50%</th>\n",
       "      <td>0.000000</td>\n",
       "      <td>1.000000</td>\n",
       "      <td>0.000000</td>\n",
       "      <td>0.000000</td>\n",
       "      <td>0.000000</td>\n",
       "      <td>1.000000</td>\n",
       "      <td>0.000000</td>\n",
       "      <td>2.000000</td>\n",
       "      <td>2.000000</td>\n",
       "      <td>3.000000</td>\n",
       "      <td>3.000000</td>\n",
       "      <td>3.000000</td>\n",
       "      <td>3.000000</td>\n",
       "      <td>1.000000</td>\n",
       "      <td>3.000000</td>\n",
       "    </tr>\n",
       "    <tr>\n",
       "      <th>75%</th>\n",
       "      <td>1.000000</td>\n",
       "      <td>1.000000</td>\n",
       "      <td>0.000000</td>\n",
       "      <td>0.000000</td>\n",
       "      <td>0.000000</td>\n",
       "      <td>1.000000</td>\n",
       "      <td>0.000000</td>\n",
       "      <td>2.000000</td>\n",
       "      <td>3.000000</td>\n",
       "      <td>3.000000</td>\n",
       "      <td>4.000000</td>\n",
       "      <td>4.000000</td>\n",
       "      <td>3.400000</td>\n",
       "      <td>1.000000</td>\n",
       "      <td>4.000000</td>\n",
       "    </tr>\n",
       "    <tr>\n",
       "      <th>max</th>\n",
       "      <td>1.000000</td>\n",
       "      <td>1.000000</td>\n",
       "      <td>1.000000</td>\n",
       "      <td>1.000000</td>\n",
       "      <td>1.000000</td>\n",
       "      <td>1.000000</td>\n",
       "      <td>1.000000</td>\n",
       "      <td>3.000000</td>\n",
       "      <td>4.000000</td>\n",
       "      <td>4.000000</td>\n",
       "      <td>5.000000</td>\n",
       "      <td>5.000000</td>\n",
       "      <td>5.000000</td>\n",
       "      <td>1.000000</td>\n",
       "      <td>4.000000</td>\n",
       "    </tr>\n",
       "  </tbody>\n",
       "</table>\n",
       "</div>"
      ],
      "text/plain": [
       "       gender_female  gender_male  region_Chungcheung  region_Honam  \\\n",
       "count     211.000000   211.000000          211.000000    211.000000   \n",
       "mean        0.341232     0.658768            0.080569      0.090047   \n",
       "std         0.475251     0.475251            0.272819      0.286930   \n",
       "min         0.000000     0.000000            0.000000      0.000000   \n",
       "25%         0.000000     0.000000            0.000000      0.000000   \n",
       "50%         0.000000     1.000000            0.000000      0.000000   \n",
       "75%         1.000000     1.000000            0.000000      0.000000   \n",
       "max         1.000000     1.000000            1.000000      1.000000   \n",
       "\n",
       "       region_Others  region_Sudo  region_Youngnam         edu      income  \\\n",
       "count     211.000000   211.000000       211.000000  211.000000  211.000000   \n",
       "mean        0.094787     0.597156         0.137441    1.867299    2.208531   \n",
       "std         0.293617     0.491636         0.345131    0.625963    1.066424   \n",
       "min         0.000000     0.000000         0.000000    1.000000    1.000000   \n",
       "25%         0.000000     0.000000         0.000000    1.000000    1.000000   \n",
       "50%         0.000000     1.000000         0.000000    2.000000    2.000000   \n",
       "75%         0.000000     1.000000         0.000000    2.000000    3.000000   \n",
       "max         1.000000     1.000000         1.000000    3.000000    4.000000   \n",
       "\n",
       "              age   score_gov  score_progress  score_intention        vote  \\\n",
       "count  211.000000  211.000000      211.000000       211.000000  211.000000   \n",
       "mean     2.654028    3.056872        3.094787         2.910900    0.710900   \n",
       "std      0.872173    0.944451        0.961408         0.725078    0.454422   \n",
       "min      1.000000    1.000000        1.000000         1.000000    0.000000   \n",
       "25%      2.000000    3.000000        2.000000         2.400000    0.000000   \n",
       "50%      3.000000    3.000000        3.000000         3.000000    1.000000   \n",
       "75%      3.000000    4.000000        4.000000         3.400000    1.000000   \n",
       "max      4.000000    5.000000        5.000000         5.000000    1.000000   \n",
       "\n",
       "          parties  \n",
       "count  211.000000  \n",
       "mean     2.668246  \n",
       "std      1.220416  \n",
       "min      1.000000  \n",
       "25%      2.000000  \n",
       "50%      3.000000  \n",
       "75%      4.000000  \n",
       "max      4.000000  "
      ]
     },
     "execution_count": 2,
     "metadata": {},
     "output_type": "execute_result"
    }
   ],
   "source": [
    "data.describe()"
   ]
  },
  {
   "cell_type": "code",
   "execution_count": 4,
   "id": "9a774f22",
   "metadata": {},
   "outputs": [
    {
     "data": {
      "text/plain": [
       "array([[<AxesSubplot:title={'center':'gender_female'}>,\n",
       "        <AxesSubplot:title={'center':'gender_male'}>,\n",
       "        <AxesSubplot:title={'center':'region_Chungcheung'}>,\n",
       "        <AxesSubplot:title={'center':'region_Honam'}>],\n",
       "       [<AxesSubplot:title={'center':'region_Others'}>,\n",
       "        <AxesSubplot:title={'center':'region_Sudo'}>,\n",
       "        <AxesSubplot:title={'center':'region_Youngnam'}>,\n",
       "        <AxesSubplot:title={'center':'edu'}>],\n",
       "       [<AxesSubplot:title={'center':'income'}>,\n",
       "        <AxesSubplot:title={'center':'age'}>,\n",
       "        <AxesSubplot:title={'center':'score_gov'}>,\n",
       "        <AxesSubplot:title={'center':'score_progress'}>],\n",
       "       [<AxesSubplot:title={'center':'score_intention'}>,\n",
       "        <AxesSubplot:title={'center':'vote'}>,\n",
       "        <AxesSubplot:title={'center':'parties'}>, <AxesSubplot:>]],\n",
       "      dtype=object)"
      ]
     },
     "execution_count": 4,
     "metadata": {},
     "output_type": "execute_result"
    },
    {
     "data": {
      "image/png": "[encoded data removed]",
      "text/plain": [
       "<Figure size 1440x720 with 16 Axes>"
      ]
     },
     "metadata": {
      "needs_background": "light"
     },
     "output_type": "display_data"
    }
   ],
   "source": [
    "data.hist(figsize=(20,10))"
   ]
  },
  {
   "cell_type": "markdown",
   "id": "9fb88c3f",
   "metadata": {},
   "source": [
    "### 2. 특성(x)과 레이블(y) 나누기"
   ]
  },
  {
   "cell_type": "code",
   "execution_count": 8,
   "id": "ce02f8f0",
   "metadata": {},
   "outputs": [],
   "source": [
    "X = data.loc[:, 'gender_female':'score_intention']\n",
    "y = data[['vote']]"
   ]
  },
  {
   "cell_type": "code",
   "execution_count": 9,
   "id": "49903451",
   "metadata": {},
   "outputs": [
    {
     "name": "stdout",
     "output_type": "stream",
     "text": [
      "(211, 13)\n",
      "(211, 1)\n"
     ]
    }
   ],
   "source": [
    "print(X.shape)\n",
    "print(y.shape)"
   ]
  },
  {
   "cell_type": "markdown",
   "id": "eb41e6ad",
   "metadata": {},
   "source": [
    "### 3. train-test 데이터셋 나누기"
   ]
  },
  {
   "cell_type": "code",
   "execution_count": 10,
   "id": "cc63d4c7",
   "metadata": {},
   "outputs": [],
   "source": [
    "from sklearn.model_selection import train_test_split\n",
    "X_train, X_test, y_train, y_test = train_test_split(X, y, stratify=y,   #레이블이 범주형이므로stratify=y를 사용해 유사 비율로 분리\n",
    "                                                    random_state=42)   "
   ]
  },
  {
   "cell_type": "code",
   "execution_count": 11,
   "id": "52c20a70",
   "metadata": {},
   "outputs": [
    {
     "name": "stdout",
     "output_type": "stream",
     "text": [
      "vote    0.708861\n",
      "dtype: float64\n",
      "vote    0.716981\n",
      "dtype: float64\n"
     ]
    }
   ],
   "source": [
    "# 투표여부 비율이 유사한지 확인\n",
    "\n",
    "print(y_train.mean())\n",
    "print(y_test.mean())"
   ]
  },
  {
   "cell_type": "markdown",
   "id": "46e6c7a9",
   "metadata": {},
   "source": [
    "### 4. 연속형 특성의 Scaling"
   ]
  },
  {
   "cell_type": "markdown",
   "id": "399972c0",
   "metadata": {},
   "source": [
    "#### 가. Min-Max 스케일링"
   ]
  },
  {
   "cell_type": "code",
   "execution_count": 12,
   "id": "99828b75",
   "metadata": {},
   "outputs": [],
   "source": [
    "from sklearn.preprocessing import MinMaxScaler\n",
    "scaler_minmax = MinMaxScaler()"
   ]
  },
  {
   "cell_type": "code",
   "execution_count": 13,
   "id": "ee4d689e",
   "metadata": {},
   "outputs": [],
   "source": [
    "scaler_minmax.fit(X_train)   #fit은 train 데이터에만\n",
    "X_scaled_minmax_train = scaler_minmax.transform(X_train)"
   ]
  },
  {
   "cell_type": "code",
   "execution_count": 14,
   "id": "b6222b33",
   "metadata": {},
   "outputs": [
    {
     "data": {
      "text/html": [
       "<div>\n",
       "<style scoped>\n",
       "    .dataframe tbody tr th:only-of-type {\n",
       "        vertical-align: middle;\n",
       "    }\n",
       "\n",
       "    .dataframe tbody tr th {\n",
       "        vertical-align: top;\n",
       "    }\n",
       "\n",
       "    .dataframe thead th {\n",
       "        text-align: right;\n",
       "    }\n",
       "</style>\n",
       "<table border=\"1\" class=\"dataframe\">\n",
       "  <thead>\n",
       "    <tr style=\"text-align: right;\">\n",
       "      <th></th>\n",
       "      <th>0</th>\n",
       "      <th>1</th>\n",
       "      <th>2</th>\n",
       "      <th>3</th>\n",
       "      <th>4</th>\n",
       "      <th>5</th>\n",
       "      <th>6</th>\n",
       "      <th>7</th>\n",
       "      <th>8</th>\n",
       "      <th>9</th>\n",
       "      <th>10</th>\n",
       "      <th>11</th>\n",
       "      <th>12</th>\n",
       "    </tr>\n",
       "  </thead>\n",
       "  <tbody>\n",
       "    <tr>\n",
       "      <th>count</th>\n",
       "      <td>158.000000</td>\n",
       "      <td>158.000000</td>\n",
       "      <td>158.000000</td>\n",
       "      <td>158.000000</td>\n",
       "      <td>158.000000</td>\n",
       "      <td>158.000000</td>\n",
       "      <td>158.000000</td>\n",
       "      <td>158.000000</td>\n",
       "      <td>158.000000</td>\n",
       "      <td>158.000000</td>\n",
       "      <td>158.000000</td>\n",
       "      <td>158.000000</td>\n",
       "      <td>158.000000</td>\n",
       "    </tr>\n",
       "    <tr>\n",
       "      <th>mean</th>\n",
       "      <td>0.322785</td>\n",
       "      <td>0.677215</td>\n",
       "      <td>0.094937</td>\n",
       "      <td>0.056962</td>\n",
       "      <td>0.101266</td>\n",
       "      <td>0.601266</td>\n",
       "      <td>0.145570</td>\n",
       "      <td>0.436709</td>\n",
       "      <td>0.392405</td>\n",
       "      <td>0.554852</td>\n",
       "      <td>0.507911</td>\n",
       "      <td>0.518987</td>\n",
       "      <td>0.477532</td>\n",
       "    </tr>\n",
       "    <tr>\n",
       "      <th>std</th>\n",
       "      <td>0.469028</td>\n",
       "      <td>0.469028</td>\n",
       "      <td>0.294060</td>\n",
       "      <td>0.232507</td>\n",
       "      <td>0.302640</td>\n",
       "      <td>0.491195</td>\n",
       "      <td>0.353796</td>\n",
       "      <td>0.312857</td>\n",
       "      <td>0.355960</td>\n",
       "      <td>0.295306</td>\n",
       "      <td>0.235099</td>\n",
       "      <td>0.245248</td>\n",
       "      <td>0.187215</td>\n",
       "    </tr>\n",
       "    <tr>\n",
       "      <th>min</th>\n",
       "      <td>0.000000</td>\n",
       "      <td>0.000000</td>\n",
       "      <td>0.000000</td>\n",
       "      <td>0.000000</td>\n",
       "      <td>0.000000</td>\n",
       "      <td>0.000000</td>\n",
       "      <td>0.000000</td>\n",
       "      <td>0.000000</td>\n",
       "      <td>0.000000</td>\n",
       "      <td>0.000000</td>\n",
       "      <td>0.000000</td>\n",
       "      <td>0.000000</td>\n",
       "      <td>0.000000</td>\n",
       "    </tr>\n",
       "    <tr>\n",
       "      <th>25%</th>\n",
       "      <td>0.000000</td>\n",
       "      <td>0.000000</td>\n",
       "      <td>0.000000</td>\n",
       "      <td>0.000000</td>\n",
       "      <td>0.000000</td>\n",
       "      <td>0.000000</td>\n",
       "      <td>0.000000</td>\n",
       "      <td>0.000000</td>\n",
       "      <td>0.000000</td>\n",
       "      <td>0.333333</td>\n",
       "      <td>0.312500</td>\n",
       "      <td>0.250000</td>\n",
       "      <td>0.350000</td>\n",
       "    </tr>\n",
       "    <tr>\n",
       "      <th>50%</th>\n",
       "      <td>0.000000</td>\n",
       "      <td>1.000000</td>\n",
       "      <td>0.000000</td>\n",
       "      <td>0.000000</td>\n",
       "      <td>0.000000</td>\n",
       "      <td>1.000000</td>\n",
       "      <td>0.000000</td>\n",
       "      <td>0.500000</td>\n",
       "      <td>0.333333</td>\n",
       "      <td>0.500000</td>\n",
       "      <td>0.500000</td>\n",
       "      <td>0.500000</td>\n",
       "      <td>0.500000</td>\n",
       "    </tr>\n",
       "    <tr>\n",
       "      <th>75%</th>\n",
       "      <td>1.000000</td>\n",
       "      <td>1.000000</td>\n",
       "      <td>0.000000</td>\n",
       "      <td>0.000000</td>\n",
       "      <td>0.000000</td>\n",
       "      <td>1.000000</td>\n",
       "      <td>0.000000</td>\n",
       "      <td>0.500000</td>\n",
       "      <td>0.666667</td>\n",
       "      <td>0.666667</td>\n",
       "      <td>0.750000</td>\n",
       "      <td>0.750000</td>\n",
       "      <td>0.600000</td>\n",
       "    </tr>\n",
       "    <tr>\n",
       "      <th>max</th>\n",
       "      <td>1.000000</td>\n",
       "      <td>1.000000</td>\n",
       "      <td>1.000000</td>\n",
       "      <td>1.000000</td>\n",
       "      <td>1.000000</td>\n",
       "      <td>1.000000</td>\n",
       "      <td>1.000000</td>\n",
       "      <td>1.000000</td>\n",
       "      <td>1.000000</td>\n",
       "      <td>1.000000</td>\n",
       "      <td>1.000000</td>\n",
       "      <td>1.000000</td>\n",
       "      <td>1.000000</td>\n",
       "    </tr>\n",
       "  </tbody>\n",
       "</table>\n",
       "</div>"
      ],
      "text/plain": [
       "               0           1           2           3           4           5   \\\n",
       "count  158.000000  158.000000  158.000000  158.000000  158.000000  158.000000   \n",
       "mean     0.322785    0.677215    0.094937    0.056962    0.101266    0.601266   \n",
       "std      0.469028    0.469028    0.294060    0.232507    0.302640    0.491195   \n",
       "min      0.000000    0.000000    0.000000    0.000000    0.000000    0.000000   \n",
       "25%      0.000000    0.000000    0.000000    0.000000    0.000000    0.000000   \n",
       "50%      0.000000    1.000000    0.000000    0.000000    0.000000    1.000000   \n",
       "75%      1.000000    1.000000    0.000000    0.000000    0.000000    1.000000   \n",
       "max      1.000000    1.000000    1.000000    1.000000    1.000000    1.000000   \n",
       "\n",
       "               6           7           8           9           10          11  \\\n",
       "count  158.000000  158.000000  158.000000  158.000000  158.000000  158.000000   \n",
       "mean     0.145570    0.436709    0.392405    0.554852    0.507911    0.518987   \n",
       "std      0.353796    0.312857    0.355960    0.295306    0.235099    0.245248   \n",
       "min      0.000000    0.000000    0.000000    0.000000    0.000000    0.000000   \n",
       "25%      0.000000    0.000000    0.000000    0.333333    0.312500    0.250000   \n",
       "50%      0.000000    0.500000    0.333333    0.500000    0.500000    0.500000   \n",
       "75%      0.000000    0.500000    0.666667    0.666667    0.750000    0.750000   \n",
       "max      1.000000    1.000000    1.000000    1.000000    1.000000    1.000000   \n",
       "\n",
       "               12  \n",
       "count  158.000000  \n",
       "mean     0.477532  \n",
       "std      0.187215  \n",
       "min      0.000000  \n",
       "25%      0.350000  \n",
       "50%      0.500000  \n",
       "75%      0.600000  \n",
       "max      1.000000  "
      ]
     },
     "execution_count": 14,
     "metadata": {},
     "output_type": "execute_result"
    }
   ],
   "source": [
    "pd.DataFrame(X_scaled_minmax_train).describe()"
   ]
  },
  {
   "cell_type": "code",
   "execution_count": 15,
   "id": "776a79be",
   "metadata": {},
   "outputs": [
    {
     "data": {
      "text/html": [
       "<div>\n",
       "<style scoped>\n",
       "    .dataframe tbody tr th:only-of-type {\n",
       "        vertical-align: middle;\n",
       "    }\n",
       "\n",
       "    .dataframe tbody tr th {\n",
       "        vertical-align: top;\n",
       "    }\n",
       "\n",
       "    .dataframe thead th {\n",
       "        text-align: right;\n",
       "    }\n",
       "</style>\n",
       "<table border=\"1\" class=\"dataframe\">\n",
       "  <thead>\n",
       "    <tr style=\"text-align: right;\">\n",
       "      <th></th>\n",
       "      <th>0</th>\n",
       "      <th>1</th>\n",
       "      <th>2</th>\n",
       "      <th>3</th>\n",
       "      <th>4</th>\n",
       "      <th>5</th>\n",
       "      <th>6</th>\n",
       "      <th>7</th>\n",
       "      <th>8</th>\n",
       "      <th>9</th>\n",
       "      <th>10</th>\n",
       "      <th>11</th>\n",
       "      <th>12</th>\n",
       "    </tr>\n",
       "  </thead>\n",
       "  <tbody>\n",
       "    <tr>\n",
       "      <th>count</th>\n",
       "      <td>53.000000</td>\n",
       "      <td>53.000000</td>\n",
       "      <td>53.000000</td>\n",
       "      <td>53.000000</td>\n",
       "      <td>53.000000</td>\n",
       "      <td>53.000000</td>\n",
       "      <td>53.000000</td>\n",
       "      <td>53.000000</td>\n",
       "      <td>53.000000</td>\n",
       "      <td>53.000000</td>\n",
       "      <td>53.000000</td>\n",
       "      <td>53.000000</td>\n",
       "      <td>53.000000</td>\n",
       "    </tr>\n",
       "    <tr>\n",
       "      <th>mean</th>\n",
       "      <td>0.396226</td>\n",
       "      <td>0.603774</td>\n",
       "      <td>0.037736</td>\n",
       "      <td>0.188679</td>\n",
       "      <td>0.075472</td>\n",
       "      <td>0.584906</td>\n",
       "      <td>0.113208</td>\n",
       "      <td>0.424528</td>\n",
       "      <td>0.433962</td>\n",
       "      <td>0.540881</td>\n",
       "      <td>0.533019</td>\n",
       "      <td>0.537736</td>\n",
       "      <td>0.478302</td>\n",
       "    </tr>\n",
       "    <tr>\n",
       "      <th>std</th>\n",
       "      <td>0.493793</td>\n",
       "      <td>0.493793</td>\n",
       "      <td>0.192380</td>\n",
       "      <td>0.394998</td>\n",
       "      <td>0.266679</td>\n",
       "      <td>0.497454</td>\n",
       "      <td>0.319878</td>\n",
       "      <td>0.316170</td>\n",
       "      <td>0.355572</td>\n",
       "      <td>0.279089</td>\n",
       "      <td>0.240381</td>\n",
       "      <td>0.226789</td>\n",
       "      <td>0.163939</td>\n",
       "    </tr>\n",
       "    <tr>\n",
       "      <th>min</th>\n",
       "      <td>0.000000</td>\n",
       "      <td>0.000000</td>\n",
       "      <td>0.000000</td>\n",
       "      <td>0.000000</td>\n",
       "      <td>0.000000</td>\n",
       "      <td>0.000000</td>\n",
       "      <td>0.000000</td>\n",
       "      <td>0.000000</td>\n",
       "      <td>0.000000</td>\n",
       "      <td>0.000000</td>\n",
       "      <td>0.000000</td>\n",
       "      <td>0.000000</td>\n",
       "      <td>0.200000</td>\n",
       "    </tr>\n",
       "    <tr>\n",
       "      <th>25%</th>\n",
       "      <td>0.000000</td>\n",
       "      <td>0.000000</td>\n",
       "      <td>0.000000</td>\n",
       "      <td>0.000000</td>\n",
       "      <td>0.000000</td>\n",
       "      <td>0.000000</td>\n",
       "      <td>0.000000</td>\n",
       "      <td>0.000000</td>\n",
       "      <td>0.000000</td>\n",
       "      <td>0.333333</td>\n",
       "      <td>0.500000</td>\n",
       "      <td>0.500000</td>\n",
       "      <td>0.350000</td>\n",
       "    </tr>\n",
       "    <tr>\n",
       "      <th>50%</th>\n",
       "      <td>0.000000</td>\n",
       "      <td>1.000000</td>\n",
       "      <td>0.000000</td>\n",
       "      <td>0.000000</td>\n",
       "      <td>0.000000</td>\n",
       "      <td>1.000000</td>\n",
       "      <td>0.000000</td>\n",
       "      <td>0.500000</td>\n",
       "      <td>0.333333</td>\n",
       "      <td>0.666667</td>\n",
       "      <td>0.500000</td>\n",
       "      <td>0.500000</td>\n",
       "      <td>0.500000</td>\n",
       "    </tr>\n",
       "    <tr>\n",
       "      <th>75%</th>\n",
       "      <td>1.000000</td>\n",
       "      <td>1.000000</td>\n",
       "      <td>0.000000</td>\n",
       "      <td>0.000000</td>\n",
       "      <td>0.000000</td>\n",
       "      <td>1.000000</td>\n",
       "      <td>0.000000</td>\n",
       "      <td>0.500000</td>\n",
       "      <td>0.666667</td>\n",
       "      <td>0.666667</td>\n",
       "      <td>0.750000</td>\n",
       "      <td>0.750000</td>\n",
       "      <td>0.550000</td>\n",
       "    </tr>\n",
       "    <tr>\n",
       "      <th>max</th>\n",
       "      <td>1.000000</td>\n",
       "      <td>1.000000</td>\n",
       "      <td>1.000000</td>\n",
       "      <td>1.000000</td>\n",
       "      <td>1.000000</td>\n",
       "      <td>1.000000</td>\n",
       "      <td>1.000000</td>\n",
       "      <td>1.000000</td>\n",
       "      <td>1.000000</td>\n",
       "      <td>1.000000</td>\n",
       "      <td>1.000000</td>\n",
       "      <td>1.000000</td>\n",
       "      <td>0.900000</td>\n",
       "    </tr>\n",
       "  </tbody>\n",
       "</table>\n",
       "</div>"
      ],
      "text/plain": [
       "              0          1          2          3          4          5   \\\n",
       "count  53.000000  53.000000  53.000000  53.000000  53.000000  53.000000   \n",
       "mean    0.396226   0.603774   0.037736   0.188679   0.075472   0.584906   \n",
       "std     0.493793   0.493793   0.192380   0.394998   0.266679   0.497454   \n",
       "min     0.000000   0.000000   0.000000   0.000000   0.000000   0.000000   \n",
       "25%     0.000000   0.000000   0.000000   0.000000   0.000000   0.000000   \n",
       "50%     0.000000   1.000000   0.000000   0.000000   0.000000   1.000000   \n",
       "75%     1.000000   1.000000   0.000000   0.000000   0.000000   1.000000   \n",
       "max     1.000000   1.000000   1.000000   1.000000   1.000000   1.000000   \n",
       "\n",
       "              6          7          8          9          10         11  \\\n",
       "count  53.000000  53.000000  53.000000  53.000000  53.000000  53.000000   \n",
       "mean    0.113208   0.424528   0.433962   0.540881   0.533019   0.537736   \n",
       "std     0.319878   0.316170   0.355572   0.279089   0.240381   0.226789   \n",
       "min     0.000000   0.000000   0.000000   0.000000   0.000000   0.000000   \n",
       "25%     0.000000   0.000000   0.000000   0.333333   0.500000   0.500000   \n",
       "50%     0.000000   0.500000   0.333333   0.666667   0.500000   0.500000   \n",
       "75%     0.000000   0.500000   0.666667   0.666667   0.750000   0.750000   \n",
       "max     1.000000   1.000000   1.000000   1.000000   1.000000   1.000000   \n",
       "\n",
       "              12  \n",
       "count  53.000000  \n",
       "mean    0.478302  \n",
       "std     0.163939  \n",
       "min     0.200000  \n",
       "25%     0.350000  \n",
       "50%     0.500000  \n",
       "75%     0.550000  \n",
       "max     0.900000  "
      ]
     },
     "execution_count": 15,
     "metadata": {},
     "output_type": "execute_result"
    }
   ],
   "source": [
    "X_scaled_minmax_test = scaler_minmax.transform(X_test)\n",
    "pd.DataFrame(X_scaled_minmax_test).describe()"
   ]
  },
  {
   "cell_type": "markdown",
   "id": "2647f3fe",
   "metadata": {},
   "source": [
    "#### 나. Standardization 스케일링"
   ]
  },
  {
   "cell_type": "code",
   "execution_count": 16,
   "id": "33b6acc1",
   "metadata": {},
   "outputs": [],
   "source": [
    "from sklearn.preprocessing import StandardScaler\n",
    "scaler_standard = StandardScaler()"
   ]
  },
  {
   "cell_type": "code",
   "execution_count": 17,
   "id": "080d230f",
   "metadata": {},
   "outputs": [],
   "source": [
    "scaler_standard.fit(X_train)\n",
    "X_scaled_standard_train = scaler_standard.transform(X_train)"
   ]
  },
  {
   "cell_type": "code",
   "execution_count": 18,
   "id": "6a724046",
   "metadata": {},
   "outputs": [
    {
     "data": {
      "text/html": [
       "<div>\n",
       "<style scoped>\n",
       "    .dataframe tbody tr th:only-of-type {\n",
       "        vertical-align: middle;\n",
       "    }\n",
       "\n",
       "    .dataframe tbody tr th {\n",
       "        vertical-align: top;\n",
       "    }\n",
       "\n",
       "    .dataframe thead th {\n",
       "        text-align: right;\n",
       "    }\n",
       "</style>\n",
       "<table border=\"1\" class=\"dataframe\">\n",
       "  <thead>\n",
       "    <tr style=\"text-align: right;\">\n",
       "      <th></th>\n",
       "      <th>0</th>\n",
       "      <th>1</th>\n",
       "      <th>2</th>\n",
       "      <th>3</th>\n",
       "      <th>4</th>\n",
       "      <th>5</th>\n",
       "      <th>6</th>\n",
       "      <th>7</th>\n",
       "      <th>8</th>\n",
       "      <th>9</th>\n",
       "      <th>10</th>\n",
       "      <th>11</th>\n",
       "      <th>12</th>\n",
       "    </tr>\n",
       "  </thead>\n",
       "  <tbody>\n",
       "    <tr>\n",
       "      <th>count</th>\n",
       "      <td>1.580000e+02</td>\n",
       "      <td>1.580000e+02</td>\n",
       "      <td>1.580000e+02</td>\n",
       "      <td>1.580000e+02</td>\n",
       "      <td>1.580000e+02</td>\n",
       "      <td>1.580000e+02</td>\n",
       "      <td>1.580000e+02</td>\n",
       "      <td>1.580000e+02</td>\n",
       "      <td>1.580000e+02</td>\n",
       "      <td>1.580000e+02</td>\n",
       "      <td>1.580000e+02</td>\n",
       "      <td>1.580000e+02</td>\n",
       "      <td>1.580000e+02</td>\n",
       "    </tr>\n",
       "    <tr>\n",
       "      <th>mean</th>\n",
       "      <td>8.432074e-18</td>\n",
       "      <td>7.307797e-17</td>\n",
       "      <td>-2.810691e-17</td>\n",
       "      <td>1.127790e-16</td>\n",
       "      <td>-2.318820e-17</td>\n",
       "      <td>-1.405346e-18</td>\n",
       "      <td>-8.853677e-17</td>\n",
       "      <td>6.201087e-17</td>\n",
       "      <td>-8.151004e-17</td>\n",
       "      <td>-2.389088e-17</td>\n",
       "      <td>3.934968e-17</td>\n",
       "      <td>4.356571e-17</td>\n",
       "      <td>-4.863374e-16</td>\n",
       "    </tr>\n",
       "    <tr>\n",
       "      <th>std</th>\n",
       "      <td>1.003180e+00</td>\n",
       "      <td>1.003180e+00</td>\n",
       "      <td>1.003180e+00</td>\n",
       "      <td>1.003180e+00</td>\n",
       "      <td>1.003180e+00</td>\n",
       "      <td>1.003180e+00</td>\n",
       "      <td>1.003180e+00</td>\n",
       "      <td>1.003180e+00</td>\n",
       "      <td>1.003180e+00</td>\n",
       "      <td>1.003180e+00</td>\n",
       "      <td>1.003180e+00</td>\n",
       "      <td>1.003180e+00</td>\n",
       "      <td>1.003180e+00</td>\n",
       "    </tr>\n",
       "    <tr>\n",
       "      <th>min</th>\n",
       "      <td>-6.903879e-01</td>\n",
       "      <td>-1.448461e+00</td>\n",
       "      <td>-3.238751e-01</td>\n",
       "      <td>-2.457696e-01</td>\n",
       "      <td>-3.356725e-01</td>\n",
       "      <td>-1.227981e+00</td>\n",
       "      <td>-4.127595e-01</td>\n",
       "      <td>-1.400312e+00</td>\n",
       "      <td>-1.105890e+00</td>\n",
       "      <td>-1.884881e+00</td>\n",
       "      <td>-2.167287e+00</td>\n",
       "      <td>-2.122900e+00</td>\n",
       "      <td>-2.558829e+00</td>\n",
       "    </tr>\n",
       "    <tr>\n",
       "      <th>25%</th>\n",
       "      <td>-6.903879e-01</td>\n",
       "      <td>-1.448461e+00</td>\n",
       "      <td>-3.238751e-01</td>\n",
       "      <td>-2.457696e-01</td>\n",
       "      <td>-3.356725e-01</td>\n",
       "      <td>-1.227981e+00</td>\n",
       "      <td>-4.127595e-01</td>\n",
       "      <td>-1.400312e+00</td>\n",
       "      <td>-1.105890e+00</td>\n",
       "      <td>-7.525190e-01</td>\n",
       "      <td>-8.338316e-01</td>\n",
       "      <td>-1.100283e+00</td>\n",
       "      <td>-6.833719e-01</td>\n",
       "    </tr>\n",
       "    <tr>\n",
       "      <th>50%</th>\n",
       "      <td>-6.903879e-01</td>\n",
       "      <td>6.903879e-01</td>\n",
       "      <td>-3.238751e-01</td>\n",
       "      <td>-2.457696e-01</td>\n",
       "      <td>-3.356725e-01</td>\n",
       "      <td>8.143451e-01</td>\n",
       "      <td>-4.127595e-01</td>\n",
       "      <td>2.029437e-01</td>\n",
       "      <td>-1.664780e-01</td>\n",
       "      <td>-1.863380e-01</td>\n",
       "      <td>-3.375836e-02</td>\n",
       "      <td>-7.766706e-02</td>\n",
       "      <td>1.203955e-01</td>\n",
       "    </tr>\n",
       "    <tr>\n",
       "      <th>75%</th>\n",
       "      <td>1.448461e+00</td>\n",
       "      <td>6.903879e-01</td>\n",
       "      <td>-3.238751e-01</td>\n",
       "      <td>-2.457696e-01</td>\n",
       "      <td>-3.356725e-01</td>\n",
       "      <td>8.143451e-01</td>\n",
       "      <td>-4.127595e-01</td>\n",
       "      <td>2.029437e-01</td>\n",
       "      <td>7.729337e-01</td>\n",
       "      <td>3.798429e-01</td>\n",
       "      <td>1.033006e+00</td>\n",
       "      <td>9.449492e-01</td>\n",
       "      <td>6.562405e-01</td>\n",
       "    </tr>\n",
       "    <tr>\n",
       "      <th>max</th>\n",
       "      <td>1.448461e+00</td>\n",
       "      <td>6.903879e-01</td>\n",
       "      <td>3.087610e+00</td>\n",
       "      <td>4.068852e+00</td>\n",
       "      <td>2.979094e+00</td>\n",
       "      <td>8.143451e-01</td>\n",
       "      <td>2.422719e+00</td>\n",
       "      <td>1.806199e+00</td>\n",
       "      <td>1.712345e+00</td>\n",
       "      <td>1.512205e+00</td>\n",
       "      <td>2.099770e+00</td>\n",
       "      <td>1.967565e+00</td>\n",
       "      <td>2.799620e+00</td>\n",
       "    </tr>\n",
       "  </tbody>\n",
       "</table>\n",
       "</div>"
      ],
      "text/plain": [
       "                 0             1             2             3             4   \\\n",
       "count  1.580000e+02  1.580000e+02  1.580000e+02  1.580000e+02  1.580000e+02   \n",
       "mean   8.432074e-18  7.307797e-17 -2.810691e-17  1.127790e-16 -2.318820e-17   \n",
       "std    1.003180e+00  1.003180e+00  1.003180e+00  1.003180e+00  1.003180e+00   \n",
       "min   -6.903879e-01 -1.448461e+00 -3.238751e-01 -2.457696e-01 -3.356725e-01   \n",
       "25%   -6.903879e-01 -1.448461e+00 -3.238751e-01 -2.457696e-01 -3.356725e-01   \n",
       "50%   -6.903879e-01  6.903879e-01 -3.238751e-01 -2.457696e-01 -3.356725e-01   \n",
       "75%    1.448461e+00  6.903879e-01 -3.238751e-01 -2.457696e-01 -3.356725e-01   \n",
       "max    1.448461e+00  6.903879e-01  3.087610e+00  4.068852e+00  2.979094e+00   \n",
       "\n",
       "                 5             6             7             8             9   \\\n",
       "count  1.580000e+02  1.580000e+02  1.580000e+02  1.580000e+02  1.580000e+02   \n",
       "mean  -1.405346e-18 -8.853677e-17  6.201087e-17 -8.151004e-17 -2.389088e-17   \n",
       "std    1.003180e+00  1.003180e+00  1.003180e+00  1.003180e+00  1.003180e+00   \n",
       "min   -1.227981e+00 -4.127595e-01 -1.400312e+00 -1.105890e+00 -1.884881e+00   \n",
       "25%   -1.227981e+00 -4.127595e-01 -1.400312e+00 -1.105890e+00 -7.525190e-01   \n",
       "50%    8.143451e-01 -4.127595e-01  2.029437e-01 -1.664780e-01 -1.863380e-01   \n",
       "75%    8.143451e-01 -4.127595e-01  2.029437e-01  7.729337e-01  3.798429e-01   \n",
       "max    8.143451e-01  2.422719e+00  1.806199e+00  1.712345e+00  1.512205e+00   \n",
       "\n",
       "                 10            11            12  \n",
       "count  1.580000e+02  1.580000e+02  1.580000e+02  \n",
       "mean   3.934968e-17  4.356571e-17 -4.863374e-16  \n",
       "std    1.003180e+00  1.003180e+00  1.003180e+00  \n",
       "min   -2.167287e+00 -2.122900e+00 -2.558829e+00  \n",
       "25%   -8.338316e-01 -1.100283e+00 -6.833719e-01  \n",
       "50%   -3.375836e-02 -7.766706e-02  1.203955e-01  \n",
       "75%    1.033006e+00  9.449492e-01  6.562405e-01  \n",
       "max    2.099770e+00  1.967565e+00  2.799620e+00  "
      ]
     },
     "execution_count": 18,
     "metadata": {},
     "output_type": "execute_result"
    }
   ],
   "source": [
    "pd.DataFrame(X_scaled_standard_train).describe()"
   ]
  },
  {
   "cell_type": "code",
   "execution_count": 20,
   "id": "a941573e",
   "metadata": {},
   "outputs": [
    {
     "data": {
      "text/html": [
       "<div>\n",
       "<style scoped>\n",
       "    .dataframe tbody tr th:only-of-type {\n",
       "        vertical-align: middle;\n",
       "    }\n",
       "\n",
       "    .dataframe tbody tr th {\n",
       "        vertical-align: top;\n",
       "    }\n",
       "\n",
       "    .dataframe thead th {\n",
       "        text-align: right;\n",
       "    }\n",
       "</style>\n",
       "<table border=\"1\" class=\"dataframe\">\n",
       "  <thead>\n",
       "    <tr style=\"text-align: right;\">\n",
       "      <th></th>\n",
       "      <th>0</th>\n",
       "      <th>1</th>\n",
       "      <th>2</th>\n",
       "      <th>3</th>\n",
       "      <th>4</th>\n",
       "      <th>5</th>\n",
       "      <th>6</th>\n",
       "      <th>7</th>\n",
       "      <th>8</th>\n",
       "      <th>9</th>\n",
       "      <th>10</th>\n",
       "      <th>11</th>\n",
       "      <th>12</th>\n",
       "    </tr>\n",
       "  </thead>\n",
       "  <tbody>\n",
       "    <tr>\n",
       "      <th>count</th>\n",
       "      <td>53.000000</td>\n",
       "      <td>53.000000</td>\n",
       "      <td>53.000000</td>\n",
       "      <td>53.000000</td>\n",
       "      <td>53.000000</td>\n",
       "      <td>53.000000</td>\n",
       "      <td>53.000000</td>\n",
       "      <td>53.000000</td>\n",
       "      <td>53.000000</td>\n",
       "      <td>53.000000</td>\n",
       "      <td>53.000000</td>\n",
       "      <td>53.000000</td>\n",
       "      <td>53.000000</td>\n",
       "    </tr>\n",
       "    <tr>\n",
       "      <th>mean</th>\n",
       "      <td>0.157080</td>\n",
       "      <td>-0.157080</td>\n",
       "      <td>-0.195140</td>\n",
       "      <td>0.568310</td>\n",
       "      <td>-0.085501</td>\n",
       "      <td>-0.033413</td>\n",
       "      <td>-0.091762</td>\n",
       "      <td>-0.039057</td>\n",
       "      <td>0.117118</td>\n",
       "      <td>-0.047463</td>\n",
       "      <td>0.107135</td>\n",
       "      <td>0.076690</td>\n",
       "      <td>0.004127</td>\n",
       "    </tr>\n",
       "    <tr>\n",
       "      <th>std</th>\n",
       "      <td>1.056149</td>\n",
       "      <td>1.056149</td>\n",
       "      <td>0.656302</td>\n",
       "      <td>1.704266</td>\n",
       "      <td>0.883978</td>\n",
       "      <td>1.015962</td>\n",
       "      <td>0.907008</td>\n",
       "      <td>1.013804</td>\n",
       "      <td>1.002085</td>\n",
       "      <td>0.948089</td>\n",
       "      <td>1.025719</td>\n",
       "      <td>0.927672</td>\n",
       "      <td>0.878457</td>\n",
       "    </tr>\n",
       "    <tr>\n",
       "      <th>min</th>\n",
       "      <td>-0.690388</td>\n",
       "      <td>-1.448461</td>\n",
       "      <td>-0.323875</td>\n",
       "      <td>-0.245770</td>\n",
       "      <td>-0.335673</td>\n",
       "      <td>-1.227981</td>\n",
       "      <td>-0.412759</td>\n",
       "      <td>-1.400312</td>\n",
       "      <td>-1.105890</td>\n",
       "      <td>-1.884881</td>\n",
       "      <td>-2.167287</td>\n",
       "      <td>-2.122900</td>\n",
       "      <td>-1.487139</td>\n",
       "    </tr>\n",
       "    <tr>\n",
       "      <th>25%</th>\n",
       "      <td>-0.690388</td>\n",
       "      <td>-1.448461</td>\n",
       "      <td>-0.323875</td>\n",
       "      <td>-0.245770</td>\n",
       "      <td>-0.335673</td>\n",
       "      <td>-1.227981</td>\n",
       "      <td>-0.412759</td>\n",
       "      <td>-1.400312</td>\n",
       "      <td>-1.105890</td>\n",
       "      <td>-0.752519</td>\n",
       "      <td>-0.033758</td>\n",
       "      <td>-0.077667</td>\n",
       "      <td>-0.683372</td>\n",
       "    </tr>\n",
       "    <tr>\n",
       "      <th>50%</th>\n",
       "      <td>-0.690388</td>\n",
       "      <td>0.690388</td>\n",
       "      <td>-0.323875</td>\n",
       "      <td>-0.245770</td>\n",
       "      <td>-0.335673</td>\n",
       "      <td>0.814345</td>\n",
       "      <td>-0.412759</td>\n",
       "      <td>0.202944</td>\n",
       "      <td>-0.166478</td>\n",
       "      <td>0.379843</td>\n",
       "      <td>-0.033758</td>\n",
       "      <td>-0.077667</td>\n",
       "      <td>0.120396</td>\n",
       "    </tr>\n",
       "    <tr>\n",
       "      <th>75%</th>\n",
       "      <td>1.448461</td>\n",
       "      <td>0.690388</td>\n",
       "      <td>-0.323875</td>\n",
       "      <td>-0.245770</td>\n",
       "      <td>-0.335673</td>\n",
       "      <td>0.814345</td>\n",
       "      <td>-0.412759</td>\n",
       "      <td>0.202944</td>\n",
       "      <td>0.772934</td>\n",
       "      <td>0.379843</td>\n",
       "      <td>1.033006</td>\n",
       "      <td>0.944949</td>\n",
       "      <td>0.388318</td>\n",
       "    </tr>\n",
       "    <tr>\n",
       "      <th>max</th>\n",
       "      <td>1.448461</td>\n",
       "      <td>0.690388</td>\n",
       "      <td>3.087610</td>\n",
       "      <td>4.068852</td>\n",
       "      <td>2.979094</td>\n",
       "      <td>0.814345</td>\n",
       "      <td>2.422719</td>\n",
       "      <td>1.806199</td>\n",
       "      <td>1.712345</td>\n",
       "      <td>1.512205</td>\n",
       "      <td>2.099770</td>\n",
       "      <td>1.967565</td>\n",
       "      <td>2.263775</td>\n",
       "    </tr>\n",
       "  </tbody>\n",
       "</table>\n",
       "</div>"
      ],
      "text/plain": [
       "              0          1          2          3          4          5   \\\n",
       "count  53.000000  53.000000  53.000000  53.000000  53.000000  53.000000   \n",
       "mean    0.157080  -0.157080  -0.195140   0.568310  -0.085501  -0.033413   \n",
       "std     1.056149   1.056149   0.656302   1.704266   0.883978   1.015962   \n",
       "min    -0.690388  -1.448461  -0.323875  -0.245770  -0.335673  -1.227981   \n",
       "25%    -0.690388  -1.448461  -0.323875  -0.245770  -0.335673  -1.227981   \n",
       "50%    -0.690388   0.690388  -0.323875  -0.245770  -0.335673   0.814345   \n",
       "75%     1.448461   0.690388  -0.323875  -0.245770  -0.335673   0.814345   \n",
       "max     1.448461   0.690388   3.087610   4.068852   2.979094   0.814345   \n",
       "\n",
       "              6          7          8          9          10         11  \\\n",
       "count  53.000000  53.000000  53.000000  53.000000  53.000000  53.000000   \n",
       "mean   -0.091762  -0.039057   0.117118  -0.047463   0.107135   0.076690   \n",
       "std     0.907008   1.013804   1.002085   0.948089   1.025719   0.927672   \n",
       "min    -0.412759  -1.400312  -1.105890  -1.884881  -2.167287  -2.122900   \n",
       "25%    -0.412759  -1.400312  -1.105890  -0.752519  -0.033758  -0.077667   \n",
       "50%    -0.412759   0.202944  -0.166478   0.379843  -0.033758  -0.077667   \n",
       "75%    -0.412759   0.202944   0.772934   0.379843   1.033006   0.944949   \n",
       "max     2.422719   1.806199   1.712345   1.512205   2.099770   1.967565   \n",
       "\n",
       "              12  \n",
       "count  53.000000  \n",
       "mean    0.004127  \n",
       "std     0.878457  \n",
       "min    -1.487139  \n",
       "25%    -0.683372  \n",
       "50%     0.120396  \n",
       "75%     0.388318  \n",
       "max     2.263775  "
      ]
     },
     "execution_count": 20,
     "metadata": {},
     "output_type": "execute_result"
    }
   ],
   "source": [
    "X_scaled_standard_test = scaler_standard.transform(X_test)\n",
    "pd.DataFrame(X_scaled_standard_test).describe()"
   ]
  },
  {
   "cell_type": "markdown",
   "id": "1e6020d6",
   "metadata": {},
   "source": [
    "### 5. 모델 학습"
   ]
  },
  {
   "cell_type": "code",
   "execution_count": 21,
   "id": "6d242f8b",
   "metadata": {},
   "outputs": [],
   "source": [
    "from sklearn.linear_model import LogisticRegression\n",
    "model = LogisticRegression()"
   ]
  },
  {
   "cell_type": "markdown",
   "id": "ec4ec8c2",
   "metadata": {},
   "source": [
    "#### 가. Min-Max 정규화 데이터 적용 결과"
   ]
  },
  {
   "cell_type": "code",
   "execution_count": 26,
   "id": "f4b35a17",
   "metadata": {},
   "outputs": [
    {
     "name": "stderr",
     "output_type": "stream",
     "text": [
      "C:\\Users\\yusti\\anaconda3\\lib\\site-packages\\sklearn\\utils\\validation.py:63: DataConversionWarning: A column-vector y was passed when a 1d array was expected. Please change the shape of y to (n_samples, ), for example using ravel().\n",
      "  return f(*args, **kwargs)\n"
     ]
    },
    {
     "data": {
      "text/plain": [
       "0.7278481012658228"
      ]
     },
     "execution_count": 26,
     "metadata": {},
     "output_type": "execute_result"
    }
   ],
   "source": [
    "model.fit(X_scaled_minmax_train, y_train)\n",
    "pred_train = model.predict(X_scaled_minmax_train)\n",
    "model.score(X_scaled_minmax_train, y_train)"
   ]
  },
  {
   "cell_type": "code",
   "execution_count": 27,
   "id": "a30c6989",
   "metadata": {},
   "outputs": [
    {
     "data": {
      "text/plain": [
       "0.7169811320754716"
      ]
     },
     "execution_count": 27,
     "metadata": {},
     "output_type": "execute_result"
    }
   ],
   "source": [
    "pred_test = model.predict(X_scaled_minmax_test)\n",
    "model.score(X_scaled_minmax_test, y_test)"
   ]
  },
  {
   "cell_type": "code",
   "execution_count": 24,
   "id": "a1b07ccf",
   "metadata": {},
   "outputs": [
    {
     "name": "stdout",
     "output_type": "stream",
     "text": [
      "훈련데이터 오차행렬:\n",
      " [[  9  37]\n",
      " [  6 106]]\n"
     ]
    }
   ],
   "source": [
    "from sklearn.metrics import confusion_matrix\n",
    "confusion_train = confusion_matrix(y_train, pred_train)\n",
    "print(\"훈련데이터 오차행렬:\\n\", confusion_train)"
   ]
  },
  {
   "cell_type": "code",
   "execution_count": 28,
   "id": "7dd34d5e",
   "metadata": {},
   "outputs": [
    {
     "name": "stdout",
     "output_type": "stream",
     "text": [
      "테스트데이터 오차행렬:\n",
      " [[ 2 13]\n",
      " [ 2 36]]\n"
     ]
    }
   ],
   "source": [
    "confusion_test = confusion_matrix(y_test, pred_test)\n",
    "print(\"테스트데이터 오차행렬:\\n\", confusion_test)"
   ]
  },
  {
   "cell_type": "markdown",
   "id": "6d371e37",
   "metadata": {},
   "source": [
    "### 나. Standardize 정규화 데이터 적용결과"
   ]
  },
  {
   "cell_type": "code",
   "execution_count": 29,
   "id": "8af079c8",
   "metadata": {},
   "outputs": [
    {
     "name": "stderr",
     "output_type": "stream",
     "text": [
      "C:\\Users\\yusti\\anaconda3\\lib\\site-packages\\sklearn\\utils\\validation.py:63: DataConversionWarning: A column-vector y was passed when a 1d array was expected. Please change the shape of y to (n_samples, ), for example using ravel().\n",
      "  return f(*args, **kwargs)\n"
     ]
    },
    {
     "data": {
      "text/plain": [
       "0.740506329113924"
      ]
     },
     "execution_count": 29,
     "metadata": {},
     "output_type": "execute_result"
    }
   ],
   "source": [
    "model.fit(X_scaled_standard_train, y_train)\n",
    "pred_train = model.predict(X_scaled_standard_train)\n",
    "model.score(X_scaled_standard_train, y_train)"
   ]
  },
  {
   "cell_type": "code",
   "execution_count": 30,
   "id": "f73e1970",
   "metadata": {},
   "outputs": [
    {
     "data": {
      "text/plain": [
       "0.6792452830188679"
      ]
     },
     "execution_count": 30,
     "metadata": {},
     "output_type": "execute_result"
    }
   ],
   "source": [
    "pred_test = model.predict(X_scaled_standard_test)\n",
    "model.score(X_scaled_standard_test, y_test)"
   ]
  },
  {
   "cell_type": "code",
   "execution_count": 31,
   "id": "c61ce41a",
   "metadata": {},
   "outputs": [
    {
     "name": "stdout",
     "output_type": "stream",
     "text": [
      "훈련데이터 오차행렬:\n",
      " [[ 12  34]\n",
      " [  7 105]]\n"
     ]
    }
   ],
   "source": [
    "from sklearn.metrics import confusion_matrix\n",
    "confusion_train = confusion_matrix(y_train, pred_train)\n",
    "print(\"훈련데이터 오차행렬:\\n\", confusion_train)"
   ]
  },
  {
   "cell_type": "code",
   "execution_count": 32,
   "id": "c4aee1bd",
   "metadata": {},
   "outputs": [
    {
     "name": "stdout",
     "output_type": "stream",
     "text": [
      "테스트데이터 오차행렬:\n",
      " [[ 2 13]\n",
      " [ 2 36]]\n"
     ]
    }
   ],
   "source": [
    "confusion_train = confusion_matrix(y_test, pred_test)\n",
    "print(\"테스트데이터 오차행렬:\\n\", confusion_test)"
   ]
  },
  {
   "cell_type": "markdown",
   "id": "b06a2b26",
   "metadata": {},
   "source": [
    "## Section 07. 머신러닝 프로세스 - (4) 모델훈련과 세부튜닝"
   ]
  },
  {
   "cell_type": "markdown",
   "id": "c597f558",
   "metadata": {},
   "source": [
    "### 1. 데이터 불러오기 및 데이터셋 분할"
   ]
  },
  {
   "cell_type": "code",
   "execution_count": 4,
   "id": "2c2ed404",
   "metadata": {},
   "outputs": [],
   "source": [
    "import warnings\n",
    "warnings.filterwarnings(\"ignore\")   #분석결과 외에 불필요한 내용이 나오지 않도록 하기\n",
    "import pandas as pd\n",
    "data = pd.read_csv('Fvote.csv', encoding='utf-8')"
   ]
  },
  {
   "cell_type": "code",
   "execution_count": 5,
   "id": "6b17cebf",
   "metadata": {},
   "outputs": [],
   "source": [
    "X = data[data.columns[1:13]]\n",
    "y = data[['vote']]"
   ]
  },
  {
   "cell_type": "code",
   "execution_count": 6,
   "id": "95e00e53",
   "metadata": {},
   "outputs": [],
   "source": [
    "from sklearn.model_selection import train_test_split\n",
    "X_train, X_test, y_train, y_test = train_test_split(X, y, stratify = y, random_state = 42)"
   ]
  },
  {
   "cell_type": "markdown",
   "id": "3181eb41",
   "metadata": {},
   "source": [
    "### 2. Grid Search"
   ]
  },
  {
   "cell_type": "code",
   "execution_count": 7,
   "id": "8af3d638",
   "metadata": {},
   "outputs": [],
   "source": [
    "from sklearn.model_selection import GridSearchCV\n",
    "param_grid = {'C': [0.001, 0.01, 0.1, 1, 10, 100]}"
   ]
  },
  {
   "cell_type": "code",
   "execution_count": 8,
   "id": "9063ff68",
   "metadata": {},
   "outputs": [],
   "source": [
    "from sklearn.linear_model import LogisticRegression"
   ]
  },
  {
   "cell_type": "code",
   "execution_count": 9,
   "id": "2fbec9bd",
   "metadata": {},
   "outputs": [
    {
     "data": {
      "text/plain": [
       "GridSearchCV(cv=5, estimator=LogisticRegression(),\n",
       "             param_grid={'C': [0.001, 0.01, 0.1, 1, 10, 100]},\n",
       "             return_train_score=True)"
      ]
     },
     "execution_count": 9,
     "metadata": {},
     "output_type": "execute_result"
    }
   ],
   "source": [
    "grid_search = GridSearchCV(LogisticRegression(), param_grid, cv=5,   #cv는 교차검증 횟수\n",
    "                          return_train_score=True)    #디폴트는 False이나 정확도 결과를 제시하기 위해 True\n",
    "grid_search.fit(X_train, y_train)"
   ]
  },
  {
   "cell_type": "code",
   "execution_count": 10,
   "id": "76e4a4ce",
   "metadata": {},
   "outputs": [
    {
     "name": "stdout",
     "output_type": "stream",
     "text": [
      "Best Parameter: {'C': 10}\n",
      "Best Cross-validity Score: 0.727\n"
     ]
    }
   ],
   "source": [
    "print(\"Best Parameter: {}\".format(grid_search.best_params_))   #정확도가 가장 높은 하이퍼파라미터(C)\n",
    "print(\"Best Cross-validity Score: {:.3f}\".format(grid_search.best_score_))   #그 때의 정확도"
   ]
  },
  {
   "cell_type": "code",
   "execution_count": 11,
   "id": "5c51a8b4",
   "metadata": {},
   "outputs": [
    {
     "name": "stdout",
     "output_type": "stream",
     "text": [
      "Test set score: 0.679\n"
     ]
    }
   ],
   "source": [
    "print(\"Test set score: {:.3f}\".format(grid_search.score(X_test, y_test)))"
   ]
  },
  {
   "cell_type": "code",
   "execution_count": 12,
   "id": "2f00033a",
   "metadata": {},
   "outputs": [
    {
     "data": {
      "text/html": [
       "<div>\n",
       "<style scoped>\n",
       "    .dataframe tbody tr th:only-of-type {\n",
       "        vertical-align: middle;\n",
       "    }\n",
       "\n",
       "    .dataframe tbody tr th {\n",
       "        vertical-align: top;\n",
       "    }\n",
       "\n",
       "    .dataframe thead th {\n",
       "        text-align: right;\n",
       "    }\n",
       "</style>\n",
       "<table border=\"1\" class=\"dataframe\">\n",
       "  <thead>\n",
       "    <tr style=\"text-align: right;\">\n",
       "      <th></th>\n",
       "      <th>mean_fit_time</th>\n",
       "      <th>std_fit_time</th>\n",
       "      <th>mean_score_time</th>\n",
       "      <th>std_score_time</th>\n",
       "      <th>param_C</th>\n",
       "      <th>params</th>\n",
       "      <th>split0_test_score</th>\n",
       "      <th>split1_test_score</th>\n",
       "      <th>split2_test_score</th>\n",
       "      <th>split3_test_score</th>\n",
       "      <th>...</th>\n",
       "      <th>mean_test_score</th>\n",
       "      <th>std_test_score</th>\n",
       "      <th>rank_test_score</th>\n",
       "      <th>split0_train_score</th>\n",
       "      <th>split1_train_score</th>\n",
       "      <th>split2_train_score</th>\n",
       "      <th>split3_train_score</th>\n",
       "      <th>split4_train_score</th>\n",
       "      <th>mean_train_score</th>\n",
       "      <th>std_train_score</th>\n",
       "    </tr>\n",
       "  </thead>\n",
       "  <tbody>\n",
       "    <tr>\n",
       "      <th>0</th>\n",
       "      <td>0.013059</td>\n",
       "      <td>0.008798</td>\n",
       "      <td>0.002120</td>\n",
       "      <td>0.001371</td>\n",
       "      <td>0.001</td>\n",
       "      <td>{'C': 0.001}</td>\n",
       "      <td>0.68750</td>\n",
       "      <td>0.71875</td>\n",
       "      <td>0.71875</td>\n",
       "      <td>0.709677</td>\n",
       "      <td>...</td>\n",
       "      <td>0.708871</td>\n",
       "      <td>0.011430</td>\n",
       "      <td>5</td>\n",
       "      <td>0.714286</td>\n",
       "      <td>0.706349</td>\n",
       "      <td>0.706349</td>\n",
       "      <td>0.708661</td>\n",
       "      <td>0.708661</td>\n",
       "      <td>0.708861</td>\n",
       "      <td>0.002903</td>\n",
       "    </tr>\n",
       "    <tr>\n",
       "      <th>1</th>\n",
       "      <td>0.006633</td>\n",
       "      <td>0.002461</td>\n",
       "      <td>0.001874</td>\n",
       "      <td>0.000732</td>\n",
       "      <td>0.01</td>\n",
       "      <td>{'C': 0.01}</td>\n",
       "      <td>0.68750</td>\n",
       "      <td>0.71875</td>\n",
       "      <td>0.71875</td>\n",
       "      <td>0.709677</td>\n",
       "      <td>...</td>\n",
       "      <td>0.708871</td>\n",
       "      <td>0.011430</td>\n",
       "      <td>5</td>\n",
       "      <td>0.714286</td>\n",
       "      <td>0.706349</td>\n",
       "      <td>0.706349</td>\n",
       "      <td>0.708661</td>\n",
       "      <td>0.708661</td>\n",
       "      <td>0.708861</td>\n",
       "      <td>0.002903</td>\n",
       "    </tr>\n",
       "    <tr>\n",
       "      <th>2</th>\n",
       "      <td>0.022956</td>\n",
       "      <td>0.015556</td>\n",
       "      <td>0.002501</td>\n",
       "      <td>0.001123</td>\n",
       "      <td>0.1</td>\n",
       "      <td>{'C': 0.1}</td>\n",
       "      <td>0.71875</td>\n",
       "      <td>0.71875</td>\n",
       "      <td>0.71875</td>\n",
       "      <td>0.677419</td>\n",
       "      <td>...</td>\n",
       "      <td>0.721573</td>\n",
       "      <td>0.030797</td>\n",
       "      <td>3</td>\n",
       "      <td>0.738095</td>\n",
       "      <td>0.746032</td>\n",
       "      <td>0.738095</td>\n",
       "      <td>0.740157</td>\n",
       "      <td>0.716535</td>\n",
       "      <td>0.735783</td>\n",
       "      <td>0.010053</td>\n",
       "    </tr>\n",
       "    <tr>\n",
       "      <th>3</th>\n",
       "      <td>0.038070</td>\n",
       "      <td>0.007276</td>\n",
       "      <td>0.004026</td>\n",
       "      <td>0.002513</td>\n",
       "      <td>1</td>\n",
       "      <td>{'C': 1}</td>\n",
       "      <td>0.71875</td>\n",
       "      <td>0.68750</td>\n",
       "      <td>0.78125</td>\n",
       "      <td>0.580645</td>\n",
       "      <td>...</td>\n",
       "      <td>0.714919</td>\n",
       "      <td>0.079466</td>\n",
       "      <td>4</td>\n",
       "      <td>0.738095</td>\n",
       "      <td>0.793651</td>\n",
       "      <td>0.730159</td>\n",
       "      <td>0.763780</td>\n",
       "      <td>0.724409</td>\n",
       "      <td>0.750019</td>\n",
       "      <td>0.025634</td>\n",
       "    </tr>\n",
       "    <tr>\n",
       "      <th>4</th>\n",
       "      <td>0.044355</td>\n",
       "      <td>0.014903</td>\n",
       "      <td>0.003685</td>\n",
       "      <td>0.002047</td>\n",
       "      <td>10</td>\n",
       "      <td>{'C': 10}</td>\n",
       "      <td>0.75000</td>\n",
       "      <td>0.68750</td>\n",
       "      <td>0.81250</td>\n",
       "      <td>0.580645</td>\n",
       "      <td>...</td>\n",
       "      <td>0.727419</td>\n",
       "      <td>0.086175</td>\n",
       "      <td>1</td>\n",
       "      <td>0.746032</td>\n",
       "      <td>0.769841</td>\n",
       "      <td>0.730159</td>\n",
       "      <td>0.779528</td>\n",
       "      <td>0.724409</td>\n",
       "      <td>0.749994</td>\n",
       "      <td>0.021586</td>\n",
       "    </tr>\n",
       "    <tr>\n",
       "      <th>5</th>\n",
       "      <td>0.039518</td>\n",
       "      <td>0.003571</td>\n",
       "      <td>0.003043</td>\n",
       "      <td>0.001078</td>\n",
       "      <td>100</td>\n",
       "      <td>{'C': 100}</td>\n",
       "      <td>0.75000</td>\n",
       "      <td>0.68750</td>\n",
       "      <td>0.81250</td>\n",
       "      <td>0.580645</td>\n",
       "      <td>...</td>\n",
       "      <td>0.727419</td>\n",
       "      <td>0.086175</td>\n",
       "      <td>1</td>\n",
       "      <td>0.746032</td>\n",
       "      <td>0.769841</td>\n",
       "      <td>0.730159</td>\n",
       "      <td>0.771654</td>\n",
       "      <td>0.724409</td>\n",
       "      <td>0.748419</td>\n",
       "      <td>0.019567</td>\n",
       "    </tr>\n",
       "  </tbody>\n",
       "</table>\n",
       "<p>6 rows × 21 columns</p>\n",
       "</div>"
      ],
      "text/plain": [
       "   mean_fit_time  std_fit_time  mean_score_time  std_score_time param_C  \\\n",
       "0       0.013059      0.008798         0.002120        0.001371   0.001   \n",
       "1       0.006633      0.002461         0.001874        0.000732    0.01   \n",
       "2       0.022956      0.015556         0.002501        0.001123     0.1   \n",
       "3       0.038070      0.007276         0.004026        0.002513       1   \n",
       "4       0.044355      0.014903         0.003685        0.002047      10   \n",
       "5       0.039518      0.003571         0.003043        0.001078     100   \n",
       "\n",
       "         params  split0_test_score  split1_test_score  split2_test_score  \\\n",
       "0  {'C': 0.001}            0.68750            0.71875            0.71875   \n",
       "1   {'C': 0.01}            0.68750            0.71875            0.71875   \n",
       "2    {'C': 0.1}            0.71875            0.71875            0.71875   \n",
       "3      {'C': 1}            0.71875            0.68750            0.78125   \n",
       "4     {'C': 10}            0.75000            0.68750            0.81250   \n",
       "5    {'C': 100}            0.75000            0.68750            0.81250   \n",
       "\n",
       "   split3_test_score  ...  mean_test_score  std_test_score  rank_test_score  \\\n",
       "0           0.709677  ...         0.708871        0.011430                5   \n",
       "1           0.709677  ...         0.708871        0.011430                5   \n",
       "2           0.677419  ...         0.721573        0.030797                3   \n",
       "3           0.580645  ...         0.714919        0.079466                4   \n",
       "4           0.580645  ...         0.727419        0.086175                1   \n",
       "5           0.580645  ...         0.727419        0.086175                1   \n",
       "\n",
       "   split0_train_score  split1_train_score  split2_train_score  \\\n",
       "0            0.714286            0.706349            0.706349   \n",
       "1            0.714286            0.706349            0.706349   \n",
       "2            0.738095            0.746032            0.738095   \n",
       "3            0.738095            0.793651            0.730159   \n",
       "4            0.746032            0.769841            0.730159   \n",
       "5            0.746032            0.769841            0.730159   \n",
       "\n",
       "   split3_train_score  split4_train_score  mean_train_score  std_train_score  \n",
       "0            0.708661            0.708661          0.708861         0.002903  \n",
       "1            0.708661            0.708661          0.708861         0.002903  \n",
       "2            0.740157            0.716535          0.735783         0.010053  \n",
       "3            0.763780            0.724409          0.750019         0.025634  \n",
       "4            0.779528            0.724409          0.749994         0.021586  \n",
       "5            0.771654            0.724409          0.748419         0.019567  \n",
       "\n",
       "[6 rows x 21 columns]"
      ]
     },
     "execution_count": 12,
     "metadata": {},
     "output_type": "execute_result"
    }
   ],
   "source": [
    "# 그리드서치 상세 결과값 (하이퍼파라미터별, cross validation별)\n",
    "\n",
    "result_grid = pd.DataFrame(grid_search.cv_results_)\n",
    "result_grid"
   ]
  },
  {
   "cell_type": "code",
   "execution_count": 13,
   "id": "6f9b931e",
   "metadata": {},
   "outputs": [
    {
     "data": {
      "text/plain": [
       "<matplotlib.legend.Legend at 0x2a458da2dc0>"
      ]
     },
     "execution_count": 13,
     "metadata": {},
     "output_type": "execute_result"
    },
    {
     "data": {
      "image/png": "[encoded data removed]",
      "text/plain": [
       "<Figure size 432x288 with 1 Axes>"
      ]
     },
     "metadata": {
      "needs_background": "light"
     },
     "output_type": "display_data"
    }
   ],
   "source": [
    "# 도표로 하이퍼파라미터별 정확도 살펴보기\n",
    "\n",
    "import matplotlib.pyplot as plt\n",
    "plt.plot(result_grid['param_C'], result_grid['mean_train_score'], label=\"Train\")\n",
    "plt.plot(result_grid['param_C'], result_grid['mean_test_score'], label=\"Test\")\n",
    "plt.legend()"
   ]
  },
  {
   "cell_type": "markdown",
   "id": "5c321979",
   "metadata": {},
   "source": [
    "### 3. Random Search"
   ]
  },
  {
   "cell_type": "code",
   "execution_count": 14,
   "id": "71bc1682",
   "metadata": {},
   "outputs": [],
   "source": [
    "from sklearn.model_selection import RandomizedSearchCV\n",
    "from scipy.stats import randint\n",
    "param_distribs = {'C': randint(low=0.001, high=100)}   #0.001과 100 랜덤하게 C 결정"
   ]
  },
  {
   "cell_type": "code",
   "execution_count": 15,
   "id": "07e16df3",
   "metadata": {},
   "outputs": [],
   "source": [
    "from sklearn.linear_model import LogisticRegression"
   ]
  },
  {
   "cell_type": "code",
   "execution_count": 16,
   "id": "440eda48",
   "metadata": {},
   "outputs": [
    {
     "data": {
      "text/plain": [
       "RandomizedSearchCV(cv=5, estimator=LogisticRegression(),\n",
       "                   param_distributions={'C': <scipy.stats._distn_infrastructure.rv_frozen object at 0x000002A459492B50>},\n",
       "                   return_train_score=True)"
      ]
     },
     "execution_count": 16,
     "metadata": {},
     "output_type": "execute_result"
    }
   ],
   "source": [
    "random_search = RandomizedSearchCV(LogisticRegression(),\n",
    "                                  param_distributions = param_distribs, cv=5,\n",
    "                                  #n_iter=100, 랜덤횟수 디폴트=10\n",
    "                                  return_train_score=True)   #디폴트는 False이나 정확도 결과를 제시하기 위해 True\n",
    "random_search.fit(X_train, y_train)"
   ]
  },
  {
   "cell_type": "code",
   "execution_count": 17,
   "id": "a5022c94",
   "metadata": {},
   "outputs": [
    {
     "name": "stdout",
     "output_type": "stream",
     "text": [
      "Best Parameter: {'C': 23}\n",
      "Best Cross-validity Score: 0.727\n"
     ]
    }
   ],
   "source": [
    "print(\"Best Parameter: {}\".format(random_search.best_params_))   #정확도가 가장 높은 하이퍼파라미터(C)\n",
    "print(\"Best Cross-validity Score: {:.3f}\".format(random_search.best_score_))   #그 때의 정확도"
   ]
  },
  {
   "cell_type": "code",
   "execution_count": 18,
   "id": "91e7a7b8",
   "metadata": {},
   "outputs": [
    {
     "name": "stdout",
     "output_type": "stream",
     "text": [
      "Test set score: 0.679\n"
     ]
    }
   ],
   "source": [
    "print(\"Test set score: {:.3f}\".format(random_search.score(X_test, y_test)))"
   ]
  },
  {
   "cell_type": "code",
   "execution_count": 19,
   "id": "47e2cf4e",
   "metadata": {},
   "outputs": [
    {
     "data": {
      "text/html": [
       "<div>\n",
       "<style scoped>\n",
       "    .dataframe tbody tr th:only-of-type {\n",
       "        vertical-align: middle;\n",
       "    }\n",
       "\n",
       "    .dataframe tbody tr th {\n",
       "        vertical-align: top;\n",
       "    }\n",
       "\n",
       "    .dataframe thead th {\n",
       "        text-align: right;\n",
       "    }\n",
       "</style>\n",
       "<table border=\"1\" class=\"dataframe\">\n",
       "  <thead>\n",
       "    <tr style=\"text-align: right;\">\n",
       "      <th></th>\n",
       "      <th>mean_fit_time</th>\n",
       "      <th>std_fit_time</th>\n",
       "      <th>mean_score_time</th>\n",
       "      <th>std_score_time</th>\n",
       "      <th>param_C</th>\n",
       "      <th>params</th>\n",
       "      <th>split0_test_score</th>\n",
       "      <th>split1_test_score</th>\n",
       "      <th>split2_test_score</th>\n",
       "      <th>split3_test_score</th>\n",
       "      <th>...</th>\n",
       "      <th>mean_test_score</th>\n",
       "      <th>std_test_score</th>\n",
       "      <th>rank_test_score</th>\n",
       "      <th>split0_train_score</th>\n",
       "      <th>split1_train_score</th>\n",
       "      <th>split2_train_score</th>\n",
       "      <th>split3_train_score</th>\n",
       "      <th>split4_train_score</th>\n",
       "      <th>mean_train_score</th>\n",
       "      <th>std_train_score</th>\n",
       "    </tr>\n",
       "  </thead>\n",
       "  <tbody>\n",
       "    <tr>\n",
       "      <th>0</th>\n",
       "      <td>0.066373</td>\n",
       "      <td>0.033852</td>\n",
       "      <td>0.002909</td>\n",
       "      <td>0.001883</td>\n",
       "      <td>23</td>\n",
       "      <td>{'C': 23}</td>\n",
       "      <td>0.75</td>\n",
       "      <td>0.6875</td>\n",
       "      <td>0.8125</td>\n",
       "      <td>0.580645</td>\n",
       "      <td>...</td>\n",
       "      <td>0.727419</td>\n",
       "      <td>0.086175</td>\n",
       "      <td>1</td>\n",
       "      <td>0.746032</td>\n",
       "      <td>0.769841</td>\n",
       "      <td>0.730159</td>\n",
       "      <td>0.771654</td>\n",
       "      <td>0.724409</td>\n",
       "      <td>0.748419</td>\n",
       "      <td>0.019567</td>\n",
       "    </tr>\n",
       "    <tr>\n",
       "      <th>1</th>\n",
       "      <td>0.042083</td>\n",
       "      <td>0.023287</td>\n",
       "      <td>0.002095</td>\n",
       "      <td>0.000842</td>\n",
       "      <td>47</td>\n",
       "      <td>{'C': 47}</td>\n",
       "      <td>0.75</td>\n",
       "      <td>0.6875</td>\n",
       "      <td>0.8125</td>\n",
       "      <td>0.580645</td>\n",
       "      <td>...</td>\n",
       "      <td>0.727419</td>\n",
       "      <td>0.086175</td>\n",
       "      <td>1</td>\n",
       "      <td>0.746032</td>\n",
       "      <td>0.769841</td>\n",
       "      <td>0.730159</td>\n",
       "      <td>0.771654</td>\n",
       "      <td>0.724409</td>\n",
       "      <td>0.748419</td>\n",
       "      <td>0.019567</td>\n",
       "    </tr>\n",
       "    <tr>\n",
       "      <th>2</th>\n",
       "      <td>0.050783</td>\n",
       "      <td>0.022350</td>\n",
       "      <td>0.002531</td>\n",
       "      <td>0.000454</td>\n",
       "      <td>39</td>\n",
       "      <td>{'C': 39}</td>\n",
       "      <td>0.75</td>\n",
       "      <td>0.6875</td>\n",
       "      <td>0.8125</td>\n",
       "      <td>0.580645</td>\n",
       "      <td>...</td>\n",
       "      <td>0.727419</td>\n",
       "      <td>0.086175</td>\n",
       "      <td>1</td>\n",
       "      <td>0.746032</td>\n",
       "      <td>0.769841</td>\n",
       "      <td>0.730159</td>\n",
       "      <td>0.771654</td>\n",
       "      <td>0.724409</td>\n",
       "      <td>0.748419</td>\n",
       "      <td>0.019567</td>\n",
       "    </tr>\n",
       "    <tr>\n",
       "      <th>3</th>\n",
       "      <td>0.027451</td>\n",
       "      <td>0.012572</td>\n",
       "      <td>0.003219</td>\n",
       "      <td>0.002534</td>\n",
       "      <td>56</td>\n",
       "      <td>{'C': 56}</td>\n",
       "      <td>0.75</td>\n",
       "      <td>0.6875</td>\n",
       "      <td>0.8125</td>\n",
       "      <td>0.580645</td>\n",
       "      <td>...</td>\n",
       "      <td>0.727419</td>\n",
       "      <td>0.086175</td>\n",
       "      <td>1</td>\n",
       "      <td>0.746032</td>\n",
       "      <td>0.769841</td>\n",
       "      <td>0.730159</td>\n",
       "      <td>0.771654</td>\n",
       "      <td>0.724409</td>\n",
       "      <td>0.748419</td>\n",
       "      <td>0.019567</td>\n",
       "    </tr>\n",
       "    <tr>\n",
       "      <th>4</th>\n",
       "      <td>0.049679</td>\n",
       "      <td>0.013040</td>\n",
       "      <td>0.003630</td>\n",
       "      <td>0.001643</td>\n",
       "      <td>21</td>\n",
       "      <td>{'C': 21}</td>\n",
       "      <td>0.75</td>\n",
       "      <td>0.6875</td>\n",
       "      <td>0.8125</td>\n",
       "      <td>0.580645</td>\n",
       "      <td>...</td>\n",
       "      <td>0.727419</td>\n",
       "      <td>0.086175</td>\n",
       "      <td>1</td>\n",
       "      <td>0.746032</td>\n",
       "      <td>0.769841</td>\n",
       "      <td>0.730159</td>\n",
       "      <td>0.771654</td>\n",
       "      <td>0.724409</td>\n",
       "      <td>0.748419</td>\n",
       "      <td>0.019567</td>\n",
       "    </tr>\n",
       "    <tr>\n",
       "      <th>5</th>\n",
       "      <td>0.054876</td>\n",
       "      <td>0.008828</td>\n",
       "      <td>0.004646</td>\n",
       "      <td>0.002205</td>\n",
       "      <td>48</td>\n",
       "      <td>{'C': 48}</td>\n",
       "      <td>0.75</td>\n",
       "      <td>0.6875</td>\n",
       "      <td>0.8125</td>\n",
       "      <td>0.580645</td>\n",
       "      <td>...</td>\n",
       "      <td>0.727419</td>\n",
       "      <td>0.086175</td>\n",
       "      <td>1</td>\n",
       "      <td>0.746032</td>\n",
       "      <td>0.769841</td>\n",
       "      <td>0.730159</td>\n",
       "      <td>0.771654</td>\n",
       "      <td>0.724409</td>\n",
       "      <td>0.748419</td>\n",
       "      <td>0.019567</td>\n",
       "    </tr>\n",
       "    <tr>\n",
       "      <th>6</th>\n",
       "      <td>0.051540</td>\n",
       "      <td>0.017942</td>\n",
       "      <td>0.003518</td>\n",
       "      <td>0.000561</td>\n",
       "      <td>91</td>\n",
       "      <td>{'C': 91}</td>\n",
       "      <td>0.75</td>\n",
       "      <td>0.6875</td>\n",
       "      <td>0.8125</td>\n",
       "      <td>0.580645</td>\n",
       "      <td>...</td>\n",
       "      <td>0.727419</td>\n",
       "      <td>0.086175</td>\n",
       "      <td>1</td>\n",
       "      <td>0.746032</td>\n",
       "      <td>0.769841</td>\n",
       "      <td>0.730159</td>\n",
       "      <td>0.771654</td>\n",
       "      <td>0.724409</td>\n",
       "      <td>0.748419</td>\n",
       "      <td>0.019567</td>\n",
       "    </tr>\n",
       "    <tr>\n",
       "      <th>7</th>\n",
       "      <td>0.046790</td>\n",
       "      <td>0.027598</td>\n",
       "      <td>0.003551</td>\n",
       "      <td>0.001556</td>\n",
       "      <td>47</td>\n",
       "      <td>{'C': 47}</td>\n",
       "      <td>0.75</td>\n",
       "      <td>0.6875</td>\n",
       "      <td>0.8125</td>\n",
       "      <td>0.580645</td>\n",
       "      <td>...</td>\n",
       "      <td>0.727419</td>\n",
       "      <td>0.086175</td>\n",
       "      <td>1</td>\n",
       "      <td>0.746032</td>\n",
       "      <td>0.769841</td>\n",
       "      <td>0.730159</td>\n",
       "      <td>0.771654</td>\n",
       "      <td>0.724409</td>\n",
       "      <td>0.748419</td>\n",
       "      <td>0.019567</td>\n",
       "    </tr>\n",
       "    <tr>\n",
       "      <th>8</th>\n",
       "      <td>0.056035</td>\n",
       "      <td>0.019830</td>\n",
       "      <td>0.003087</td>\n",
       "      <td>0.001507</td>\n",
       "      <td>84</td>\n",
       "      <td>{'C': 84}</td>\n",
       "      <td>0.75</td>\n",
       "      <td>0.6875</td>\n",
       "      <td>0.8125</td>\n",
       "      <td>0.580645</td>\n",
       "      <td>...</td>\n",
       "      <td>0.727419</td>\n",
       "      <td>0.086175</td>\n",
       "      <td>1</td>\n",
       "      <td>0.746032</td>\n",
       "      <td>0.769841</td>\n",
       "      <td>0.730159</td>\n",
       "      <td>0.771654</td>\n",
       "      <td>0.724409</td>\n",
       "      <td>0.748419</td>\n",
       "      <td>0.019567</td>\n",
       "    </tr>\n",
       "    <tr>\n",
       "      <th>9</th>\n",
       "      <td>0.038903</td>\n",
       "      <td>0.006495</td>\n",
       "      <td>0.002580</td>\n",
       "      <td>0.000794</td>\n",
       "      <td>63</td>\n",
       "      <td>{'C': 63}</td>\n",
       "      <td>0.75</td>\n",
       "      <td>0.6875</td>\n",
       "      <td>0.8125</td>\n",
       "      <td>0.580645</td>\n",
       "      <td>...</td>\n",
       "      <td>0.727419</td>\n",
       "      <td>0.086175</td>\n",
       "      <td>1</td>\n",
       "      <td>0.746032</td>\n",
       "      <td>0.769841</td>\n",
       "      <td>0.730159</td>\n",
       "      <td>0.771654</td>\n",
       "      <td>0.724409</td>\n",
       "      <td>0.748419</td>\n",
       "      <td>0.019567</td>\n",
       "    </tr>\n",
       "  </tbody>\n",
       "</table>\n",
       "<p>10 rows × 21 columns</p>\n",
       "</div>"
      ],
      "text/plain": [
       "   mean_fit_time  std_fit_time  mean_score_time  std_score_time param_C  \\\n",
       "0       0.066373      0.033852         0.002909        0.001883      23   \n",
       "1       0.042083      0.023287         0.002095        0.000842      47   \n",
       "2       0.050783      0.022350         0.002531        0.000454      39   \n",
       "3       0.027451      0.012572         0.003219        0.002534      56   \n",
       "4       0.049679      0.013040         0.003630        0.001643      21   \n",
       "5       0.054876      0.008828         0.004646        0.002205      48   \n",
       "6       0.051540      0.017942         0.003518        0.000561      91   \n",
       "7       0.046790      0.027598         0.003551        0.001556      47   \n",
       "8       0.056035      0.019830         0.003087        0.001507      84   \n",
       "9       0.038903      0.006495         0.002580        0.000794      63   \n",
       "\n",
       "      params  split0_test_score  split1_test_score  split2_test_score  \\\n",
       "0  {'C': 23}               0.75             0.6875             0.8125   \n",
       "1  {'C': 47}               0.75             0.6875             0.8125   \n",
       "2  {'C': 39}               0.75             0.6875             0.8125   \n",
       "3  {'C': 56}               0.75             0.6875             0.8125   \n",
       "4  {'C': 21}               0.75             0.6875             0.8125   \n",
       "5  {'C': 48}               0.75             0.6875             0.8125   \n",
       "6  {'C': 91}               0.75             0.6875             0.8125   \n",
       "7  {'C': 47}               0.75             0.6875             0.8125   \n",
       "8  {'C': 84}               0.75             0.6875             0.8125   \n",
       "9  {'C': 63}               0.75             0.6875             0.8125   \n",
       "\n",
       "   split3_test_score  ...  mean_test_score  std_test_score  rank_test_score  \\\n",
       "0           0.580645  ...         0.727419        0.086175                1   \n",
       "1           0.580645  ...         0.727419        0.086175                1   \n",
       "2           0.580645  ...         0.727419        0.086175                1   \n",
       "3           0.580645  ...         0.727419        0.086175                1   \n",
       "4           0.580645  ...         0.727419        0.086175                1   \n",
       "5           0.580645  ...         0.727419        0.086175                1   \n",
       "6           0.580645  ...         0.727419        0.086175                1   \n",
       "7           0.580645  ...         0.727419        0.086175                1   \n",
       "8           0.580645  ...         0.727419        0.086175                1   \n",
       "9           0.580645  ...         0.727419        0.086175                1   \n",
       "\n",
       "   split0_train_score  split1_train_score  split2_train_score  \\\n",
       "0            0.746032            0.769841            0.730159   \n",
       "1            0.746032            0.769841            0.730159   \n",
       "2            0.746032            0.769841            0.730159   \n",
       "3            0.746032            0.769841            0.730159   \n",
       "4            0.746032            0.769841            0.730159   \n",
       "5            0.746032            0.769841            0.730159   \n",
       "6            0.746032            0.769841            0.730159   \n",
       "7            0.746032            0.769841            0.730159   \n",
       "8            0.746032            0.769841            0.730159   \n",
       "9            0.746032            0.769841            0.730159   \n",
       "\n",
       "   split3_train_score  split4_train_score  mean_train_score  std_train_score  \n",
       "0            0.771654            0.724409          0.748419         0.019567  \n",
       "1            0.771654            0.724409          0.748419         0.019567  \n",
       "2            0.771654            0.724409          0.748419         0.019567  \n",
       "3            0.771654            0.724409          0.748419         0.019567  \n",
       "4            0.771654            0.724409          0.748419         0.019567  \n",
       "5            0.771654            0.724409          0.748419         0.019567  \n",
       "6            0.771654            0.724409          0.748419         0.019567  \n",
       "7            0.771654            0.724409          0.748419         0.019567  \n",
       "8            0.771654            0.724409          0.748419         0.019567  \n",
       "9            0.771654            0.724409          0.748419         0.019567  \n",
       "\n",
       "[10 rows x 21 columns]"
      ]
     },
     "execution_count": 19,
     "metadata": {},
     "output_type": "execute_result"
    }
   ],
   "source": [
    "# 랜덤탐색 상세 결과값 (하이퍼파라미터별, cv별)\n",
    "\n",
    "result_random = random_search.cv_results_\n",
    "pd.DataFrame(result_random)"
   ]
  },
  {
   "cell_type": "code",
   "execution_count": 20,
   "id": "793cdc4e",
   "metadata": {},
   "outputs": [
    {
     "data": {
      "text/plain": [
       "<matplotlib.legend.Legend at 0x2a4595848b0>"
      ]
     },
     "execution_count": 20,
     "metadata": {},
     "output_type": "execute_result"
    },
    {
     "data": {
      "image/png": "[encoded data removed]",
      "text/plain": [
       "<Figure size 432x288 with 1 Axes>"
      ]
     },
     "metadata": {
      "needs_background": "light"
     },
     "output_type": "display_data"
    }
   ],
   "source": [
    "import matplotlib.pyplot as plt\n",
    "plt.plot(result_grid['param_C'], result_grid['mean_train_score'], label=\"Train\")\n",
    "plt.plot(result_grid['param_C'], result_grid['mean_test_score'], label=\"Test\")\n",
    "plt.legend()"
   ]
  },
  {
   "cell_type": "markdown",
   "id": "1219d41e",
   "metadata": {},
   "source": [
    "## Section 08. 머신러닝 프로세스 - (5) 모델평가"
   ]
  },
  {
   "cell_type": "code",
   "execution_count": 21,
   "id": "e3bed954",
   "metadata": {},
   "outputs": [
    {
     "data": {
      "text/plain": [
       "LogisticRegression(C=10)"
      ]
     },
     "execution_count": 21,
     "metadata": {},
     "output_type": "execute_result"
    }
   ],
   "source": [
    "Final_model = LogisticRegression(C=10)\n",
    "Final_model.fit(X_train, y_train)"
   ]
  },
  {
   "cell_type": "code",
   "execution_count": 22,
   "id": "2e477edc",
   "metadata": {},
   "outputs": [
    {
     "data": {
      "text/plain": [
       "0.740506329113924"
      ]
     },
     "execution_count": 22,
     "metadata": {},
     "output_type": "execute_result"
    }
   ],
   "source": [
    "# 훈련데이터의 정확도\n",
    "\n",
    "pred_train = Final_model.predict(X_train)\n",
    "Final_model.score(X_train, y_train)"
   ]
  },
  {
   "cell_type": "code",
   "execution_count": 23,
   "id": "29ec3e6a",
   "metadata": {},
   "outputs": [
    {
     "data": {
      "text/plain": [
       "0.6792452830188679"
      ]
     },
     "execution_count": 23,
     "metadata": {},
     "output_type": "execute_result"
    }
   ],
   "source": [
    "# 테스트데이터의 정확도\n",
    "\n",
    "pred_test = Final_model.predict(X_test)\n",
    "Final_model.score(X_test, y_test)"
   ]
  },
  {
   "cell_type": "code",
   "execution_count": 24,
   "id": "89cd1308",
   "metadata": {},
   "outputs": [
    {
     "name": "stdout",
     "output_type": "stream",
     "text": [
      "훈련데이터 오차행렬:\n",
      " [[ 12  34]\n",
      " [  7 105]]\n"
     ]
    }
   ],
   "source": [
    "# 훈련데이터의 혼동행렬\n",
    "\n",
    "from sklearn.metrics import confusion_matrix\n",
    "confusion_train = confusion_matrix(y_train, pred_train)\n",
    "print(\"훈련데이터 오차행렬:\\n\", confusion_train)"
   ]
  },
  {
   "cell_type": "code",
   "execution_count": 25,
   "id": "091124a7",
   "metadata": {},
   "outputs": [
    {
     "name": "stdout",
     "output_type": "stream",
     "text": [
      "분류예측 레포트:\n",
      "               precision    recall  f1-score   support\n",
      "\n",
      "           0       0.63      0.26      0.37        46\n",
      "           1       0.76      0.94      0.84       112\n",
      "\n",
      "    accuracy                           0.74       158\n",
      "   macro avg       0.69      0.60      0.60       158\n",
      "weighted avg       0.72      0.74      0.70       158\n",
      "\n"
     ]
    }
   ],
   "source": [
    "# 훈련데이터의 분류 모델 평가 결과\n",
    "\n",
    "from sklearn.metrics import classification_report\n",
    "cfreport_train = classification_report(y_train, pred_train)\n",
    "print(\"분류예측 레포트:\\n\", cfreport_train)"
   ]
  },
  {
   "cell_type": "code",
   "execution_count": 26,
   "id": "adc4553b",
   "metadata": {},
   "outputs": [
    {
     "name": "stdout",
     "output_type": "stream",
     "text": [
      "테스트데이터 오차행렬:\n",
      " [[ 3 12]\n",
      " [ 5 33]]\n"
     ]
    }
   ],
   "source": [
    "# 테스트데이터의 정확도\n",
    "\n",
    "confusion_test = confusion_matrix(y_test, pred_test)\n",
    "print(\"테스트데이터 오차행렬:\\n\", confusion_test)"
   ]
  },
  {
   "cell_type": "code",
   "execution_count": 27,
   "id": "2c0a5154",
   "metadata": {},
   "outputs": [
    {
     "name": "stdout",
     "output_type": "stream",
     "text": [
      "분류예측 레포트:\n",
      "               precision    recall  f1-score   support\n",
      "\n",
      "           0       0.38      0.20      0.26        15\n",
      "           1       0.73      0.87      0.80        38\n",
      "\n",
      "    accuracy                           0.68        53\n",
      "   macro avg       0.55      0.53      0.53        53\n",
      "weighted avg       0.63      0.68      0.64        53\n",
      "\n"
     ]
    }
   ],
   "source": [
    "# 테스트데이터의 분류 모델 평가 결과\n",
    "\n",
    "from sklearn.metrics import classification_report\n",
    "cfreport_test = classification_report(y_test, pred_test)\n",
    "print(\"분류예측 레포트:\\n\", cfreport_test)"
   ]
  },
  {
   "cell_type": "code",
   "execution_count": 29,
   "id": "de7e3501",
   "metadata": {},
   "outputs": [
    {
     "data": {
      "text/plain": [
       "0.6350877192982456"
      ]
     },
     "execution_count": 29,
     "metadata": {},
     "output_type": "execute_result"
    }
   ],
   "source": [
    "# ROC\n",
    "\n",
    "from sklearn.metrics import roc_curve, auc\n",
    "from sklearn import metrics\n",
    "false_positive_rate, true_positive_rate, thresholds = roc_curve(y_test, Final_model.decision_function(X_test))\n",
    "roc_auc = metrics.roc_auc_score(y_test, Final_model.decision_function(X_test))\n",
    "roc_auc"
   ]
  },
  {
   "cell_type": "code",
   "execution_count": 30,
   "id": "2f28bc9d",
   "metadata": {},
   "outputs": [
    {
     "data": {
      "image/png": "[encoded data removed]",
      "text/plain": [
       "<Figure size 432x288 with 1 Axes>"
      ]
     },
     "metadata": {
      "needs_background": "light"
     },
     "output_type": "display_data"
    }
   ],
   "source": [
    "# ROC Curve\n",
    "\n",
    "import matplotlib.pyplot as plt\n",
    "plt.title('Receiver Operating Characteristic')\n",
    "plt.xlabel('False Positive Rate(1 - Specificity)')\n",
    "plt.ylabel('True Positive Rate(Sensitivity)')\n",
    "\n",
    "plt.plot(false_positive_rate, true_positive_rate, 'b', label='Model (AUC = %0.2f)'%roc_auc)\n",
    "plt.plot([0,1], [1,1], 'y--')\n",
    "plt.plot([0,1], [0,1], 'r--')\n",
    "\n",
    "plt.legend(loc='lower right')\n",
    "plt.show()"
   ]
  },
  {
   "cell_type": "markdown",
   "id": "f04d4a57",
   "metadata": {},
   "source": [
    "## Section 09. 머신러닝 프로세스 - (6) 다중분류"
   ]
  },
  {
   "cell_type": "code",
   "execution_count": 31,
   "id": "a0b41be1",
   "metadata": {},
   "outputs": [],
   "source": [
    "import warnings\n",
    "warnings.filterwarnings(\"ignore\")\n",
    "import pandas as pd\n",
    "data = pd.read_csv('Fvote.csv', encoding='utf-8')"
   ]
  },
  {
   "cell_type": "code",
   "execution_count": 32,
   "id": "975e74a8",
   "metadata": {},
   "outputs": [],
   "source": [
    "X = data[data.columns[1:13]]\n",
    "y = data[['parties']]"
   ]
  },
  {
   "cell_type": "code",
   "execution_count": 33,
   "id": "326bf761",
   "metadata": {},
   "outputs": [],
   "source": [
    "from sklearn.model_selection import train_test_split\n",
    "X_train, X_test, y_train, y_test = train_test_split(X, y, stratify=y, random_state=42)"
   ]
  },
  {
   "cell_type": "code",
   "execution_count": 34,
   "id": "cb865bbb",
   "metadata": {},
   "outputs": [
    {
     "data": {
      "text/plain": [
       "LogisticRegression()"
      ]
     },
     "execution_count": 34,
     "metadata": {},
     "output_type": "execute_result"
    }
   ],
   "source": [
    "from sklearn.linear_model import LogisticRegression\n",
    "model = LogisticRegression()\n",
    "model.fit(X_train, y_train)"
   ]
  },
  {
   "cell_type": "code",
   "execution_count": 35,
   "id": "3129c616",
   "metadata": {},
   "outputs": [
    {
     "data": {
      "text/plain": [
       "0.6139240506329114"
      ]
     },
     "execution_count": 35,
     "metadata": {},
     "output_type": "execute_result"
    }
   ],
   "source": [
    "# 지지정당의 예측범주 predict에 저장\n",
    "\n",
    "pred_train = model.predict(X_train)\n",
    "model.score(X_train, y_train)"
   ]
  },
  {
   "cell_type": "code",
   "execution_count": 36,
   "id": "e9e8a971",
   "metadata": {},
   "outputs": [
    {
     "data": {
      "text/plain": [
       "0.5283018867924528"
      ]
     },
     "execution_count": 36,
     "metadata": {},
     "output_type": "execute_result"
    }
   ],
   "source": [
    "pred_test = model.predict(X_test)\n",
    "model.score(X_test, y_test)"
   ]
  },
  {
   "cell_type": "code",
   "execution_count": 37,
   "id": "04c0ab53",
   "metadata": {},
   "outputs": [
    {
     "name": "stdout",
     "output_type": "stream",
     "text": [
      "훈련데이터 오차행렬:\n",
      " [[21  2  3 11]\n",
      " [ 1 25  2 12]\n",
      " [ 6  2  5  6]\n",
      " [ 7  8  1 46]]\n"
     ]
    }
   ],
   "source": [
    "# 훈련데이터의 혼동행렬\n",
    "\n",
    "from sklearn.metrics import confusion_matrix\n",
    "confusion_train = confusion_matrix(y_train, pred_train)\n",
    "print(\"훈련데이터 오차행렬:\\n\", confusion_train)"
   ]
  },
  {
   "cell_type": "code",
   "execution_count": 38,
   "id": "762512f1",
   "metadata": {},
   "outputs": [
    {
     "name": "stdout",
     "output_type": "stream",
     "text": [
      "테스트데이터 오차행렬:\n",
      " [[ 6  1  2  4]\n",
      " [ 1  9  1  2]\n",
      " [ 1  2  1  2]\n",
      " [ 2  5  2 12]]\n"
     ]
    }
   ],
   "source": [
    "confusion_test = confusion_matrix(y_test, pred_test)\n",
    "print(\"테스트데이터 오차행렬:\\n\", confusion_test)"
   ]
  },
  {
   "cell_type": "code",
   "execution_count": 39,
   "id": "988b808f",
   "metadata": {},
   "outputs": [],
   "source": [
    "# 그리트탐색을 통해 하이퍼파라미터 값 찾기\n",
    "\n",
    "from sklearn.model_selection import GridSearchCV\n",
    "param_grid = {'C': [0.001, 0.01, 0.1, 1, 10, 100]}"
   ]
  },
  {
   "cell_type": "code",
   "execution_count": 40,
   "id": "da58c86e",
   "metadata": {},
   "outputs": [
    {
     "data": {
      "text/plain": [
       "GridSearchCV(cv=5, estimator=LogisticRegression(),\n",
       "             param_grid={'C': [0.001, 0.01, 0.1, 1, 10, 100]},\n",
       "             return_train_score=True)"
      ]
     },
     "execution_count": 40,
     "metadata": {},
     "output_type": "execute_result"
    }
   ],
   "source": [
    "grid_search = GridSearchCV(LogisticRegression(), param_grid, cv=5, return_train_score=True)\n",
    "grid_search.fit(X_train, y_train)"
   ]
  },
  {
   "cell_type": "code",
   "execution_count": 42,
   "id": "5e6fcb22",
   "metadata": {},
   "outputs": [
    {
     "name": "stdout",
     "output_type": "stream",
     "text": [
      "Best Parameter: {'C': 0.1}\n",
      "Best Cross-validity Score: 0.544\n"
     ]
    }
   ],
   "source": [
    "print(\"Best Parameter: {}\".format(grid_search.best_params_))\n",
    "print(\"Best Cross-validity Score: {:.3f}\".format(grid_search.best_score_))"
   ]
  },
  {
   "cell_type": "code",
   "execution_count": 43,
   "id": "29bea96f",
   "metadata": {},
   "outputs": [
    {
     "name": "stdout",
     "output_type": "stream",
     "text": [
      "Test set Score:0.585\n"
     ]
    }
   ],
   "source": [
    "print(\"Test set Score:{:.3f}\".format(grid_search.score(X_test, y_test)))"
   ]
  },
  {
   "cell_type": "code",
   "execution_count": 44,
   "id": "5b7a31c5",
   "metadata": {},
   "outputs": [],
   "source": [
    "# 랜덤탐색\n",
    "\n",
    "from sklearn.model_selection import RandomizedSearchCV\n",
    "from scipy.stats import randint\n",
    "param_distribs = {'C': randint(low=0.001, high=100)}"
   ]
  },
  {
   "cell_type": "code",
   "execution_count": 45,
   "id": "3cc9f026",
   "metadata": {},
   "outputs": [
    {
     "data": {
      "text/plain": [
       "RandomizedSearchCV(cv=5, estimator=LogisticRegression(),\n",
       "                   param_distributions={'C': <scipy.stats._distn_infrastructure.rv_frozen object at 0x000002A4595C2EE0>},\n",
       "                   return_train_score=True)"
      ]
     },
     "execution_count": 45,
     "metadata": {},
     "output_type": "execute_result"
    }
   ],
   "source": [
    "random_search = RandomizedSearchCV(LogisticRegression(), \n",
    "                                  param_distributions = param_distribs, cv=5,\n",
    "                                  # n_iters=100, 랜덤횟수 디폴트=10\n",
    "                                  return_train_score=True)\n",
    "random_search.fit(X_train, y_train)"
   ]
  },
  {
   "cell_type": "code",
   "execution_count": 46,
   "id": "445611cd",
   "metadata": {},
   "outputs": [
    {
     "name": "stdout",
     "output_type": "stream",
     "text": [
      "Best Parameter: {'C': 1}\n",
      "Best Cross-validity Score: 0.538\n"
     ]
    }
   ],
   "source": [
    "print(\"Best Parameter: {}\".format(random_search.best_params_))\n",
    "print(\"Best Cross-validity Score: {:.3f}\".format(random_search.best_score_))"
   ]
  },
  {
   "cell_type": "code",
   "execution_count": 47,
   "id": "8ade10af",
   "metadata": {},
   "outputs": [
    {
     "name": "stdout",
     "output_type": "stream",
     "text": [
      "Test set Score: 0.528\n"
     ]
    }
   ],
   "source": [
    "print(\"Test set Score: {:.3f}\".format(random_search.score(X_test, y_test)))"
   ]
  }
 ],
 "metadata": {
  "kernelspec": {
   "display_name": "Python 3 (ipykernel)",
   "language": "python",
   "name": "python3"
  },
  "language_info": {
   "codemirror_mode": {
    "name": "ipython",
    "version": 3
   },
   "file_extension": ".py",
   "mimetype": "text/x-python",
   "name": "python",
   "nbconvert_exporter": "python",
   "pygments_lexer": "ipython3",
   "version": "3.9.7"
  }
 },
 "nbformat": 4,
 "nbformat_minor": 5
}
