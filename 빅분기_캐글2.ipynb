{
 "cells": [
  {
   "cell_type": "markdown",
   "id": "5fd445b8",
   "metadata": {},
   "source": [
    "## 2.1 2회차 기출 유형\n",
    "\n",
    "https://www.kaggle.com/code/agileteam/tutorial-t2-2-python/data"
   ]
  },
  {
   "cell_type": "markdown",
   "id": "06370c2f",
   "metadata": {},
   "source": [
    "### 전자 상거래 배송 데이터 (Train.csv)\n",
    "\n",
    "- 제품 배송 시간에 맞춰 배송되었는지 예측모델 만들기\n",
    "- 학습용 데이터 (X_train, y_train)을 이용하여 배송 예측 모형을 만든 후, 이를 평가용 데이터(X_test)에 적용하여 얻은 예측값을 다음과 같은 형식의 CSV파일로 생성하시오(제출한 모델의 성능은 ROC-AUC 평가지표에 따라 채점)\n",
    "\n",
    "- 성능이 우수한 예측모형을 구축하기 위해서는 적절한 데이터 전처리, 피처엔지니어링, 분류알고리즘, 하이퍼파라미터 튜닝, 모형 앙상블 등이 수반되어야 한다.\n",
    "- 수험번호.csv파일이 만들어지도록 코드를 제출한다.\n",
    "- 제출한 모델의 성능은 ROC-AUC형태로 읽어드린다."
   ]
  },
  {
   "cell_type": "code",
   "execution_count": 1,
   "id": "b5d928b2",
   "metadata": {},
   "outputs": [
    {
     "data": {
      "text/plain": [
       "((8799, 11), (2200, 11), (8799, 2), (2200, 2))"
      ]
     },
     "execution_count": 1,
     "metadata": {},
     "output_type": "execute_result"
    }
   ],
   "source": [
    "# 시험환경 세팅 (코드 변경 X)\n",
    "import pandas as pd\n",
    "import numpy as np\n",
    "from sklearn.model_selection import train_test_split\n",
    "\n",
    "def exam_data_load(df, target, id_name=\"\", null_name=\"\"):\n",
    "    if id_name == \"\":\n",
    "        df = df.reset_index().rename(columns={\"index\": \"id\"})\n",
    "        id_name = 'id'\n",
    "    else:\n",
    "        id_name = id_name\n",
    "    \n",
    "    if null_name != \"\":\n",
    "        df[df == null_name] = np.nan\n",
    "    \n",
    "    X_train, X_test = train_test_split(df, test_size=0.2, random_state=2021)\n",
    "    \n",
    "    y_train = X_train[[id_name, target]]\n",
    "    X_train = X_train.drop(columns=[target])\n",
    "\n",
    "    \n",
    "    y_test = X_test[[id_name, target]]\n",
    "    X_test = X_test.drop(columns=[target])\n",
    "    return X_train, X_test, y_train, y_test \n",
    "    \n",
    "df = pd.read_csv(\"Train.csv\")\n",
    "X_train, X_test, y_train, y_test = exam_data_load(df, target='Reached.on.Time_Y.N', id_name='ID')\n",
    "\n",
    "X_train.shape, X_test.shape, y_train.shape, y_test.shape"
   ]
  },
  {
   "cell_type": "code",
   "execution_count": 2,
   "id": "f75edac7",
   "metadata": {},
   "outputs": [
    {
     "data": {
      "text/html": [
       "<div>\n",
       "<style scoped>\n",
       "    .dataframe tbody tr th:only-of-type {\n",
       "        vertical-align: middle;\n",
       "    }\n",
       "\n",
       "    .dataframe tbody tr th {\n",
       "        vertical-align: top;\n",
       "    }\n",
       "\n",
       "    .dataframe thead th {\n",
       "        text-align: right;\n",
       "    }\n",
       "</style>\n",
       "<table border=\"1\" class=\"dataframe\">\n",
       "  <thead>\n",
       "    <tr style=\"text-align: right;\">\n",
       "      <th></th>\n",
       "      <th>ID</th>\n",
       "      <th>Warehouse_block</th>\n",
       "      <th>Mode_of_Shipment</th>\n",
       "      <th>Customer_care_calls</th>\n",
       "      <th>Customer_rating</th>\n",
       "      <th>Cost_of_the_Product</th>\n",
       "      <th>Prior_purchases</th>\n",
       "      <th>Product_importance</th>\n",
       "      <th>Gender</th>\n",
       "      <th>Discount_offered</th>\n",
       "      <th>Weight_in_gms</th>\n",
       "    </tr>\n",
       "  </thead>\n",
       "  <tbody>\n",
       "    <tr>\n",
       "      <th>3999</th>\n",
       "      <td>4000</td>\n",
       "      <td>B</td>\n",
       "      <td>Ship</td>\n",
       "      <td>3</td>\n",
       "      <td>4</td>\n",
       "      <td>134</td>\n",
       "      <td>3</td>\n",
       "      <td>high</td>\n",
       "      <td>F</td>\n",
       "      <td>6</td>\n",
       "      <td>5680</td>\n",
       "    </tr>\n",
       "    <tr>\n",
       "      <th>9559</th>\n",
       "      <td>9560</td>\n",
       "      <td>F</td>\n",
       "      <td>Ship</td>\n",
       "      <td>4</td>\n",
       "      <td>3</td>\n",
       "      <td>173</td>\n",
       "      <td>3</td>\n",
       "      <td>medium</td>\n",
       "      <td>M</td>\n",
       "      <td>5</td>\n",
       "      <td>5331</td>\n",
       "    </tr>\n",
       "    <tr>\n",
       "      <th>2649</th>\n",
       "      <td>2650</td>\n",
       "      <td>B</td>\n",
       "      <td>Ship</td>\n",
       "      <td>2</td>\n",
       "      <td>1</td>\n",
       "      <td>192</td>\n",
       "      <td>3</td>\n",
       "      <td>high</td>\n",
       "      <td>M</td>\n",
       "      <td>46</td>\n",
       "      <td>3206</td>\n",
       "    </tr>\n",
       "    <tr>\n",
       "      <th>4843</th>\n",
       "      <td>4844</td>\n",
       "      <td>F</td>\n",
       "      <td>Ship</td>\n",
       "      <td>6</td>\n",
       "      <td>5</td>\n",
       "      <td>284</td>\n",
       "      <td>4</td>\n",
       "      <td>medium</td>\n",
       "      <td>M</td>\n",
       "      <td>8</td>\n",
       "      <td>5346</td>\n",
       "    </tr>\n",
       "    <tr>\n",
       "      <th>9601</th>\n",
       "      <td>9602</td>\n",
       "      <td>F</td>\n",
       "      <td>Flight</td>\n",
       "      <td>3</td>\n",
       "      <td>1</td>\n",
       "      <td>246</td>\n",
       "      <td>3</td>\n",
       "      <td>low</td>\n",
       "      <td>F</td>\n",
       "      <td>10</td>\n",
       "      <td>4707</td>\n",
       "    </tr>\n",
       "  </tbody>\n",
       "</table>\n",
       "</div>"
      ],
      "text/plain": [
       "        ID Warehouse_block Mode_of_Shipment  Customer_care_calls  \\\n",
       "3999  4000               B             Ship                    3   \n",
       "9559  9560               F             Ship                    4   \n",
       "2649  2650               B             Ship                    2   \n",
       "4843  4844               F             Ship                    6   \n",
       "9601  9602               F           Flight                    3   \n",
       "\n",
       "      Customer_rating  Cost_of_the_Product  Prior_purchases  \\\n",
       "3999                4                  134                3   \n",
       "9559                3                  173                3   \n",
       "2649                1                  192                3   \n",
       "4843                5                  284                4   \n",
       "9601                1                  246                3   \n",
       "\n",
       "     Product_importance Gender  Discount_offered  Weight_in_gms  \n",
       "3999               high      F                 6           5680  \n",
       "9559             medium      M                 5           5331  \n",
       "2649               high      M                46           3206  \n",
       "4843             medium      M                 8           5346  \n",
       "9601                low      F                10           4707  "
      ]
     },
     "execution_count": 2,
     "metadata": {},
     "output_type": "execute_result"
    }
   ],
   "source": [
    "X_train.head()"
   ]
  },
  {
   "cell_type": "code",
   "execution_count": 3,
   "id": "dc4f4b2b",
   "metadata": {},
   "outputs": [
    {
     "data": {
      "text/html": [
       "<div>\n",
       "<style scoped>\n",
       "    .dataframe tbody tr th:only-of-type {\n",
       "        vertical-align: middle;\n",
       "    }\n",
       "\n",
       "    .dataframe tbody tr th {\n",
       "        vertical-align: top;\n",
       "    }\n",
       "\n",
       "    .dataframe thead th {\n",
       "        text-align: right;\n",
       "    }\n",
       "</style>\n",
       "<table border=\"1\" class=\"dataframe\">\n",
       "  <thead>\n",
       "    <tr style=\"text-align: right;\">\n",
       "      <th></th>\n",
       "      <th>ID</th>\n",
       "      <th>Reached.on.Time_Y.N</th>\n",
       "    </tr>\n",
       "  </thead>\n",
       "  <tbody>\n",
       "    <tr>\n",
       "      <th>3999</th>\n",
       "      <td>4000</td>\n",
       "      <td>0</td>\n",
       "    </tr>\n",
       "    <tr>\n",
       "      <th>9559</th>\n",
       "      <td>9560</td>\n",
       "      <td>1</td>\n",
       "    </tr>\n",
       "    <tr>\n",
       "      <th>2649</th>\n",
       "      <td>2650</td>\n",
       "      <td>1</td>\n",
       "    </tr>\n",
       "    <tr>\n",
       "      <th>4843</th>\n",
       "      <td>4844</td>\n",
       "      <td>1</td>\n",
       "    </tr>\n",
       "    <tr>\n",
       "      <th>9601</th>\n",
       "      <td>9602</td>\n",
       "      <td>1</td>\n",
       "    </tr>\n",
       "  </tbody>\n",
       "</table>\n",
       "</div>"
      ],
      "text/plain": [
       "        ID  Reached.on.Time_Y.N\n",
       "3999  4000                    0\n",
       "9559  9560                    1\n",
       "2649  2650                    1\n",
       "4843  4844                    1\n",
       "9601  9602                    1"
      ]
     },
     "execution_count": 3,
     "metadata": {},
     "output_type": "execute_result"
    }
   ],
   "source": [
    "y_train.head()"
   ]
  },
  {
   "cell_type": "code",
   "execution_count": 20,
   "id": "3a4ed139",
   "metadata": {},
   "outputs": [
    {
     "data": {
      "text/html": [
       "<div>\n",
       "<style scoped>\n",
       "    .dataframe tbody tr th:only-of-type {\n",
       "        vertical-align: middle;\n",
       "    }\n",
       "\n",
       "    .dataframe tbody tr th {\n",
       "        vertical-align: top;\n",
       "    }\n",
       "\n",
       "    .dataframe thead th {\n",
       "        text-align: right;\n",
       "    }\n",
       "</style>\n",
       "<table border=\"1\" class=\"dataframe\">\n",
       "  <thead>\n",
       "    <tr style=\"text-align: right;\">\n",
       "      <th></th>\n",
       "      <th>Warehouse_block</th>\n",
       "      <th>Mode_of_Shipment</th>\n",
       "      <th>Customer_care_calls</th>\n",
       "      <th>Customer_rating</th>\n",
       "      <th>Cost_of_the_Product</th>\n",
       "      <th>Prior_purchases</th>\n",
       "      <th>Product_importance</th>\n",
       "      <th>Gender</th>\n",
       "      <th>Discount_offered</th>\n",
       "      <th>Weight_in_gms</th>\n",
       "    </tr>\n",
       "  </thead>\n",
       "  <tbody>\n",
       "    <tr>\n",
       "      <th>count</th>\n",
       "      <td>8799.000000</td>\n",
       "      <td>8799.000000</td>\n",
       "      <td>8799.000000</td>\n",
       "      <td>8799.000000</td>\n",
       "      <td>8799.000000</td>\n",
       "      <td>8799.000000</td>\n",
       "      <td>8799.000000</td>\n",
       "      <td>8799.000000</td>\n",
       "      <td>8799.000000</td>\n",
       "      <td>8799.000000</td>\n",
       "    </tr>\n",
       "    <tr>\n",
       "      <th>mean</th>\n",
       "      <td>2.327878</td>\n",
       "      <td>1.507330</td>\n",
       "      <td>4.050006</td>\n",
       "      <td>2.993295</td>\n",
       "      <td>210.087169</td>\n",
       "      <td>3.564723</td>\n",
       "      <td>1.342539</td>\n",
       "      <td>0.493579</td>\n",
       "      <td>13.510399</td>\n",
       "      <td>3616.203660</td>\n",
       "    </tr>\n",
       "    <tr>\n",
       "      <th>std</th>\n",
       "      <td>1.495810</td>\n",
       "      <td>0.761162</td>\n",
       "      <td>1.140903</td>\n",
       "      <td>1.411744</td>\n",
       "      <td>47.937049</td>\n",
       "      <td>1.520299</td>\n",
       "      <td>0.632490</td>\n",
       "      <td>0.499987</td>\n",
       "      <td>16.305299</td>\n",
       "      <td>1635.051213</td>\n",
       "    </tr>\n",
       "    <tr>\n",
       "      <th>min</th>\n",
       "      <td>0.000000</td>\n",
       "      <td>0.000000</td>\n",
       "      <td>2.000000</td>\n",
       "      <td>1.000000</td>\n",
       "      <td>96.000000</td>\n",
       "      <td>2.000000</td>\n",
       "      <td>0.000000</td>\n",
       "      <td>0.000000</td>\n",
       "      <td>1.000000</td>\n",
       "      <td>1001.000000</td>\n",
       "    </tr>\n",
       "    <tr>\n",
       "      <th>25%</th>\n",
       "      <td>1.000000</td>\n",
       "      <td>1.000000</td>\n",
       "      <td>3.000000</td>\n",
       "      <td>2.000000</td>\n",
       "      <td>169.000000</td>\n",
       "      <td>3.000000</td>\n",
       "      <td>1.000000</td>\n",
       "      <td>0.000000</td>\n",
       "      <td>4.000000</td>\n",
       "      <td>1828.000000</td>\n",
       "    </tr>\n",
       "    <tr>\n",
       "      <th>50%</th>\n",
       "      <td>2.000000</td>\n",
       "      <td>2.000000</td>\n",
       "      <td>4.000000</td>\n",
       "      <td>3.000000</td>\n",
       "      <td>214.000000</td>\n",
       "      <td>3.000000</td>\n",
       "      <td>1.000000</td>\n",
       "      <td>0.000000</td>\n",
       "      <td>7.000000</td>\n",
       "      <td>4133.000000</td>\n",
       "    </tr>\n",
       "    <tr>\n",
       "      <th>75%</th>\n",
       "      <td>4.000000</td>\n",
       "      <td>2.000000</td>\n",
       "      <td>5.000000</td>\n",
       "      <td>4.000000</td>\n",
       "      <td>250.000000</td>\n",
       "      <td>4.000000</td>\n",
       "      <td>2.000000</td>\n",
       "      <td>1.000000</td>\n",
       "      <td>10.000000</td>\n",
       "      <td>5034.500000</td>\n",
       "    </tr>\n",
       "    <tr>\n",
       "      <th>max</th>\n",
       "      <td>4.000000</td>\n",
       "      <td>2.000000</td>\n",
       "      <td>7.000000</td>\n",
       "      <td>5.000000</td>\n",
       "      <td>310.000000</td>\n",
       "      <td>10.000000</td>\n",
       "      <td>2.000000</td>\n",
       "      <td>1.000000</td>\n",
       "      <td>65.000000</td>\n",
       "      <td>7846.000000</td>\n",
       "    </tr>\n",
       "  </tbody>\n",
       "</table>\n",
       "</div>"
      ],
      "text/plain": [
       "       Warehouse_block  Mode_of_Shipment  Customer_care_calls  \\\n",
       "count      8799.000000       8799.000000          8799.000000   \n",
       "mean          2.327878          1.507330             4.050006   \n",
       "std           1.495810          0.761162             1.140903   \n",
       "min           0.000000          0.000000             2.000000   \n",
       "25%           1.000000          1.000000             3.000000   \n",
       "50%           2.000000          2.000000             4.000000   \n",
       "75%           4.000000          2.000000             5.000000   \n",
       "max           4.000000          2.000000             7.000000   \n",
       "\n",
       "       Customer_rating  Cost_of_the_Product  Prior_purchases  \\\n",
       "count      8799.000000          8799.000000      8799.000000   \n",
       "mean          2.993295           210.087169         3.564723   \n",
       "std           1.411744            47.937049         1.520299   \n",
       "min           1.000000            96.000000         2.000000   \n",
       "25%           2.000000           169.000000         3.000000   \n",
       "50%           3.000000           214.000000         3.000000   \n",
       "75%           4.000000           250.000000         4.000000   \n",
       "max           5.000000           310.000000        10.000000   \n",
       "\n",
       "       Product_importance       Gender  Discount_offered  Weight_in_gms  \n",
       "count         8799.000000  8799.000000       8799.000000    8799.000000  \n",
       "mean             1.342539     0.493579         13.510399    3616.203660  \n",
       "std              0.632490     0.499987         16.305299    1635.051213  \n",
       "min              0.000000     0.000000          1.000000    1001.000000  \n",
       "25%              1.000000     0.000000          4.000000    1828.000000  \n",
       "50%              1.000000     0.000000          7.000000    4133.000000  \n",
       "75%              2.000000     1.000000         10.000000    5034.500000  \n",
       "max              2.000000     1.000000         65.000000    7846.000000  "
      ]
     },
     "execution_count": 20,
     "metadata": {},
     "output_type": "execute_result"
    }
   ],
   "source": [
    "X_train.describe()"
   ]
  },
  {
   "cell_type": "code",
   "execution_count": 4,
   "id": "b3624432",
   "metadata": {},
   "outputs": [
    {
     "data": {
      "text/plain": [
       "ID                     0\n",
       "Warehouse_block        0\n",
       "Mode_of_Shipment       0\n",
       "Customer_care_calls    0\n",
       "Customer_rating        0\n",
       "Cost_of_the_Product    0\n",
       "Prior_purchases        0\n",
       "Product_importance     0\n",
       "Gender                 0\n",
       "Discount_offered       0\n",
       "Weight_in_gms          0\n",
       "dtype: int64"
      ]
     },
     "execution_count": 4,
     "metadata": {},
     "output_type": "execute_result"
    }
   ],
   "source": [
    "X_train.isnull().sum()"
   ]
  },
  {
   "cell_type": "code",
   "execution_count": 5,
   "id": "2cf3f1d6",
   "metadata": {},
   "outputs": [
    {
     "name": "stdout",
     "output_type": "stream",
     "text": [
      "<class 'pandas.core.frame.DataFrame'>\n",
      "Int64Index: 8799 entries, 3999 to 9332\n",
      "Data columns (total 11 columns):\n",
      " #   Column               Non-Null Count  Dtype \n",
      "---  ------               --------------  ----- \n",
      " 0   ID                   8799 non-null   int64 \n",
      " 1   Warehouse_block      8799 non-null   object\n",
      " 2   Mode_of_Shipment     8799 non-null   object\n",
      " 3   Customer_care_calls  8799 non-null   int64 \n",
      " 4   Customer_rating      8799 non-null   int64 \n",
      " 5   Cost_of_the_Product  8799 non-null   int64 \n",
      " 6   Prior_purchases      8799 non-null   int64 \n",
      " 7   Product_importance   8799 non-null   object\n",
      " 8   Gender               8799 non-null   object\n",
      " 9   Discount_offered     8799 non-null   int64 \n",
      " 10  Weight_in_gms        8799 non-null   int64 \n",
      "dtypes: int64(7), object(4)\n",
      "memory usage: 824.9+ KB\n"
     ]
    }
   ],
   "source": [
    "X_train.info()"
   ]
  },
  {
   "cell_type": "code",
   "execution_count": 6,
   "id": "f1cc8a4f",
   "metadata": {},
   "outputs": [],
   "source": [
    "from sklearn.preprocessing import LabelEncoder\n",
    "encoder = LabelEncoder()\n",
    "\n",
    "encoder.fit(X_train['Warehouse_block'])\n",
    "X_train['Warehouse_block'] = encoder.transform(X_train['Warehouse_block'])\n",
    "X_test['Warehouse_block'] = encoder.transform(X_test['Warehouse_block'])\n",
    "\n",
    "encoder.fit(X_train['Mode_of_Shipment'])\n",
    "X_train['Mode_of_Shipment'] = encoder.transform(X_train['Mode_of_Shipment'])\n",
    "X_test['Mode_of_Shipment'] = encoder.transform(X_test['Mode_of_Shipment'])\n",
    "\n",
    "encoder.fit(X_train['Product_importance'])\n",
    "X_train['Product_importance'] = encoder.transform(X_train['Product_importance'])\n",
    "X_test['Product_importance'] = encoder.transform(X_test['Product_importance'])\n",
    "\n",
    "encoder.fit(X_train['Gender'])\n",
    "X_train['Gender'] = encoder.transform(X_train['Gender'])\n",
    "X_test['Gender'] = encoder.transform(X_test['Gender'])"
   ]
  },
  {
   "cell_type": "code",
   "execution_count": 7,
   "id": "d8ecd448",
   "metadata": {},
   "outputs": [
    {
     "data": {
      "text/html": [
       "<div>\n",
       "<style scoped>\n",
       "    .dataframe tbody tr th:only-of-type {\n",
       "        vertical-align: middle;\n",
       "    }\n",
       "\n",
       "    .dataframe tbody tr th {\n",
       "        vertical-align: top;\n",
       "    }\n",
       "\n",
       "    .dataframe thead th {\n",
       "        text-align: right;\n",
       "    }\n",
       "</style>\n",
       "<table border=\"1\" class=\"dataframe\">\n",
       "  <thead>\n",
       "    <tr style=\"text-align: right;\">\n",
       "      <th></th>\n",
       "      <th>ID</th>\n",
       "      <th>Warehouse_block</th>\n",
       "      <th>Mode_of_Shipment</th>\n",
       "      <th>Customer_care_calls</th>\n",
       "      <th>Customer_rating</th>\n",
       "      <th>Cost_of_the_Product</th>\n",
       "      <th>Prior_purchases</th>\n",
       "      <th>Product_importance</th>\n",
       "      <th>Gender</th>\n",
       "      <th>Discount_offered</th>\n",
       "      <th>Weight_in_gms</th>\n",
       "    </tr>\n",
       "  </thead>\n",
       "  <tbody>\n",
       "    <tr>\n",
       "      <th>3999</th>\n",
       "      <td>4000</td>\n",
       "      <td>1</td>\n",
       "      <td>2</td>\n",
       "      <td>3</td>\n",
       "      <td>4</td>\n",
       "      <td>134</td>\n",
       "      <td>3</td>\n",
       "      <td>0</td>\n",
       "      <td>0</td>\n",
       "      <td>6</td>\n",
       "      <td>5680</td>\n",
       "    </tr>\n",
       "    <tr>\n",
       "      <th>9559</th>\n",
       "      <td>9560</td>\n",
       "      <td>4</td>\n",
       "      <td>2</td>\n",
       "      <td>4</td>\n",
       "      <td>3</td>\n",
       "      <td>173</td>\n",
       "      <td>3</td>\n",
       "      <td>2</td>\n",
       "      <td>1</td>\n",
       "      <td>5</td>\n",
       "      <td>5331</td>\n",
       "    </tr>\n",
       "    <tr>\n",
       "      <th>2649</th>\n",
       "      <td>2650</td>\n",
       "      <td>1</td>\n",
       "      <td>2</td>\n",
       "      <td>2</td>\n",
       "      <td>1</td>\n",
       "      <td>192</td>\n",
       "      <td>3</td>\n",
       "      <td>0</td>\n",
       "      <td>1</td>\n",
       "      <td>46</td>\n",
       "      <td>3206</td>\n",
       "    </tr>\n",
       "    <tr>\n",
       "      <th>4843</th>\n",
       "      <td>4844</td>\n",
       "      <td>4</td>\n",
       "      <td>2</td>\n",
       "      <td>6</td>\n",
       "      <td>5</td>\n",
       "      <td>284</td>\n",
       "      <td>4</td>\n",
       "      <td>2</td>\n",
       "      <td>1</td>\n",
       "      <td>8</td>\n",
       "      <td>5346</td>\n",
       "    </tr>\n",
       "    <tr>\n",
       "      <th>9601</th>\n",
       "      <td>9602</td>\n",
       "      <td>4</td>\n",
       "      <td>0</td>\n",
       "      <td>3</td>\n",
       "      <td>1</td>\n",
       "      <td>246</td>\n",
       "      <td>3</td>\n",
       "      <td>1</td>\n",
       "      <td>0</td>\n",
       "      <td>10</td>\n",
       "      <td>4707</td>\n",
       "    </tr>\n",
       "  </tbody>\n",
       "</table>\n",
       "</div>"
      ],
      "text/plain": [
       "        ID  Warehouse_block  Mode_of_Shipment  Customer_care_calls  \\\n",
       "3999  4000                1                 2                    3   \n",
       "9559  9560                4                 2                    4   \n",
       "2649  2650                1                 2                    2   \n",
       "4843  4844                4                 2                    6   \n",
       "9601  9602                4                 0                    3   \n",
       "\n",
       "      Customer_rating  Cost_of_the_Product  Prior_purchases  \\\n",
       "3999                4                  134                3   \n",
       "9559                3                  173                3   \n",
       "2649                1                  192                3   \n",
       "4843                5                  284                4   \n",
       "9601                1                  246                3   \n",
       "\n",
       "      Product_importance  Gender  Discount_offered  Weight_in_gms  \n",
       "3999                   0       0                 6           5680  \n",
       "9559                   2       1                 5           5331  \n",
       "2649                   0       1                46           3206  \n",
       "4843                   2       1                 8           5346  \n",
       "9601                   1       0                10           4707  "
      ]
     },
     "execution_count": 7,
     "metadata": {},
     "output_type": "execute_result"
    }
   ],
   "source": [
    "X_train.head()"
   ]
  },
  {
   "cell_type": "code",
   "execution_count": 8,
   "id": "68b74991",
   "metadata": {},
   "outputs": [],
   "source": [
    "X_train_id = X_train.pop('ID')\n",
    "X_test_id = X_test.pop('ID')"
   ]
  },
  {
   "cell_type": "code",
   "execution_count": 9,
   "id": "359638c0",
   "metadata": {},
   "outputs": [],
   "source": [
    "from sklearn.model_selection import train_test_split\n",
    "X_tra, X_val, y_tra, y_val = train_test_split(X_train, y_train, stratify=y_train['Reached.on.Time_Y.N'], random_state=42)"
   ]
  },
  {
   "cell_type": "code",
   "execution_count": 10,
   "id": "bf899ed9",
   "metadata": {},
   "outputs": [
    {
     "data": {
      "text/plain": [
       "RandomForestClassifier()"
      ]
     },
     "execution_count": 10,
     "metadata": {},
     "output_type": "execute_result"
    }
   ],
   "source": [
    "from sklearn.ensemble import RandomForestClassifier\n",
    "model = RandomForestClassifier()\n",
    "model.fit(X_tra, y_tra['Reached.on.Time_Y.N'])"
   ]
  },
  {
   "cell_type": "code",
   "execution_count": 11,
   "id": "4d5c34a6",
   "metadata": {},
   "outputs": [],
   "source": [
    "pred_val = model.predict(X_val)"
   ]
  },
  {
   "cell_type": "code",
   "execution_count": 12,
   "id": "13129a54",
   "metadata": {
    "scrolled": true
   },
   "outputs": [
    {
     "data": {
      "text/plain": [
       "0.6620972300734879"
      ]
     },
     "execution_count": 12,
     "metadata": {},
     "output_type": "execute_result"
    }
   ],
   "source": [
    "from sklearn.metrics import roc_auc_score\n",
    "roc_auc_score(pred_val, y_val['Reached.on.Time_Y.N'])"
   ]
  },
  {
   "cell_type": "code",
   "execution_count": null,
   "id": "8d384e11",
   "metadata": {},
   "outputs": [],
   "source": [
    "model.fit(X_train, y_train['Reached.on.Time_Y.N'])\n",
    "pred_train = model.predict(X_train)\n",
    "roc_auc_score(pred_train, y_train['Reached.on.Time_Y.N'])"
   ]
  },
  {
   "cell_type": "code",
   "execution_count": null,
   "id": "e218788f",
   "metadata": {},
   "outputs": [],
   "source": [
    "pred = model.predict(X_test)"
   ]
  },
  {
   "cell_type": "code",
   "execution_count": null,
   "id": "f3d155ff",
   "metadata": {},
   "outputs": [],
   "source": [
    "pred = pd.DataFrame({'ID': X_test_id, 'Reached.on.Time_Y.N': pred})"
   ]
  },
  {
   "cell_type": "code",
   "execution_count": null,
   "id": "8acf4e8d",
   "metadata": {},
   "outputs": [],
   "source": [
    "pred.to_csv('submission.csv', index=False)"
   ]
  },
  {
   "cell_type": "markdown",
   "id": "a054166f",
   "metadata": {},
   "source": [
    "## 2.2 공식 예제\n",
    "\n",
    "https://www.kaggle.com/code/agileteam/t2-exercise-tutorial-baseline/notebook"
   ]
  },
  {
   "cell_type": "markdown",
   "id": "1acf6dff",
   "metadata": {},
   "source": [
    "### 백화점 고객의 1년간 구매 데이터\n",
    "\n",
    "- 고객 3,500명에 대한 학습용 데이터를 이용하여 성별예측 모형을 만든 후,\n",
    "- 이를 평가용 데이터에 적용하여 얻은 2,482명 고객의 성별 예측값(남자일 확률)을 다음과 같은 형식의 CSV 파일로 생성하시오.\n",
    "- 0:여자, 1:남자"
   ]
  },
  {
   "cell_type": "code",
   "execution_count": null,
   "id": "6cdc184a",
   "metadata": {},
   "outputs": [],
   "source": [
    "import pandas as pd\n",
    "X_train = pd.read_csv(\"data/X_train.csv\", encoding=\"euc-kr\") # 구름 IDE환경에서는 encoding=\"euc-kr\"가 없어도 됨\n",
    "X_test = pd.read_csv(\"data/X_test.csv\", encoding=\"euc-kr\")\n",
    "y_train = pd.read_csv(\"data/y_train.csv\", encoding=\"euc-kr\")\n",
    "\n",
    "X_train.head()"
   ]
  },
  {
   "cell_type": "code",
   "execution_count": null,
   "id": "a31d7ab6",
   "metadata": {},
   "outputs": [],
   "source": [
    "y_train.head()"
   ]
  },
  {
   "cell_type": "code",
   "execution_count": null,
   "id": "81d3d061",
   "metadata": {},
   "outputs": [],
   "source": [
    "X_train.isnull().sum()"
   ]
  },
  {
   "cell_type": "code",
   "execution_count": null,
   "id": "36a1f822",
   "metadata": {},
   "outputs": [],
   "source": [
    "X_train['환불금액'] = X_train['환불금액'].fillna(0)\n",
    "X_test['환불금액'] = X_test['환불금액'].fillna(0)"
   ]
  },
  {
   "cell_type": "code",
   "execution_count": null,
   "id": "9bbfa52e",
   "metadata": {},
   "outputs": [],
   "source": [
    "X_train.info()"
   ]
  },
  {
   "cell_type": "code",
   "execution_count": null,
   "id": "0dfa0d2b",
   "metadata": {},
   "outputs": [],
   "source": [
    "from sklearn.preprocessing import LabelEncoder\n",
    "encoder = LabelEncoder()\n",
    "\n",
    "encoder.fit(X_train['주구매상품'])\n",
    "X_train['주구매상품'] = encoder.transform(X_train['주구매상품'])\n",
    "X_test['주구매상품'] = encoder.transform(X_test['주구매상품'])\n",
    "\n",
    "encoder.fit(X_train['주구매지점'])\n",
    "X_train['주구매지점'] = encoder.transform(X_train['주구매지점'])\n",
    "X_test['주구매지점'] = encoder.transform(X_test['주구매지점'])"
   ]
  },
  {
   "cell_type": "code",
   "execution_count": null,
   "id": "e2a3b0c6",
   "metadata": {},
   "outputs": [],
   "source": [
    "X_train_id = X_train.pop('cust_id')\n",
    "X_test_id = X_test.pop('cust_id')"
   ]
  },
  {
   "cell_type": "code",
   "execution_count": null,
   "id": "8a7c7e68",
   "metadata": {},
   "outputs": [],
   "source": [
    "from sklearn.model_selection import train_test_split\n",
    "X_tra, X_val, y_tra, y_val = train_test_split(X_train, y_train['gender'], stratify=y_train['gender'], random_state=42)"
   ]
  },
  {
   "cell_type": "code",
   "execution_count": null,
   "id": "f205c08a",
   "metadata": {},
   "outputs": [],
   "source": [
    "from sklearn.ensemble import RandomForestClassifier\n",
    "model = RandomForestClassifier(n_estimators=100, max_depth=5)\n",
    "model.fit(X_tra, y_tra)"
   ]
  },
  {
   "cell_type": "code",
   "execution_count": null,
   "id": "71ae040b",
   "metadata": {},
   "outputs": [],
   "source": [
    "pred_val = model.predict(X_val)"
   ]
  },
  {
   "cell_type": "code",
   "execution_count": null,
   "id": "c394f2ce",
   "metadata": {},
   "outputs": [],
   "source": [
    "from sklearn.metrics import roc_auc_score\n",
    "roc_auc_score(pred_val, y_val)"
   ]
  },
  {
   "cell_type": "code",
   "execution_count": null,
   "id": "e633e2a0",
   "metadata": {},
   "outputs": [],
   "source": [
    "model.fit(X_train, y_train['gender'])\n",
    "pred_train = model.predict(X_train)\n",
    "roc_auc_score(pred_train, y_train['gender'])"
   ]
  },
  {
   "cell_type": "code",
   "execution_count": null,
   "id": "fc4aa7ef",
   "metadata": {},
   "outputs": [],
   "source": [
    "pred = model.predict(X_test)\n",
    "submission = pd.DataFrame({'cust_id' : X_test_id, 'gender':pred})\n",
    "submission.to_csv('data/submission.csv', index=False)"
   ]
  },
  {
   "cell_type": "markdown",
   "id": "fca0a109",
   "metadata": {},
   "source": [
    "## 3회차 기출 유형(1)\n",
    "\n",
    "https://www.kaggle.com/code/agileteam/3rd-type2-3-2-baseline/notebook"
   ]
  },
  {
   "cell_type": "markdown",
   "id": "2dc80e0e",
   "metadata": {},
   "source": [
    "- 여행 보험 패키지 상품을 구매할 확률 값을 구하시오\n",
    "- 예측할 값(y): TravelInsurance (여행보험 패지지를 구매 했는지 여부 0:구매안함, 1:구매)\n",
    "- 평가: roc-auc 평가지표\n",
    "- data: t2-1-train.csv, t2-1-test.csv\n",
    "- 제출형식\n",
    "    - id,TravelInsurance"
   ]
  },
  {
   "cell_type": "code",
   "execution_count": null,
   "id": "d2cf4974",
   "metadata": {},
   "outputs": [],
   "source": [
    "import pandas as pd\n",
    "X_train = pd.read_csv('t2-1-train.csv')\n",
    "X_test = pd.read_csv('t2-1-test.csv')"
   ]
  },
  {
   "cell_type": "code",
   "execution_count": null,
   "id": "8210ca26",
   "metadata": {},
   "outputs": [],
   "source": []
  },
  {
   "cell_type": "code",
   "execution_count": null,
   "id": "6c455d10",
   "metadata": {},
   "outputs": [],
   "source": []
  },
  {
   "cell_type": "code",
   "execution_count": null,
   "id": "abe01c77",
   "metadata": {},
   "outputs": [],
   "source": []
  },
  {
   "cell_type": "code",
   "execution_count": null,
   "id": "3e023dbb",
   "metadata": {},
   "outputs": [],
   "source": []
  },
  {
   "cell_type": "code",
   "execution_count": null,
   "id": "a5cff04e",
   "metadata": {},
   "outputs": [],
   "source": []
  },
  {
   "cell_type": "code",
   "execution_count": null,
   "id": "32934075",
   "metadata": {},
   "outputs": [],
   "source": []
  },
  {
   "cell_type": "code",
   "execution_count": null,
   "id": "072d68dd",
   "metadata": {},
   "outputs": [],
   "source": []
  },
  {
   "cell_type": "code",
   "execution_count": null,
   "id": "81b1b9ca",
   "metadata": {},
   "outputs": [],
   "source": []
  },
  {
   "cell_type": "code",
   "execution_count": null,
   "id": "3f9e325c",
   "metadata": {},
   "outputs": [],
   "source": []
  },
  {
   "cell_type": "code",
   "execution_count": null,
   "id": "9d502edf",
   "metadata": {},
   "outputs": [],
   "source": []
  },
  {
   "cell_type": "code",
   "execution_count": null,
   "id": "fb6a1bc7",
   "metadata": {},
   "outputs": [],
   "source": []
  },
  {
   "cell_type": "code",
   "execution_count": null,
   "id": "a8b195e5",
   "metadata": {},
   "outputs": [],
   "source": []
  },
  {
   "cell_type": "code",
   "execution_count": null,
   "id": "e0ec3208",
   "metadata": {},
   "outputs": [],
   "source": []
  },
  {
   "cell_type": "code",
   "execution_count": null,
   "id": "d267bca6",
   "metadata": {},
   "outputs": [],
   "source": []
  },
  {
   "cell_type": "code",
   "execution_count": null,
   "id": "6eb0168a",
   "metadata": {},
   "outputs": [],
   "source": []
  },
  {
   "cell_type": "code",
   "execution_count": null,
   "id": "9c414d11",
   "metadata": {},
   "outputs": [],
   "source": []
  },
  {
   "cell_type": "markdown",
   "id": "ec39de08",
   "metadata": {},
   "source": [
    "## 3회차 기출 유형(2)\n",
    "\n",
    "https://www.kaggle.com/code/agileteam/t2-2-2-baseline-r2"
   ]
  },
  {
   "cell_type": "markdown",
   "id": "6b459819",
   "metadata": {},
   "source": [
    "- 대학원 입학 예측(회귀)\n",
    "- 예측할 값(target): \"Chance of Admit \"\n",
    "- 평가: r2\n",
    "- data(3개): t2-2-X_train, t2-2-y_train, t2-2-X_test\n",
    "- 제출 형식(Serial No.-> id, 예측 값 -> target)\n",
    "- id,target"
   ]
  },
  {
   "cell_type": "code",
   "execution_count": null,
   "id": "bedda8d3",
   "metadata": {},
   "outputs": [],
   "source": [
    "import pandas as pd\n",
    "X_train = pd.read_csv('t2-2-X_train.csv')\n",
    "X_test = pd.read_csv('t2-2-X_test.csv')\n",
    "y_train = pd.read_csv('t2-2-y_train.csv')\n",
    "\n",
    "X_train.head()"
   ]
  },
  {
   "cell_type": "code",
   "execution_count": null,
   "id": "f56e4dc8",
   "metadata": {},
   "outputs": [],
   "source": []
  },
  {
   "cell_type": "code",
   "execution_count": null,
   "id": "2b881ef6",
   "metadata": {},
   "outputs": [],
   "source": []
  },
  {
   "cell_type": "code",
   "execution_count": null,
   "id": "cd695a49",
   "metadata": {},
   "outputs": [],
   "source": []
  },
  {
   "cell_type": "code",
   "execution_count": null,
   "id": "2908216c",
   "metadata": {},
   "outputs": [],
   "source": []
  },
  {
   "cell_type": "code",
   "execution_count": null,
   "id": "fcd4f014",
   "metadata": {},
   "outputs": [],
   "source": []
  },
  {
   "cell_type": "code",
   "execution_count": null,
   "id": "1744b98d",
   "metadata": {},
   "outputs": [],
   "source": []
  },
  {
   "cell_type": "code",
   "execution_count": null,
   "id": "643be93e",
   "metadata": {},
   "outputs": [],
   "source": []
  },
  {
   "cell_type": "code",
   "execution_count": null,
   "id": "c231752f",
   "metadata": {},
   "outputs": [],
   "source": []
  },
  {
   "cell_type": "code",
   "execution_count": null,
   "id": "9d84de29",
   "metadata": {},
   "outputs": [],
   "source": []
  },
  {
   "cell_type": "code",
   "execution_count": null,
   "id": "0eef7067",
   "metadata": {},
   "outputs": [],
   "source": []
  },
  {
   "cell_type": "code",
   "execution_count": null,
   "id": "6048330e",
   "metadata": {},
   "outputs": [],
   "source": []
  },
  {
   "cell_type": "code",
   "execution_count": null,
   "id": "dbf9a666",
   "metadata": {},
   "outputs": [],
   "source": []
  },
  {
   "cell_type": "code",
   "execution_count": null,
   "id": "1036d575",
   "metadata": {},
   "outputs": [],
   "source": []
  },
  {
   "cell_type": "markdown",
   "id": "d4f60593",
   "metadata": {},
   "source": [
    "## T2-1. 타이타닉(Titanic) Simple Baseline\n",
    "\n",
    "https://www.kaggle.com/code/agileteam/t2-1-titanic-simple-baseline/notebook"
   ]
  },
  {
   "cell_type": "markdown",
   "id": "2a83d530",
   "metadata": {},
   "source": [
    "- 학습용 데이터 (X_train, y_train)을 이용하여 생존 예측 모형을 만든 후, 이를 평가용 데이터(X_test)에 적용하여 얻은 예측값을 다음과 같은 형식의 CSV파일로 생성하시오(제출한 모델의 성능은 accuracy 평가지표에 따라 채점)"
   ]
  },
  {
   "cell_type": "code",
   "execution_count": null,
   "id": "59ec6329",
   "metadata": {},
   "outputs": [],
   "source": [
    "# 시험환경 세팅 (코드 변경 X)\n",
    "import pandas as pd\n",
    "import numpy as np\n",
    "from sklearn.model_selection import train_test_split\n",
    "\n",
    "def exam_data_load(df, target, id_name=\"\", null_name=\"\"):\n",
    "    if id_name == \"\":\n",
    "        df = df.reset_index().rename(columns={\"index\": \"id\"})\n",
    "        id_name = 'id'\n",
    "    else:\n",
    "        id_name = id_name\n",
    "    \n",
    "    if null_name != \"\":\n",
    "        df[df == null_name] = np.nan\n",
    "    \n",
    "    X_train, X_test = train_test_split(df, test_size=0.2, random_state=2021)\n",
    "    \n",
    "    y_train = X_train[[id_name, target]]\n",
    "    X_train = X_train.drop(columns=[target])\n",
    "\n",
    "    \n",
    "    y_test = X_test[[id_name, target]]\n",
    "    X_test = X_test.drop(columns=[target])\n",
    "    return X_train, X_test, y_train, y_test \n",
    "    \n",
    "df = pd.read_csv(\"titanic/train.csv\")\n",
    "X_train, X_test, y_train, y_test = exam_data_load(df, target='Survived', id_name='PassengerId')\n",
    "\n",
    "X_train.shape, X_test.shape, y_train.shape, y_test.shape"
   ]
  },
  {
   "cell_type": "code",
   "execution_count": null,
   "id": "7042391d",
   "metadata": {},
   "outputs": [],
   "source": [
    "X_train.head()"
   ]
  },
  {
   "cell_type": "code",
   "execution_count": null,
   "id": "1e19acc6",
   "metadata": {},
   "outputs": [],
   "source": [
    "y_train.head()"
   ]
  },
  {
   "cell_type": "code",
   "execution_count": null,
   "id": "41345734",
   "metadata": {},
   "outputs": [],
   "source": [
    "X_train.info()"
   ]
  },
  {
   "cell_type": "code",
   "execution_count": null,
   "id": "aaa714b9",
   "metadata": {},
   "outputs": [],
   "source": [
    "X_train = X_train[['PassengerId', 'Pclass', 'Sex', 'Age', 'SibSp', 'Parch', 'Fare']]\n",
    "X_test = X_test[['PassengerId', 'Pclass', 'Sex', 'Age', 'SibSp', 'Parch', 'Fare']]\n",
    "X_train.info()"
   ]
  },
  {
   "cell_type": "code",
   "execution_count": null,
   "id": "540e5c21",
   "metadata": {},
   "outputs": [],
   "source": [
    "X_train.isnull().sum()"
   ]
  },
  {
   "cell_type": "code",
   "execution_count": null,
   "id": "37acedd9",
   "metadata": {},
   "outputs": [],
   "source": [
    "X_test.isnull().sum()"
   ]
  },
  {
   "cell_type": "code",
   "execution_count": null,
   "id": "048a3a5d",
   "metadata": {},
   "outputs": [],
   "source": [
    "X_train['Age'] = X_train['Age'].fillna(X_train['Age'].median())\n",
    "X_test['Age'] = X_test['Age'].fillna(X_train['Age'].median())"
   ]
  },
  {
   "cell_type": "code",
   "execution_count": null,
   "id": "b7b12aff",
   "metadata": {},
   "outputs": [],
   "source": [
    "from sklearn.preprocessing import LabelEncoder\n",
    "encoder = LabelEncoder()"
   ]
  },
  {
   "cell_type": "code",
   "execution_count": null,
   "id": "e26be30f",
   "metadata": {},
   "outputs": [],
   "source": [
    "X_train['Pclass'] = encoder.fit_transform(X_train['Pclass'])\n",
    "X_train['Sex'] = encoder.fit_transform(X_train['Sex'])\n",
    "\n",
    "X_test['Pclass'] = encoder.fit_transform(X_test['Pclass'])\n",
    "X_test['Sex'] = encoder.fit_transform(X_test['Sex'])"
   ]
  },
  {
   "cell_type": "code",
   "execution_count": null,
   "id": "02cb68e4",
   "metadata": {},
   "outputs": [],
   "source": [
    "X_train_id = X_train.pop('PassengerId')\n",
    "X_test_id = X_test.pop('PassengerId')"
   ]
  },
  {
   "cell_type": "code",
   "execution_count": null,
   "id": "ba2db85a",
   "metadata": {},
   "outputs": [],
   "source": [
    "from sklearn.model_selection import train_test_split\n",
    "X_tra, X_val, y_tra, y_val = train_test_split(X_train, y_train[['Survived']], stratify=y_train[['Survived']], random_state=42)"
   ]
  },
  {
   "cell_type": "code",
   "execution_count": null,
   "id": "66211636",
   "metadata": {},
   "outputs": [],
   "source": [
    "from sklearn.ensemble import RandomForestClassifier\n",
    "model = RandomForestClassifier()\n",
    "model.fit(X_tra, y_tra)"
   ]
  },
  {
   "cell_type": "code",
   "execution_count": null,
   "id": "8fe62b90",
   "metadata": {},
   "outputs": [],
   "source": [
    "model.score(X_tra, y_tra)"
   ]
  },
  {
   "cell_type": "code",
   "execution_count": null,
   "id": "c7eac786",
   "metadata": {},
   "outputs": [],
   "source": [
    "model.score(X_val, y_val)"
   ]
  },
  {
   "cell_type": "code",
   "execution_count": null,
   "id": "9d9d21e2",
   "metadata": {},
   "outputs": [],
   "source": [
    "pred_val = model.predict(X_val)"
   ]
  },
  {
   "cell_type": "code",
   "execution_count": null,
   "id": "402d3546",
   "metadata": {},
   "outputs": [],
   "source": [
    "from sklearn.metrics import roc_auc_score\n",
    "roc_auc_score(pred_val, y_val)"
   ]
  },
  {
   "cell_type": "code",
   "execution_count": null,
   "id": "71b96dd2",
   "metadata": {},
   "outputs": [],
   "source": [
    "model.fit(X_train, y_train['Survived'])\n",
    "model.score(X_train, y_train['Survived'])"
   ]
  },
  {
   "cell_type": "code",
   "execution_count": null,
   "id": "4223b327",
   "metadata": {},
   "outputs": [],
   "source": [
    "pred = model.predict(X_test)\n",
    "pred"
   ]
  },
  {
   "cell_type": "code",
   "execution_count": null,
   "id": "49d431bc",
   "metadata": {},
   "outputs": [],
   "source": [
    "submission = pd.DataFrame({'PassengerId': X_test_id, 'Survived': pred})\n",
    "submission.head()"
   ]
  },
  {
   "cell_type": "code",
   "execution_count": null,
   "id": "2890ab6f",
   "metadata": {},
   "outputs": [],
   "source": [
    "submission.to_csv('titanic/submission.csv', index=False)"
   ]
  },
  {
   "cell_type": "markdown",
   "id": "67a871f1",
   "metadata": {},
   "source": [
    "## T2-5. Insurance Forecast\n",
    "\n",
    "https://www.kaggle.com/code/agileteam/insurance-starter-tutorial/notebook"
   ]
  },
  {
   "cell_type": "code",
   "execution_count": null,
   "id": "5a0e3499",
   "metadata": {},
   "outputs": [],
   "source": [
    "# 시험환경 세팅 (코드 변경 X)\n",
    "import pandas as pd\n",
    "import numpy as np\n",
    "from sklearn.model_selection import train_test_split\n",
    "\n",
    "def exam_data_load(df, target, id_name=\"\", null_name=\"\"):\n",
    "    if id_name == \"\":\n",
    "        df = df.reset_index().rename(columns={\"index\": \"id\"})\n",
    "        id_name = 'id'\n",
    "    else:\n",
    "        id_name = id_name\n",
    "    \n",
    "    if null_name != \"\":\n",
    "        df[df == null_name] = np.nan\n",
    "    \n",
    "    X_train, X_test = train_test_split(df, test_size=0.2, random_state=2021)\n",
    "    \n",
    "    y_train = X_train[[id_name, target]]\n",
    "    X_train = X_train.drop(columns=[target])\n",
    "\n",
    "    \n",
    "    y_test = X_test[[id_name, target]]\n",
    "    X_test = X_test.drop(columns=[target])\n",
    "    return X_train, X_test, y_train, y_test \n",
    "    \n",
    "df = pd.read_csv(\"insurance.csv\")\n",
    "X_train, X_test, y_train, y_test = exam_data_load(df, target='charges')\n",
    "\n",
    "X_train.shape, X_test.shape, y_train.shape, y_test.shape"
   ]
  },
  {
   "cell_type": "code",
   "execution_count": null,
   "id": "3cae85b3",
   "metadata": {},
   "outputs": [],
   "source": [
    "X_train.head()"
   ]
  },
  {
   "cell_type": "code",
   "execution_count": null,
   "id": "4ff8d209",
   "metadata": {},
   "outputs": [],
   "source": [
    "y_train.head()"
   ]
  },
  {
   "cell_type": "code",
   "execution_count": null,
   "id": "1697f1f3",
   "metadata": {},
   "outputs": [],
   "source": [
    "X_train.info()"
   ]
  },
  {
   "cell_type": "code",
   "execution_count": null,
   "id": "025671b9",
   "metadata": {},
   "outputs": [],
   "source": [
    "X_train.isnull().sum()"
   ]
  },
  {
   "cell_type": "code",
   "execution_count": null,
   "id": "2d930af0",
   "metadata": {},
   "outputs": [],
   "source": [
    "X_test.isnull().sum()"
   ]
  },
  {
   "cell_type": "code",
   "execution_count": null,
   "id": "e063b47b",
   "metadata": {},
   "outputs": [],
   "source": [
    "X_train = pd.get_dummies(X_train)\n",
    "X_train"
   ]
  },
  {
   "cell_type": "code",
   "execution_count": null,
   "id": "c4d620e3",
   "metadata": {},
   "outputs": [],
   "source": [
    "X_test = pd.get_dummies(X_test)"
   ]
  },
  {
   "cell_type": "code",
   "execution_count": null,
   "id": "c5089692",
   "metadata": {},
   "outputs": [],
   "source": [
    "X_train_id = X_train.pop('id')\n",
    "X_test_id = X_test.pop('id')"
   ]
  },
  {
   "cell_type": "code",
   "execution_count": null,
   "id": "3bdd9ffd",
   "metadata": {},
   "outputs": [],
   "source": [
    "X_train.head()"
   ]
  },
  {
   "cell_type": "code",
   "execution_count": null,
   "id": "409697c6",
   "metadata": {},
   "outputs": [],
   "source": [
    "from sklearn.ensemble import RandomForestRegressor\n",
    "model = RandomForestRegressor()\n",
    "model.fit(X_train, y_train['charges'])"
   ]
  },
  {
   "cell_type": "code",
   "execution_count": null,
   "id": "49cb247c",
   "metadata": {},
   "outputs": [],
   "source": [
    "model.score(X_train, y_train['charges'])"
   ]
  },
  {
   "cell_type": "code",
   "execution_count": null,
   "id": "a1ba1296",
   "metadata": {},
   "outputs": [],
   "source": [
    "pred_train = model.predict(X_train)"
   ]
  },
  {
   "cell_type": "code",
   "execution_count": null,
   "id": "f44ce91f",
   "metadata": {},
   "outputs": [],
   "source": [
    "from sklearn.metrics import mean_squared_error\n",
    "np.sqrt(mean_squared_error(pred_train, y_train['charges']))"
   ]
  },
  {
   "cell_type": "code",
   "execution_count": null,
   "id": "173b78ee",
   "metadata": {},
   "outputs": [],
   "source": [
    "pred_test = model.predict(X_test)\n",
    "np.sqrt(mean_squared_error(pred_test, y_test['charges']))"
   ]
  },
  {
   "cell_type": "code",
   "execution_count": null,
   "id": "3bcba1d4",
   "metadata": {},
   "outputs": [],
   "source": [
    "sub = pd.DataFrame({'id': X_test_id, 'charges': pred_test})\n",
    "sub.to_csv('submission_insurance.csv', index=False)"
   ]
  },
  {
   "cell_type": "code",
   "execution_count": null,
   "id": "260a2129",
   "metadata": {},
   "outputs": [],
   "source": []
  }
 ],
 "metadata": {
  "kernelspec": {
   "display_name": "Python 3 (ipykernel)",
   "language": "python",
   "name": "python3"
  },
  "language_info": {
   "codemirror_mode": {
    "name": "ipython",
    "version": 3
   },
   "file_extension": ".py",
   "mimetype": "text/x-python",
   "name": "python",
   "nbconvert_exporter": "python",
   "pygments_lexer": "ipython3",
   "version": "3.9.7"
  }
 },
 "nbformat": 4,
 "nbformat_minor": 5
}
