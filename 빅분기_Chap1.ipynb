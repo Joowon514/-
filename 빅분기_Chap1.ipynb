{
 "cells": [
  {
   "cell_type": "markdown",
   "id": "e1bb32e8",
   "metadata": {},
   "source": [
    "## Section 03. 파이썬 기초"
   ]
  },
  {
   "cell_type": "markdown",
   "id": "8af6865a",
   "metadata": {},
   "source": [
    "* 숫자형"
   ]
  },
  {
   "cell_type": "code",
   "execution_count": 2,
   "id": "c0d2fdc8",
   "metadata": {},
   "outputs": [
    {
     "data": {
      "text/plain": [
       "-0.4000000000000057"
      ]
     },
     "execution_count": 2,
     "metadata": {},
     "output_type": "execute_result"
    }
   ],
   "source": [
    "# 정수형, 실수형\n",
    "\n",
    "a = 123\n",
    "b = -123.4\n",
    "a+b"
   ]
  },
  {
   "cell_type": "code",
   "execution_count": 3,
   "id": "2227b81e",
   "metadata": {},
   "outputs": [
    {
     "data": {
      "text/plain": [
       "48"
      ]
     },
     "execution_count": 3,
     "metadata": {},
     "output_type": "execute_result"
    }
   ],
   "source": [
    "# 8진수\n",
    "\n",
    "c = 0o34\n",
    "d = 0o24\n",
    "c+d"
   ]
  },
  {
   "cell_type": "code",
   "execution_count": 4,
   "id": "2116b38d",
   "metadata": {},
   "outputs": [
    {
     "data": {
      "text/plain": [
       "297"
      ]
     },
     "execution_count": 4,
     "metadata": {},
     "output_type": "execute_result"
    }
   ],
   "source": [
    "# 16진수\n",
    "\n",
    "e = 0x2A\n",
    "f = 0xFF\n",
    "e+f"
   ]
  },
  {
   "cell_type": "markdown",
   "id": "edeeff92",
   "metadata": {},
   "source": [
    "* 문자형"
   ]
  },
  {
   "cell_type": "code",
   "execution_count": 5,
   "id": "7a127a9b",
   "metadata": {},
   "outputs": [
    {
     "name": "stdout",
     "output_type": "stream",
     "text": [
      "WiseInCompany\n",
      "WiseInCompany\n",
      "WiseInCompany\n",
      "123\n",
      "<class 'str'>\n"
     ]
    }
   ],
   "source": [
    "# 문자열\n",
    "\n",
    "s = 'WiseInCompany'\n",
    "s1 = \"WiseInCompany\"\n",
    "s2 = '''WiseInCompany'''\n",
    "s3 = \"123\"\n",
    "print(s)\n",
    "print(s1)\n",
    "print(s2)\n",
    "print(s3)\n",
    "print(type(s3))"
   ]
  },
  {
   "cell_type": "code",
   "execution_count": 6,
   "id": "cc723b98",
   "metadata": {},
   "outputs": [
    {
     "name": "stdout",
     "output_type": "stream",
     "text": [
      "WiseInCompany\n",
      "WiseInCompanyWiseInCompany\n"
     ]
    }
   ],
   "source": [
    "# 문자열 연산하기\n",
    "\n",
    "a = \"Wise\"\n",
    "b = \"InCompany\"\n",
    "print(a+b)\n",
    "a = \"WiseInCompany\"\n",
    "print(a*2)"
   ]
  },
  {
   "cell_type": "code",
   "execution_count": 7,
   "id": "528018f4",
   "metadata": {},
   "outputs": [
    {
     "name": "stdout",
     "output_type": "stream",
     "text": [
      "e\n",
      "a\n",
      "WiseInCompany\n",
      "InCompany\n",
      "Wise\n"
     ]
    }
   ],
   "source": [
    "# 문자열 인덱싱 및 슬라이싱\n",
    "\n",
    "a = \"WiseInCompany\"\n",
    "print(a[3])\n",
    "print(a[-3])\n",
    "print(a[0:15])\n",
    "print(a[4:])\n",
    "print(a[0:4])"
   ]
  },
  {
   "cell_type": "markdown",
   "id": "81fe549e",
   "metadata": {},
   "source": [
    "* 리스트(List)"
   ]
  },
  {
   "cell_type": "code",
   "execution_count": 8,
   "id": "a85584eb",
   "metadata": {},
   "outputs": [
    {
     "name": "stdout",
     "output_type": "stream",
     "text": [
      "[1, 2, 3, 4, 5]\n",
      "1\n",
      "5\n",
      "[1, 2, 3, 4, 5]\n",
      "[1, 2, 3, 4, 5]\n",
      "[3, 4, 5]\n"
     ]
    }
   ],
   "source": [
    "# 리스트\n",
    "\n",
    "a = [1,2,3,4,5]\n",
    "print(a)\n",
    "\n",
    "# 리스트 인덱싱\n",
    "\n",
    "a = [1,2,3,4,5]\n",
    "print(a[0])\n",
    "print(a[-1])\n",
    "\n",
    "# 리스트 슬라이싱\n",
    "\n",
    "a = [1,2,3,4,5]\n",
    "print(a[0:5])\n",
    "print(a[:5])\n",
    "print(a[2:])"
   ]
  },
  {
   "cell_type": "code",
   "execution_count": 9,
   "id": "71e21412",
   "metadata": {},
   "outputs": [
    {
     "name": "stdout",
     "output_type": "stream",
     "text": [
      "[0, 3, 4, 5, 6]\n"
     ]
    }
   ],
   "source": [
    "# 리스트 요소 추가/수정/삭제\n",
    "\n",
    "a = [1,2,3,4,5]\n",
    "a.append(6)\n",
    "a[0] = 0\n",
    "del a[1]\n",
    "print(a)"
   ]
  },
  {
   "cell_type": "code",
   "execution_count": 10,
   "id": "8d402634",
   "metadata": {},
   "outputs": [
    {
     "name": "stdout",
     "output_type": "stream",
     "text": [
      "[1, 2, 3, 4, 5]\n",
      "[1, 2, 1, 2, 1, 2]\n"
     ]
    }
   ],
   "source": [
    "# 리스트 병합 및 반복\n",
    "\n",
    "a = [1,2]\n",
    "b = [3,4,5]\n",
    "c = a+b\n",
    "print(c)\n",
    "d = a*3\n",
    "print(d)"
   ]
  },
  {
   "cell_type": "markdown",
   "id": "425ab4ae",
   "metadata": {},
   "source": [
    "* 튜플(Tuple)"
   ]
  },
  {
   "cell_type": "code",
   "execution_count": 11,
   "id": "c556e720",
   "metadata": {},
   "outputs": [
    {
     "name": "stdout",
     "output_type": "stream",
     "text": [
      "2\n",
      "(1, 2, 3)\n"
     ]
    }
   ],
   "source": [
    "# 튜플\n",
    "\n",
    "t = (1,2,3,4,5)\n",
    "\n",
    "# 튜프 인덱싱 및 슬라이싱\n",
    "\n",
    "t1 = (1,2,3)\n",
    "print(t[1])   #인덱싱\n",
    "print(t[0:3])   #슬라이싱"
   ]
  },
  {
   "cell_type": "code",
   "execution_count": 12,
   "id": "cbe44872",
   "metadata": {},
   "outputs": [
    {
     "name": "stdout",
     "output_type": "stream",
     "text": [
      "(1, 2, 3, 4, 5)\n",
      "(1, 2, 1, 2, 1, 2)\n"
     ]
    }
   ],
   "source": [
    "# 튜플 병합 및 반복\n",
    "\n",
    "a = (1,2)\n",
    "b = (3,4,5)\n",
    "c = a+b\n",
    "print(c)\n",
    "d = a*3\n",
    "print(d)"
   ]
  },
  {
   "cell_type": "code",
   "execution_count": 13,
   "id": "90035e73",
   "metadata": {},
   "outputs": [
    {
     "name": "stdout",
     "output_type": "stream",
     "text": [
      "('David', 'Kim')\n",
      "Kim , David\n"
     ]
    }
   ],
   "source": [
    "# 튜플 변수 할당\n",
    "\n",
    "name = (\"David\", \"Kim\")\n",
    "print(name)\n",
    "firstname, lastname = (\"David\", \"Kim\")\n",
    "print(lastname, \",\", firstname)"
   ]
  },
  {
   "cell_type": "markdown",
   "id": "226b6f4e",
   "metadata": {},
   "source": [
    "* 집합"
   ]
  },
  {
   "cell_type": "code",
   "execution_count": 14,
   "id": "d8d117eb",
   "metadata": {},
   "outputs": [
    {
     "name": "stdout",
     "output_type": "stream",
     "text": [
      "{1, 2, 3}\n"
     ]
    }
   ],
   "source": [
    "# 집합\n",
    "\n",
    "set = {1,1,2,3}\n",
    "print(set)"
   ]
  },
  {
   "cell_type": "code",
   "execution_count": 15,
   "id": "61cb5e5d",
   "metadata": {},
   "outputs": [
    {
     "data": {
      "text/plain": [
       "{1, 2, 3, 4}"
      ]
     },
     "execution_count": 15,
     "metadata": {},
     "output_type": "execute_result"
    }
   ],
   "source": [
    "# 집합 추가 및 삭제1\n",
    "\n",
    "set = {1,1,2,3}\n",
    "set.add(4)   #요소 하나 추가\n",
    "set"
   ]
  },
  {
   "cell_type": "code",
   "execution_count": 16,
   "id": "ac5daa17",
   "metadata": {},
   "outputs": [
    {
     "data": {
      "text/plain": [
       "{1, 2, 3, 4, 5, 6}"
      ]
     },
     "execution_count": 16,
     "metadata": {},
     "output_type": "execute_result"
    }
   ],
   "source": [
    "# 집합 추가 및 삭제2\n",
    "\n",
    "set = {1,1,2,3}\n",
    "set.update({4,5,6})   #요소 여러 개 추가\n",
    "set"
   ]
  },
  {
   "cell_type": "code",
   "execution_count": 17,
   "id": "4d8226cf",
   "metadata": {},
   "outputs": [
    {
     "data": {
      "text/plain": [
       "{2, 3, 4, 5, 6}"
      ]
     },
     "execution_count": 17,
     "metadata": {},
     "output_type": "execute_result"
    }
   ],
   "source": [
    "# 요소 하나 삭제\n",
    "\n",
    "set.remove(1)\n",
    "set"
   ]
  },
  {
   "cell_type": "code",
   "execution_count": 18,
   "id": "3fac2e24",
   "metadata": {},
   "outputs": [
    {
     "data": {
      "text/plain": [
       "set()"
      ]
     },
     "execution_count": 18,
     "metadata": {},
     "output_type": "execute_result"
    }
   ],
   "source": [
    "# 요소 모두 삭제\n",
    "\n",
    "set.clear()\n",
    "set"
   ]
  },
  {
   "cell_type": "code",
   "execution_count": 19,
   "id": "87c61943",
   "metadata": {},
   "outputs": [
    {
     "name": "stdout",
     "output_type": "stream",
     "text": [
      "{1, 3}\n",
      "{1, 2, 3, 4}\n",
      "{2}\n"
     ]
    }
   ],
   "source": [
    "# 집합 연산\n",
    "\n",
    "a = {1,2,3}\n",
    "b = {1,3,4}\n",
    "\n",
    "# 교집합\n",
    "c = a&b\n",
    "print(c)\n",
    "\n",
    "# 합집합\n",
    "d = a|b\n",
    "print(d)\n",
    "\n",
    "# 차집합\n",
    "e = a-b\n",
    "print(e)"
   ]
  },
  {
   "cell_type": "markdown",
   "id": "08ef7ca0",
   "metadata": {},
   "source": [
    "* 사전(Dictionary)"
   ]
  },
  {
   "cell_type": "code",
   "execution_count": 20,
   "id": "e1d46a71",
   "metadata": {},
   "outputs": [
    {
     "data": {
      "text/plain": [
       "90"
      ]
     },
     "execution_count": 20,
     "metadata": {},
     "output_type": "execute_result"
    }
   ],
   "source": [
    "# 사전\n",
    "\n",
    "test = {\"Kim\":90, \"Jeong\":80, \"Park\":75}\n",
    "test[\"Kim\"]   # 키 이용"
   ]
  },
  {
   "cell_type": "code",
   "execution_count": 21,
   "id": "077c07a5",
   "metadata": {},
   "outputs": [
    {
     "name": "stdout",
     "output_type": "stream",
     "text": [
      "{'Kim': 90, 'Jeong': 85, 'Cho': 95}\n"
     ]
    }
   ],
   "source": [
    "# 사전 추가/수정/삭제\n",
    "\n",
    "test = {\"Kim\":90, \"Jeong\":80, \"Park\":75}\n",
    "test[\"Jeong\"] = 85\n",
    "test[\"Cho\"] = 95\n",
    "del test[\"Park\"]\n",
    "print(test)"
   ]
  },
  {
   "cell_type": "code",
   "execution_count": 22,
   "id": "cb52d93e",
   "metadata": {},
   "outputs": [
    {
     "name": "stdout",
     "output_type": "stream",
     "text": [
      "dict_keys(['Kim', 'Jeong', 'Park'])\n",
      "dict_values([90, 80, 75])\n"
     ]
    }
   ],
   "source": [
    "# 키 또는 값 가져오기\n",
    "\n",
    "test = {\"Kim\":90, \"Jeong\":80, \"Park\":75}\n",
    "print(test.keys())   #키 가져오기\n",
    "print(test.values())   #값 가져오기"
   ]
  },
  {
   "cell_type": "markdown",
   "id": "c85bcb9f",
   "metadata": {},
   "source": [
    "* if문"
   ]
  },
  {
   "cell_type": "code",
   "execution_count": 23,
   "id": "0d49b1ea",
   "metadata": {},
   "outputs": [
    {
     "name": "stdout",
     "output_type": "stream",
     "text": [
      "걍 걸어가!\n"
     ]
    }
   ],
   "source": [
    "# if문 예시\n",
    "\n",
    "money = 4000\n",
    "if money==3000:\n",
    "    print(\"KTX 타고 가자\")\n",
    "elif money>=5000:\n",
    "    print(\"버스 타고 가자\")\n",
    "else:\n",
    "    print(\"걍 걸어가!\")"
   ]
  },
  {
   "cell_type": "markdown",
   "id": "32ed455c",
   "metadata": {},
   "source": [
    "* 반복문"
   ]
  },
  {
   "cell_type": "code",
   "execution_count": 24,
   "id": "05f7f43f",
   "metadata": {},
   "outputs": [
    {
     "name": "stdout",
     "output_type": "stream",
     "text": [
      "55\n"
     ]
    }
   ],
   "source": [
    "# for문 기본\n",
    "\n",
    "sum = 0\n",
    "for i in range(11):\n",
    "    sum = sum+i\n",
    "print(sum)"
   ]
  },
  {
   "cell_type": "code",
   "execution_count": 25,
   "id": "d15708ba",
   "metadata": {},
   "outputs": [
    {
     "name": "stdout",
     "output_type": "stream",
     "text": [
      "Wise\n",
      "In\n",
      "Company\n"
     ]
    }
   ],
   "source": [
    "# for문 리스트 출력\n",
    "\n",
    "list = [\"Wise\", \"In\", \"Company\"]\n",
    "for s in list:\n",
    "    print(s)"
   ]
  },
  {
   "cell_type": "code",
   "execution_count": 26,
   "id": "c9cf85b3",
   "metadata": {},
   "outputs": [
    {
     "name": "stdout",
     "output_type": "stream",
     "text": [
      "0\n",
      "1\n",
      "2\n",
      "3\n",
      "4\n",
      "5\n",
      "6\n",
      "7\n",
      "8\n",
      "9\n"
     ]
    }
   ],
   "source": [
    "# while문 기본\n",
    "\n",
    "i = 0\n",
    "while i<10:\n",
    "    print(i)\n",
    "    i = i+1"
   ]
  },
  {
   "cell_type": "code",
   "execution_count": 27,
   "id": "4a2c0d62",
   "metadata": {},
   "outputs": [
    {
     "name": "stdout",
     "output_type": "stream",
     "text": [
      "apple\n",
      "banana\n",
      "bread\n"
     ]
    }
   ],
   "source": [
    "# while문 리스트 출력\n",
    "\n",
    "food = [\"apple\", \"banana\", \"bread\"]\n",
    "i = 0\n",
    "while i < len(food):\n",
    "    print(food[i])\n",
    "    i = i+1"
   ]
  },
  {
   "cell_type": "markdown",
   "id": "08ca5ebe",
   "metadata": {},
   "source": [
    "## Section 04. numpy 함수"
   ]
  },
  {
   "cell_type": "code",
   "execution_count": 28,
   "id": "c78184ee",
   "metadata": {},
   "outputs": [
    {
     "name": "stdout",
     "output_type": "stream",
     "text": [
      "[1 2 3 4]\n"
     ]
    }
   ],
   "source": [
    "# numpy 배열 기본\n",
    "\n",
    "import numpy as np\n",
    "v1 = np.array([1,2,3,4])\n",
    "print(v1)"
   ]
  },
  {
   "cell_type": "code",
   "execution_count": 29,
   "id": "9986f92a",
   "metadata": {},
   "outputs": [
    {
     "name": "stdout",
     "output_type": "stream",
     "text": [
      "[0 1 2 3 4]\n",
      "[1 3 5 7 9]\n",
      "[3.5 5.5 7.5 9.5]\n",
      "[ 1  9 25 49 81]\n",
      "[  1  27 125 343 729]\n"
     ]
    }
   ],
   "source": [
    "# 연속되거나 일정한 규칙을 가진 숫자\n",
    "v1 = np.arange(5)\n",
    "print(v1)\n",
    "\n",
    "# 연속되거나 일정한 규칙을 가진 숫자, 데이터 형태 지정\n",
    "v2 = np.arange(1, 10, 2, dtype=int)\n",
    "v3 = np.arange(3.5, 10.5, 2, dtype=float)\n",
    "print(v2)\n",
    "print(v3)\n",
    "\n",
    "# 제곱값 생성\n",
    "v4 = np.arange(1, 10, 2)**2\n",
    "print(v4)\n",
    "\n",
    "# 세제곱값 생성\n",
    "v5 = np.arange(1, 10, 2)**3\n",
    "print(v5)"
   ]
  },
  {
   "cell_type": "code",
   "execution_count": 30,
   "id": "7f911de6",
   "metadata": {},
   "outputs": [
    {
     "name": "stdout",
     "output_type": "stream",
     "text": [
      "[ 0  1  2  3  4  5  6  7  8  9 10 11]\n",
      "[[ 0  1  2  3  4  5]\n",
      " [ 6  7  8  9 10 11]]\n",
      "[[ 0  2  4  6  8 10]\n",
      " [ 1  3  5  7  9 11]]\n"
     ]
    }
   ],
   "source": [
    "# 행렬 만들기\n",
    "\n",
    "v1 = np.arange(12)\n",
    "print(v1)\n",
    "v2 = v1.reshape(2,6)\n",
    "print(v2)\n",
    "v3 = v1.reshape(2, 6, order='F')   # order=T(디폴트)는 행부터 할당, order=F는 열부터 할당\n",
    "print(v3)\n"
   ]
  },
  {
   "cell_type": "code",
   "execution_count": 31,
   "id": "80e90ed8",
   "metadata": {},
   "outputs": [
    {
     "name": "stdout",
     "output_type": "stream",
     "text": [
      "[[2 4]\n",
      " [6 8]]\n",
      "[[0 0]\n",
      " [0 0]]\n",
      "[[ 1  4]\n",
      " [ 9 16]]\n",
      "[[ 7 10]\n",
      " [15 22]]\n"
     ]
    }
   ],
   "source": [
    "# 행렬 계산\n",
    "\n",
    "v1 = np.arange(1,5).reshape(2,2)\n",
    "print(np.add(v1,v1))   #덧셈\n",
    "print(np.subtract(v1,v1))   #뺄셈\n",
    "print(np.multiply(v1,v1))   #곱셈\n",
    "print(np.dot(v1,v1))   #행렬연산"
   ]
  },
  {
   "cell_type": "code",
   "execution_count": 32,
   "id": "e9a8b4f8",
   "metadata": {},
   "outputs": [
    {
     "name": "stdout",
     "output_type": "stream",
     "text": [
      "[ 0  1  2  3  4  5  6  7  8  9 10 11]\n",
      "[[[ 0  6]\n",
      "  [ 2  8]\n",
      "  [ 4 10]]\n",
      "\n",
      " [[ 1  7]\n",
      "  [ 3  9]\n",
      "  [ 5 11]]]\n"
     ]
    }
   ],
   "source": [
    "# 다차원 행렬 만들기\n",
    "\n",
    "v1 = np.arange(12)\n",
    "print(v1)\n",
    "v2 = v1.reshape(2,3,2, order='F')\n",
    "print(v2)"
   ]
  },
  {
   "cell_type": "code",
   "execution_count": 33,
   "id": "6eaca15a",
   "metadata": {},
   "outputs": [
    {
     "name": "stdout",
     "output_type": "stream",
     "text": [
      "[3.5 5.5 7.5 9.5]\n",
      "[[1 2]\n",
      " [3 4]]\n",
      "9.5\n",
      "1\n",
      "float64\n",
      "(2, 2)\n"
     ]
    }
   ],
   "source": [
    "# 다차원 배열에서 요소의 최대값 및 최소값 반환\n",
    "\n",
    "v3 = np.arange(3.5, 10.5, 2, dtype=float)\n",
    "print(v3)\n",
    "v4 = np.arange(1,5).reshape(2,2)\n",
    "print(v4)\n",
    "print(np.amax(v3))\n",
    "print(np.amin(v4))\n",
    "print(v3.dtype)\n",
    "print(v4.shape)"
   ]
  },
  {
   "cell_type": "markdown",
   "id": "0999ab72",
   "metadata": {},
   "source": [
    "## Section 05. pandas와 기본 데이터 처리"
   ]
  },
  {
   "cell_type": "markdown",
   "id": "6c991e13",
   "metadata": {},
   "source": [
    "* pandas 함수 개요"
   ]
  },
  {
   "cell_type": "code",
   "execution_count": 34,
   "id": "7b8f2a97",
   "metadata": {},
   "outputs": [
    {
     "name": "stdout",
     "output_type": "stream",
     "text": [
      "0    1\n",
      "1    3\n",
      "2    5\n",
      "3    7\n",
      "dtype: int64\n",
      "[1 3 5 7]\n",
      "RangeIndex(start=0, stop=4, step=1)\n",
      "a    1\n",
      "b    3\n",
      "c    5\n",
      "d    7\n",
      "dtype: int64\n"
     ]
    }
   ],
   "source": [
    "# pandas 함수 불러오기\n",
    "\n",
    "import pandas as pd\n",
    "from pandas import Series, DataFrame\n",
    "\n",
    "# series 설정\n",
    "\n",
    "a = Series([1,3,5,7])\n",
    "print(a)\n",
    "print(a.values)\n",
    "print(a.index)\n",
    "\n",
    "# index 변경\n",
    "\n",
    "a2 = pd.Series([1,3,5,7], index=['a','b','c','d'])\n",
    "print(a2)"
   ]
  },
  {
   "cell_type": "markdown",
   "id": "c2b1d79d",
   "metadata": {},
   "source": [
    "* 데이터 불러오기"
   ]
  },
  {
   "cell_type": "code",
   "execution_count": 35,
   "id": "3fcb3ec8",
   "metadata": {},
   "outputs": [
    {
     "data": {
      "text/html": [
       "<div>\n",
       "<style scoped>\n",
       "    .dataframe tbody tr th:only-of-type {\n",
       "        vertical-align: middle;\n",
       "    }\n",
       "\n",
       "    .dataframe tbody tr th {\n",
       "        vertical-align: top;\n",
       "    }\n",
       "\n",
       "    .dataframe thead th {\n",
       "        text-align: right;\n",
       "    }\n",
       "</style>\n",
       "<table border=\"1\" class=\"dataframe\">\n",
       "  <thead>\n",
       "    <tr style=\"text-align: right;\">\n",
       "      <th></th>\n",
       "      <th>continent</th>\n",
       "      <th>brand</th>\n",
       "      <th>size</th>\n",
       "      <th>period</th>\n",
       "      <th>price</th>\n",
       "    </tr>\n",
       "  </thead>\n",
       "  <tbody>\n",
       "    <tr>\n",
       "      <th>0</th>\n",
       "      <td>2</td>\n",
       "      <td>2</td>\n",
       "      <td>10.7</td>\n",
       "      <td>47.65</td>\n",
       "      <td>144</td>\n",
       "    </tr>\n",
       "    <tr>\n",
       "      <th>1</th>\n",
       "      <td>2</td>\n",
       "      <td>3</td>\n",
       "      <td>14.0</td>\n",
       "      <td>63.13</td>\n",
       "      <td>215</td>\n",
       "    </tr>\n",
       "    <tr>\n",
       "      <th>2</th>\n",
       "      <td>2</td>\n",
       "      <td>2</td>\n",
       "      <td>9.0</td>\n",
       "      <td>58.76</td>\n",
       "      <td>105</td>\n",
       "    </tr>\n",
       "    <tr>\n",
       "      <th>3</th>\n",
       "      <td>1</td>\n",
       "      <td>1</td>\n",
       "      <td>8.0</td>\n",
       "      <td>34.88</td>\n",
       "      <td>69</td>\n",
       "    </tr>\n",
       "    <tr>\n",
       "      <th>4</th>\n",
       "      <td>2</td>\n",
       "      <td>2</td>\n",
       "      <td>10.0</td>\n",
       "      <td>55.53</td>\n",
       "      <td>134</td>\n",
       "    </tr>\n",
       "    <tr>\n",
       "      <th>...</th>\n",
       "      <td>...</td>\n",
       "      <td>...</td>\n",
       "      <td>...</td>\n",
       "      <td>...</td>\n",
       "      <td>...</td>\n",
       "    </tr>\n",
       "    <tr>\n",
       "      <th>58</th>\n",
       "      <td>1</td>\n",
       "      <td>1</td>\n",
       "      <td>5.0</td>\n",
       "      <td>16.66</td>\n",
       "      <td>21.5</td>\n",
       "    </tr>\n",
       "    <tr>\n",
       "      <th>59</th>\n",
       "      <td>2</td>\n",
       "      <td>1</td>\n",
       "      <td>21.0</td>\n",
       "      <td>43.00</td>\n",
       "      <td></td>\n",
       "    </tr>\n",
       "    <tr>\n",
       "      <th>60</th>\n",
       "      <td>2</td>\n",
       "      <td>2</td>\n",
       "      <td>5.0</td>\n",
       "      <td>12.00</td>\n",
       "      <td></td>\n",
       "    </tr>\n",
       "    <tr>\n",
       "      <th>61</th>\n",
       "      <td>2</td>\n",
       "      <td>3</td>\n",
       "      <td>13.0</td>\n",
       "      <td>20.00</td>\n",
       "      <td></td>\n",
       "    </tr>\n",
       "    <tr>\n",
       "      <th>62</th>\n",
       "      <td>2</td>\n",
       "      <td>3</td>\n",
       "      <td>31.0</td>\n",
       "      <td>19.00</td>\n",
       "      <td></td>\n",
       "    </tr>\n",
       "  </tbody>\n",
       "</table>\n",
       "<p>63 rows × 5 columns</p>\n",
       "</div>"
      ],
      "text/plain": [
       "    continent  brand  size  period price\n",
       "0           2      2  10.7   47.65   144\n",
       "1           2      3  14.0   63.13   215\n",
       "2           2      2   9.0   58.76   105\n",
       "3           1      1   8.0   34.88    69\n",
       "4           2      2  10.0   55.53   134\n",
       "..        ...    ...   ...     ...   ...\n",
       "58          1      1   5.0   16.66  21.5\n",
       "59          2      1  21.0   43.00      \n",
       "60          2      2   5.0   12.00      \n",
       "61          2      3  13.0   20.00      \n",
       "62          2      3  31.0   19.00      \n",
       "\n",
       "[63 rows x 5 columns]"
      ]
     },
     "execution_count": 35,
     "metadata": {},
     "output_type": "execute_result"
    }
   ],
   "source": [
    "# csv파일을 pandas DataFrame 형태로 불러오기\n",
    "\n",
    "df = pd.read_csv('Ex_GrapeData.csv')\n",
    "df"
   ]
  },
  {
   "cell_type": "code",
   "execution_count": 40,
   "id": "402f20e1",
   "metadata": {},
   "outputs": [
    {
     "data": {
      "text/html": [
       "<div>\n",
       "<style scoped>\n",
       "    .dataframe tbody tr th:only-of-type {\n",
       "        vertical-align: middle;\n",
       "    }\n",
       "\n",
       "    .dataframe tbody tr th {\n",
       "        vertical-align: top;\n",
       "    }\n",
       "\n",
       "    .dataframe thead th {\n",
       "        text-align: right;\n",
       "    }\n",
       "</style>\n",
       "<table border=\"1\" class=\"dataframe\">\n",
       "  <thead>\n",
       "    <tr style=\"text-align: right;\">\n",
       "      <th></th>\n",
       "      <th>continent</th>\n",
       "      <th>brand</th>\n",
       "      <th>size</th>\n",
       "      <th>period</th>\n",
       "      <th>price</th>\n",
       "    </tr>\n",
       "  </thead>\n",
       "  <tbody>\n",
       "    <tr>\n",
       "      <th>0</th>\n",
       "      <td>2.0</td>\n",
       "      <td>2.0</td>\n",
       "      <td>10.7</td>\n",
       "      <td>47.65</td>\n",
       "      <td>144.0</td>\n",
       "    </tr>\n",
       "    <tr>\n",
       "      <th>1</th>\n",
       "      <td>2.0</td>\n",
       "      <td>3.0</td>\n",
       "      <td>14.0</td>\n",
       "      <td>63.13</td>\n",
       "      <td>215.0</td>\n",
       "    </tr>\n",
       "    <tr>\n",
       "      <th>2</th>\n",
       "      <td>2.0</td>\n",
       "      <td>2.0</td>\n",
       "      <td>9.0</td>\n",
       "      <td>58.76</td>\n",
       "      <td>105.0</td>\n",
       "    </tr>\n",
       "    <tr>\n",
       "      <th>3</th>\n",
       "      <td>1.0</td>\n",
       "      <td>1.0</td>\n",
       "      <td>8.0</td>\n",
       "      <td>34.88</td>\n",
       "      <td>69.0</td>\n",
       "    </tr>\n",
       "    <tr>\n",
       "      <th>4</th>\n",
       "      <td>2.0</td>\n",
       "      <td>2.0</td>\n",
       "      <td>10.0</td>\n",
       "      <td>55.53</td>\n",
       "      <td>134.0</td>\n",
       "    </tr>\n",
       "    <tr>\n",
       "      <th>...</th>\n",
       "      <td>...</td>\n",
       "      <td>...</td>\n",
       "      <td>...</td>\n",
       "      <td>...</td>\n",
       "      <td>...</td>\n",
       "    </tr>\n",
       "    <tr>\n",
       "      <th>58</th>\n",
       "      <td>1.0</td>\n",
       "      <td>1.0</td>\n",
       "      <td>5.0</td>\n",
       "      <td>16.66</td>\n",
       "      <td>21.5</td>\n",
       "    </tr>\n",
       "    <tr>\n",
       "      <th>59</th>\n",
       "      <td>2.0</td>\n",
       "      <td>1.0</td>\n",
       "      <td>21.0</td>\n",
       "      <td>43.00</td>\n",
       "      <td>NaN</td>\n",
       "    </tr>\n",
       "    <tr>\n",
       "      <th>60</th>\n",
       "      <td>2.0</td>\n",
       "      <td>2.0</td>\n",
       "      <td>5.0</td>\n",
       "      <td>12.00</td>\n",
       "      <td>NaN</td>\n",
       "    </tr>\n",
       "    <tr>\n",
       "      <th>61</th>\n",
       "      <td>2.0</td>\n",
       "      <td>3.0</td>\n",
       "      <td>13.0</td>\n",
       "      <td>20.00</td>\n",
       "      <td>NaN</td>\n",
       "    </tr>\n",
       "    <tr>\n",
       "      <th>62</th>\n",
       "      <td>2.0</td>\n",
       "      <td>3.0</td>\n",
       "      <td>31.0</td>\n",
       "      <td>19.00</td>\n",
       "      <td>NaN</td>\n",
       "    </tr>\n",
       "  </tbody>\n",
       "</table>\n",
       "<p>63 rows × 5 columns</p>\n",
       "</div>"
      ],
      "text/plain": [
       "    continent  brand  size  period  price\n",
       "0         2.0    2.0  10.7   47.65  144.0\n",
       "1         2.0    3.0  14.0   63.13  215.0\n",
       "2         2.0    2.0   9.0   58.76  105.0\n",
       "3         1.0    1.0   8.0   34.88   69.0\n",
       "4         2.0    2.0  10.0   55.53  134.0\n",
       "..        ...    ...   ...     ...    ...\n",
       "58        1.0    1.0   5.0   16.66   21.5\n",
       "59        2.0    1.0  21.0   43.00    NaN\n",
       "60        2.0    2.0   5.0   12.00    NaN\n",
       "61        2.0    3.0  13.0   20.00    NaN\n",
       "62        2.0    3.0  31.0   19.00    NaN\n",
       "\n",
       "[63 rows x 5 columns]"
      ]
     },
     "execution_count": 40,
     "metadata": {},
     "output_type": "execute_result"
    }
   ],
   "source": [
    "# 엑셀 파일을 pandas DataFrame 형태로 불러오기\n",
    "\n",
    "df = pd.read_excel('EX_GrapeData.xlsx')\n",
    "df"
   ]
  },
  {
   "cell_type": "code",
   "execution_count": 39,
   "id": "5e19be2e",
   "metadata": {},
   "outputs": [],
   "source": [
    "# 한글이 포함된 파일 불러오기\n",
    "# df = pd.read_csv('cosmetics_.csv', encoding='euc-kr')\n",
    "# df = pd.read_excel('cosmetics_.xlsx', encoding='euc-kr')"
   ]
  },
  {
   "cell_type": "code",
   "execution_count": 41,
   "id": "c021bffb",
   "metadata": {},
   "outputs": [
    {
     "data": {
      "text/html": [
       "<div>\n",
       "<style scoped>\n",
       "    .dataframe tbody tr th:only-of-type {\n",
       "        vertical-align: middle;\n",
       "    }\n",
       "\n",
       "    .dataframe tbody tr th {\n",
       "        vertical-align: top;\n",
       "    }\n",
       "\n",
       "    .dataframe thead th {\n",
       "        text-align: right;\n",
       "    }\n",
       "</style>\n",
       "<table border=\"1\" class=\"dataframe\">\n",
       "  <thead>\n",
       "    <tr style=\"text-align: right;\">\n",
       "      <th></th>\n",
       "      <th>continent</th>\n",
       "      <th>brand</th>\n",
       "      <th>size</th>\n",
       "      <th>period</th>\n",
       "      <th>price</th>\n",
       "    </tr>\n",
       "  </thead>\n",
       "  <tbody>\n",
       "    <tr>\n",
       "      <th>0</th>\n",
       "      <td>2.0</td>\n",
       "      <td>2.0</td>\n",
       "      <td>10.7</td>\n",
       "      <td>47.65</td>\n",
       "      <td>144.0</td>\n",
       "    </tr>\n",
       "    <tr>\n",
       "      <th>1</th>\n",
       "      <td>2.0</td>\n",
       "      <td>3.0</td>\n",
       "      <td>14.0</td>\n",
       "      <td>63.13</td>\n",
       "      <td>215.0</td>\n",
       "    </tr>\n",
       "    <tr>\n",
       "      <th>2</th>\n",
       "      <td>2.0</td>\n",
       "      <td>2.0</td>\n",
       "      <td>9.0</td>\n",
       "      <td>58.76</td>\n",
       "      <td>105.0</td>\n",
       "    </tr>\n",
       "    <tr>\n",
       "      <th>3</th>\n",
       "      <td>1.0</td>\n",
       "      <td>1.0</td>\n",
       "      <td>8.0</td>\n",
       "      <td>34.88</td>\n",
       "      <td>69.0</td>\n",
       "    </tr>\n",
       "    <tr>\n",
       "      <th>4</th>\n",
       "      <td>2.0</td>\n",
       "      <td>2.0</td>\n",
       "      <td>10.0</td>\n",
       "      <td>55.53</td>\n",
       "      <td>134.0</td>\n",
       "    </tr>\n",
       "  </tbody>\n",
       "</table>\n",
       "</div>"
      ],
      "text/plain": [
       "   continent  brand  size  period  price\n",
       "0        2.0    2.0  10.7   47.65  144.0\n",
       "1        2.0    3.0  14.0   63.13  215.0\n",
       "2        2.0    2.0   9.0   58.76  105.0\n",
       "3        1.0    1.0   8.0   34.88   69.0\n",
       "4        2.0    2.0  10.0   55.53  134.0"
      ]
     },
     "execution_count": 41,
     "metadata": {},
     "output_type": "execute_result"
    }
   ],
   "source": [
    "# 데이터 프레임 처음부터 ~개의 행만 불러오기\n",
    "\n",
    "df.head()"
   ]
  },
  {
   "cell_type": "code",
   "execution_count": 42,
   "id": "6028c458",
   "metadata": {},
   "outputs": [
    {
     "data": {
      "text/html": [
       "<div>\n",
       "<style scoped>\n",
       "    .dataframe tbody tr th:only-of-type {\n",
       "        vertical-align: middle;\n",
       "    }\n",
       "\n",
       "    .dataframe tbody tr th {\n",
       "        vertical-align: top;\n",
       "    }\n",
       "\n",
       "    .dataframe thead th {\n",
       "        text-align: right;\n",
       "    }\n",
       "</style>\n",
       "<table border=\"1\" class=\"dataframe\">\n",
       "  <thead>\n",
       "    <tr style=\"text-align: right;\">\n",
       "      <th></th>\n",
       "      <th>continent</th>\n",
       "      <th>brand</th>\n",
       "      <th>size</th>\n",
       "      <th>period</th>\n",
       "      <th>price</th>\n",
       "    </tr>\n",
       "  </thead>\n",
       "  <tbody>\n",
       "    <tr>\n",
       "      <th>58</th>\n",
       "      <td>1.0</td>\n",
       "      <td>1.0</td>\n",
       "      <td>5.0</td>\n",
       "      <td>16.66</td>\n",
       "      <td>21.5</td>\n",
       "    </tr>\n",
       "    <tr>\n",
       "      <th>59</th>\n",
       "      <td>2.0</td>\n",
       "      <td>1.0</td>\n",
       "      <td>21.0</td>\n",
       "      <td>43.00</td>\n",
       "      <td>NaN</td>\n",
       "    </tr>\n",
       "    <tr>\n",
       "      <th>60</th>\n",
       "      <td>2.0</td>\n",
       "      <td>2.0</td>\n",
       "      <td>5.0</td>\n",
       "      <td>12.00</td>\n",
       "      <td>NaN</td>\n",
       "    </tr>\n",
       "    <tr>\n",
       "      <th>61</th>\n",
       "      <td>2.0</td>\n",
       "      <td>3.0</td>\n",
       "      <td>13.0</td>\n",
       "      <td>20.00</td>\n",
       "      <td>NaN</td>\n",
       "    </tr>\n",
       "    <tr>\n",
       "      <th>62</th>\n",
       "      <td>2.0</td>\n",
       "      <td>3.0</td>\n",
       "      <td>31.0</td>\n",
       "      <td>19.00</td>\n",
       "      <td>NaN</td>\n",
       "    </tr>\n",
       "  </tbody>\n",
       "</table>\n",
       "</div>"
      ],
      "text/plain": [
       "    continent  brand  size  period  price\n",
       "58        1.0    1.0   5.0   16.66   21.5\n",
       "59        2.0    1.0  21.0   43.00    NaN\n",
       "60        2.0    2.0   5.0   12.00    NaN\n",
       "61        2.0    3.0  13.0   20.00    NaN\n",
       "62        2.0    3.0  31.0   19.00    NaN"
      ]
     },
     "execution_count": 42,
     "metadata": {},
     "output_type": "execute_result"
    }
   ],
   "source": [
    "# 데이터 프레임 뒤붜 ~개의 행만 불러오기\n",
    "\n",
    "df.tail()"
   ]
  },
  {
   "cell_type": "code",
   "execution_count": 43,
   "id": "3bc42586",
   "metadata": {},
   "outputs": [
    {
     "data": {
      "text/html": [
       "<div>\n",
       "<style scoped>\n",
       "    .dataframe tbody tr th:only-of-type {\n",
       "        vertical-align: middle;\n",
       "    }\n",
       "\n",
       "    .dataframe tbody tr th {\n",
       "        vertical-align: top;\n",
       "    }\n",
       "\n",
       "    .dataframe thead th {\n",
       "        text-align: right;\n",
       "    }\n",
       "</style>\n",
       "<table border=\"1\" class=\"dataframe\">\n",
       "  <thead>\n",
       "    <tr style=\"text-align: right;\">\n",
       "      <th></th>\n",
       "      <th>continent</th>\n",
       "      <th>brand</th>\n",
       "      <th>size</th>\n",
       "      <th>period</th>\n",
       "      <th>price</th>\n",
       "    </tr>\n",
       "  </thead>\n",
       "  <tbody>\n",
       "    <tr>\n",
       "      <th>1</th>\n",
       "      <td>2.0</td>\n",
       "      <td>3.0</td>\n",
       "      <td>14.0</td>\n",
       "      <td>63.13</td>\n",
       "      <td>215.0</td>\n",
       "    </tr>\n",
       "    <tr>\n",
       "      <th>2</th>\n",
       "      <td>2.0</td>\n",
       "      <td>2.0</td>\n",
       "      <td>9.0</td>\n",
       "      <td>58.76</td>\n",
       "      <td>105.0</td>\n",
       "    </tr>\n",
       "    <tr>\n",
       "      <th>3</th>\n",
       "      <td>1.0</td>\n",
       "      <td>1.0</td>\n",
       "      <td>8.0</td>\n",
       "      <td>34.88</td>\n",
       "      <td>69.0</td>\n",
       "    </tr>\n",
       "    <tr>\n",
       "      <th>4</th>\n",
       "      <td>2.0</td>\n",
       "      <td>2.0</td>\n",
       "      <td>10.0</td>\n",
       "      <td>55.53</td>\n",
       "      <td>134.0</td>\n",
       "    </tr>\n",
       "  </tbody>\n",
       "</table>\n",
       "</div>"
      ],
      "text/plain": [
       "   continent  brand  size  period  price\n",
       "1        2.0    3.0  14.0   63.13  215.0\n",
       "2        2.0    2.0   9.0   58.76  105.0\n",
       "3        1.0    1.0   8.0   34.88   69.0\n",
       "4        2.0    2.0  10.0   55.53  134.0"
      ]
     },
     "execution_count": 43,
     "metadata": {},
     "output_type": "execute_result"
    }
   ],
   "source": [
    "# 1에서 4까지 출력\n",
    "\n",
    "df[1:5]"
   ]
  },
  {
   "cell_type": "code",
   "execution_count": 44,
   "id": "f31259ef",
   "metadata": {},
   "outputs": [
    {
     "data": {
      "text/html": [
       "<div>\n",
       "<style scoped>\n",
       "    .dataframe tbody tr th:only-of-type {\n",
       "        vertical-align: middle;\n",
       "    }\n",
       "\n",
       "    .dataframe tbody tr th {\n",
       "        vertical-align: top;\n",
       "    }\n",
       "\n",
       "    .dataframe thead th {\n",
       "        text-align: right;\n",
       "    }\n",
       "</style>\n",
       "<table border=\"1\" class=\"dataframe\">\n",
       "  <thead>\n",
       "    <tr style=\"text-align: right;\">\n",
       "      <th></th>\n",
       "      <th>continent</th>\n",
       "      <th>brand</th>\n",
       "      <th>size</th>\n",
       "      <th>period</th>\n",
       "      <th>price</th>\n",
       "    </tr>\n",
       "  </thead>\n",
       "  <tbody>\n",
       "    <tr>\n",
       "      <th>0</th>\n",
       "      <td>2.0</td>\n",
       "      <td>2.0</td>\n",
       "      <td>10.7</td>\n",
       "      <td>47.65</td>\n",
       "      <td>144.0</td>\n",
       "    </tr>\n",
       "    <tr>\n",
       "      <th>1</th>\n",
       "      <td>2.0</td>\n",
       "      <td>3.0</td>\n",
       "      <td>14.0</td>\n",
       "      <td>63.13</td>\n",
       "      <td>215.0</td>\n",
       "    </tr>\n",
       "    <tr>\n",
       "      <th>2</th>\n",
       "      <td>2.0</td>\n",
       "      <td>2.0</td>\n",
       "      <td>9.0</td>\n",
       "      <td>58.76</td>\n",
       "      <td>105.0</td>\n",
       "    </tr>\n",
       "  </tbody>\n",
       "</table>\n",
       "</div>"
      ],
      "text/plain": [
       "   continent  brand  size  period  price\n",
       "0        2.0    2.0  10.7   47.65  144.0\n",
       "1        2.0    3.0  14.0   63.13  215.0\n",
       "2        2.0    2.0   9.0   58.76  105.0"
      ]
     },
     "execution_count": 44,
     "metadata": {},
     "output_type": "execute_result"
    }
   ],
   "source": [
    "# 처음부터 2까지 출력\n",
    "\n",
    "df[:3]"
   ]
  },
  {
   "cell_type": "code",
   "execution_count": 45,
   "id": "bb11155f",
   "metadata": {},
   "outputs": [
    {
     "data": {
      "text/html": [
       "<div>\n",
       "<style scoped>\n",
       "    .dataframe tbody tr th:only-of-type {\n",
       "        vertical-align: middle;\n",
       "    }\n",
       "\n",
       "    .dataframe tbody tr th {\n",
       "        vertical-align: top;\n",
       "    }\n",
       "\n",
       "    .dataframe thead th {\n",
       "        text-align: right;\n",
       "    }\n",
       "</style>\n",
       "<table border=\"1\" class=\"dataframe\">\n",
       "  <thead>\n",
       "    <tr style=\"text-align: right;\">\n",
       "      <th></th>\n",
       "      <th>continent</th>\n",
       "      <th>brand</th>\n",
       "      <th>size</th>\n",
       "      <th>period</th>\n",
       "      <th>price</th>\n",
       "    </tr>\n",
       "  </thead>\n",
       "  <tbody>\n",
       "    <tr>\n",
       "      <th>60</th>\n",
       "      <td>2.0</td>\n",
       "      <td>2.0</td>\n",
       "      <td>5.0</td>\n",
       "      <td>12.0</td>\n",
       "      <td>NaN</td>\n",
       "    </tr>\n",
       "    <tr>\n",
       "      <th>61</th>\n",
       "      <td>2.0</td>\n",
       "      <td>3.0</td>\n",
       "      <td>13.0</td>\n",
       "      <td>20.0</td>\n",
       "      <td>NaN</td>\n",
       "    </tr>\n",
       "    <tr>\n",
       "      <th>62</th>\n",
       "      <td>2.0</td>\n",
       "      <td>3.0</td>\n",
       "      <td>31.0</td>\n",
       "      <td>19.0</td>\n",
       "      <td>NaN</td>\n",
       "    </tr>\n",
       "  </tbody>\n",
       "</table>\n",
       "</div>"
      ],
      "text/plain": [
       "    continent  brand  size  period  price\n",
       "60        2.0    2.0   5.0    12.0    NaN\n",
       "61        2.0    3.0  13.0    20.0    NaN\n",
       "62        2.0    3.0  31.0    19.0    NaN"
      ]
     },
     "execution_count": 45,
     "metadata": {},
     "output_type": "execute_result"
    }
   ],
   "source": [
    "# 60에서 끝까지 출력\n",
    "\n",
    "df[60:]"
   ]
  },
  {
   "cell_type": "code",
   "execution_count": 46,
   "id": "9ca207af",
   "metadata": {},
   "outputs": [
    {
     "data": {
      "text/plain": [
       "0     144.0\n",
       "1     215.0\n",
       "2     105.0\n",
       "3      69.0\n",
       "4     134.0\n",
       "      ...  \n",
       "58     21.5\n",
       "59      NaN\n",
       "60      NaN\n",
       "61      NaN\n",
       "62      NaN\n",
       "Name: price, Length: 63, dtype: float64"
      ]
     },
     "execution_count": 46,
     "metadata": {},
     "output_type": "execute_result"
    }
   ],
   "source": [
    "# price 변수(열) 불러오기: series 형태\n",
    "df['price']   #df.price로 대체 가능"
   ]
  },
  {
   "cell_type": "code",
   "execution_count": 47,
   "id": "f9dc4eb6",
   "metadata": {},
   "outputs": [
    {
     "data": {
      "text/html": [
       "<div>\n",
       "<style scoped>\n",
       "    .dataframe tbody tr th:only-of-type {\n",
       "        vertical-align: middle;\n",
       "    }\n",
       "\n",
       "    .dataframe tbody tr th {\n",
       "        vertical-align: top;\n",
       "    }\n",
       "\n",
       "    .dataframe thead th {\n",
       "        text-align: right;\n",
       "    }\n",
       "</style>\n",
       "<table border=\"1\" class=\"dataframe\">\n",
       "  <thead>\n",
       "    <tr style=\"text-align: right;\">\n",
       "      <th></th>\n",
       "      <th>price</th>\n",
       "    </tr>\n",
       "  </thead>\n",
       "  <tbody>\n",
       "    <tr>\n",
       "      <th>0</th>\n",
       "      <td>144.0</td>\n",
       "    </tr>\n",
       "    <tr>\n",
       "      <th>1</th>\n",
       "      <td>215.0</td>\n",
       "    </tr>\n",
       "    <tr>\n",
       "      <th>2</th>\n",
       "      <td>105.0</td>\n",
       "    </tr>\n",
       "    <tr>\n",
       "      <th>3</th>\n",
       "      <td>69.0</td>\n",
       "    </tr>\n",
       "    <tr>\n",
       "      <th>4</th>\n",
       "      <td>134.0</td>\n",
       "    </tr>\n",
       "    <tr>\n",
       "      <th>...</th>\n",
       "      <td>...</td>\n",
       "    </tr>\n",
       "    <tr>\n",
       "      <th>58</th>\n",
       "      <td>21.5</td>\n",
       "    </tr>\n",
       "    <tr>\n",
       "      <th>59</th>\n",
       "      <td>NaN</td>\n",
       "    </tr>\n",
       "    <tr>\n",
       "      <th>60</th>\n",
       "      <td>NaN</td>\n",
       "    </tr>\n",
       "    <tr>\n",
       "      <th>61</th>\n",
       "      <td>NaN</td>\n",
       "    </tr>\n",
       "    <tr>\n",
       "      <th>62</th>\n",
       "      <td>NaN</td>\n",
       "    </tr>\n",
       "  </tbody>\n",
       "</table>\n",
       "<p>63 rows × 1 columns</p>\n",
       "</div>"
      ],
      "text/plain": [
       "    price\n",
       "0   144.0\n",
       "1   215.0\n",
       "2   105.0\n",
       "3    69.0\n",
       "4   134.0\n",
       "..    ...\n",
       "58   21.5\n",
       "59    NaN\n",
       "60    NaN\n",
       "61    NaN\n",
       "62    NaN\n",
       "\n",
       "[63 rows x 1 columns]"
      ]
     },
     "execution_count": 47,
     "metadata": {},
     "output_type": "execute_result"
    }
   ],
   "source": [
    "# price 변수(열) 불러오기: DataFrame 형태\n",
    "df[['price']]"
   ]
  },
  {
   "cell_type": "code",
   "execution_count": 48,
   "id": "347d8f89",
   "metadata": {},
   "outputs": [
    {
     "data": {
      "text/html": [
       "<div>\n",
       "<style scoped>\n",
       "    .dataframe tbody tr th:only-of-type {\n",
       "        vertical-align: middle;\n",
       "    }\n",
       "\n",
       "    .dataframe tbody tr th {\n",
       "        vertical-align: top;\n",
       "    }\n",
       "\n",
       "    .dataframe thead th {\n",
       "        text-align: right;\n",
       "    }\n",
       "</style>\n",
       "<table border=\"1\" class=\"dataframe\">\n",
       "  <thead>\n",
       "    <tr style=\"text-align: right;\">\n",
       "      <th></th>\n",
       "      <th>continent</th>\n",
       "      <th>size</th>\n",
       "      <th>price</th>\n",
       "    </tr>\n",
       "  </thead>\n",
       "  <tbody>\n",
       "    <tr>\n",
       "      <th>0</th>\n",
       "      <td>2.0</td>\n",
       "      <td>10.7</td>\n",
       "      <td>144.0</td>\n",
       "    </tr>\n",
       "    <tr>\n",
       "      <th>1</th>\n",
       "      <td>2.0</td>\n",
       "      <td>14.0</td>\n",
       "      <td>215.0</td>\n",
       "    </tr>\n",
       "    <tr>\n",
       "      <th>2</th>\n",
       "      <td>2.0</td>\n",
       "      <td>9.0</td>\n",
       "      <td>105.0</td>\n",
       "    </tr>\n",
       "    <tr>\n",
       "      <th>3</th>\n",
       "      <td>1.0</td>\n",
       "      <td>8.0</td>\n",
       "      <td>69.0</td>\n",
       "    </tr>\n",
       "    <tr>\n",
       "      <th>4</th>\n",
       "      <td>2.0</td>\n",
       "      <td>10.0</td>\n",
       "      <td>134.0</td>\n",
       "    </tr>\n",
       "    <tr>\n",
       "      <th>...</th>\n",
       "      <td>...</td>\n",
       "      <td>...</td>\n",
       "      <td>...</td>\n",
       "    </tr>\n",
       "    <tr>\n",
       "      <th>58</th>\n",
       "      <td>1.0</td>\n",
       "      <td>5.0</td>\n",
       "      <td>21.5</td>\n",
       "    </tr>\n",
       "    <tr>\n",
       "      <th>59</th>\n",
       "      <td>2.0</td>\n",
       "      <td>21.0</td>\n",
       "      <td>NaN</td>\n",
       "    </tr>\n",
       "    <tr>\n",
       "      <th>60</th>\n",
       "      <td>2.0</td>\n",
       "      <td>5.0</td>\n",
       "      <td>NaN</td>\n",
       "    </tr>\n",
       "    <tr>\n",
       "      <th>61</th>\n",
       "      <td>2.0</td>\n",
       "      <td>13.0</td>\n",
       "      <td>NaN</td>\n",
       "    </tr>\n",
       "    <tr>\n",
       "      <th>62</th>\n",
       "      <td>2.0</td>\n",
       "      <td>31.0</td>\n",
       "      <td>NaN</td>\n",
       "    </tr>\n",
       "  </tbody>\n",
       "</table>\n",
       "<p>63 rows × 3 columns</p>\n",
       "</div>"
      ],
      "text/plain": [
       "    continent  size  price\n",
       "0         2.0  10.7  144.0\n",
       "1         2.0  14.0  215.0\n",
       "2         2.0   9.0  105.0\n",
       "3         1.0   8.0   69.0\n",
       "4         2.0  10.0  134.0\n",
       "..        ...   ...    ...\n",
       "58        1.0   5.0   21.5\n",
       "59        2.0  21.0    NaN\n",
       "60        2.0   5.0    NaN\n",
       "61        2.0  13.0    NaN\n",
       "62        2.0  31.0    NaN\n",
       "\n",
       "[63 rows x 3 columns]"
      ]
     },
     "execution_count": 48,
     "metadata": {},
     "output_type": "execute_result"
    }
   ],
   "source": [
    "# 0번, 2번, 4번째 열(컬럼)만 출력\n",
    "df[df.columns[[0,2,4]]]"
   ]
  },
  {
   "cell_type": "code",
   "execution_count": 49,
   "id": "487549f3",
   "metadata": {},
   "outputs": [
    {
     "data": {
      "text/html": [
       "<div>\n",
       "<style scoped>\n",
       "    .dataframe tbody tr th:only-of-type {\n",
       "        vertical-align: middle;\n",
       "    }\n",
       "\n",
       "    .dataframe tbody tr th {\n",
       "        vertical-align: top;\n",
       "    }\n",
       "\n",
       "    .dataframe thead th {\n",
       "        text-align: right;\n",
       "    }\n",
       "</style>\n",
       "<table border=\"1\" class=\"dataframe\">\n",
       "  <thead>\n",
       "    <tr style=\"text-align: right;\">\n",
       "      <th></th>\n",
       "      <th>size</th>\n",
       "      <th>period</th>\n",
       "      <th>price</th>\n",
       "    </tr>\n",
       "  </thead>\n",
       "  <tbody>\n",
       "    <tr>\n",
       "      <th>0</th>\n",
       "      <td>10.7</td>\n",
       "      <td>47.65</td>\n",
       "      <td>144.0</td>\n",
       "    </tr>\n",
       "    <tr>\n",
       "      <th>1</th>\n",
       "      <td>14.0</td>\n",
       "      <td>63.13</td>\n",
       "      <td>215.0</td>\n",
       "    </tr>\n",
       "    <tr>\n",
       "      <th>2</th>\n",
       "      <td>9.0</td>\n",
       "      <td>58.76</td>\n",
       "      <td>105.0</td>\n",
       "    </tr>\n",
       "    <tr>\n",
       "      <th>3</th>\n",
       "      <td>8.0</td>\n",
       "      <td>34.88</td>\n",
       "      <td>69.0</td>\n",
       "    </tr>\n",
       "    <tr>\n",
       "      <th>4</th>\n",
       "      <td>10.0</td>\n",
       "      <td>55.53</td>\n",
       "      <td>134.0</td>\n",
       "    </tr>\n",
       "    <tr>\n",
       "      <th>...</th>\n",
       "      <td>...</td>\n",
       "      <td>...</td>\n",
       "      <td>...</td>\n",
       "    </tr>\n",
       "    <tr>\n",
       "      <th>58</th>\n",
       "      <td>5.0</td>\n",
       "      <td>16.66</td>\n",
       "      <td>21.5</td>\n",
       "    </tr>\n",
       "    <tr>\n",
       "      <th>59</th>\n",
       "      <td>21.0</td>\n",
       "      <td>43.00</td>\n",
       "      <td>NaN</td>\n",
       "    </tr>\n",
       "    <tr>\n",
       "      <th>60</th>\n",
       "      <td>5.0</td>\n",
       "      <td>12.00</td>\n",
       "      <td>NaN</td>\n",
       "    </tr>\n",
       "    <tr>\n",
       "      <th>61</th>\n",
       "      <td>13.0</td>\n",
       "      <td>20.00</td>\n",
       "      <td>NaN</td>\n",
       "    </tr>\n",
       "    <tr>\n",
       "      <th>62</th>\n",
       "      <td>31.0</td>\n",
       "      <td>19.00</td>\n",
       "      <td>NaN</td>\n",
       "    </tr>\n",
       "  </tbody>\n",
       "</table>\n",
       "<p>63 rows × 3 columns</p>\n",
       "</div>"
      ],
      "text/plain": [
       "    size  period  price\n",
       "0   10.7   47.65  144.0\n",
       "1   14.0   63.13  215.0\n",
       "2    9.0   58.76  105.0\n",
       "3    8.0   34.88   69.0\n",
       "4   10.0   55.53  134.0\n",
       "..   ...     ...    ...\n",
       "58   5.0   16.66   21.5\n",
       "59  21.0   43.00    NaN\n",
       "60   5.0   12.00    NaN\n",
       "61  13.0   20.00    NaN\n",
       "62  31.0   19.00    NaN\n",
       "\n",
       "[63 rows x 3 columns]"
      ]
     },
     "execution_count": 49,
     "metadata": {},
     "output_type": "execute_result"
    }
   ],
   "source": [
    "# size부터 price까지 출력\n",
    "df.loc[:, 'size':'price']"
   ]
  },
  {
   "cell_type": "code",
   "execution_count": 50,
   "id": "c1327bee",
   "metadata": {},
   "outputs": [
    {
     "data": {
      "text/html": [
       "<div>\n",
       "<style scoped>\n",
       "    .dataframe tbody tr th:only-of-type {\n",
       "        vertical-align: middle;\n",
       "    }\n",
       "\n",
       "    .dataframe tbody tr th {\n",
       "        vertical-align: top;\n",
       "    }\n",
       "\n",
       "    .dataframe thead th {\n",
       "        text-align: right;\n",
       "    }\n",
       "</style>\n",
       "<table border=\"1\" class=\"dataframe\">\n",
       "  <thead>\n",
       "    <tr style=\"text-align: right;\">\n",
       "      <th></th>\n",
       "      <th>continent</th>\n",
       "      <th>brand</th>\n",
       "    </tr>\n",
       "  </thead>\n",
       "  <tbody>\n",
       "    <tr>\n",
       "      <th>1</th>\n",
       "      <td>2.0</td>\n",
       "      <td>3.0</td>\n",
       "    </tr>\n",
       "    <tr>\n",
       "      <th>2</th>\n",
       "      <td>2.0</td>\n",
       "      <td>2.0</td>\n",
       "    </tr>\n",
       "    <tr>\n",
       "      <th>3</th>\n",
       "      <td>1.0</td>\n",
       "      <td>1.0</td>\n",
       "    </tr>\n",
       "    <tr>\n",
       "      <th>4</th>\n",
       "      <td>2.0</td>\n",
       "      <td>2.0</td>\n",
       "    </tr>\n",
       "    <tr>\n",
       "      <th>5</th>\n",
       "      <td>2.0</td>\n",
       "      <td>2.0</td>\n",
       "    </tr>\n",
       "    <tr>\n",
       "      <th>6</th>\n",
       "      <td>2.0</td>\n",
       "      <td>2.0</td>\n",
       "    </tr>\n",
       "  </tbody>\n",
       "</table>\n",
       "</div>"
      ],
      "text/plain": [
       "   continent  brand\n",
       "1        2.0    3.0\n",
       "2        2.0    2.0\n",
       "3        1.0    1.0\n",
       "4        2.0    2.0\n",
       "5        2.0    2.0\n",
       "6        2.0    2.0"
      ]
     },
     "execution_count": 50,
     "metadata": {},
     "output_type": "execute_result"
    }
   ],
   "source": [
    "# 1~7행(케이스), 0~2열(변수)만 불러오기, 행과 열을 모두 지정해서 불러올 때\n",
    "df.iloc[1:7, 0:2]"
   ]
  },
  {
   "cell_type": "code",
   "execution_count": 51,
   "id": "4d43df33",
   "metadata": {},
   "outputs": [
    {
     "data": {
      "text/plain": [
       "129.0"
      ]
     },
     "execution_count": 51,
     "metadata": {},
     "output_type": "execute_result"
    }
   ],
   "source": [
    "# 5행(케이스)의 price 변수 해당 값 불러오기\n",
    "df.at[5, 'price']"
   ]
  },
  {
   "cell_type": "markdown",
   "id": "7c8fd0b4",
   "metadata": {},
   "source": [
    "* 데이터 변환하기"
   ]
  },
  {
   "cell_type": "code",
   "execution_count": 52,
   "id": "48e6c8c4",
   "metadata": {},
   "outputs": [],
   "source": [
    "# 데이터 프레임 행 복사 (백업)\n",
    "\n",
    "df_columns = df.copy()"
   ]
  },
  {
   "cell_type": "code",
   "execution_count": 53,
   "id": "20ba6ed7",
   "metadata": {},
   "outputs": [
    {
     "data": {
      "text/plain": [
       "Index(['continent', 'brand', 'size', 'period', 'price'], dtype='object')"
      ]
     },
     "execution_count": 53,
     "metadata": {},
     "output_type": "execute_result"
    }
   ],
   "source": [
    "# 데이터 프레임의 열(변수) 이름 확인\n",
    "\n",
    "df_columns.columns"
   ]
  },
  {
   "cell_type": "code",
   "execution_count": 56,
   "id": "3b86fd98",
   "metadata": {},
   "outputs": [
    {
     "data": {
      "text/html": [
       "<div>\n",
       "<style scoped>\n",
       "    .dataframe tbody tr th:only-of-type {\n",
       "        vertical-align: middle;\n",
       "    }\n",
       "\n",
       "    .dataframe tbody tr th {\n",
       "        vertical-align: top;\n",
       "    }\n",
       "\n",
       "    .dataframe thead th {\n",
       "        text-align: right;\n",
       "    }\n",
       "</style>\n",
       "<table border=\"1\" class=\"dataframe\">\n",
       "  <thead>\n",
       "    <tr style=\"text-align: right;\">\n",
       "      <th></th>\n",
       "      <th>size</th>\n",
       "      <th>period</th>\n",
       "      <th>price</th>\n",
       "    </tr>\n",
       "  </thead>\n",
       "  <tbody>\n",
       "    <tr>\n",
       "      <th>0</th>\n",
       "      <td>10.7</td>\n",
       "      <td>47.65</td>\n",
       "      <td>144.0</td>\n",
       "    </tr>\n",
       "    <tr>\n",
       "      <th>1</th>\n",
       "      <td>14.0</td>\n",
       "      <td>63.13</td>\n",
       "      <td>215.0</td>\n",
       "    </tr>\n",
       "    <tr>\n",
       "      <th>2</th>\n",
       "      <td>9.0</td>\n",
       "      <td>58.76</td>\n",
       "      <td>105.0</td>\n",
       "    </tr>\n",
       "    <tr>\n",
       "      <th>3</th>\n",
       "      <td>8.0</td>\n",
       "      <td>34.88</td>\n",
       "      <td>69.0</td>\n",
       "    </tr>\n",
       "    <tr>\n",
       "      <th>4</th>\n",
       "      <td>10.0</td>\n",
       "      <td>55.53</td>\n",
       "      <td>134.0</td>\n",
       "    </tr>\n",
       "  </tbody>\n",
       "</table>\n",
       "</div>"
      ],
      "text/plain": [
       "   size  period  price\n",
       "0  10.7   47.65  144.0\n",
       "1  14.0   63.13  215.0\n",
       "2   9.0   58.76  105.0\n",
       "3   8.0   34.88   69.0\n",
       "4  10.0   55.53  134.0"
      ]
     },
     "execution_count": 56,
     "metadata": {},
     "output_type": "execute_result"
    }
   ],
   "source": [
    "# 데이터 프레임 열 필터링\n",
    "\n",
    "df_columns = df_columns[['size', 'period', 'price']]\n",
    "df_columns.head()"
   ]
  },
  {
   "cell_type": "code",
   "execution_count": 59,
   "id": "680ece56",
   "metadata": {},
   "outputs": [
    {
     "data": {
      "text/plain": [
       "Index(['size', 'time', 'price'], dtype='object')"
      ]
     },
     "execution_count": 59,
     "metadata": {},
     "output_type": "execute_result"
    }
   ],
   "source": [
    "# 데이터 열(변수) 이름 수정: period -> time\n",
    "\n",
    "df_columns.rename(columns={'period':'time'}, inplace=True)\n",
    "df_columns.columns"
   ]
  },
  {
   "cell_type": "code",
   "execution_count": 60,
   "id": "5f1be230",
   "metadata": {},
   "outputs": [
    {
     "name": "stderr",
     "output_type": "stream",
     "text": [
      "C:\\Users\\yusti\\AppData\\Local\\Temp/ipykernel_4180/998935140.py:3: SettingWithCopyWarning: \n",
      "A value is trying to be set on a copy of a slice from a DataFrame.\n",
      "Try using .loc[row_indexer,col_indexer] = value instead\n",
      "\n",
      "See the caveats in the documentation: https://pandas.pydata.org/pandas-docs/stable/user_guide/indexing.html#returning-a-view-versus-a-copy\n",
      "  df_columns['growth'] = df_columns['size']/df_columns['time']\n"
     ]
    },
    {
     "data": {
      "text/html": [
       "<div>\n",
       "<style scoped>\n",
       "    .dataframe tbody tr th:only-of-type {\n",
       "        vertical-align: middle;\n",
       "    }\n",
       "\n",
       "    .dataframe tbody tr th {\n",
       "        vertical-align: top;\n",
       "    }\n",
       "\n",
       "    .dataframe thead th {\n",
       "        text-align: right;\n",
       "    }\n",
       "</style>\n",
       "<table border=\"1\" class=\"dataframe\">\n",
       "  <thead>\n",
       "    <tr style=\"text-align: right;\">\n",
       "      <th></th>\n",
       "      <th>size</th>\n",
       "      <th>time</th>\n",
       "      <th>price</th>\n",
       "      <th>growth</th>\n",
       "    </tr>\n",
       "  </thead>\n",
       "  <tbody>\n",
       "    <tr>\n",
       "      <th>0</th>\n",
       "      <td>10.7</td>\n",
       "      <td>47.65</td>\n",
       "      <td>144.0</td>\n",
       "      <td>0.224554</td>\n",
       "    </tr>\n",
       "    <tr>\n",
       "      <th>1</th>\n",
       "      <td>14.0</td>\n",
       "      <td>63.13</td>\n",
       "      <td>215.0</td>\n",
       "      <td>0.221765</td>\n",
       "    </tr>\n",
       "    <tr>\n",
       "      <th>2</th>\n",
       "      <td>9.0</td>\n",
       "      <td>58.76</td>\n",
       "      <td>105.0</td>\n",
       "      <td>0.153165</td>\n",
       "    </tr>\n",
       "    <tr>\n",
       "      <th>3</th>\n",
       "      <td>8.0</td>\n",
       "      <td>34.88</td>\n",
       "      <td>69.0</td>\n",
       "      <td>0.229358</td>\n",
       "    </tr>\n",
       "    <tr>\n",
       "      <th>4</th>\n",
       "      <td>10.0</td>\n",
       "      <td>55.53</td>\n",
       "      <td>134.0</td>\n",
       "      <td>0.180083</td>\n",
       "    </tr>\n",
       "  </tbody>\n",
       "</table>\n",
       "</div>"
      ],
      "text/plain": [
       "   size   time  price    growth\n",
       "0  10.7  47.65  144.0  0.224554\n",
       "1  14.0  63.13  215.0  0.221765\n",
       "2   9.0  58.76  105.0  0.153165\n",
       "3   8.0  34.88   69.0  0.229358\n",
       "4  10.0  55.53  134.0  0.180083"
      ]
     },
     "execution_count": 60,
     "metadata": {},
     "output_type": "execute_result"
    }
   ],
   "source": [
    "# size를 time으로 나누어 월별 포도크기로 계산하여 growth 변수 생성\n",
    "\n",
    "df_columns['growth'] = df_columns['size']/df_columns['time']\n",
    "df_columns.head()"
   ]
  },
  {
   "cell_type": "code",
   "execution_count": 61,
   "id": "a5242082",
   "metadata": {},
   "outputs": [],
   "source": [
    "# 특정 변수 삭제: growth 삭제\n",
    "\n",
    "del df_columns['growth']"
   ]
  },
  {
   "cell_type": "code",
   "execution_count": 63,
   "id": "918934da",
   "metadata": {},
   "outputs": [
    {
     "data": {
      "text/html": [
       "<div>\n",
       "<style scoped>\n",
       "    .dataframe tbody tr th:only-of-type {\n",
       "        vertical-align: middle;\n",
       "    }\n",
       "\n",
       "    .dataframe tbody tr th {\n",
       "        vertical-align: top;\n",
       "    }\n",
       "\n",
       "    .dataframe thead th {\n",
       "        text-align: right;\n",
       "    }\n",
       "</style>\n",
       "<table border=\"1\" class=\"dataframe\">\n",
       "  <thead>\n",
       "    <tr style=\"text-align: right;\">\n",
       "      <th></th>\n",
       "      <th>continent</th>\n",
       "      <th>brand</th>\n",
       "      <th>size</th>\n",
       "      <th>period</th>\n",
       "      <th>price</th>\n",
       "    </tr>\n",
       "  </thead>\n",
       "  <tbody>\n",
       "    <tr>\n",
       "      <th>3</th>\n",
       "      <td>1.0</td>\n",
       "      <td>1.0</td>\n",
       "      <td>8.0</td>\n",
       "      <td>34.88</td>\n",
       "      <td>69.0</td>\n",
       "    </tr>\n",
       "    <tr>\n",
       "      <th>11</th>\n",
       "      <td>1.0</td>\n",
       "      <td>1.0</td>\n",
       "      <td>10.4</td>\n",
       "      <td>17.67</td>\n",
       "      <td>54.0</td>\n",
       "    </tr>\n",
       "    <tr>\n",
       "      <th>12</th>\n",
       "      <td>1.0</td>\n",
       "      <td>1.0</td>\n",
       "      <td>7.4</td>\n",
       "      <td>16.41</td>\n",
       "      <td>39.0</td>\n",
       "    </tr>\n",
       "    <tr>\n",
       "      <th>13</th>\n",
       "      <td>1.0</td>\n",
       "      <td>1.0</td>\n",
       "      <td>5.4</td>\n",
       "      <td>12.02</td>\n",
       "      <td>29.5</td>\n",
       "    </tr>\n",
       "    <tr>\n",
       "      <th>16</th>\n",
       "      <td>1.0</td>\n",
       "      <td>1.0</td>\n",
       "      <td>6.0</td>\n",
       "      <td>23.21</td>\n",
       "      <td>42.0</td>\n",
       "    </tr>\n",
       "  </tbody>\n",
       "</table>\n",
       "</div>"
      ],
      "text/plain": [
       "    continent  brand  size  period  price\n",
       "3         1.0    1.0   8.0   34.88   69.0\n",
       "11        1.0    1.0  10.4   17.67   54.0\n",
       "12        1.0    1.0   7.4   16.41   39.0\n",
       "13        1.0    1.0   5.4   12.02   29.5\n",
       "16        1.0    1.0   6.0   23.21   42.0"
      ]
     },
     "execution_count": 63,
     "metadata": {},
     "output_type": "execute_result"
    }
   ],
   "source": [
    "# 특정 케이스 선택1: 집단 선택\n",
    "\n",
    "df_continent_brand = df[(df['continent']==1) & (df['brand']==1)]\n",
    "df_continent_brand.head()"
   ]
  },
  {
   "cell_type": "code",
   "execution_count": 64,
   "id": "71b56f81",
   "metadata": {},
   "outputs": [
    {
     "data": {
      "text/html": [
       "<div>\n",
       "<style scoped>\n",
       "    .dataframe tbody tr th:only-of-type {\n",
       "        vertical-align: middle;\n",
       "    }\n",
       "\n",
       "    .dataframe tbody tr th {\n",
       "        vertical-align: top;\n",
       "    }\n",
       "\n",
       "    .dataframe thead th {\n",
       "        text-align: right;\n",
       "    }\n",
       "</style>\n",
       "<table border=\"1\" class=\"dataframe\">\n",
       "  <thead>\n",
       "    <tr style=\"text-align: right;\">\n",
       "      <th></th>\n",
       "      <th>continent</th>\n",
       "      <th>brand</th>\n",
       "      <th>size</th>\n",
       "      <th>period</th>\n",
       "      <th>price</th>\n",
       "    </tr>\n",
       "  </thead>\n",
       "  <tbody>\n",
       "    <tr>\n",
       "      <th>0</th>\n",
       "      <td>2.0</td>\n",
       "      <td>2.0</td>\n",
       "      <td>10.7</td>\n",
       "      <td>47.65</td>\n",
       "      <td>144.0</td>\n",
       "    </tr>\n",
       "    <tr>\n",
       "      <th>1</th>\n",
       "      <td>2.0</td>\n",
       "      <td>3.0</td>\n",
       "      <td>14.0</td>\n",
       "      <td>63.13</td>\n",
       "      <td>215.0</td>\n",
       "    </tr>\n",
       "    <tr>\n",
       "      <th>4</th>\n",
       "      <td>2.0</td>\n",
       "      <td>2.0</td>\n",
       "      <td>10.0</td>\n",
       "      <td>55.53</td>\n",
       "      <td>134.0</td>\n",
       "    </tr>\n",
       "    <tr>\n",
       "      <th>5</th>\n",
       "      <td>2.0</td>\n",
       "      <td>2.0</td>\n",
       "      <td>10.5</td>\n",
       "      <td>43.14</td>\n",
       "      <td>129.0</td>\n",
       "    </tr>\n",
       "    <tr>\n",
       "      <th>6</th>\n",
       "      <td>2.0</td>\n",
       "      <td>2.0</td>\n",
       "      <td>16.0</td>\n",
       "      <td>54.86</td>\n",
       "      <td>155.0</td>\n",
       "    </tr>\n",
       "  </tbody>\n",
       "</table>\n",
       "</div>"
      ],
      "text/plain": [
       "   continent  brand  size  period  price\n",
       "0        2.0    2.0  10.7   47.65  144.0\n",
       "1        2.0    3.0  14.0   63.13  215.0\n",
       "4        2.0    2.0  10.0   55.53  134.0\n",
       "5        2.0    2.0  10.5   43.14  129.0\n",
       "6        2.0    2.0  16.0   54.86  155.0"
      ]
     },
     "execution_count": 64,
     "metadata": {},
     "output_type": "execute_result"
    }
   ],
   "source": [
    "# 특정 케이스 선택2: 기준값 이상 혹은 이하 선택\n",
    "\n",
    "df_over_size_period = df[(df['size']>=10) & (df['period']>=30)]\n",
    "df_over_size_period.head()"
   ]
  },
  {
   "cell_type": "code",
   "execution_count": 65,
   "id": "13b2941e",
   "metadata": {},
   "outputs": [
    {
     "data": {
      "text/plain": [
       "2.0    24\n",
       "1.0    23\n",
       "3.0    16\n",
       "Name: brand, dtype: int64"
      ]
     },
     "execution_count": 65,
     "metadata": {},
     "output_type": "execute_result"
    }
   ],
   "source": [
    "# brand 범주 카운트\n",
    "\n",
    "df['brand'].value_counts()"
   ]
  },
  {
   "cell_type": "code",
   "execution_count": 66,
   "id": "738857fd",
   "metadata": {},
   "outputs": [
    {
     "data": {
      "text/html": [
       "<div>\n",
       "<style scoped>\n",
       "    .dataframe tbody tr th:only-of-type {\n",
       "        vertical-align: middle;\n",
       "    }\n",
       "\n",
       "    .dataframe tbody tr th {\n",
       "        vertical-align: top;\n",
       "    }\n",
       "\n",
       "    .dataframe thead th {\n",
       "        text-align: right;\n",
       "    }\n",
       "</style>\n",
       "<table border=\"1\" class=\"dataframe\">\n",
       "  <thead>\n",
       "    <tr style=\"text-align: right;\">\n",
       "      <th></th>\n",
       "      <th>continent</th>\n",
       "      <th>brand</th>\n",
       "      <th>size</th>\n",
       "      <th>period</th>\n",
       "      <th>price</th>\n",
       "    </tr>\n",
       "  </thead>\n",
       "  <tbody>\n",
       "    <tr>\n",
       "      <th>0</th>\n",
       "      <td>2.0</td>\n",
       "      <td>1.0</td>\n",
       "      <td>10.7</td>\n",
       "      <td>47.65</td>\n",
       "      <td>144.0</td>\n",
       "    </tr>\n",
       "    <tr>\n",
       "      <th>1</th>\n",
       "      <td>2.0</td>\n",
       "      <td>2.0</td>\n",
       "      <td>14.0</td>\n",
       "      <td>63.13</td>\n",
       "      <td>215.0</td>\n",
       "    </tr>\n",
       "    <tr>\n",
       "      <th>2</th>\n",
       "      <td>2.0</td>\n",
       "      <td>1.0</td>\n",
       "      <td>9.0</td>\n",
       "      <td>58.76</td>\n",
       "      <td>105.0</td>\n",
       "    </tr>\n",
       "    <tr>\n",
       "      <th>3</th>\n",
       "      <td>1.0</td>\n",
       "      <td>1.0</td>\n",
       "      <td>8.0</td>\n",
       "      <td>34.88</td>\n",
       "      <td>69.0</td>\n",
       "    </tr>\n",
       "    <tr>\n",
       "      <th>4</th>\n",
       "      <td>2.0</td>\n",
       "      <td>1.0</td>\n",
       "      <td>10.0</td>\n",
       "      <td>55.53</td>\n",
       "      <td>134.0</td>\n",
       "    </tr>\n",
       "  </tbody>\n",
       "</table>\n",
       "</div>"
      ],
      "text/plain": [
       "   continent  brand  size  period  price\n",
       "0        2.0    1.0  10.7   47.65  144.0\n",
       "1        2.0    2.0  14.0   63.13  215.0\n",
       "2        2.0    1.0   9.0   58.76  105.0\n",
       "3        1.0    1.0   8.0   34.88   69.0\n",
       "4        2.0    1.0  10.0   55.53  134.0"
      ]
     },
     "execution_count": 66,
     "metadata": {},
     "output_type": "execute_result"
    }
   ],
   "source": [
    "# replace 기능을 활용하여 값 변경\n",
    "\n",
    "recode_brand = {\"brand\": {1:1, 2:1, 3:2}}\n",
    "df_recode1 = df.replace(recode_brand)\n",
    "df_recode1.head()"
   ]
  },
  {
   "cell_type": "code",
   "execution_count": 69,
   "id": "3ba6a162",
   "metadata": {},
   "outputs": [
    {
     "data": {
      "text/plain": [
       "1.0    47\n",
       "2.0    16\n",
       "Name: brand, dtype: int64"
      ]
     },
     "execution_count": 69,
     "metadata": {},
     "output_type": "execute_result"
    }
   ],
   "source": [
    "df_recode1['brand'].value_counts()"
   ]
  },
  {
   "cell_type": "code",
   "execution_count": 70,
   "id": "2c4dc6a1",
   "metadata": {},
   "outputs": [
    {
     "data": {
      "text/html": [
       "<div>\n",
       "<style scoped>\n",
       "    .dataframe tbody tr th:only-of-type {\n",
       "        vertical-align: middle;\n",
       "    }\n",
       "\n",
       "    .dataframe tbody tr th {\n",
       "        vertical-align: top;\n",
       "    }\n",
       "\n",
       "    .dataframe thead th {\n",
       "        text-align: right;\n",
       "    }\n",
       "</style>\n",
       "<table border=\"1\" class=\"dataframe\">\n",
       "  <thead>\n",
       "    <tr style=\"text-align: right;\">\n",
       "      <th></th>\n",
       "      <th>continent</th>\n",
       "      <th>brand</th>\n",
       "      <th>size</th>\n",
       "      <th>period</th>\n",
       "      <th>price</th>\n",
       "      <th>re_brand</th>\n",
       "    </tr>\n",
       "  </thead>\n",
       "  <tbody>\n",
       "    <tr>\n",
       "      <th>0</th>\n",
       "      <td>2.0</td>\n",
       "      <td>2.0</td>\n",
       "      <td>10.7</td>\n",
       "      <td>47.65</td>\n",
       "      <td>144.0</td>\n",
       "      <td>1</td>\n",
       "    </tr>\n",
       "    <tr>\n",
       "      <th>1</th>\n",
       "      <td>2.0</td>\n",
       "      <td>3.0</td>\n",
       "      <td>14.0</td>\n",
       "      <td>63.13</td>\n",
       "      <td>215.0</td>\n",
       "      <td>2</td>\n",
       "    </tr>\n",
       "    <tr>\n",
       "      <th>2</th>\n",
       "      <td>2.0</td>\n",
       "      <td>2.0</td>\n",
       "      <td>9.0</td>\n",
       "      <td>58.76</td>\n",
       "      <td>105.0</td>\n",
       "      <td>1</td>\n",
       "    </tr>\n",
       "    <tr>\n",
       "      <th>3</th>\n",
       "      <td>1.0</td>\n",
       "      <td>1.0</td>\n",
       "      <td>8.0</td>\n",
       "      <td>34.88</td>\n",
       "      <td>69.0</td>\n",
       "      <td>1</td>\n",
       "    </tr>\n",
       "    <tr>\n",
       "      <th>4</th>\n",
       "      <td>2.0</td>\n",
       "      <td>2.0</td>\n",
       "      <td>10.0</td>\n",
       "      <td>55.53</td>\n",
       "      <td>134.0</td>\n",
       "      <td>1</td>\n",
       "    </tr>\n",
       "  </tbody>\n",
       "</table>\n",
       "</div>"
      ],
      "text/plain": [
       "   continent  brand  size  period  price  re_brand\n",
       "0        2.0    2.0  10.7   47.65  144.0         1\n",
       "1        2.0    3.0  14.0   63.13  215.0         2\n",
       "2        2.0    2.0   9.0   58.76  105.0         1\n",
       "3        1.0    1.0   8.0   34.88   69.0         1\n",
       "4        2.0    2.0  10.0   55.53  134.0         1"
      ]
     },
     "execution_count": 70,
     "metadata": {},
     "output_type": "execute_result"
    }
   ],
   "source": [
    "# 함수로 정의하여 값 변경\n",
    "# brand 1,2,3 집단을 1,2로 묶기 (1/2->1, 3->2)\n",
    "\n",
    "def brand_groups(series):\n",
    "    if series == 1:\n",
    "        return 1\n",
    "    elif series == 2:\n",
    "        return 1\n",
    "    elif series == 3:\n",
    "        return 2\n",
    "\n",
    "df['re_brand'] = df['brand'].apply(brand_groups)\n",
    "df.head()"
   ]
  },
  {
   "cell_type": "markdown",
   "id": "b201f9a6",
   "metadata": {},
   "source": [
    "* pandas와 numpy 전환"
   ]
  },
  {
   "cell_type": "code",
   "execution_count": 71,
   "id": "d3bedf7f",
   "metadata": {},
   "outputs": [
    {
     "data": {
      "text/html": [
       "<div>\n",
       "<style scoped>\n",
       "    .dataframe tbody tr th:only-of-type {\n",
       "        vertical-align: middle;\n",
       "    }\n",
       "\n",
       "    .dataframe tbody tr th {\n",
       "        vertical-align: top;\n",
       "    }\n",
       "\n",
       "    .dataframe thead th {\n",
       "        text-align: right;\n",
       "    }\n",
       "</style>\n",
       "<table border=\"1\" class=\"dataframe\">\n",
       "  <thead>\n",
       "    <tr style=\"text-align: right;\">\n",
       "      <th></th>\n",
       "      <th>continent</th>\n",
       "      <th>brand</th>\n",
       "      <th>size</th>\n",
       "      <th>period</th>\n",
       "      <th>price</th>\n",
       "    </tr>\n",
       "  </thead>\n",
       "  <tbody>\n",
       "    <tr>\n",
       "      <th>0</th>\n",
       "      <td>2</td>\n",
       "      <td>2</td>\n",
       "      <td>10.7</td>\n",
       "      <td>47.65</td>\n",
       "      <td>144</td>\n",
       "    </tr>\n",
       "    <tr>\n",
       "      <th>1</th>\n",
       "      <td>2</td>\n",
       "      <td>3</td>\n",
       "      <td>14.0</td>\n",
       "      <td>63.13</td>\n",
       "      <td>215</td>\n",
       "    </tr>\n",
       "    <tr>\n",
       "      <th>2</th>\n",
       "      <td>2</td>\n",
       "      <td>2</td>\n",
       "      <td>9.0</td>\n",
       "      <td>58.76</td>\n",
       "      <td>105</td>\n",
       "    </tr>\n",
       "    <tr>\n",
       "      <th>3</th>\n",
       "      <td>1</td>\n",
       "      <td>1</td>\n",
       "      <td>8.0</td>\n",
       "      <td>34.88</td>\n",
       "      <td>69</td>\n",
       "    </tr>\n",
       "    <tr>\n",
       "      <th>4</th>\n",
       "      <td>2</td>\n",
       "      <td>2</td>\n",
       "      <td>10.0</td>\n",
       "      <td>55.53</td>\n",
       "      <td>134</td>\n",
       "    </tr>\n",
       "  </tbody>\n",
       "</table>\n",
       "</div>"
      ],
      "text/plain": [
       "   continent  brand  size  period price\n",
       "0          2      2  10.7   47.65   144\n",
       "1          2      3  14.0   63.13   215\n",
       "2          2      2   9.0   58.76   105\n",
       "3          1      1   8.0   34.88    69\n",
       "4          2      2  10.0   55.53   134"
      ]
     },
     "execution_count": 71,
     "metadata": {},
     "output_type": "execute_result"
    }
   ],
   "source": [
    "# pandas를 numpy로 전환\n",
    "\n",
    "import pandas as pd\n",
    "df = pd.read_csv('EX_GrapeData.csv')\n",
    "df.head()"
   ]
  },
  {
   "cell_type": "code",
   "execution_count": 72,
   "id": "20a367d7",
   "metadata": {},
   "outputs": [
    {
     "data": {
      "text/plain": [
       "array([[2, 2, 10.7, 47.65, '144'],\n",
       "       [2, 3, 14.0, 63.13, '215'],\n",
       "       [2, 2, 9.0, 58.76, '105'],\n",
       "       [1, 1, 8.0, 34.88, '69'],\n",
       "       [2, 2, 10.0, 55.53, '134'],\n",
       "       [2, 2, 10.5, 43.14, '129'],\n",
       "       [2, 2, 16.0, 54.86, '155'],\n",
       "       [2, 1, 15.0, 44.14, '99'],\n",
       "       [2, 1, 6.5, 17.46, '38.5'],\n",
       "       [2, 1, 5.0, 21.04, '36.5'],\n",
       "       [2, 2, 25.0, 109.38, '260'],\n",
       "       [1, 1, 10.4, 17.67, '54'],\n",
       "       [1, 1, 7.4, 16.41, '39'],\n",
       "       [1, 1, 5.4, 12.02, '29.5'],\n",
       "       [2, 2, 15.4, 49.48, '109'],\n",
       "       [2, 1, 12.4, 48.74, '89.5'],\n",
       "       [1, 1, 6.0, 23.21, '42'],\n",
       "       [1, 1, 9.0, 28.64, '65'],\n",
       "       [1, 3, 9.0, 44.95, '115'],\n",
       "       [1, 1, 12.4, 23.77, '49.5'],\n",
       "       [1, 1, 7.5, 20.21, '36.5'],\n",
       "       [1, 3, 14.0, 32.62, '109'],\n",
       "       [1, 1, 7.0, 17.84, '45'],\n",
       "       [1, 2, 9.0, 22.82, '58'],\n",
       "       [1, 2, 12.0, 29.48, '89'],\n",
       "       [1, 1, 5.5, 15.61, '30'],\n",
       "       [1, 2, 6.0, 13.25, '31'],\n",
       "       [1, 3, 12.0, 45.78, '119'],\n",
       "       [2, 1, 5.5, 26.53, '22'],\n",
       "       [1, 3, 14.2, 37.11, '109'],\n",
       "       [2, 2, 11.0, 45.12, '99'],\n",
       "       [1, 2, 16.0, 26.09, '99'],\n",
       "       [2, 3, 13.5, 68.63, '179'],\n",
       "       [2, 2, 11.1, 33.71, '99'],\n",
       "       [2, 3, 9.8, 44.45, '89'],\n",
       "       [1, 2, 10.0, 23.74, '75'],\n",
       "       [2, 3, 13.0, 86.42, '199'],\n",
       "       [1, 3, 13.0, 39.71, '93'],\n",
       "       [1, 2, 11.7, 26.52, '65'],\n",
       "       [2, 2, 12.3, 33.89, '74'],\n",
       "       [2, 3, 19.5, 64.3, '165'],\n",
       "       [1, 3, 15.2, 22.55, '99'],\n",
       "       [1, 1, 10.0, 31.86, '43.5'],\n",
       "       [1, 3, 11.0, 53.18, '94'],\n",
       "       [2, 3, 17.8, 74.48, '189'],\n",
       "       [2, 2, 11.5, 34.16, '75'],\n",
       "       [2, 1, 12.7, 31.46, '59.5'],\n",
       "       [1, 1, 8.0, 21.34, '42'],\n",
       "       [2, 1, 7.5, 20.83, '23'],\n",
       "       [1, 2, 9.0, 20.59, '52.5'],\n",
       "       [2, 2, 14.0, 33.7, '99'],\n",
       "       [2, 2, 12.4, 32.9, '89'],\n",
       "       [2, 2, 8.8, 27.76, '65'],\n",
       "       [1, 1, 8.5, 30.2, '54.5'],\n",
       "       [1, 1, 6.0, 20.85, '24.5'],\n",
       "       [1, 2, 11.0, 26.25, '52'],\n",
       "       [1, 2, 11.1, 21.87, '62.5'],\n",
       "       [1, 3, 14.5, 23.88, '89'],\n",
       "       [1, 1, 5.0, 16.66, '21.5'],\n",
       "       [2, 1, 21.0, 43.0, ' '],\n",
       "       [2, 2, 5.0, 12.0, ' '],\n",
       "       [2, 3, 13.0, 20.0, ' '],\n",
       "       [2, 3, 31.0, 19.0, ' ']], dtype=object)"
      ]
     },
     "execution_count": 72,
     "metadata": {},
     "output_type": "execute_result"
    }
   ],
   "source": [
    "df_num = df.to_numpy()\n",
    "df_num"
   ]
  },
  {
   "cell_type": "code",
   "execution_count": 73,
   "id": "cf5b71de",
   "metadata": {},
   "outputs": [
    {
     "data": {
      "text/html": [
       "<div>\n",
       "<style scoped>\n",
       "    .dataframe tbody tr th:only-of-type {\n",
       "        vertical-align: middle;\n",
       "    }\n",
       "\n",
       "    .dataframe tbody tr th {\n",
       "        vertical-align: top;\n",
       "    }\n",
       "\n",
       "    .dataframe thead th {\n",
       "        text-align: right;\n",
       "    }\n",
       "</style>\n",
       "<table border=\"1\" class=\"dataframe\">\n",
       "  <thead>\n",
       "    <tr style=\"text-align: right;\">\n",
       "      <th></th>\n",
       "      <th>0</th>\n",
       "      <th>1</th>\n",
       "      <th>2</th>\n",
       "      <th>3</th>\n",
       "      <th>4</th>\n",
       "    </tr>\n",
       "  </thead>\n",
       "  <tbody>\n",
       "    <tr>\n",
       "      <th>0</th>\n",
       "      <td>2</td>\n",
       "      <td>2</td>\n",
       "      <td>10.7</td>\n",
       "      <td>47.65</td>\n",
       "      <td>144</td>\n",
       "    </tr>\n",
       "    <tr>\n",
       "      <th>1</th>\n",
       "      <td>2</td>\n",
       "      <td>3</td>\n",
       "      <td>14.0</td>\n",
       "      <td>63.13</td>\n",
       "      <td>215</td>\n",
       "    </tr>\n",
       "    <tr>\n",
       "      <th>2</th>\n",
       "      <td>2</td>\n",
       "      <td>2</td>\n",
       "      <td>9.0</td>\n",
       "      <td>58.76</td>\n",
       "      <td>105</td>\n",
       "    </tr>\n",
       "    <tr>\n",
       "      <th>3</th>\n",
       "      <td>1</td>\n",
       "      <td>1</td>\n",
       "      <td>8.0</td>\n",
       "      <td>34.88</td>\n",
       "      <td>69</td>\n",
       "    </tr>\n",
       "    <tr>\n",
       "      <th>4</th>\n",
       "      <td>2</td>\n",
       "      <td>2</td>\n",
       "      <td>10.0</td>\n",
       "      <td>55.53</td>\n",
       "      <td>134</td>\n",
       "    </tr>\n",
       "  </tbody>\n",
       "</table>\n",
       "</div>"
      ],
      "text/plain": [
       "   0  1     2      3    4\n",
       "0  2  2  10.7  47.65  144\n",
       "1  2  3  14.0  63.13  215\n",
       "2  2  2   9.0  58.76  105\n",
       "3  1  1   8.0  34.88   69\n",
       "4  2  2  10.0  55.53  134"
      ]
     },
     "execution_count": 73,
     "metadata": {},
     "output_type": "execute_result"
    }
   ],
   "source": [
    "# numpy를 pandas로 전환\n",
    "\n",
    "df_pd = pd.DataFrame(df_num)\n",
    "df_pd.head()"
   ]
  },
  {
   "cell_type": "code",
   "execution_count": 74,
   "id": "8a1fff32",
   "metadata": {},
   "outputs": [
    {
     "data": {
      "text/html": [
       "<div>\n",
       "<style scoped>\n",
       "    .dataframe tbody tr th:only-of-type {\n",
       "        vertical-align: middle;\n",
       "    }\n",
       "\n",
       "    .dataframe tbody tr th {\n",
       "        vertical-align: top;\n",
       "    }\n",
       "\n",
       "    .dataframe thead th {\n",
       "        text-align: right;\n",
       "    }\n",
       "</style>\n",
       "<table border=\"1\" class=\"dataframe\">\n",
       "  <thead>\n",
       "    <tr style=\"text-align: right;\">\n",
       "      <th></th>\n",
       "      <th>continent</th>\n",
       "      <th>brand</th>\n",
       "      <th>size</th>\n",
       "      <th>period</th>\n",
       "      <th>price</th>\n",
       "    </tr>\n",
       "  </thead>\n",
       "  <tbody>\n",
       "    <tr>\n",
       "      <th>0</th>\n",
       "      <td>2</td>\n",
       "      <td>2</td>\n",
       "      <td>10.7</td>\n",
       "      <td>47.65</td>\n",
       "      <td>144</td>\n",
       "    </tr>\n",
       "    <tr>\n",
       "      <th>1</th>\n",
       "      <td>2</td>\n",
       "      <td>3</td>\n",
       "      <td>14.0</td>\n",
       "      <td>63.13</td>\n",
       "      <td>215</td>\n",
       "    </tr>\n",
       "    <tr>\n",
       "      <th>2</th>\n",
       "      <td>2</td>\n",
       "      <td>2</td>\n",
       "      <td>9.0</td>\n",
       "      <td>58.76</td>\n",
       "      <td>105</td>\n",
       "    </tr>\n",
       "    <tr>\n",
       "      <th>3</th>\n",
       "      <td>1</td>\n",
       "      <td>1</td>\n",
       "      <td>8.0</td>\n",
       "      <td>34.88</td>\n",
       "      <td>69</td>\n",
       "    </tr>\n",
       "    <tr>\n",
       "      <th>4</th>\n",
       "      <td>2</td>\n",
       "      <td>2</td>\n",
       "      <td>10.0</td>\n",
       "      <td>55.53</td>\n",
       "      <td>134</td>\n",
       "    </tr>\n",
       "  </tbody>\n",
       "</table>\n",
       "</div>"
      ],
      "text/plain": [
       "  continent brand  size period price\n",
       "0         2     2  10.7  47.65   144\n",
       "1         2     3  14.0  63.13   215\n",
       "2         2     2   9.0  58.76   105\n",
       "3         1     1   8.0  34.88    69\n",
       "4         2     2  10.0  55.53   134"
      ]
     },
     "execution_count": 74,
     "metadata": {},
     "output_type": "execute_result"
    }
   ],
   "source": [
    "# 변수명 지정\n",
    "df_pd2 = pd.DataFrame(data=df_num, columns=[\"continent\", \"brand\", \"size\", \"period\", \"price\"])\n",
    "df_pd2.head()"
   ]
  }
 ],
 "metadata": {
  "kernelspec": {
   "display_name": "Python 3 (ipykernel)",
   "language": "python",
   "name": "python3"
  },
  "language_info": {
   "codemirror_mode": {
    "name": "ipython",
    "version": 3
   },
   "file_extension": ".py",
   "mimetype": "text/x-python",
   "name": "python",
   "nbconvert_exporter": "python",
   "pygments_lexer": "ipython3",
   "version": "3.9.7"
  }
 },
 "nbformat": 4,
 "nbformat_minor": 5
}
